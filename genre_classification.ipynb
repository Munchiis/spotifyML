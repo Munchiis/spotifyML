{
 "cells": [
  {
   "cell_type": "code",
   "execution_count": 35,
   "id": "republican-nursing",
   "metadata": {},
   "outputs": [],
   "source": [
    "#imports\n",
    "import pandas as pd\n",
    "import numpy as np\n",
    "import matplotlib.pyplot as plt\n",
    "# import seaborn as sns\n",
    "import plotly.express as px\n",
    "\n",
    "%matplotlib inline\n",
    "from sklearn import svm"
   ]
  },
  {
   "cell_type": "code",
   "execution_count": 36,
   "id": "moving-antibody",
   "metadata": {},
   "outputs": [
    {
     "data": {
      "text/html": [
       "<div>\n",
       "<style scoped>\n",
       "    .dataframe tbody tr th:only-of-type {\n",
       "        vertical-align: middle;\n",
       "    }\n",
       "\n",
       "    .dataframe tbody tr th {\n",
       "        vertical-align: top;\n",
       "    }\n",
       "\n",
       "    .dataframe thead th {\n",
       "        text-align: right;\n",
       "    }\n",
       "</style>\n",
       "<table border=\"1\" class=\"dataframe\">\n",
       "  <thead>\n",
       "    <tr style=\"text-align: right;\">\n",
       "      <th></th>\n",
       "      <th>Unnamed: 0</th>\n",
       "      <th>genre</th>\n",
       "      <th>name</th>\n",
       "      <th>artist</th>\n",
       "      <th>danceability</th>\n",
       "      <th>energy</th>\n",
       "      <th>loudness</th>\n",
       "      <th>speechiness</th>\n",
       "      <th>acousticness</th>\n",
       "      <th>instrumentalness</th>\n",
       "      <th>liveness</th>\n",
       "      <th>valence</th>\n",
       "      <th>key</th>\n",
       "      <th>tempo</th>\n",
       "    </tr>\n",
       "  </thead>\n",
       "  <tbody>\n",
       "    <tr>\n",
       "      <th>0</th>\n",
       "      <td>0</td>\n",
       "      <td>classical</td>\n",
       "      <td>Handel / Orch. Hale: Keyboard Suite in D Minor...</td>\n",
       "      <td>George Frideric Handel</td>\n",
       "      <td>93</td>\n",
       "      <td>33</td>\n",
       "      <td>-24</td>\n",
       "      <td>60</td>\n",
       "      <td>927</td>\n",
       "      <td>830</td>\n",
       "      <td>95</td>\n",
       "      <td>51</td>\n",
       "      <td>2</td>\n",
       "      <td>67</td>\n",
       "    </tr>\n",
       "    <tr>\n",
       "      <th>1</th>\n",
       "      <td>1</td>\n",
       "      <td>classical</td>\n",
       "      <td>Goldberg Variations, BWV 988: Aria</td>\n",
       "      <td>Johann Sebastian Bach</td>\n",
       "      <td>454</td>\n",
       "      <td>13</td>\n",
       "      <td>-29</td>\n",
       "      <td>51</td>\n",
       "      <td>995</td>\n",
       "      <td>943</td>\n",
       "      <td>73</td>\n",
       "      <td>244</td>\n",
       "      <td>4</td>\n",
       "      <td>130</td>\n",
       "    </tr>\n",
       "    <tr>\n",
       "      <th>2</th>\n",
       "      <td>2</td>\n",
       "      <td>classical</td>\n",
       "      <td>Clair de Lune, L. 32</td>\n",
       "      <td>Claude Debussy</td>\n",
       "      <td>335</td>\n",
       "      <td>5</td>\n",
       "      <td>-31</td>\n",
       "      <td>37</td>\n",
       "      <td>994</td>\n",
       "      <td>912</td>\n",
       "      <td>62</td>\n",
       "      <td>39</td>\n",
       "      <td>1</td>\n",
       "      <td>65</td>\n",
       "    </tr>\n",
       "    <tr>\n",
       "      <th>3</th>\n",
       "      <td>3</td>\n",
       "      <td>classical</td>\n",
       "      <td>Sonata No. 14 \"Moonlight\" in C-Sharp Minor\", O...</td>\n",
       "      <td>Ludwig van Beethoven</td>\n",
       "      <td>184</td>\n",
       "      <td>5</td>\n",
       "      <td>-37</td>\n",
       "      <td>43</td>\n",
       "      <td>995</td>\n",
       "      <td>887</td>\n",
       "      <td>173</td>\n",
       "      <td>151</td>\n",
       "      <td>1</td>\n",
       "      <td>170</td>\n",
       "    </tr>\n",
       "    <tr>\n",
       "      <th>4</th>\n",
       "      <td>4</td>\n",
       "      <td>classical</td>\n",
       "      <td>Miroirs: III. Une barque sur l'océan</td>\n",
       "      <td>Maurice Ravel</td>\n",
       "      <td>170</td>\n",
       "      <td>47</td>\n",
       "      <td>-27</td>\n",
       "      <td>43</td>\n",
       "      <td>981</td>\n",
       "      <td>906</td>\n",
       "      <td>79</td>\n",
       "      <td>30</td>\n",
       "      <td>2</td>\n",
       "      <td>75</td>\n",
       "    </tr>\n",
       "  </tbody>\n",
       "</table>\n",
       "</div>"
      ],
      "text/plain": [
       "   Unnamed: 0      genre                                               name  \\\n",
       "0           0  classical  Handel / Orch. Hale: Keyboard Suite in D Minor...   \n",
       "1           1  classical                 Goldberg Variations, BWV 988: Aria   \n",
       "2           2  classical                               Clair de Lune, L. 32   \n",
       "3           3  classical  Sonata No. 14 \"Moonlight\" in C-Sharp Minor\", O...   \n",
       "4           4  classical               Miroirs: III. Une barque sur l'océan   \n",
       "\n",
       "                   artist  danceability  energy  loudness  speechiness  \\\n",
       "0  George Frideric Handel            93      33       -24           60   \n",
       "1   Johann Sebastian Bach           454      13       -29           51   \n",
       "2          Claude Debussy           335       5       -31           37   \n",
       "3    Ludwig van Beethoven           184       5       -37           43   \n",
       "4           Maurice Ravel           170      47       -27           43   \n",
       "\n",
       "   acousticness  instrumentalness  liveness  valence  key  tempo  \n",
       "0           927               830        95       51    2     67  \n",
       "1           995               943        73      244    4    130  \n",
       "2           994               912        62       39    1     65  \n",
       "3           995               887       173      151    1    170  \n",
       "4           981               906        79       30    2     75  "
      ]
     },
     "execution_count": 36,
     "metadata": {},
     "output_type": "execute_result"
    }
   ],
   "source": [
    "df = pd.read_csv(\"top.csv\")\n",
    "df.head()\n",
    "#df.info()"
   ]
  },
  {
   "cell_type": "code",
   "execution_count": 37,
   "id": "honest-designer",
   "metadata": {},
   "outputs": [
    {
     "data": {
      "text/html": [
       "<div>\n",
       "<style scoped>\n",
       "    .dataframe tbody tr th:only-of-type {\n",
       "        vertical-align: middle;\n",
       "    }\n",
       "\n",
       "    .dataframe tbody tr th {\n",
       "        vertical-align: top;\n",
       "    }\n",
       "\n",
       "    .dataframe thead th {\n",
       "        text-align: right;\n",
       "    }\n",
       "</style>\n",
       "<table border=\"1\" class=\"dataframe\">\n",
       "  <thead>\n",
       "    <tr style=\"text-align: right;\">\n",
       "      <th></th>\n",
       "      <th>genre</th>\n",
       "      <th>name</th>\n",
       "      <th>artist</th>\n",
       "      <th>danceability</th>\n",
       "      <th>energy</th>\n",
       "      <th>loudness</th>\n",
       "      <th>speechiness</th>\n",
       "      <th>acousticness</th>\n",
       "      <th>instrumentalness</th>\n",
       "      <th>liveness</th>\n",
       "      <th>valence</th>\n",
       "      <th>key</th>\n",
       "      <th>tempo</th>\n",
       "    </tr>\n",
       "  </thead>\n",
       "  <tbody>\n",
       "    <tr>\n",
       "      <th>0</th>\n",
       "      <td>classical</td>\n",
       "      <td>Handel / Orch. Hale: Keyboard Suite in D Minor...</td>\n",
       "      <td>George Frideric Handel</td>\n",
       "      <td>93</td>\n",
       "      <td>33</td>\n",
       "      <td>-24</td>\n",
       "      <td>60</td>\n",
       "      <td>927</td>\n",
       "      <td>830</td>\n",
       "      <td>95</td>\n",
       "      <td>51</td>\n",
       "      <td>2</td>\n",
       "      <td>67</td>\n",
       "    </tr>\n",
       "    <tr>\n",
       "      <th>1</th>\n",
       "      <td>classical</td>\n",
       "      <td>Goldberg Variations, BWV 988: Aria</td>\n",
       "      <td>Johann Sebastian Bach</td>\n",
       "      <td>454</td>\n",
       "      <td>13</td>\n",
       "      <td>-29</td>\n",
       "      <td>51</td>\n",
       "      <td>995</td>\n",
       "      <td>943</td>\n",
       "      <td>73</td>\n",
       "      <td>244</td>\n",
       "      <td>4</td>\n",
       "      <td>130</td>\n",
       "    </tr>\n",
       "    <tr>\n",
       "      <th>2</th>\n",
       "      <td>classical</td>\n",
       "      <td>Clair de Lune, L. 32</td>\n",
       "      <td>Claude Debussy</td>\n",
       "      <td>335</td>\n",
       "      <td>5</td>\n",
       "      <td>-31</td>\n",
       "      <td>37</td>\n",
       "      <td>994</td>\n",
       "      <td>912</td>\n",
       "      <td>62</td>\n",
       "      <td>39</td>\n",
       "      <td>1</td>\n",
       "      <td>65</td>\n",
       "    </tr>\n",
       "    <tr>\n",
       "      <th>3</th>\n",
       "      <td>classical</td>\n",
       "      <td>Sonata No. 14 \"Moonlight\" in C-Sharp Minor\", O...</td>\n",
       "      <td>Ludwig van Beethoven</td>\n",
       "      <td>184</td>\n",
       "      <td>5</td>\n",
       "      <td>-37</td>\n",
       "      <td>43</td>\n",
       "      <td>995</td>\n",
       "      <td>887</td>\n",
       "      <td>173</td>\n",
       "      <td>151</td>\n",
       "      <td>1</td>\n",
       "      <td>170</td>\n",
       "    </tr>\n",
       "    <tr>\n",
       "      <th>4</th>\n",
       "      <td>classical</td>\n",
       "      <td>Miroirs: III. Une barque sur l'océan</td>\n",
       "      <td>Maurice Ravel</td>\n",
       "      <td>170</td>\n",
       "      <td>47</td>\n",
       "      <td>-27</td>\n",
       "      <td>43</td>\n",
       "      <td>981</td>\n",
       "      <td>906</td>\n",
       "      <td>79</td>\n",
       "      <td>30</td>\n",
       "      <td>2</td>\n",
       "      <td>75</td>\n",
       "    </tr>\n",
       "    <tr>\n",
       "      <th>...</th>\n",
       "      <td>...</td>\n",
       "      <td>...</td>\n",
       "      <td>...</td>\n",
       "      <td>...</td>\n",
       "      <td>...</td>\n",
       "      <td>...</td>\n",
       "      <td>...</td>\n",
       "      <td>...</td>\n",
       "      <td>...</td>\n",
       "      <td>...</td>\n",
       "      <td>...</td>\n",
       "      <td>...</td>\n",
       "      <td>...</td>\n",
       "    </tr>\n",
       "    <tr>\n",
       "      <th>995</th>\n",
       "      <td>rock</td>\n",
       "      <td>Shine</td>\n",
       "      <td>Collective Soul</td>\n",
       "      <td>540</td>\n",
       "      <td>423</td>\n",
       "      <td>-8</td>\n",
       "      <td>28</td>\n",
       "      <td>294</td>\n",
       "      <td>88</td>\n",
       "      <td>152</td>\n",
       "      <td>353</td>\n",
       "      <td>6</td>\n",
       "      <td>150</td>\n",
       "    </tr>\n",
       "    <tr>\n",
       "      <th>996</th>\n",
       "      <td>rock</td>\n",
       "      <td>Helplessly Hoping - 2005 Remaster</td>\n",
       "      <td>Crosby, Stills &amp; Nash</td>\n",
       "      <td>567</td>\n",
       "      <td>159</td>\n",
       "      <td>-13</td>\n",
       "      <td>33</td>\n",
       "      <td>914</td>\n",
       "      <td>0</td>\n",
       "      <td>111</td>\n",
       "      <td>436</td>\n",
       "      <td>7</td>\n",
       "      <td>146</td>\n",
       "    </tr>\n",
       "    <tr>\n",
       "      <th>997</th>\n",
       "      <td>rock</td>\n",
       "      <td>Everlong</td>\n",
       "      <td>Foo Fighters</td>\n",
       "      <td>413</td>\n",
       "      <td>881</td>\n",
       "      <td>-5</td>\n",
       "      <td>36</td>\n",
       "      <td>0</td>\n",
       "      <td>0</td>\n",
       "      <td>80</td>\n",
       "      <td>364</td>\n",
       "      <td>11</td>\n",
       "      <td>158</td>\n",
       "    </tr>\n",
       "    <tr>\n",
       "      <th>998</th>\n",
       "      <td>rock</td>\n",
       "      <td>The Power Of Love</td>\n",
       "      <td>Huey Lewis &amp; The News</td>\n",
       "      <td>758</td>\n",
       "      <td>831</td>\n",
       "      <td>-5</td>\n",
       "      <td>32</td>\n",
       "      <td>85</td>\n",
       "      <td>0</td>\n",
       "      <td>101</td>\n",
       "      <td>958</td>\n",
       "      <td>5</td>\n",
       "      <td>118</td>\n",
       "    </tr>\n",
       "    <tr>\n",
       "      <th>999</th>\n",
       "      <td>rock</td>\n",
       "      <td>Killing In The Name</td>\n",
       "      <td>Rage Against The Machine</td>\n",
       "      <td>466</td>\n",
       "      <td>833</td>\n",
       "      <td>-4</td>\n",
       "      <td>304</td>\n",
       "      <td>26</td>\n",
       "      <td>0</td>\n",
       "      <td>32</td>\n",
       "      <td>661</td>\n",
       "      <td>7</td>\n",
       "      <td>88</td>\n",
       "    </tr>\n",
       "  </tbody>\n",
       "</table>\n",
       "<p>1000 rows × 13 columns</p>\n",
       "</div>"
      ],
      "text/plain": [
       "         genre                                               name  \\\n",
       "0    classical  Handel / Orch. Hale: Keyboard Suite in D Minor...   \n",
       "1    classical                 Goldberg Variations, BWV 988: Aria   \n",
       "2    classical                               Clair de Lune, L. 32   \n",
       "3    classical  Sonata No. 14 \"Moonlight\" in C-Sharp Minor\", O...   \n",
       "4    classical               Miroirs: III. Une barque sur l'océan   \n",
       "..         ...                                                ...   \n",
       "995       rock                                              Shine   \n",
       "996       rock                  Helplessly Hoping - 2005 Remaster   \n",
       "997       rock                                           Everlong   \n",
       "998       rock                                  The Power Of Love   \n",
       "999       rock                                Killing In The Name   \n",
       "\n",
       "                       artist  danceability  energy  loudness  speechiness  \\\n",
       "0      George Frideric Handel            93      33       -24           60   \n",
       "1       Johann Sebastian Bach           454      13       -29           51   \n",
       "2              Claude Debussy           335       5       -31           37   \n",
       "3        Ludwig van Beethoven           184       5       -37           43   \n",
       "4               Maurice Ravel           170      47       -27           43   \n",
       "..                        ...           ...     ...       ...          ...   \n",
       "995           Collective Soul           540     423        -8           28   \n",
       "996     Crosby, Stills & Nash           567     159       -13           33   \n",
       "997              Foo Fighters           413     881        -5           36   \n",
       "998     Huey Lewis & The News           758     831        -5           32   \n",
       "999  Rage Against The Machine           466     833        -4          304   \n",
       "\n",
       "     acousticness  instrumentalness  liveness  valence  key  tempo  \n",
       "0             927               830        95       51    2     67  \n",
       "1             995               943        73      244    4    130  \n",
       "2             994               912        62       39    1     65  \n",
       "3             995               887       173      151    1    170  \n",
       "4             981               906        79       30    2     75  \n",
       "..            ...               ...       ...      ...  ...    ...  \n",
       "995           294                88       152      353    6    150  \n",
       "996           914                 0       111      436    7    146  \n",
       "997             0                 0        80      364   11    158  \n",
       "998            85                 0       101      958    5    118  \n",
       "999            26                 0        32      661    7     88  \n",
       "\n",
       "[1000 rows x 13 columns]"
      ]
     },
     "execution_count": 37,
     "metadata": {},
     "output_type": "execute_result"
    }
   ],
   "source": [
    "#extracting columns we will use to base classifications\n",
    "#dropping unnecessary columns\n",
    "\n",
    "# UNCOMMENT FOR MEGADATASET\n",
    "# df.drop(columns=['year', 'release_date', 'id', 'duration_ms', 'artists', \n",
    "#                  'name', 'explicit', 'popularity', 'mode', 'key', 'loudness'], inplace=True)\n",
    "\n",
    "# df.drop(columns=['Unnamed: 0','year','dur','pop'], inplace= True)\n",
    "# df\n",
    "\n",
    "df.drop(columns=['Unnamed: 0'], inplace=True)\n",
    "df"
   ]
  },
  {
   "cell_type": "code",
   "execution_count": 39,
   "id": "ecological-worry",
   "metadata": {
    "scrolled": false
   },
   "outputs": [
    {
     "data": {
      "application/vnd.plotly.v1+json": {
       "config": {
        "plotlyServerURL": "https://plot.ly"
       },
       "data": [
        {
         "customdata": [
          [
           "George Frideric Handel"
          ],
          [
           "Johann Sebastian Bach"
          ],
          [
           "Claude Debussy"
          ],
          [
           "Ludwig van Beethoven"
          ],
          [
           "Maurice Ravel"
          ],
          [
           "Frédéric Chopin"
          ],
          [
           "Franz Joseph Haydn"
          ],
          [
           "Edvard Grieg"
          ],
          [
           "Wolfgang Amadeus Mozart"
          ],
          [
           "Antonín Dvořák"
          ],
          [
           "Johannes Brahms"
          ],
          [
           "Antonio Vivaldi"
          ],
          [
           "Giuseppe Verdi"
          ],
          [
           "Richard Wagner"
          ],
          [
           "Jean Sibelius"
          ],
          [
           "Ottorino Respighi"
          ],
          [
           "César Franck"
          ],
          [
           "Franz Schubert"
          ],
          [
           "Giacomo Puccini"
          ],
          [
           "Johann Strauss II"
          ],
          [
           "Anton Bruckner"
          ],
          [
           "Richard Strauss"
          ],
          [
           "Felix Mendelssohn"
          ],
          [
           "Gustav Holst"
          ],
          [
           "Max Bruch"
          ],
          [
           "Ralph Vaughan Williams"
          ],
          [
           "Edward Elgar"
          ],
          [
           "Hector Berlioz"
          ],
          [
           "Frederick Delius"
          ],
          [
           "Franz Liszt"
          ],
          [
           "Camille Saint-Saëns"
          ],
          [
           "Aram Khachaturian"
          ],
          [
           "Erik Satie"
          ],
          [
           "Gabriel Fauré"
          ],
          [
           "Tomaso Albinoni"
          ],
          [
           "Bedřich Smetana"
          ],
          [
           "Jacques Offenbach"
          ],
          [
           "Samuel Barber"
          ],
          [
           "Gustav Mahler"
          ],
          [
           "Luigi Boccherini"
          ],
          [
           "Robert Schumann"
          ],
          [
           "Leonard Bernstein"
          ],
          [
           "Dmitri Shostakovich"
          ],
          [
           "Henry Purcell"
          ],
          [
           "Carl Maria von Weber"
          ],
          [
           "Georges Bizet"
          ],
          [
           "Pietro Mascagni"
          ],
          [
           "Léo Delibes"
          ],
          [
           "Joaquín Rodrigo"
          ],
          [
           "George Gershwin"
          ],
          [
           "Johann Bach"
          ],
          [
           "Hugo Wolf"
          ],
          [
           "Igor Stravinsky"
          ],
          [
           "Niccolò Paganini"
          ],
          [
           "Charles Gounod"
          ],
          [
           "Jules Massenet"
          ],
          [
           "Claudio Monteverdi"
          ],
          [
           "Giovanni Battista Pergolesi"
          ],
          [
           "Carl Orff"
          ],
          [
           "Alexander Borodin"
          ],
          [
           "Johann Strauss I"
          ],
          [
           "Manuel de Falla"
          ],
          [
           "Pyotr Ilyich Tchaikovsky"
          ],
          [
           "Amilcare Ponchielli"
          ],
          [
           "Sergei Rachmaninoff"
          ],
          [
           "Christoph Willibald Gluck"
          ],
          [
           "Gioachino Rossini"
          ],
          [
           "Ernest Chausson"
          ],
          [
           "Carl Davis"
          ],
          [
           "Sergei Rachmaninoff"
          ],
          [
           "Aaron Copland"
          ],
          [
           "Nikolai Rimsky-Korsakov"
          ],
          [
           "Domenico Scarlatti"
          ],
          [
           "Arnold Schoenberg"
          ],
          [
           "Benjamin Britten"
          ],
          [
           "Pierre Boulez"
          ],
          [
           "Arcangelo Corelli"
          ],
          [
           "Conrado del Campo"
          ],
          [
           "Heinrich Schütz"
          ],
          [
           "Fritz Kreisler"
          ],
          [
           "Johann Pachelbel"
          ],
          [
           "Béla Bartók"
          ],
          [
           "Carl Philipp Emanuel Bach"
          ],
          [
           "Sergei Prokofiev"
          ],
          [
           "Guillaume de Machaut"
          ],
          [
           "Lugwig van Beethoven"
          ],
          [
           "György Ligeti"
          ],
          [
           "Zoltán Kodály"
          ],
          [
           "Orlande de Lassus"
          ],
          [
           "Vincenzo Bellini"
          ],
          [
           "Giovanni Gabrieli"
          ],
          [
           "Giovanni Pierluigi da Palestrina"
          ],
          [
           "Gioachino Rossini"
          ],
          [
           "Guillaume Dufay"
          ],
          [
           "Darius Milhaud"
          ],
          [
           "Heitor Villa-Lobos"
          ],
          [
           "Gaspar Cassadó"
          ],
          [
           "Leopold Mozart"
          ],
          [
           "Carl Nielsen"
          ],
          [
           "Thomas Tallis"
          ]
         ],
         "hovertemplate": "<b>%{hovertext}</b><br><br>genre=classical<br>tempo=%{x}<br>energy=%{y}<br>artist=%{customdata[0]}<extra></extra>",
         "hovertext": [
          "Handel / Orch. Hale: Keyboard Suite in D Minor, HWV 437: III. Sarabande",
          "Goldberg Variations, BWV 988: Aria",
          "Clair de Lune, L. 32",
          "Sonata No. 14 \"Moonlight\" in C-Sharp Minor\", Op. 27 No. 2: I. Adagio sostenuto",
          "Miroirs: III. Une barque sur l'océan",
          "Nocturne No.2 In E Flat, Op.9 No.2",
          "Cello Concerto No. 1 in C Major, Hob. VIIb:1: II. Adagio",
          "Lyric Pieces, Book 5, Op. 54: Nocturne",
          "Piano Concerto No. 21 in C Major, K. 467 \"Elvira Madigan\": II. Andante",
          "8 Humoresques, Op. 101, B. 187: No. 7, Poco lento e grazioso (Transcribed by Oscar Morawetz for Violin, Cello & Orchestra)",
          "Sechs Klavierstücke, Op. 118: II. Intermezzo in A Major",
          "The Four Seasons - Violin Concerto in F Minor, Op. 8 No. 4, RV 297 \"Winter\": I. Allegro non molto",
          "Nabucco / Act 3: Va, pensiero, sull'ali dorate",
          "Die Walkure, Act III: Ride of the Valkyries",
          "6 Impromptus, Op. 5: Impromptu VI",
          "Pini di Roma (The Pines of Rome): III. I pini del Gianiclo",
          "Violin Sonata in A major, FWV 8: IV. Allegretto poco mosso",
          "Minuet in A Major, D. 334",
          "Gianni Schicchi: \"O mio Babbino caro\"",
          "An der schönen blauen Donau, Op.314",
          "Symphony No. 4 in E-Flat Major, WAB 104, \"Romantic\": I. Bewegt, nicht zu schnell - Live",
          "4 Lieder, Op. 27, TrV 170: IV. Morgen! (Arr. for Cello and Piano by Julian Riem)",
          "Lieder ohne Worte (Songs without Words), Book 2, Op. 30: No. 7 in E-Flat Major, Op. 30, No. 1",
          "The Planets, Op. 32: IV. Jupiter, the Bringer of Jollity",
          "Violin Concerto No.1 in G minor, Op.26: 1. Vorspiel (Allegro moderato)",
          "The Lark Ascending",
          "Cello Concerto in E Minor, Op.85 (1997 - Remaster): I. Adagio - Moderato",
          "Symphonie fantastique, Op. 14: Symphonie fantastique, Op. 14: IV. Marche au supplice",
          "3 Small Tone Poems: No. 1. Summer Evening",
          "Liebestraume, S541/R211 : No. 3: Nocturne in A-Flat Major",
          "Carnival of the Animals, R. 125: The Swan",
          "Khachaturian: Spartacus (Highlights from the Ballet): Adagio of Spartacus and Phrygia",
          "Gymnopédie No. 1",
          "Fauré: Pavane in F-Sharp Minor, Op. 50",
          "Adagio in G Minor",
          "Die Moldau",
          "Barcarolle",
          "Barber: Adagio for Strings",
          "Mahler: Symphony No. 5 in C-Sharp Minor: IV. Adagietto",
          "Cello Concerto in C Major, G. 477: II. Largo",
          "Kinderszenen, Op. 15: No. 7 in F Major, Träumerei",
          "Overture Candide",
          "Jazz Suite No. 2: VI. Waltz 2",
          "Dido and Aeneas, Z. 626 / Act 3: \"When I Am Laid In Earth\" Dido's Lamento (Arr. For Cello And Strings By Mathieu Herzog)",
          "6 Violin Sonatas, Op. 10b No. 2 in G Major, J. 100: II. Adagio",
          "Carmen, Act I: No.5 Habanera : L'amour est un oiseau rebelle (Carmen/Cigarières/Jeunes gens/Dragons)",
          "Mascagni: Cavalleria rusticana: Intermezzo",
          "Delibes: Lakmé, Act 1: \"Dôme épais, le jasmin\" (Lakmé, Mallika)",
          "Rodrigo: Concierto de Aranjuez: II. Adagio",
          "Rhapsody In Blue",
          "Weint nicht um meinen Tod",
          "Das Verlassene Mägdlein",
          "The Rite of Spring: Part One: Adoration of the Earth: Introduction",
          "Paganini: 24 Caprices, Op. 1: No. 24 in A Minor (Tema con variazioni. Quasi presto)",
          "Ave Maria",
          "Meditation: Méditation from Thaïs",
          "Monteverdi: L'incoronazione di Poppea, SV 308, Act 3: \"Pur ti miro\" (Neron, Popea)",
          "Pergolesi: Stabat Mater: I. Stabat Mater dolorosa",
          "Carmina Burana / 1. Primo vere: \"Veris leta facies\"",
          "Nocturne",
          "Radetzky March, Op. 228",
          "El amor brujo: Danza ritual del fuego, para ahuyentar los malos espíritus",
          "Serenade for Strings in C major, Op. 48: II. Walzer: Moderato, tempo di valse",
          "Dance of the Hours",
          "Piano Concerto No. 2 in C Minor, Op. 18: 2. Adagio sostenuto",
          "Orfeo ed Euridice, Wq. 30 - Arranged Sgambati / Act 2: Melodie dell'Orfeo",
          "Il barbiere di Siviglia: Overture (Sinfonia)",
          "Poème for Violin and Orchestra, Op. 25",
          "Pride and Prejudice Suite: III. Elizabeth and Mr. Darcy",
          "Liturgie des Catéchumènes (Bénis le Seigneur, ô mon âme)",
          "Copland: Appalachian Spring: VII. Doppio movimento (Variations on a Shaker Hymn - Simple Gifts)",
          "Scheherazade: The Tale of the Kalendar Prince",
          "Sonata in A Minor, K.109: Adagio",
          "Notturno for Strings and Harp",
          "War Requiem, Op. 66 / Libera me: 6c. Let Us Sleep Now...In Paradisum",
          "Incises",
          "Concerto grosso in G minor, Op.6, No.8 \"fatto per la notte di Natale\": 3. Adagio - Allegro - Adagio",
          "Romanza in F Major",
          "Erbarm dich mein, o Herre Gott, SWV 148",
          "Liebesleid (Love's Sorrow)",
          "Kanon und Gigue",
          "Music for Strings, Percussion and Celesta, Sz. 106: 3. Adagio",
          "Keyboard Concerto in G Major, Wq. 44: II. Andantino",
          "Prokofiev: Romeo and Juliet, Op. 64, Act 1: No. 13, Dance of the Knights (Complete Ballet)",
          "Messe de Nostre Dame: Sanctus",
          "Piano Sonata No.17 in D minor, Op.31 No.2 ‘Tempest'",
          "Lontano",
          "Hary Janos Suite: V. Kozjatek (Intermezzo)",
          "Al dolce soun",
          "Bellini: Norma, Act 1: \"Casta diva\" (Norma, Chorus)",
          "In ecclesiis (a 14), C78",
          "Missa Papae Marcelli: Kyrie",
          "Il barbiere di Siviglia: Overture (Sinfonia)",
          "Ave maris stella",
          "Suite for Violin, Clarinet and Piano, Op. 157b: II. Divertissement. Animé",
          "5 Preludes, W419: No. 5 in D Major",
          "Cassadó: Toccata (in the Style of Frescobaldi)",
          "Mozart, Leopold: Toy Symphony: I. Allegro",
          "Tågen Letter",
          "Spem in alium (The Forty-Part Motet)"
         ],
         "legendgroup": "classical",
         "marker": {
          "color": "#636efa",
          "symbol": "circle"
         },
         "mode": "markers",
         "name": "classical",
         "orientation": "v",
         "showlegend": true,
         "type": "scatter",
         "x": [
          67,
          130,
          65,
          170,
          75,
          79,
          61,
          72,
          144,
          98,
          69,
          158,
          73,
          89,
          62,
          81,
          94,
          91,
          89,
          94,
          70,
          174,
          67,
          132,
          170,
          74,
          96,
          146,
          90,
          60,
          118,
          88,
          72,
          70,
          89,
          76,
          128,
          73,
          82,
          70,
          130,
          159,
          107,
          76,
          81,
          123,
          84,
          125,
          84,
          74,
          74,
          69,
          87,
          111,
          73,
          89,
          76,
          138,
          54,
          81,
          104,
          141,
          66,
          76,
          140,
          69,
          97,
          91,
          84,
          70,
          82,
          61,
          97,
          75,
          100,
          172,
          120,
          71,
          74,
          97,
          152,
          84,
          86,
          85,
          132,
          75,
          79,
          110,
          81,
          93,
          71,
          136,
          92,
          70,
          83,
          85,
          91,
          116,
          110,
          124
         ],
         "xaxis": "x",
         "y": [
          33,
          13,
          5,
          5,
          47,
          9,
          65,
          43,
          32,
          60,
          6,
          163,
          21,
          219,
          5,
          10,
          135,
          5,
          196,
          25,
          65,
          12,
          16,
          130,
          97,
          12,
          97,
          207,
          44,
          34,
          7,
          106,
          12,
          57,
          279,
          224,
          81,
          73,
          52,
          7,
          12,
          428,
          184,
          60,
          3,
          59,
          115,
          119,
          98,
          247,
          36,
          4,
          24,
          128,
          2,
          70,
          62,
          36,
          2,
          104,
          536,
          118,
          122,
          31,
          54,
          4,
          264,
          124,
          125,
          24,
          102,
          63,
          38,
          80,
          63,
          282,
          91,
          160,
          54,
          169,
          230,
          47,
          27,
          101,
          98,
          112,
          36,
          99,
          113,
          167,
          106,
          156,
          140,
          44,
          22,
          104,
          121,
          194,
          81,
          228
         ],
         "yaxis": "y"
        },
        {
         "customdata": [
          [
           "Diamond Rio"
          ],
          [
           "Lonestar"
          ],
          [
           "Clay Walker"
          ],
          [
           "Trisha Yearwood"
          ],
          [
           "Brooks & Dunn"
          ],
          [
           "Jo Dee Messina"
          ],
          [
           "Randy Travis"
          ],
          [
           "John Michael Montgomery"
          ],
          [
           "Mark Chesnutt"
          ],
          [
           "Travis Tritt"
          ],
          [
           "Joe Diffie"
          ],
          [
           "Tracy Byrd"
          ],
          [
           "Tracy Lawrence"
          ],
          [
           "Trace Adkins"
          ],
          [
           "Collin Raye"
          ],
          [
           "Sammy Kershaw"
          ],
          [
           "Reba McEntire"
          ],
          [
           "Clint Black"
          ],
          [
           "Craig Morgan"
          ],
          [
           "Josh Turner"
          ],
          [
           "Martina McBride"
          ],
          [
           "Gretchen Wilson"
          ],
          [
           "Rodney Atkins"
          ],
          [
           "Sara Evans"
          ],
          [
           "Terri Clark"
          ],
          [
           "Big & Rich"
          ],
          [
           "Joe Nichols"
          ],
          [
           "Chris Cagle"
          ],
          [
           "Alabama"
          ],
          [
           "Tim McGraw"
          ],
          [
           "George Strait"
          ],
          [
           "Sawyer Brown"
          ],
          [
           "Billy Currington"
          ],
          [
           "Gary Allan"
          ],
          [
           "Shenandoah"
          ],
          [
           "Faith Hill"
          ],
          [
           "Phil Vassar"
          ],
          [
           "Mark Wills"
          ],
          [
           "Rascal Flatts"
          ],
          [
           "Montgomery Gentry"
          ],
          [
           "Brad Paisley"
          ],
          [
           "Lee Ann Womack"
          ],
          [
           "Vince Gill"
          ],
          [
           "Neal McCoy"
          ],
          [
           "Keith Urban"
          ],
          [
           "Aaron Tippin"
          ],
          [
           "John Anderson"
          ],
          [
           "The Judds"
          ],
          [
           "Little Big Town"
          ],
          [
           "Toby Keith"
          ],
          [
           "Pam Tillis"
          ],
          [
           "Dierks Bentley"
          ],
          [
           "Kenny Chesney"
          ],
          [
           "Little Texas"
          ],
          [
           "Jason Michael Carroll"
          ],
          [
           "Alan Jackson"
          ],
          [
           "Blake Shelton"
          ],
          [
           "Miranda Lambert"
          ],
          [
           "Tanya Tucker"
          ],
          [
           "Darryl Worley"
          ],
          [
           "David Lee Murphy"
          ],
          [
           "Sugarland"
          ],
          [
           "Deana Carter"
          ],
          [
           "Lorrie Morgan"
          ],
          [
           "BlackHawk"
          ],
          [
           "Randy Houser"
          ],
          [
           "Keith Whitley"
          ],
          [
           "Darius Rucker"
          ],
          [
           "Daryle Singletary"
          ],
          [
           "Chris LeDoux"
          ],
          [
           "Jake Owen"
          ],
          [
           "Chris Young"
          ],
          [
           "Lady A"
          ],
          [
           "Patty Loveless"
          ],
          [
           "Confederate Railroad"
          ],
          [
           "Keith Anderson"
          ],
          [
           "Eric Church"
          ],
          [
           "Doug Stone"
          ],
          [
           "Emerson Drive"
          ],
          [
           "Ricky Van Shelton"
          ],
          [
           "Mel McDaniel"
          ],
          [
           "Easton Corbin"
          ],
          [
           "Steve Wariner"
          ],
          [
           "Kellie Pickler"
          ],
          [
           "Craig Campbell"
          ],
          [
           "Josh Gracin"
          ],
          [
           "Dan Seals"
          ],
          [
           "Restless Heart"
          ],
          [
           "Justin Moore"
          ],
          [
           "The Band Perry"
          ],
          [
           "Andy Griggs"
          ],
          [
           "Ronnie Milsap"
          ],
          [
           "Ty Herndon"
          ],
          [
           "Jamey Johnson"
          ],
          [
           "Earl Thomas Conley"
          ],
          [
           "Wynonna"
          ],
          [
           "Jason Aldean"
          ],
          [
           "Jerrod Niemann"
          ],
          [
           "Trick Pony"
          ],
          [
           "Trent Tomlinson"
          ]
         ],
         "hovertemplate": "<b>%{hovertext}</b><br><br>genre=country<br>tempo=%{x}<br>energy=%{y}<br>artist=%{customdata[0]}<extra></extra>",
         "hovertext": [
          "Meet In the Middle",
          "Amazed",
          "She Won't Be Lonely Long",
          "She's In Love With The Boy - Single Version",
          "Neon Moon",
          "Bye-Bye",
          "Forever and Ever, Amen",
          "Sold (The Grundy County Auction Incident)",
          "Bubba Shot The Jukebox",
          "It's A Great Day To Be Alive",
          "John Deere Green",
          "Watermelon Crawl",
          "Time Marches On",
          "You're Gonna Miss This",
          "Love, Me",
          "She Don't Know She's Beautiful",
          "Fancy",
          "Killin' Time",
          "Redneck Yacht Club",
          "Your Man",
          "Independence Day",
          "Redneck Woman",
          "Caught Up In The Country",
          "A Little Bit Stronger",
          "Better Things To Do",
          "Save a Horse (Ride a Cowboy)",
          "Tequila Makes Her Clothes Fall Off",
          "What Kinda Gone",
          "Song of the South",
          "Undivided",
          "Check Yes Or No",
          "Some Girls Do",
          "Good Directions",
          "Every Storm (Runs Out Of Rain)",
          "Two Dozen Roses",
          "This Kiss",
          "Just Another Day In Paradise",
          "19 Somethin' - Greatest Hits Version",
          "Life is a Highway",
          "Where I Come From",
          "Whiskey Lullaby (feat. Alison Krauss)",
          "I Hope You Dance",
          "Don't Let Our Love Start Slippin' Away",
          "Billy's Got His Beer Goggles On - Remastered Version",
          "One Too Many",
          "You've Got to Stand for Something",
          "Straight Tequila Night",
          "Grandpa (Tell Me 'Bout The Good Old Days)",
          "Wine, Beer, Whiskey",
          "Should've Been A Cowboy",
          "Maybe It Was Memphis",
          "Gone",
          "American Kids",
          "God Blessed Texas",
          "Livin' Our Love Song",
          "It's Five O'Clock Somewhere",
          "God's Country",
          "Settling Down",
          "Delta Dawn",
          "Have You Forgotten?",
          "Dust On The Bottle",
          "Stuck Like Glue",
          "Strawberry Wine",
          "Except for Monday",
          "Goodbye Says It All",
          "How Country Feels",
          "Don't Close Your Eyes",
          "Wagon Wheel",
          "Too Much Fun",
          "This Cowboy's Hat",
          "Made For You",
          "Famous Friends",
          "Need You Now",
          "I Try to Think About Elvis",
          "Trashy Women - Remastered Version",
          "Pickin' Wildflowers",
          "Hell Of A View",
          "Why Didn't I Think Of That",
          "Just Got Paid",
          "Keep It Between The Lines",
          "Louisiana Saturday Night",
          "All Over The Road",
          "Holes In The Floor Of Heaven",
          "Best Days of Your Life",
          "Outskirts of Heaven",
          "Nothin' To Lose",
          "Meet Me In Montana",
          "When She Cries",
          "Why We Drink",
          "If I Die Young",
          "You Won't Ever Be Lonely",
          "Smoky Mountain Rain",
          "What Mattered Most",
          "In Color",
          "Holding Her and Loving You",
          "No One Else On Earth",
          "You Make It Easy",
          "Drink to That All Night",
          "Pour Me",
          "One Wing In The Fire"
         ],
         "legendgroup": "country",
         "marker": {
          "color": "#EF553B",
          "symbol": "circle"
         },
         "mode": "markers",
         "name": "country",
         "orientation": "v",
         "showlegend": true,
         "type": "scatter",
         "x": [
          91,
          139,
          113,
          124,
          102,
          134,
          90,
          115,
          165,
          128,
          130,
          136,
          118,
          154,
          106,
          116,
          94,
          121,
          168,
          100,
          118,
          185,
          124,
          147,
          150,
          102,
          93,
          172,
          162,
          90,
          111,
          139,
          122,
          107,
          121,
          186,
          146,
          89,
          103,
          90,
          74,
          151,
          113,
          106,
          82,
          83,
          109,
          201,
          106,
          133,
          73,
          149,
          170,
          128,
          148,
          125,
          139,
          90,
          77,
          160,
          99,
          83,
          122,
          170,
          137,
          104,
          78,
          148,
          151,
          90,
          82,
          102,
          107,
          160,
          142,
          152,
          99,
          121,
          172,
          89,
          163,
          199,
          108,
          127,
          115,
          121,
          124,
          105,
          116,
          130,
          182,
          140,
          142,
          129,
          125,
          98,
          132,
          115,
          182,
          142
         ],
         "xaxis": "x",
         "y": [
          443,
          543,
          758,
          698,
          632,
          868,
          724,
          848,
          648,
          653,
          834,
          723,
          517,
          665,
          242,
          646,
          517,
          491,
          817,
          637,
          630,
          825,
          852,
          650,
          782,
          896,
          706,
          861,
          633,
          814,
          524,
          852,
          720,
          693,
          648,
          804,
          706,
          816,
          952,
          852,
          333,
          443,
          719,
          775,
          535,
          585,
          639,
          239,
          914,
          793,
          695,
          746,
          589,
          766,
          855,
          768,
          754,
          756,
          507,
          625,
          614,
          795,
          449,
          600,
          479,
          839,
          228,
          660,
          888,
          297,
          441,
          855,
          717,
          697,
          795,
          716,
          582,
          596,
          798,
          282,
          622,
          841,
          340,
          862,
          434,
          876,
          389,
          521,
          903,
          497,
          617,
          577,
          509,
          404,
          317,
          861,
          574,
          846,
          905,
          526
         ],
         "yaxis": "y"
        },
        {
         "customdata": [
          [
           "Alesso"
          ],
          [
           "NERVO"
          ],
          [
           "Afrojack"
          ],
          [
           "Nicky Romero"
          ],
          [
           "Don Diablo"
          ],
          [
           "DVBBS"
          ],
          [
           "Dillon Francis"
          ],
          [
           "3LAU"
          ],
          [
           "DubVision"
          ],
          [
           "Syn Cole"
          ],
          [
           "Borgeous"
          ],
          [
           "Cash Cash"
          ],
          [
           "Dada Life"
          ],
          [
           "CAZZETTE"
          ],
          [
           "Kaskade"
          ],
          [
           "KSHMR"
          ],
          [
           "Tritonal"
          ],
          [
           "Sick Individuals"
          ],
          [
           "ARTY"
          ],
          [
           "Sebastian Ingrosso"
          ],
          [
           "Audien"
          ],
          [
           "Laidback Luke"
          ],
          [
           "Quintino"
          ],
          [
           "Hardwell"
          ],
          [
           "Sander van Doorn"
          ],
          [
           "Vicetone"
          ],
          [
           "Krewella"
          ],
          [
           "Madison Mars"
          ],
          [
           "Bassjackers"
          ],
          [
           "Bingo Players"
          ],
          [
           "Deorro"
          ],
          [
           "Steve Angello"
          ],
          [
           "Yves V"
          ],
          [
           "Morgan Page"
          ],
          [
           "MOTi"
          ],
          [
           "EDX"
          ],
          [
           "Axwell /\\ Ingrosso"
          ],
          [
           "Oliver Heldens"
          ],
          [
           "Otto Knows"
          ],
          [
           "Mike Williams"
          ],
          [
           "Firebeatz"
          ],
          [
           "Swedish House Mafia"
          ],
          [
           "Michael Calfan"
          ],
          [
           "Brooks"
          ],
          [
           "Steve Aoki"
          ],
          [
           "Jay Hardway"
          ],
          [
           "R3HAB"
          ],
          [
           "KREAM"
          ],
          [
           "Adventure Club"
          ],
          [
           "Thomas Gold"
          ],
          [
           "Blasterjaxx"
          ],
          [
           "Dirty South"
          ],
          [
           "W&W"
          ],
          [
           "Lucas & Steve"
          ],
          [
           "Zedd"
          ],
          [
           "Axwell"
          ],
          [
           "Flux Pavilion"
          ],
          [
           "VINAI"
          ],
          [
           "Fedde Le Grand"
          ],
          [
           "CID"
          ],
          [
           "Showtek"
          ],
          [
           "Dimitri Vangelis & Wyman"
          ],
          [
           "Galantis"
          ],
          [
           "Cheat Codes"
          ],
          [
           "Loud Luxury"
          ],
          [
           "Porter Robinson"
          ],
          [
           "Julian Jordan"
          ],
          [
           "Ummet Ozcan"
          ],
          [
           "Felix Cartal"
          ],
          [
           "Third Party"
          ],
          [
           "Moguai"
          ],
          [
           "Seven Lions"
          ],
          [
           "Martin Solveig"
          ],
          [
           "Dimitri Vegas & Like Mike"
          ],
          [
           "Martin Jensen"
          ],
          [
           "KAAZE"
          ],
          [
           "Dannic"
          ],
          [
           "Matisse & Sadko"
          ],
          [
           "Eric Prydz"
          ],
          [
           "John Dahlbäck"
          ],
          [
           "deadmau5"
          ],
          [
           "Jauz"
          ],
          [
           "Chocolate Puma"
          ],
          [
           "Stadiumx"
          ],
          [
           "Matoma"
          ],
          [
           "Tujamo"
          ],
          [
           "Zeds Dead"
          ],
          [
           "Wolfgang Gartner"
          ],
          [
           "Madeon"
          ],
          [
           "Yellow Claw"
          ],
          [
           "Tchami"
          ],
          [
           "Sam Feldt"
          ],
          [
           "The Him"
          ],
          [
           "Feed Me"
          ],
          [
           "Seeb"
          ],
          [
           "Mike Perry"
          ],
          [
           "Chris Lake"
          ],
          [
           "Martin Garrix"
          ],
          [
           "Mako"
          ],
          [
           "Tiësto"
          ]
         ],
         "hovertemplate": "<b>%{hovertext}</b><br><br>genre=edm<br>tempo=%{x}<br>energy=%{y}<br>artist=%{customdata[0]}<extra></extra>",
         "hovertext": [
          "Midnight (feat. Liam Payne)",
          "Gotta Be You",
          "Ten Feet Tall",
          "Nights With You",
          "Bad",
          "Tinted Eyes (feat. blackbear & 24kGoldn)",
          "Get Low",
          "Everything",
          "Back To Life",
          "Breathe (feat. kaspara)",
          "Leave",
          "I Found You",
          "This Time (Never Be Alone Again)",
          "She Wants Me Dead",
          "Flip Reset",
          "Kids (feat. MKLA)",
          "Getaway - Koven Remix",
          "Flame",
          "Save Me Tonight",
          "Reload - Radio Edit",
          "Never Letting Go - Edit",
          "Whistle (feat. Bertie Scott)",
          "Switch Back",
          "Bella Ciao - Mix Cut",
          "Spotlight",
          "Astronomia",
          "Alive",
          "New Vibe Who Dis (feat. Little League)",
          "Run Away",
          "Get Up (Rattle) [feat. Far East Movement] - Vocal Edit",
          "Five More Hours - Deorro x Chris Brown",
          "Show Me Love (feat. Robin S.)",
          "Not So Bad (feat. Emie)",
          "The Longest Road - deadmau5 Remix Edit",
          "Push It Right",
          "I Found You (Neptune)",
          "More Than You Know",
          "Gecko (Overdrive) - Radio Edit",
          "Million Voices - Radio Edit",
          "Wait Another Day",
          "Bad Habit",
          "Don't You Worry Child - Radio Edit",
          "No Lie",
          "Voices (feat. TZAR)",
          "Just Hold On",
          "Electric Elephants",
          "All Around The World (La La La)",
          "Water (feat. ZOHARA)",
          "High Like This",
          "Wildest Dream",
          "Narco",
          "City Of Dreams - Radio Edit",
          "Rave Love",
          "No Diggity",
          "The Middle",
          "Nobody Else - A-Trak Remix",
          "I Can't Stop",
          "Rise Up (feat. Vamero)",
          "Put Your Hands Up For Detroit - Dub Mix",
          "Jumpin'",
          "Pum Pum",
          "Coming Home",
          "Dandelion",
          "No Promises (feat. Demi Lovato)",
          "Body",
          "Goodbye To A World",
          "Let Me Be The One",
          "Wonderful Days",
          "Mine",
          "Take Me Away",
          "Hold On (feat. Cheat Codes) - 2020 Edit",
          "First Time (feat. Dylan Matthew)",
          "Intoxicated - Radio Edit",
          "Say My Name",
          "Solo Dance",
          "I Should Have Walked Away",
          "Let You Down",
          "Don’t Tell Me",
          "Call on Me - Radio Mix",
          "Raven",
          "Ghosts 'n' Stuff",
          "Oceans & Galaxies",
          "Scrub The Ground (feat. DJ Funk)",
          "Know You Better",
          "Old Thing Back (feat. Ja Rule and Ralph Tresvant)",
          "Lonely",
          "Neck And Neck - DNMO Remix",
          "Battlestations",
          "All My Friends",
          "DJ Turn It Up",
          "Praise (feat. Gunna)",
          "Post Malone (feat. RANI)",
          "Tragic (feat. Amber Van Day)",
          "Love Is All I Got",
          "Unfamiliar",
          "The Ocean (feat. Shy Martin)",
          "Turn off the Lights",
          "Pressure (feat. Tove Lo)",
          "Breathe",
          "The Business"
         ],
         "legendgroup": "edm",
         "marker": {
          "color": "#00cc96",
          "symbol": "circle"
         },
         "mode": "markers",
         "name": "edm",
         "orientation": "v",
         "showlegend": true,
         "type": "scatter",
         "x": [
          144,
          123,
          127,
          150,
          123,
          121,
          101,
          120,
          126,
          121,
          115,
          129,
          128,
          106,
          126,
          128,
          172,
          128,
          125,
          128,
          127,
          127,
          128,
          129,
          101,
          126,
          127,
          123,
          129,
          127,
          127,
          129,
          126,
          124,
          124,
          124,
          123,
          124,
          125,
          126,
          124,
          129,
          122,
          127,
          114,
          127,
          124,
          121,
          150,
          127,
          129,
          127,
          160,
          121,
          107,
          123,
          139,
          126,
          128,
          125,
          130,
          127,
          117,
          112,
          121,
          95,
          123,
          106,
          106,
          127,
          124,
          150,
          125,
          118,
          114,
          129,
          122,
          126,
          126,
          128,
          127,
          145,
          126,
          122,
          97,
          127,
          150,
          129,
          106,
          102,
          124,
          107,
          123,
          130,
          184,
          90,
          125,
          114,
          152,
          120
         ],
         "xaxis": "x",
         "y": [
          648,
          869,
          861,
          745,
          738,
          801,
          932,
          955,
          864,
          749,
          665,
          761,
          871,
          837,
          916,
          866,
          914,
          920,
          899,
          724,
          765,
          922,
          925,
          900,
          934,
          945,
          827,
          933,
          908,
          985,
          883,
          882,
          674,
          737,
          834,
          916,
          741,
          885,
          894,
          912,
          888,
          832,
          701,
          726,
          932,
          927,
          859,
          738,
          862,
          839,
          943,
          818,
          895,
          709,
          657,
          687,
          601,
          927,
          961,
          690,
          791,
          921,
          660,
          667,
          774,
          350,
          876,
          824,
          839,
          911,
          802,
          677,
          607,
          788,
          846,
          668,
          882,
          785,
          837,
          896,
          617,
          625,
          887,
          830,
          858,
          823,
          591,
          665,
          764,
          696,
          681,
          642,
          715,
          771,
          677,
          575,
          745,
          558,
          571,
          620
         ],
         "yaxis": "y"
        },
        {
         "customdata": [
          [
           "McCoy Tyner"
          ],
          [
           "Wayne Shorter"
          ],
          [
           "Joe Henderson"
          ],
          [
           "Freddie Hubbard"
          ],
          [
           "Dexter Gordon"
          ],
          [
           "Sonny Rollins"
          ],
          [
           "Bill Evans Trio"
          ],
          [
           "Clifford Brown"
          ],
          [
           "Ahmad Jamal"
          ],
          [
           "Bud Powell"
          ],
          [
           "Joshua Redman"
          ],
          [
           "Cannonball Adderley"
          ],
          [
           "Horace Silver"
          ],
          [
           "Art Blakey & The Jazz Messengers"
          ],
          [
           "Oliver Nelson"
          ],
          [
           "Miles Davis Quintet"
          ],
          [
           "Lee Morgan"
          ],
          [
           "Thelonious Monk"
          ],
          [
           "Dizzy Gillespie"
          ],
          [
           "Hank Mobley"
          ],
          [
           "Charlie Parker"
          ],
          [
           "The Modern Jazz Quartet"
          ],
          [
           "Art Tatum"
          ],
          [
           "Kenny Dorham"
          ],
          [
           "Lee Konitz"
          ],
          [
           "Ron Carter"
          ],
          [
           "Roy Hargrove"
          ],
          [
           "Lester Young"
          ],
          [
           "Oscar Peterson Trio"
          ],
          [
           "Ahmad Jamal Trio"
          ],
          [
           "Charles Mingus"
          ],
          [
           "John Coltrane Quartet"
          ],
          [
           "Red Garland"
          ],
          [
           "Wynton Marsalis"
          ],
          [
           "Wes Montgomery"
          ],
          [
           "Bill Evans"
          ],
          [
           "Art Farmer"
          ],
          [
           "Sonny Stitt"
          ],
          [
           "Art Blakey"
          ],
          [
           "Erroll Garner"
          ],
          [
           "Chris Potter"
          ],
          [
           "Coleman Hawkins"
          ],
          [
           "Tommy Flanagan"
          ],
          [
           "Sonny Clark"
          ],
          [
           "Ben Webster"
          ],
          [
           "Joe Lovano"
          ],
          [
           "Art Pepper"
          ],
          [
           "The Dave Brubeck Quartet"
          ],
          [
           "Grant Green"
          ],
          [
           "Kenny Burrell"
          ],
          [
           "Oscar Peterson"
          ],
          [
           "Milt Jackson"
          ],
          [
           "Brad Mehldau"
          ],
          [
           "The Cannonball Adderley Quintet"
          ],
          [
           "Paul Desmond"
          ],
          [
           "John Coltrane"
          ],
          [
           "Gerry Mulligan"
          ],
          [
           "Kenny Garrett"
          ],
          [
           "Thelonious Monk Quartet"
          ],
          [
           "Bobby Hutcherson"
          ],
          [
           "Gene Ammons"
          ],
          [
           "Ornette Coleman"
          ],
          [
           "Count Basie"
          ],
          [
           "Jimmy Smith"
          ],
          [
           "Kurt Rosenwinkel"
          ],
          [
           "Jackie McLean"
          ],
          [
           "Christian McBride"
          ],
          [
           "Jim Hall"
          ],
          [
           "Blue Mitchell"
          ],
          [
           "Charlie Haden"
          ],
          [
           "Charles Lloyd"
          ],
          [
           "Wynton Kelly"
          ],
          [
           "Yusef Lateef"
          ],
          [
           "Benny Golson"
          ],
          [
           "Hank Jones"
          ],
          [
           "Stanley Turrentine"
          ],
          [
           "Max Roach"
          ],
          [
           "Chick Corea"
          ],
          [
           "Brad Mehldau Trio"
          ],
          [
           "Herbie Hancock"
          ],
          [
           "Eric Dolphy"
          ],
          [
           "Elvin Jones"
          ],
          [
           "Duke Ellington"
          ],
          [
           "Kenny Barron"
          ],
          [
           "Gary Burton"
          ],
          [
           "Keith Jarrett Trio"
          ],
          [
           "Miles Davis Quartet"
          ],
          [
           "Miles Davis"
          ],
          [
           "Horace Silver Quintet"
          ],
          [
           "Chet Baker"
          ],
          [
           "Michael Brecker"
          ],
          [
           "Dave Brubeck"
          ],
          [
           "Benny Carter"
          ],
          [
           "Miles Davis Sextet"
          ],
          [
           "McCoy Tyner Trio"
          ],
          [
           "Donald Byrd"
          ],
          [
           "Lou Donaldson"
          ],
          [
           "Zoot Sims"
          ],
          [
           "Archie Shepp"
          ],
          [
           "J.J. Johnson"
          ]
         ],
         "hovertemplate": "<b>%{hovertext}</b><br><br>genre=jazz<br>tempo=%{x}<br>energy=%{y}<br>artist=%{customdata[0]}<extra></extra>",
         "hovertext": [
          "When Sunny Gets Blue",
          "Infant Eyes - Remastered1998/Rudy Van Gelder Edition",
          "Blue Bossa - Remastered",
          "Mirrors - Remastered 2004",
          "The Shadow of Your Smile",
          "St. Thomas",
          "My Foolish Heart",
          "Sandu",
          "Poinciana",
          "Polka Dots And Moonbeams - Remastered",
          "Right Back Round Again (feat. Brad Mehldau, Christian McBride & Brian Blade)",
          "Mercy, Mercy, Mercy",
          "Song For My Father",
          "Moanin' - Remastered",
          "Stolen Moments",
          "It Never Entered My Mind",
          "I Remember Clifford - Rudy Van Gelder Edition; 2007 Digital Remaster",
          "'Round Midnight",
          "On The Sunny Side Of The Street",
          "Remember - Remastered",
          "Summertime",
          "Softly As In A Morning Sunrise",
          "Blue Skies - 2000 Remastered Version",
          "Alone Together - Rudy Van Gelder Remaster",
          "I Remember You",
          "Bye Bye Blackbird",
          "Strasbourg / St. Denis",
          "There Will Never Be Another You",
          "I Got It Bad And That Ain't Good",
          "Dolphin Dance",
          "Goodbye Pork Pie Hat",
          "Say It (Over And Over Again)",
          "Almost Like Being In Love",
          "Where or When",
          "A Day In The Life",
          "Skating In Central Park",
          "When Your Lover Has Gone - Instrumental",
          "Au Privave",
          "No Problem - Pt. 1 / BOF \"Les liaisons dangereuses\"",
          "Misty - Remastered 2020",
          "Southbound",
          "Cocktails For Two",
          "Angel Eyes - Studio",
          "Cool Struttin'",
          "Sunday",
          "Stella By Starlight",
          "You Go to My Head - 2007 Remastered Version",
          "Take Five",
          "Maybe Tomorrow",
          "Chitlins Con Carne",
          "Stormy Weather",
          "Bags' Groove",
          "Blame It on My Youth",
          "Work Song - Remastered",
          "A Taste of Honey - Live",
          "My One And Only Love",
          "Stardust",
          "Before It's Time to Say Goodbye",
          "Monk's Mood - Live At Carnegie Hall, New York/1957",
          "Stardust",
          "My Romance - Rudy Van Gelder Remaster",
          "Lonely Woman",
          "Splanky",
          "Midnight Special - Rudy Van Gelder Digital Remaster/2007",
          "You've Changed",
          "Yams",
          "Sister Rosa",
          "Young One for Debra",
          "The People In Nassau",
          "Going Home",
          "How Can I Tell You - Live",
          "Someday My Prince Will Come",
          "Love Theme From Spartacus - Remastered",
          "From Dream to Dream",
          "Eleanor",
          "Journey Into The Melody",
          "Lonesome Lover",
          "Crystal Silence",
          "Seymour Reads the Constitution",
          "Cantaloupe Island - Remastered",
          "Hat And Beard",
          "Oriental Flower",
          "In A Sentimental Mood",
          "Passion Flower - Instrumental",
          "Senor Mouse",
          "You've Changed",
          "Blue Haze",
          "Blue in Green (feat. John Coltrane & Bill Evans)",
          "Senor Blues - Alternate 45 Take/Rudy Van Gelder Edition/2000 Digital Remaster/24-Bit Mastering",
          "I Fall In Love Too Easily - Vocal Version",
          "The Nearness Of You",
          "Besame Mucho",
          "Crazy Rhythm",
          "Donna",
          "Sunset",
          "Cristo Redentor - Remastered",
          "Over The Rainbow",
          "Evening In Paris",
          "Goin' home",
          "What Is This Thing Called Love"
         ],
         "legendgroup": "jazz",
         "marker": {
          "color": "#ab63fa",
          "symbol": "circle"
         },
         "mode": "markers",
         "name": "jazz",
         "orientation": "v",
         "showlegend": true,
         "type": "scatter",
         "x": [
          60,
          138,
          81,
          102,
          110,
          104,
          114,
          68,
          89,
          100,
          124,
          84,
          127,
          130,
          107,
          116,
          62,
          116,
          120,
          165,
          132,
          80,
          87,
          60,
          115,
          139,
          103,
          83,
          49,
          148,
          86,
          66,
          93,
          124,
          98,
          124,
          106,
          134,
          186,
          178,
          82,
          83,
          110,
          108,
          104,
          88,
          67,
          174,
          113,
          132,
          120,
          174,
          102,
          169,
          124,
          121,
          84,
          117,
          68,
          64,
          95,
          81,
          120,
          90,
          112,
          82,
          126,
          79,
          110,
          90,
          90,
          114,
          133,
          169,
          63,
          98,
          113,
          76,
          93,
          116,
          81,
          127,
          108,
          103,
          111,
          107,
          71,
          110,
          145,
          128,
          98,
          126,
          118,
          81,
          131,
          173,
          106,
          62,
          114,
          119
         ],
         "xaxis": "x",
         "y": [
          114,
          83,
          366,
          208,
          35,
          607,
          121,
          447,
          90,
          89,
          542,
          261,
          671,
          283,
          187,
          217,
          278,
          320,
          352,
          403,
          342,
          327,
          151,
          61,
          305,
          236,
          445,
          38,
          52,
          232,
          93,
          124,
          346,
          49,
          364,
          29,
          87,
          476,
          660,
          145,
          430,
          125,
          145,
          480,
          309,
          163,
          149,
          260,
          165,
          335,
          177,
          251,
          98,
          312,
          151,
          71,
          67,
          114,
          162,
          33,
          5,
          376,
          376,
          277,
          125,
          293,
          468,
          13,
          552,
          22,
          300,
          327,
          379,
          97,
          43,
          29,
          429,
          18,
          284,
          583,
          644,
          272,
          305,
          231,
          205,
          129,
          230,
          16,
          374,
          65,
          152,
          257,
          647,
          440,
          84,
          203,
          82,
          162,
          36,
          458
         ],
         "yaxis": "y"
        },
        {
         "customdata": [
          [
           "Axian"
          ],
          [
           "Arbour"
          ],
          [
           "Knowmadic"
          ],
          [
           "Harris Cole"
          ],
          [
           "leaf beach"
          ],
          [
           "Smoke Trees"
          ],
          [
           "Fujitsu"
          ],
          [
           "Plusma"
          ],
          [
           "Masked Man"
          ],
          [
           "aimless"
          ],
          [
           "mommy"
          ],
          [
           ".ihaveaface"
          ],
          [
           "Kendall Miles"
          ],
          [
           "Oatmello"
          ],
          [
           "fantompower"
          ],
          [
           "Dweeb"
          ],
          [
           ".Sinh"
          ],
          [
           "Flughand"
          ],
          [
           "invention_"
          ],
          [
           "Misc.Inc"
          ],
          [
           "Smuv"
          ],
          [
           "Toonorth"
          ],
          [
           "Smeyeul."
          ],
          [
           "Sleepdealer"
          ],
          [
           "SPEECHLESS"
          ],
          [
           "H E R B"
          ],
          [
           "Delayde"
          ],
          [
           "Kuranes"
          ],
          [
           "jrd."
          ],
          [
           "Barnes Blvd."
          ],
          [
           "Sebastian Kamae"
          ],
          [
           "SwuM"
          ],
          [
           "ØDYSSEE"
          ],
          [
           "Blvk"
          ],
          [
           "A L E X"
          ],
          [
           "Lost Son"
          ],
          [
           "santpoort"
          ],
          [
           "jhfly"
          ],
          [
           "Hazy Year"
          ],
          [
           "steezy prime"
          ],
          [
           "Sugi.wa"
          ],
          [
           "halberd"
          ],
          [
           "Bertholet"
          ],
          [
           "Kavv"
          ],
          [
           "ocha"
          ],
          [
           "Nohidea"
          ],
          [
           "Ameba"
          ],
          [
           "mt. fujitive"
          ],
          [
           "Nokiaa"
          ],
          [
           "Made in M"
          ],
          [
           "Juan Rios"
          ],
          [
           "Flavors"
          ],
          [
           "eevee"
          ],
          [
           "Chill Children"
          ],
          [
           "Joe Nora"
          ],
          [
           "emune"
          ],
          [
           "Caleb Belkin"
          ],
          [
           "[ocean jams]"
          ],
          [
           "j'san"
          ],
          [
           "DRWN."
          ],
          [
           "Ajmw"
          ],
          [
           "Idealism"
          ],
          [
           "charlie toØ human"
          ],
          [
           "Rook1e"
          ],
          [
           "Psalm Trees"
          ],
          [
           "twuan"
          ],
          [
           "Elijah Who"
          ],
          [
           "H.1"
          ],
          [
           "The Deli"
          ],
          [
           "Keem the Cipher"
          ],
          [
           "Leavv"
          ],
          [
           "B-Side"
          ],
          [
           "BROCKBEATS"
          ],
          [
           "Aso"
          ],
          [
           "Ibrahim"
          ],
          [
           "Tesk"
          ],
          [
           "quickly, quickly"
          ],
          [
           "Kudasaibeats"
          ],
          [
           "Brenky"
          ],
          [
           "Philanthrope"
          ],
          [
           "Limes"
          ],
          [
           "oofoe"
          ],
          [
           "Joe Corfield"
          ],
          [
           "[bsd.u]"
          ],
          [
           "Stan Forebee"
          ],
          [
           "Jinsang"
          ],
          [
           "Kazam"
          ],
          [
           "furino"
          ],
          [
           "Omaure"
          ],
          [
           "soho"
          ],
          [
           "stream_error"
          ],
          [
           "Bassti"
          ],
          [
           "Konteks"
          ],
          [
           "eery"
          ],
          [
           "Flitz&Suppe"
          ],
          [
           "weird inside"
          ],
          [
           "Sarcastic Sounds"
          ],
          [
           "potsu"
          ],
          [
           "chief."
          ],
          [
           "Tomppabeats"
          ]
         ],
         "hovertemplate": "<b>%{hovertext}</b><br><br>genre=lo-fi<br>tempo=%{x}<br>energy=%{y}<br>artist=%{customdata[0]}<extra></extra>",
         "hovertext": [
          "Flight",
          "Sundown",
          "Cascade",
          "Blue and Green",
          "Mirage",
          "Redux",
          "sand castles",
          "Troubadix",
          "It's Raining",
          "Every Second",
          "thinking of you",
          "Sweet Moments",
          "Dream Sequence",
          "Good Night",
          "Endless Ether",
          "Got Ur Money",
          "Jakarta",
          "fyrsta",
          "Levitating",
          "All I Ever Wanted",
          "Floating",
          "Effervescent",
          "send me a song",
          "Law",
          "Shangri-La",
          "Purpose",
          "sekao",
          "Hands Free",
          "Stay With Me",
          "Joan of Arc.",
          "Up",
          "With U",
          "Blue Lounge",
          "Divine",
          "Proud of You",
          "Homecoming",
          "feather light melodies",
          "sheets",
          "Magnolia",
          "Compassion",
          "Almost Home",
          "coffee on the beach.",
          "Calcium",
          "Violet",
          "quilted hills",
          "sincerely, yours",
          "just you",
          "please do",
          "More Life",
          "Flightmode On",
          "Cascada",
          "by my side",
          "Serenity",
          "Squid x jhfly",
          "felt",
          "Hittin' Switches - Instrumental",
          "Lost Samurai",
          "NoMo",
          "Ghost in My Mind",
          "Go!",
          "Clouds",
          "ikigai",
          "Monday Morning 5/1/2017",
          "we'll stay inside when it rains",
          "You Don't Know",
          "Poems",
          "this girl",
          "Timeless",
          "5:32pm",
          "Escapism.",
          "Driftwood",
          "Pen Anubis",
          "in my love",
          "Sunsets",
          "A World at Peace",
          "Green Stamps",
          "Lie",
          "The Girl I Haven't Met",
          "Sweev",
          "Maple Leaf",
          "Jovial",
          "yellowish",
          "Wildflower",
          "hoodie weather",
          "Along the Yarra",
          "Egyptian Pools",
          "Chromatic",
          "i promise that i care much more than i show",
          "Midnight Snacks",
          "At Peace",
          "In Passing",
          "nothing but love",
          "Withy Nights",
          "woodwork",
          "Well Known Place",
          "doing laundry",
          "Wish You Were Mine",
          "lovesick",
          "neff",
          "Dreammybeat"
         ],
         "legendgroup": "lo-fi",
         "marker": {
          "color": "#FFA15A",
          "symbol": "circle"
         },
         "mode": "markers",
         "name": "lo-fi",
         "orientation": "v",
         "showlegend": true,
         "type": "scatter",
         "x": [
          84,
          156,
          50,
          79,
          172,
          78,
          129,
          77,
          81,
          74,
          160,
          156,
          121,
          122,
          126,
          118,
          76,
          83,
          65,
          158,
          85,
          167,
          139,
          79,
          160,
          75,
          159,
          148,
          70,
          90,
          79,
          90,
          80,
          91,
          104,
          77,
          147,
          77,
          79,
          144,
          85,
          137,
          80,
          71,
          148,
          80,
          172,
          80,
          90,
          115,
          140,
          81,
          77,
          80,
          85,
          143,
          89,
          170,
          134,
          82,
          62,
          67,
          89,
          160,
          88,
          159,
          69,
          85,
          86,
          80,
          88,
          77,
          172,
          82,
          80,
          86,
          129,
          139,
          107,
          170,
          69,
          164,
          91,
          166,
          87,
          78,
          79,
          164,
          83,
          79,
          151,
          163,
          75,
          89,
          82,
          85,
          158,
          79,
          157,
          75
         ],
         "xaxis": "x",
         "y": [
          411,
          534,
          444,
          38,
          329,
          190,
          312,
          342,
          371,
          164,
          84,
          277,
          439,
          165,
          377,
          270,
          176,
          281,
          294,
          342,
          266,
          143,
          161,
          554,
          650,
          264,
          375,
          75,
          86,
          272,
          288,
          309,
          307,
          555,
          281,
          369,
          456,
          540,
          350,
          190,
          68,
          403,
          236,
          265,
          241,
          396,
          185,
          185,
          258,
          405,
          391,
          48,
          363,
          59,
          354,
          345,
          430,
          631,
          357,
          115,
          169,
          392,
          347,
          134,
          289,
          332,
          133,
          214,
          186,
          621,
          130,
          355,
          545,
          265,
          131,
          230,
          375,
          222,
          238,
          83,
          185,
          483,
          132,
          313,
          339,
          597,
          331,
          451,
          477,
          304,
          257,
          341,
          181,
          549,
          173,
          375,
          468,
          577,
          61,
          194
         ],
         "yaxis": "y"
        },
        {
         "customdata": [
          [
           "King Diamond"
          ],
          [
           "Overkill"
          ],
          [
           "Mercyful Fate"
          ],
          [
           "Iced Earth"
          ],
          [
           "Annihilator"
          ],
          [
           "Venom"
          ],
          [
           "Kreator"
          ],
          [
           "Judas Priest"
          ],
          [
           "Testament"
          ],
          [
           "Exodus"
          ],
          [
           "Metal Church"
          ],
          [
           "Accept"
          ],
          [
           "Dio"
          ],
          [
           "Candlemass"
          ],
          [
           "Saxon"
          ],
          [
           "Sodom"
          ],
          [
           "Running Wild"
          ],
          [
           "Savatage"
          ],
          [
           "Helloween"
          ],
          [
           "Anthrax"
          ],
          [
           "Halford"
          ],
          [
           "Diamond Head"
          ],
          [
           "Bruce Dickinson"
          ],
          [
           "Death Angel"
          ],
          [
           "Nevermore"
          ],
          [
           "Megadeth"
          ],
          [
           "Heaven & Hell"
          ],
          [
           "Manowar"
          ],
          [
           "Destruction"
          ],
          [
           "Motörhead"
          ],
          [
           "Celtic Frost"
          ],
          [
           "Entombed"
          ],
          [
           "W.A.S.P."
          ],
          [
           "Armored Saint"
          ],
          [
           "Carcass"
          ],
          [
           "Obituary"
          ],
          [
           "Death"
          ],
          [
           "Queensrÿche"
          ],
          [
           "Iron Maiden"
          ],
          [
           "Morbid Angel"
          ],
          [
           "Voivod"
          ],
          [
           "Anvil"
          ],
          [
           "Grave Digger"
          ],
          [
           "Slayer"
          ],
          [
           "Bathory"
          ],
          [
           "Black Sabbath"
          ],
          [
           "Danzig"
          ],
          [
           "Rainbow"
          ],
          [
           "Flotsam & Jetsam"
          ],
          [
           "Blind Guardian"
          ],
          [
           "Sanctuary"
          ],
          [
           "U.D.O."
          ],
          [
           "Yngwie Malmsteen"
          ],
          [
           "Gamma Ray"
          ],
          [
           "Deicide"
          ],
          [
           "Dark Angel"
          ],
          [
           "Children Of Bodom"
          ],
          [
           "Sacred Reich"
          ],
          [
           "Primal Fear"
          ],
          [
           "Nuclear Assault"
          ],
          [
           "Coroner"
          ],
          [
           "Black Label Society"
          ],
          [
           "Onslaught"
          ],
          [
           "Angel Witch"
          ],
          [
           "Dimmu Borgir"
          ],
          [
           "Crimson Glory"
          ],
          [
           "Possessed"
          ],
          [
           "Vader"
          ],
          [
           "HammerFall"
          ],
          [
           "Enslaved"
          ],
          [
           "Warlock"
          ],
          [
           "Raven"
          ],
          [
           "Cannibal Corpse"
          ],
          [
           "Tankard"
          ],
          [
           "Twisted Sister"
          ],
          [
           "Demons & Wizards"
          ],
          [
           "At The Gates"
          ],
          [
           "Amon Amarth"
          ],
          [
           "Dissection"
          ],
          [
           "Bolt Thrower"
          ],
          [
           "Immortal"
          ],
          [
           "Sepultura"
          ],
          [
           "Paradise Lost"
          ],
          [
           "Grim Reaper"
          ],
          [
           "Rob Halford"
          ],
          [
           "Hypocrisy"
          ],
          [
           "Exciter"
          ],
          [
           "Fates Warning"
          ],
          [
           "Emperor"
          ],
          [
           "Razor"
          ],
          [
           "Rage"
          ],
          [
           "Alice Cooper"
          ],
          [
           "Agent Steel"
          ],
          [
           "Darkthrone"
          ],
          [
           "Arch Enemy"
          ],
          [
           "Satyricon"
          ],
          [
           "Krokus"
          ],
          [
           "Pantera"
          ],
          [
           "Heathen"
          ],
          [
           "Blaze Bayley"
          ]
         ],
         "hovertemplate": "<b>%{hovertext}</b><br><br>genre=metal<br>tempo=%{x}<br>energy=%{y}<br>artist=%{customdata[0]}<extra></extra>",
         "hovertext": [
          "Abigail - Reissue",
          "Elimination",
          "Evil",
          "Watching over Me - Remixed & Remastered",
          "Alison Hell",
          "Black Metal",
          "666 - World Divided",
          "Breaking the Law",
          "Return to Serenity",
          "Blacklist",
          "Metal Church",
          "Balls to the Wall",
          "Holy Diver",
          "Solitude",
          "Princess of the Night - 2009 Remastered Version",
          "Agent Orange",
          "Under Jolly Roger",
          "Hall of the Mountain King",
          "I Want Out",
          "Madhouse",
          "Till the Day I Die",
          "Am I Evil?",
          "Tears of the Dragon - 2001 Remastered Version",
          "The Moth",
          "Believe in Nothing",
          "Symphony Of Destruction",
          "Bible Black",
          "Kings of Metal",
          "Thrash Till Death",
          "Ace of Spades",
          "Mexican Radio",
          "Left Hand Path",
          "I Wanna Be Somebody",
          "End of the Attention Span",
          "Heartwork",
          "Redneck Stomp",
          "Voice of the Soul",
          "Silent Lucidity - Remastered 2003",
          "The Trooper - 2015 Remaster",
          "Immortal Rites",
          "Astronomy Domine",
          "Metal On Metal",
          "Rebellion (The Clans Are Marching) - Remastered Version",
          "Raining Blood",
          "A Fine Day to Die",
          "Paranoid",
          "Mother",
          "The Temple Of The King",
          "Hammerhead",
          "Mirror Mirror - Remastered 2007",
          "Future Tense",
          "Man and Machine",
          "Rising Force",
          "Master Of Confusion",
          "In the Minds of Evil",
          "Darkness Descends",
          "Are You Dead Yet",
          "The American Way",
          "I Will Be Gone",
          "Critical Mass",
          "Semtex Revolution",
          "Stillborn",
          "A Perfect Day to Die",
          "Angel Witch",
          "Interdimensional Summit",
          "Queen of the Masquerade",
          "The Exorcist",
          "Triumph of Death",
          "Hearts on Fire",
          "What Else Is There - Bonus Version",
          "All We Are",
          "Mind Over Metal",
          "Inhumane Harvest",
          "(Empty) Tankard",
          "We're Not Gonna Take It",
          "Fiddler on the Green - Remaster 2019",
          "Slaughter Of The Soul",
          "Twilight Of The Thunder God",
          "Maha-Kali",
          "The Killchain",
          "Withstand The Fall Of Time",
          "Roots Bloody Roots",
          "Small Town Boy",
          "See You In Hell",
          "Man On The Silver Mountain - feat. Doug Aldrich, Vinny Appice, Jeff Pilson, Scott Warren",
          "Eraser",
          "Heavy Metal Maniac",
          "One",
          "I Am The Black Wizards",
          "Hypertension",
          "Straight To Hell",
          "Poison",
          "Agents of Steel",
          "Transilvanian Hunger - Studio",
          "War Eternal",
          "K.I.N.G.",
          "Screaming in the Night",
          "Walk",
          "Empire of the Blind",
          "War Within Me"
         ],
         "legendgroup": "metal",
         "marker": {
          "color": "#19d3f3",
          "symbol": "circle"
         },
         "mode": "markers",
         "name": "metal",
         "orientation": "v",
         "showlegend": true,
         "type": "scatter",
         "x": [
          146,
          112,
          133,
          129,
          101,
          80,
          97,
          164,
          112,
          75,
          102,
          118,
          91,
          74,
          107,
          113,
          161,
          126,
          91,
          163,
          90,
          148,
          140,
          192,
          133,
          139,
          81,
          132,
          187,
          140,
          178,
          131,
          164,
          191,
          91,
          91,
          79,
          140,
          159,
          98,
          126,
          119,
          131,
          88,
          122,
          162,
          148,
          81,
          155,
          177,
          105,
          88,
          117,
          98,
          97,
          122,
          96,
          148,
          134,
          100,
          111,
          107,
          146,
          193,
          140,
          174,
          96,
          102,
          90,
          114,
          131,
          94,
          60,
          120,
          149,
          180,
          79,
          191,
          109,
          108,
          133,
          119,
          126,
          185,
          110,
          100,
          119,
          90,
          104,
          113,
          104,
          118,
          191,
          138,
          155,
          129,
          96,
          118,
          105,
          99
         ],
         "xaxis": "x",
         "y": [
          937,
          805,
          905,
          852,
          978,
          758,
          959,
          961,
          613,
          969,
          947,
          739,
          783,
          704,
          797,
          988,
          958,
          922,
          859,
          885,
          724,
          973,
          620,
          969,
          891,
          891,
          783,
          881,
          988,
          974,
          933,
          927,
          825,
          990,
          995,
          861,
          572,
          628,
          908,
          934,
          888,
          923,
          893,
          995,
          931,
          631,
          763,
          487,
          950,
          964,
          728,
          905,
          958,
          989,
          889,
          997,
          961,
          978,
          411,
          996,
          790,
          881,
          971,
          759,
          969,
          943,
          982,
          959,
          901,
          889,
          835,
          965,
          947,
          996,
          924,
          556,
          975,
          920,
          844,
          860,
          964,
          874,
          905,
          947,
          915,
          951,
          919,
          879,
          947,
          996,
          858,
          908,
          991,
          1000,
          980,
          957,
          576,
          704,
          974,
          957
         ],
         "yaxis": "y"
        },
        {
         "customdata": [
          [
           "Selena Gomez"
          ],
          [
           "Demi Lovato"
          ],
          [
           "Alessia Cara"
          ],
          [
           "ZAYN"
          ],
          [
           "Camila Cabello"
          ],
          [
           "Hailee Steinfeld"
          ],
          [
           "Fifth Harmony"
          ],
          [
           "Julia Michaels"
          ],
          [
           "Ellie Goulding"
          ],
          [
           "Halsey"
          ],
          [
           "Zara Larsson"
          ],
          [
           "Rita Ora"
          ],
          [
           "Jonas Brothers"
          ],
          [
           "Bebe Rexha"
          ],
          [
           "Troye Sivan"
          ],
          [
           "Nick Jonas"
          ],
          [
           "Madison Beer"
          ],
          [
           "Olivia O'Brien"
          ],
          [
           "Bea Miller"
          ],
          [
           "Jessie J"
          ],
          [
           "The Vamps"
          ],
          [
           "DNCE"
          ],
          [
           "Tove Lo"
          ],
          [
           "Anne-Marie"
          ],
          [
           "Little Mix"
          ],
          [
           "5 Seconds of Summer"
          ],
          [
           "Niall Horan"
          ],
          [
           "Zedd"
          ],
          [
           "Selena Gomez & The Scene"
          ],
          [
           "Noah Cyrus"
          ],
          [
           "Meghan Trainor"
          ],
          [
           "Bazzi"
          ],
          [
           "Kesha"
          ],
          [
           "Miley Cyrus"
          ],
          [
           "Sabrina Carpenter"
          ],
          [
           "Lauv"
          ],
          [
           "Liam Payne"
          ],
          [
           "Tate McRae"
          ],
          [
           "Clean Bandit"
          ],
          [
           "Shawn Mendes"
          ],
          [
           "FLETCHER"
          ],
          [
           "Charlie Puth"
          ],
          [
           "Astrid S"
          ],
          [
           "Ruel"
          ],
          [
           "Why Don't We"
          ],
          [
           "Sasha Sloan"
          ],
          [
           "Mabel"
          ],
          [
           "Kelly Clarkson"
          ],
          [
           "Lennon Stella"
          ],
          [
           "Katy Perry"
          ],
          [
           "JP Saxe"
          ],
          [
           "Carly Rae Jepsen"
          ],
          [
           "Iggy Azalea"
          ],
          [
           "PRETTYMUCH"
          ],
          [
           "Cheat Codes"
          ],
          [
           "Lorde"
          ],
          [
           "Charlotte Lawrence"
          ],
          [
           "Daya"
          ],
          [
           "Fergie"
          ],
          [
           "AJ Mitchell"
          ],
          [
           "Sam Smith"
          ],
          [
           "MAX"
          ],
          [
           "Christina Perri"
          ],
          [
           "James Arthur"
          ],
          [
           "Jonas Blue"
          ],
          [
           "MKTO"
          ],
          [
           "Jess Glynne"
          ],
          [
           "Dua Lipa"
          ],
          [
           "NOTD"
          ],
          [
           "OneRepublic"
          ],
          [
           "Dean Lewis"
          ],
          [
           "Jeremy Zucker"
          ],
          [
           "Alexander 23"
          ],
          [
           "Ruth B."
          ],
          [
           "Charli XCX"
          ],
          [
           "Years & Years"
          ],
          [
           "Pia Mia"
          ],
          [
           "Hannah Montana"
          ],
          [
           "Bridgit Mendler"
          ],
          [
           "Tinashe"
          ],
          [
           "Harry Styles"
          ],
          [
           "Olly Murs"
          ],
          [
           "Tori Kelly"
          ],
          [
           "One Direction"
          ],
          [
           "The Chainsmokers"
          ],
          [
           "Olivia Rodrigo"
          ],
          [
           "Nicki Minaj"
          ],
          [
           "Kehlani"
          ],
          [
           "James TW"
          ],
          [
           "The Pussycat Dolls"
          ],
          [
           "MARINA"
          ],
          [
           "benny blanco"
          ],
          [
           "JoJo"
          ],
          [
           "FINNEAS"
          ],
          [
           "James Bay"
          ],
          [
           "Jason Derulo"
          ],
          [
           "Jordin Sparks"
          ],
          [
           "Christina Aguilera"
          ],
          [
           "Rihanna"
          ],
          [
           "Chelsea Cutler"
          ]
         ],
         "hovertemplate": "<b>%{hovertext}</b><br><br>genre=pop<br>tempo=%{x}<br>energy=%{y}<br>artist=%{customdata[0]}<extra></extra>",
         "hovertext": [
          "Baila Conmigo (with Rauw Alejandro)",
          "Met Him Last Night (feat. Ariana Grande)",
          "Scars To Your Beautiful",
          "Dusk Till Dawn (feat. Sia) - Radio Edit",
          "Havana (feat. Young Thug)",
          "Let Me Go (with Alesso, Florida Georgia Line & watt)",
          "Work from Home (feat. Ty Dolla $ign)",
          "Issues",
          "Love Me Like You Do - From \"Fifty Shades Of Grey\"",
          "Without Me",
          "Lush Life",
          "Big (feat. Gunna)",
          "Sucker",
          "Meant to Be (feat. Florida Georgia Line)",
          "Strawberries & Cigarettes",
          "Spaceman",
          "Selfish",
          "hate u love u",
          "feel something",
          "Bang Bang",
          "Somebody To You",
          "Cake By The Ocean",
          "Habits (Stay High)",
          "2002",
          "Sweet Melody",
          "Teeth",
          "Black And White",
          "The Middle",
          "Love You Like A Love Song",
          "July",
          "Like I'm Gonna Lose You (feat. John Legend)",
          "I.F.L.Y.",
          "TiK ToK",
          "Prisoner (feat. Dua Lipa)",
          "Skin",
          "I Like Me Better",
          "Strip That Down (feat. Quavo)",
          "you broke me first",
          "Tick Tock (feat. 24kGoldn)",
          "Señorita",
          "Bitter",
          "We Don't Talk Anymore (feat. Selena Gomez)",
          "Hurts So Good",
          "Painkiller",
          "Fallin’ (Adrenaline)",
          "Dancing With Your Ghost",
          "Don't Call Me Up",
          "Because of You",
          "Summer Feelings (feat. Charlie Puth) - From 'SCOOB!' The Album",
          "Last Friday Night (T.G.I.F.)",
          "If the World Was Ending - feat. Julia Michaels",
          "Call Me Maybe",
          "Fancy",
          "Phases",
          "No Promises (feat. Demi Lovato)",
          "Royals",
          "Joke's On You",
          "Sit Still, Look Pretty",
          "Big Girls Don't Cry (Personal)",
          "Slow Dance",
          "Diamonds",
          "Blueberry Eyes (feat. SUGA of BTS)",
          "A Thousand Years",
          "Say You Won't Let Go",
          "Perfect Strangers",
          "Classic",
          "I'll Be There",
          "Levitating (feat. DaBaby)",
          "I Don't Know Why",
          "Counting Stars",
          "Be Alright",
          "you were good to me",
          "IDK You Yet",
          "Dandelions",
          "Unlock it (feat. Kim Petras and Jay Park)",
          "King",
          "Do It Again",
          "I'll Always Remember You",
          "Ready or Not",
          "2 On (feat. ScHoolboy Q)",
          "Watermelon Sugar",
          "Troublemaker (feat. Flo Rida)",
          "I Was Made For Loving You",
          "What Makes You Beautiful",
          "Closer",
          "drivers license",
          "Starships",
          "Nights Like This (feat. Ty Dolla $ign)",
          "When You Love Someone",
          "Don't Cha",
          "Bubblegum Bitch",
          "Eastside (with Halsey & Khalid)",
          "Too Little Too Late - 2018",
          "Let's Fall in Love for the Night",
          "Let It Go",
          "Take You Dancing",
          "No Air (feat. Chris Brown)",
          "Lady Marmalade - From \"Moulin Rouge\" Soundtrack",
          "Umbrella",
          "Your Shirt"
         ],
         "legendgroup": "pop",
         "marker": {
          "color": "#FF6692",
          "symbol": "circle"
         },
         "mode": "markers",
         "name": "pop",
         "orientation": "v",
         "showlegend": true,
         "type": "scatter",
         "x": [
          149,
          144,
          97,
          180,
          104,
          103,
          105,
          114,
          189,
          136,
          98,
          111,
          137,
          153,
          83,
          155,
          75,
          176,
          136,
          150,
          171,
          119,
          110,
          96,
          119,
          139,
          147,
          107,
          117,
          72,
          108,
          104,
          120,
          127,
          105,
          91,
          106,
          124,
          101,
          116,
          136,
          100,
          120,
          128,
          133,
          74,
          98,
          139,
          115,
          126,
          75,
          120,
          94,
          105,
          112,
          84,
          190,
          181,
          113,
          127,
          104,
          149,
          139,
          85,
          117,
          102,
          100,
          102,
          120,
          122,
          126,
          102,
          76,
          116,
          134,
          119,
          95,
          144,
          93,
          101,
          95,
          106,
          106,
          124,
          95,
          143,
          125,
          146,
          125,
          119,
          158,
          89,
          82,
          127,
          147,
          112,
          160,
          109,
          174,
          179
         ],
         "xaxis": "x",
         "y": [
          544,
          512,
          739,
          437,
          523,
          708,
          585,
          415,
          606,
          488,
          712,
          843,
          734,
          772,
          537,
          601,
          461,
          416,
          415,
          783,
          818,
          753,
          650,
          683,
          824,
          461,
          582,
          657,
          678,
          186,
          530,
          519,
          837,
          670,
          457,
          505,
          495,
          373,
          705,
          548,
          594,
          563,
          625,
          420,
          900,
          327,
          881,
          583,
          686,
          812,
          473,
          580,
          716,
          636,
          667,
          428,
          652,
          787,
          641,
          443,
          666,
          611,
          407,
          557,
          861,
          791,
          858,
          825,
          898,
          705,
          537,
          84,
          308,
          692,
          711,
          857,
          564,
          721,
          872,
          595,
          816,
          863,
          344,
          787,
          524,
          436,
          716,
          725,
          453,
          637,
          856,
          686,
          821,
          408,
          311,
          711,
          759,
          809,
          829,
          476
         ],
         "yaxis": "y"
        },
        {
         "customdata": [
          [
           "Keyshia Cole"
          ],
          [
           "Fantasia"
          ],
          [
           "Monica"
          ],
          [
           "Brandy"
          ],
          [
           "Tamia"
          ],
          [
           "SWV"
          ],
          [
           "Donell Jones"
          ],
          [
           "Jazmine Sullivan"
          ],
          [
           "Faith Evans"
          ],
          [
           "Ginuwine"
          ],
          [
           "Jon B."
          ],
          [
           "Tyrese"
          ],
          [
           "Mýa"
          ],
          [
           "Dru Hill"
          ],
          [
           "Xscape"
          ],
          [
           "Case"
          ],
          [
           "Tamar Braxton"
          ],
          [
           "Jagged Edge"
          ],
          [
           "Amerie"
          ],
          [
           "Jaheim"
          ],
          [
           "Kelly Price"
          ],
          [
           "Jodeci"
          ],
          [
           "Avant"
          ],
          [
           "Sevyn Streeter"
          ],
          [
           "702"
          ],
          [
           "Maxwell"
          ],
          [
           "Raheem DeVaughn"
          ],
          [
           "K. Michelle"
          ],
          [
           "Lyfe Jennings"
          ],
          [
           "Toni Braxton"
          ],
          [
           "Aaliyah"
          ],
          [
           "Carl Thomas"
          ],
          [
           "Marsha Ambrosius"
          ],
          [
           "Joe"
          ],
          [
           "Silk"
          ],
          [
           "Tony! Toni! Toné!"
          ],
          [
           "Chrisette Michele"
          ],
          [
           "Anthony Hamilton"
          ],
          [
           "Tweet"
          ],
          [
           "Kelly Rowland"
          ],
          [
           "Musiq Soulchild"
          ],
          [
           "Robin Thicke"
          ],
          [
           "Mint Condition"
          ],
          [
           "Total"
          ],
          [
           "Teyana Taylor"
          ],
          [
           "Mary J. Blige"
          ],
          [
           "KeKe Wyatt"
          ],
          [
           "H-Town"
          ],
          [
           "Vivian Green"
          ],
          [
           "Floetry"
          ],
          [
           "Changing Faces"
          ],
          [
           "Next"
          ],
          [
           "Sammie"
          ],
          [
           "Charlie Wilson"
          ],
          [
           "Adina Howard"
          ],
          [
           "J. Holiday"
          ],
          [
           "Lloyd"
          ],
          [
           "Nivea"
          ],
          [
           "Melanie Fiona"
          ],
          [
           "Mario"
          ],
          [
           "Blackstreet"
          ],
          [
           "Tevin Campbell"
          ],
          [
           "Keri Hilson"
          ],
          [
           "112"
          ],
          [
           "Keith Sweat"
          ],
          [
           "Eric Benét"
          ],
          [
           "Chanté Moore"
          ],
          [
           "Ledisi"
          ],
          [
           "Bobby V."
          ],
          [
           "DAY26"
          ],
          [
           "K-Ci & JoJo"
          ],
          [
           "Montell Jordan"
          ],
          [
           "Dave Hollister"
          ],
          [
           "Deborah Cox"
          ],
          [
           "Jill Scott"
          ],
          [
           "Marques Houston"
          ],
          [
           "Kem"
          ],
          [
           "Ashanti"
          ],
          [
           "Pretty Ricky"
          ],
          [
           "Johnny Gill"
          ],
          [
           "Jamie Foxx"
          ],
          [
           "Babyface"
          ],
          [
           "Trina"
          ],
          [
           "Kenny Lattimore"
          ],
          [
           "Zhané"
          ],
          [
           "Teedra Moses"
          ],
          [
           "Shai"
          ],
          [
           "Pleasure P"
          ],
          [
           "New Edition"
          ],
          [
           "Soul For Real"
          ],
          [
           "Brian McKnight"
          ],
          [
           "Sisqo"
          ],
          [
           "Boyz II Men"
          ],
          [
           "Hi-Five"
          ],
          [
           "Omarion"
          ],
          [
           "After 7"
          ],
          [
           "Trey Songz"
          ],
          [
           "Guy"
          ],
          [
           "Syleena Johnson"
          ],
          [
           "Kiana Ledé"
          ]
         ],
         "hovertemplate": "<b>%{hovertext}</b><br><br>genre=r&b<br>tempo=%{x}<br>energy=%{y}<br>artist=%{customdata[0]}<extra></extra>",
         "hovertext": [
          "Love",
          "When I See U",
          "So Gone",
          "The Boy Is Mine",
          "Officially Missing You",
          "Weak",
          "U Know What's Up (feat. Lisa \"Left Eye\" Lopes)",
          "Pick Up Your Feelings",
          "Love Like This",
          "Pony",
          "They Don't Know",
          "How You Gonna Act Like That",
          "Case Of The Ex (Whatcha Gonna Do)",
          "In My Bed - So So Def Mix",
          "Just Kickin' It",
          "Faded Pictures",
          "Love and War",
          "Where the Party At (feat. Nelly)",
          "1 Thing",
          "Put That Woman First",
          "Tired",
          "Come and Talk to Me - Remix",
          "Read Your Mind",
          "It Won't Stop (feat. Chris Brown) - EP Version",
          "Where My Girls At",
          "Ascension (Don't Ever Wonder) - Remastered 2021",
          "Don't Come Easy",
          "Can't Raise a Man",
          "Must Be Nice",
          "Un-Break My Heart - Classic Radio Mix",
          "Are You That Somebody?",
          "I Wish",
          "Far Away",
          "I Wanna Know",
          "Freak Me",
          "Let's Get Down",
          "A Couple Of Forevers",
          "Best of Me",
          "Oops (Oh My) [feat. Missy Elliott]",
          "Motivation",
          "Just Friends (Sunny)",
          "Blurred Lines",
          "Breakin' My Heart (Pretty Brown Eyes)",
          "Can't You See (feat. The Notorious B.I.G.)",
          "Gonna Love Me",
          "Family Affair",
          "Nothing In This World",
          "Knockin' da Boots",
          "Get Right Back To My Baby",
          "Say Yes",
          "Come Over",
          "Too Close",
          "I Like It",
          "There Goes My Baby",
          "Freak Like Me",
          "Bed",
          "Lay It Down",
          "Don't Mess With My Man (feat. Brian Casey & Brandon Casey)",
          "Monday Morning",
          "Let Me Love You",
          "No Diggity",
          "Can We Talk",
          "Knock You Down",
          "Peaches & Cream",
          "Twisted",
          "Georgy Porgy (feat. Faith Evans)",
          "Straight Up",
          "Anything For You",
          "Slow Down - 12\" Version",
          "Since You've Been Gone",
          "All My Life",
          "This Is How We Do It",
          "One Woman Man",
          "Nobody's Supposed to Be Here",
          "Golden",
          "Naked",
          "Love Calls",
          "Foolish",
          "Grind With Me",
          "My, My, My",
          "Blame It",
          "Every Time I Close My Eyes (with Kenny G)",
          "Here We Go (feat. Kelly Rowland)",
          "Never Too Busy",
          "Hey Mr. D.J.",
          "Be Your Girl (Kaytranada Edition)",
          "If I Ever Fall In Love",
          "Boyfriend #2",
          "Can You Stand The Rain",
          "Candy Rain",
          "Back At One",
          "Thong Song",
          "End Of The Road",
          "She's Playing Hard To Get",
          "Post to Be (feat. Chris Brown & Jhene Aiko)",
          "Ready Or Not",
          "Bottoms Up (feat. Nicki Minaj)",
          "Let's Chill",
          "Tonight I'm Gonna Let Go",
          "EX"
         ],
         "legendgroup": "r&b",
         "marker": {
          "color": "#B6E880",
          "symbol": "circle"
         },
         "mode": "markers",
         "name": "r&b",
         "orientation": "v",
         "showlegend": true,
         "type": "scatter",
         "x": [
          116,
          93,
          81,
          93,
          178,
          127,
          103,
          85,
          100,
          142,
          125,
          112,
          98,
          95,
          80,
          82,
          179,
          129,
          129,
          78,
          121,
          172,
          73,
          119,
          92,
          96,
          71,
          151,
          82,
          122,
          137,
          89,
          70,
          136,
          133,
          103,
          116,
          96,
          159,
          140,
          95,
          119,
          137,
          86,
          88,
          92,
          131,
          128,
          103,
          117,
          109,
          99,
          129,
          81,
          91,
          127,
          155,
          99,
          90,
          94,
          88,
          172,
          155,
          203,
          175,
          96,
          100,
          133,
          186,
          129,
          128,
          103,
          91,
          119,
          100,
          60,
          143,
          90,
          136,
          74,
          176,
          143,
          128,
          167,
          101,
          115,
          143,
          141,
          143,
          188,
          129,
          121,
          149,
          199,
          97,
          141,
          73,
          74,
          99,
          73
         ],
         "xaxis": "x",
         "y": [
          519,
          596,
          552,
          707,
          407,
          533,
          543,
          413,
          551,
          537,
          388,
          521,
          688,
          590,
          353,
          511,
          580,
          661,
          961,
          536,
          600,
          657,
          381,
          574,
          725,
          459,
          381,
          677,
          401,
          966,
          658,
          666,
          668,
          487,
          608,
          645,
          452,
          728,
          536,
          672,
          376,
          599,
          520,
          574,
          506,
          551,
          630,
          501,
          742,
          398,
          473,
          402,
          656,
          827,
          837,
          606,
          796,
          730,
          680,
          588,
          646,
          646,
          877,
          520,
          514,
          636,
          869,
          407,
          732,
          690,
          511,
          623,
          647,
          531,
          558,
          511,
          526,
          695,
          538,
          596,
          614,
          417,
          494,
          413,
          560,
          682,
          205,
          767,
          369,
          699,
          346,
          888,
          427,
          807,
          676,
          566,
          601,
          417,
          520,
          537
         ],
         "yaxis": "y"
        },
        {
         "customdata": [
          [
           "French Montana"
          ],
          [
           "Meek Mill"
          ],
          [
           "Gucci Mane"
          ],
          [
           "2 Chainz"
          ],
          [
           "DJ Khaled"
          ],
          [
           "Big Sean"
          ],
          [
           "A$AP Ferg"
          ],
          [
           "Wiz Khalifa"
          ],
          [
           "YG"
          ],
          [
           "Rick Ross"
          ],
          [
           "Waka Flocka Flame"
          ],
          [
           "Young Money"
          ],
          [
           "Jay Rock"
          ],
          [
           "Wale"
          ],
          [
           "Juicy J"
          ],
          [
           "Fabolous"
          ],
          [
           "ScHoolboy Q"
          ],
          [
           "Mustard"
          ],
          [
           "A$AP Rocky"
          ],
          [
           "Yo Gotti"
          ],
          [
           "Lil Wayne"
          ],
          [
           "T.I."
          ],
          [
           "Mike WiLL Made-It"
          ],
          [
           "The Game"
          ],
          [
           "Young Thug"
          ],
          [
           "Curren$y"
          ],
          [
           "Jeezy"
          ],
          [
           "Quality Control"
          ],
          [
           "Pusha T"
          ],
          [
           "Metro Boomin"
          ],
          [
           "Offset"
          ],
          [
           "A$AP Mob"
          ],
          [
           "Migos"
          ],
          [
           "Rae Sremmurd"
          ],
          [
           "J. Cole"
          ],
          [
           "Quavo"
          ],
          [
           "Chief Keef"
          ],
          [
           "Fat Joe"
          ],
          [
           "Nipsey Hussle"
          ],
          [
           "Tyga"
          ],
          [
           "Future"
          ],
          [
           "Joey Bada$$"
          ],
          [
           "Tory Lanez"
          ],
          [
           "Birdman"
          ],
          [
           "Ace Hood"
          ],
          [
           "MadeinTYO"
          ],
          [
           "Kid Ink"
          ],
          [
           "Huncho Jack"
          ],
          [
           "Rich The Kid"
          ],
          [
           "Kendrick Lamar"
          ],
          [
           "K CAMP"
          ],
          [
           "Kodak Black"
          ],
          [
           "Rich Homie Quan"
          ],
          [
           "Lil Yachty"
          ],
          [
           "Big K.R.I.T."
          ],
          [
           "Tee Grizzley"
          ],
          [
           "Famous Dex"
          ],
          [
           "Plies"
          ],
          [
           "DJ Drama"
          ],
          [
           "Lupe Fiasco"
          ],
          [
           "NAV"
          ],
          [
           "Ludacris"
          ],
          [
           "Lloyd Banks"
          ],
          [
           "Young Stoner Life"
          ],
          [
           "O.T. Genasis"
          ],
          [
           "Cordae"
          ],
          [
           "Young Dolph"
          ],
          [
           "Cam’ron"
          ],
          [
           "Chance the Rapper"
          ],
          [
           "JUVENILE"
          ],
          [
           "Dreamville"
          ],
          [
           "Trick Daddy"
          ],
          [
           "Freddie Gibbs"
          ],
          [
           "T-Pain"
          ],
          [
           "Takeoff"
          ],
          [
           "Twista"
          ],
          [
           "PnB Rock"
          ],
          [
           "Bas"
          ],
          [
           "Baby Keem"
          ],
          [
           "PARTYNEXTDOOR"
          ],
          [
           "KIDS SEE GHOSTS"
          ],
          [
           "Jadakiss"
          ],
          [
           "VIC MENSA"
          ],
          [
           "Desiigner"
          ],
          [
           "Jim Jones"
          ],
          [
           "Diddy"
          ],
          [
           "Soulja Boy"
          ],
          [
           "Gunna"
          ],
          [
           "Young Buck"
          ],
          [
           "B.o.B"
          ],
          [
           "Kid Cudi"
          ],
          [
           "G-Unit"
          ],
          [
           "JAY-Z"
          ],
          [
           "LL Cool J"
          ],
          [
           "6LACK"
          ],
          [
           "Dave East"
          ],
          [
           "Travis Porter"
          ],
          [
           "Fetty Wap"
          ],
          [
           "Naughty By Nature"
          ],
          [
           "Dom Kennedy"
          ]
         ],
         "hovertemplate": "<b>%{hovertext}</b><br><br>genre=rap<br>tempo=%{x}<br>energy=%{y}<br>artist=%{customdata[0]}<extra></extra>",
         "hovertext": [
          "Unforgettable",
          "Going Bad (feat. Drake)",
          "Wake Up in the Sky",
          "It's A Vibe",
          "POPSTAR (feat. Drake)",
          "Wolves (feat. Post Malone)",
          "Plain Jane",
          "See You Again (feat. Charlie Puth)",
          "Go Loko (feat. Tyga, Jon Z)",
          "Aston Martin Music",
          "No Hands (feat. Roscoe Dash & Wale)",
          "Trophies",
          "King's Dead (with Kendrick Lamar, Future & James Blake)",
          "Lotus Flower Bomb (feat. Miguel)",
          "Shell Shocked (feat. Kill The Noise & Madsonik) - From \"Teenage Mutant Ninja Turtles\"",
          "Into You (feat. Tamia) - Main Mix",
          "Collard Greens",
          "Ballin' (with Roddy Ricch)",
          "Praise The Lord (Da Shine) (feat. Skepta)",
          "Rake It Up (feat. Nicki Minaj)",
          "Sucker for Pain (with Wiz Khalifa, Imagine Dragons, Logic & Ty Dolla $ign feat. X Ambassadors)",
          "Live Your Life",
          "23",
          "Hate It Or Love It",
          "The London (feat. J. Cole & Travis Scott)",
          "The Count (feat. Wiz Khalifa)",
          "Put On",
          "Baby (Lil Baby feat. DaBaby)",
          "Trouble On My Mind",
          "Space Cadet (feat. Gunna)",
          "Ric Flair Drip (& Metro Boomin)",
          "Yamborghini High (feat. Juicy J)",
          "Bad and Boujee (feat. Lil Uzi Vert)",
          "Come Get Her",
          "No Role Modelz",
          "FLIP THE SWITCH (feat. Drake)",
          "Love Sosa",
          "What's Luv? (feat. Ja-Rule & Ashanti)",
          "Grinding All My Life",
          "Taste (feat. Offset)",
          "Drankin N Smokin",
          "Love Is Only a Feeling",
          "Broke In A Minute",
          "Stuntin' Like My Daddy - Street",
          "We Ball",
          "Chucky Cheese",
          "Show Me (feat. Chris Brown)",
          "Saint",
          "Plug Walk",
          "HUMBLE.",
          "Lottery (Renegade) - Bonus Track",
          "ZEZE (feat. Travis Scott & Offset)",
          "Flex (Ooh, Ooh, Ooh)",
          "Oprah's Bank Account (Lil Yachty & DaBaby feat. Drake)",
          "Country Sh*t (Remix)",
          "From The D To The A (feat. Lil Yachty)",
          "PICK IT UP (feat. A$AP Rocky)",
          "Hypnotized (feat. Akon)",
          "My Moment (feat. 2 Chainz, Meek Mill and Jeremih)",
          "The Show Goes On",
          "Turks (with Gunna & ft. Travis Scott)",
          "My Chick Bad",
          "Beamer, Benz, Or Bentley",
          "Solid (feat. Drake)",
          "CoCo",
          "Gifted (feat. Roddy Ricch)",
          "Case Closed",
          "Hey Ma",
          "Cocoa Butter Kisses",
          "Back That Azz Up",
          "Under The Sun (with J. Cole & Lute feat. DaBaby)",
          "Let's Go (feat. Big D & Twista)",
          "Gang Signs (feat. ScHoolboy Q)",
          "Buy U a Drank (Shawty Snappin') (feat. Yung Joc)",
          "Casper",
          "Overnight Celebrity",
          "Selfish",
          "Tribe (with J. Cole)",
          "ORANGE SODA",
          "BELIEVE IT",
          "Reborn",
          "We Gonna Make It",
          "Reverse (feat. G-Eazy)",
          "Tiimmy Turner",
          "Addicted to the Game",
          "I'll Be Missing You (feat. Faith Evans & 112) - 2014 Remaster",
          "Kiss Me Thru The Phone",
          "DOLLAZ ON MY HEAD (feat. Young Thug)",
          "Shorty Wanna Ride",
          "Airplanes (feat. Hayley Williams of Paramore)",
          "Day 'N' Nite (Nightmare)",
          "Poppin' Them Thangs",
          "Ni**as In Paris",
          "Doin' It",
          "Pretty Little Fears (feat. J. Cole)",
          "Handsome",
          "Ayy Ladies (feat. Tyga)",
          "Trap Queen",
          "Hip Hop Hooray",
          "When I Come Around"
         ],
         "legendgroup": "rap",
         "marker": {
          "color": "#FF97FF",
          "symbol": "circle"
         },
         "mode": "markers",
         "name": "rap",
         "orientation": "v",
         "showlegend": true,
         "type": "scatter",
         "x": [
          97,
          86,
          143,
          73,
          163,
          160,
          170,
          80,
          101,
          171,
          131,
          143,
          137,
          70,
          165,
          91,
          153,
          97,
          80,
          149,
          169,
          159,
          140,
          99,
          97,
          82,
          137,
          108,
          172,
          109,
          100,
          137,
          127,
          185,
          100,
          86,
          131,
          93,
          180,
          98,
          151,
          90,
          120,
          160,
          154,
          78,
          98,
          150,
          94,
          150,
          148,
          98,
          81,
          138,
          128,
          99,
          135,
          116,
          148,
          143,
          119,
          84,
          159,
          125,
          119,
          151,
          144,
          89,
          125,
          95,
          138,
          133,
          52,
          80,
          140,
          134,
          101,
          178,
          85,
          158,
          100,
          87,
          144,
          122,
          148,
          109,
          149,
          145,
          179,
          93,
          138,
          88,
          140,
          94,
          192,
          133,
          96,
          148,
          99,
          97
         ],
         "xaxis": "x",
         "y": [
          769,
          496,
          578,
          502,
          560,
          675,
          844,
          481,
          670,
          580,
          595,
          687,
          705,
          598,
          815,
          529,
          575,
          545,
          569,
          444,
          786,
          862,
          599,
          785,
          517,
          757,
          770,
          463,
          785,
          464,
          428,
          765,
          665,
          564,
          521,
          637,
          413,
          707,
          716,
          613,
          658,
          676,
          700,
          881,
          525,
          542,
          508,
          648,
          519,
          621,
          547,
          603,
          607,
          625,
          572,
          625,
          467,
          571,
          760,
          889,
          618,
          723,
          671,
          485,
          628,
          603,
          722,
          669,
          645,
          714,
          640,
          767,
          615,
          549,
          607,
          792,
          600,
          594,
          564,
          700,
          597,
          961,
          703,
          725,
          656,
          619,
          712,
          458,
          621,
          867,
          443,
          818,
          858,
          550,
          458,
          613,
          782,
          873,
          642,
          568
         ],
         "yaxis": "y"
        },
        {
         "customdata": [
          [
           "The Who"
          ],
          [
           "Van Halen"
          ],
          [
           "Lynyrd Skynyrd"
          ],
          [
           "Boston"
          ],
          [
           "Tom Petty and the Heartbreakers"
          ],
          [
           "Steve Miller Band"
          ],
          [
           "Cream"
          ],
          [
           "The Cars"
          ],
          [
           "Led Zeppelin"
          ],
          [
           "Cheap Trick"
          ],
          [
           "The Black Crowes"
          ],
          [
           "ZZ Top"
          ],
          [
           "Blue Öyster Cult"
          ],
          [
           "Alice Cooper"
          ],
          [
           "Deep Purple"
          ],
          [
           "Thin Lizzy"
          ],
          [
           "The Cult"
          ],
          [
           "Heart"
          ],
          [
           "Jimi Hendrix"
          ],
          [
           "Soundgarden"
          ],
          [
           "The White Stripes"
          ],
          [
           "Ozzy Osbourne"
          ],
          [
           "Bad Company"
          ],
          [
           "Tom Petty"
          ],
          [
           "Black Sabbath"
          ],
          [
           "Rush"
          ],
          [
           "Stone Temple Pilots"
          ],
          [
           "Ted Nugent"
          ],
          [
           "Joe Walsh"
          ],
          [
           "Bachman-Turner Overdrive"
          ],
          [
           "The Kinks"
          ],
          [
           "Blur"
          ],
          [
           "The Doobie Brothers"
          ],
          [
           "The Raconteurs"
          ],
          [
           "Queens of the Stone Age"
          ],
          [
           "R.E.M."
          ],
          [
           "Aerosmith"
          ],
          [
           "Billy Idol"
          ],
          [
           "Rainbow"
          ],
          [
           "Allman Brothers Band"
          ],
          [
           "Foreigner"
          ],
          [
           "John Mellencamp"
          ],
          [
           "Whitesnake"
          ],
          [
           "Billy Squier"
          ],
          [
           "The Police"
          ],
          [
           "Grand Funk Railroad"
          ],
          [
           "Velvet Revolver"
          ],
          [
           "The J. Geils Band"
          ],
          [
           "George Harrison"
          ],
          [
           "Faces"
          ],
          [
           "Audioslave"
          ],
          [
           "Robert Plant"
          ],
          [
           "George Thorogood & The Destroyers"
          ],
          [
           "Pretenders"
          ],
          [
           "Steppenwolf"
          ],
          [
           "The Clash"
          ],
          [
           "Peter Frampton"
          ],
          [
           "Sammy Hagar"
          ],
          [
           "Styx"
          ],
          [
           "Alice In Chains"
          ],
          [
           "Quiet Riot"
          ],
          [
           "Skid Row"
          ],
          [
           "Jane's Addiction"
          ],
          [
           "KISS"
          ],
          [
           "Eddie Money"
          ],
          [
           "The Rolling Stones"
          ],
          [
           "Blind Melon"
          ],
          [
           "Judas Priest"
          ],
          [
           "Dio"
          ],
          [
           "Faith No More"
          ],
          [
           "Pearl Jam"
          ],
          [
           "The Doors"
          ],
          [
           "T. Rex"
          ],
          [
           "The Black Keys"
          ],
          [
           "Wolfmother"
          ],
          [
           "The Byrds"
          ],
          [
           "The Guess Who"
          ],
          [
           "Foghat"
          ],
          [
           "Derek & The Dominos"
          ],
          [
           "Kansas"
          ],
          [
           "The Smashing Pumpkins"
          ],
          [
           "Pixies"
          ],
          [
           "Steely Dan"
          ],
          [
           "Crosby, Stills, Nash & Young"
          ],
          [
           "The Band"
          ],
          [
           "Bush"
          ],
          [
           "Wings"
          ],
          [
           "Neil Young"
          ],
          [
           "REO Speedwagon"
          ],
          [
           "Motörhead"
          ],
          [
           "The Velvet Underground"
          ],
          [
           "Don Henley"
          ],
          [
           "UFO"
          ],
          [
           "Twisted Sister"
          ],
          [
           "Bob Seger"
          ],
          [
           "Collective Soul"
          ],
          [
           "Crosby, Stills & Nash"
          ],
          [
           "Foo Fighters"
          ],
          [
           "Huey Lewis & The News"
          ],
          [
           "Rage Against The Machine"
          ]
         ],
         "hovertemplate": "<b>%{hovertext}</b><br><br>genre=rock<br>tempo=%{x}<br>energy=%{y}<br>artist=%{customdata[0]}<extra></extra>",
         "hovertext": [
          "Baba O'Riley",
          "Jump - 2015 Remaster",
          "Sweet Home Alabama",
          "More Than a Feeling",
          "American Girl",
          "The Joker",
          "Sunshine Of Your Love",
          "Drive - 2017 Remaster",
          "Stairway to Heaven - Remaster",
          "I Want You to Want Me",
          "Hard To Handle",
          "La Grange - 2005 Remaster",
          "(Don't Fear) The Reaper",
          "Poison",
          "Smoke On The Water - Remastered 2012",
          "The Boys Are Back In Town",
          "She Sells Sanctuary",
          "Barracuda",
          "All Along the Watchtower",
          "Black Hole Sun",
          "Seven Nation Army",
          "Crazy Train",
          "Feel like Makin' Love - 2015 Remaster",
          "Free Fallin'",
          "Paranoid",
          "Tom Sawyer",
          "Interstate Love Song - 2019 Remaster",
          "Stranglehold",
          "Life's Been Good",
          "You Ain't Seen Nothing Yet",
          "You Really Got Me - Mono Mix",
          "Song 2 - 2012 Remaster",
          "Listen to the Music",
          "Steady, as She Goes",
          "No One Knows",
          "Losing My Religion",
          "I Don't Want to Miss a Thing - From \"Armageddon\" Soundtrack",
          "Rebel Yell",
          "Since You Been Gone",
          "Midnight Rider",
          "I Want to Know What Love Is - 1999 Remaster",
          "Jack & Diane",
          "Here I Go Again - 2018 Remaster",
          "The Stroke - Remastered",
          "Every Breath You Take",
          "Some Kind Of Wonderful - Remastered 1999",
          "Slither",
          "Centerfold",
          "My Sweet Lord - Remastered 2014",
          "Ooh La La",
          "Like a Stone",
          "Big Log - 2006 Remaster",
          "Bad To The Bone",
          "I'll Stand by You",
          "Born To Be Wild",
          "Should I Stay or Should I Go - Remastered",
          "Show Me The Way",
          "Heavy Metal",
          "Renegade",
          "Man in the Box",
          "Cum on Feel the Noize",
          "18 and Life",
          "Jane Says",
          "I Was Made For Lovin' You",
          "Take Me Home Tonight",
          "Paint It, Black",
          "No Rain",
          "Breaking the Law",
          "Holy Diver",
          "Epic",
          "Alive",
          "Riders on the Storm",
          "Get It On",
          "Lonely Boy",
          "Joker And The Thief",
          "Turn! Turn! Turn! (To Everything There Is a Season)",
          "American Woman",
          "Slow Ride",
          "Layla",
          "Dust in the Wind",
          "1979 - Remastered 2012",
          "Where Is My Mind? - Remastered",
          "Reelin' In The Years",
          "Our House",
          "The Weight - Remastered",
          "Glycerine - Remastered",
          "Band On The Run - Remastered 2010",
          "Heart of Gold - 2009 Remaster",
          "Can't Fight This Feeling",
          "Ace of Spades",
          "Pale Blue Eyes",
          "The Boys Of Summer",
          "Doctor Doctor - 2007 Remaster",
          "We're Not Gonna Take It",
          "Old Time Rock & Roll",
          "Shine",
          "Helplessly Hoping - 2005 Remaster",
          "Everlong",
          "The Power Of Love",
          "Killing In The Name"
         ],
         "legendgroup": "rock",
         "marker": {
          "color": "#FECB52",
          "symbol": "circle"
         },
         "mode": "markers",
         "name": "rock",
         "orientation": "v",
         "showlegend": true,
         "type": "scatter",
         "x": [
          117,
          129,
          97,
          108,
          114,
          83,
          115,
          83,
          82,
          92,
          103,
          80,
          141,
          118,
          114,
          80,
          139,
          137,
          113,
          105,
          123,
          137,
          85,
          84,
          162,
          87,
          170,
          148,
          99,
          118,
          137,
          129,
          105,
          123,
          170,
          125,
          121,
          166,
          120,
          94,
          81,
          103,
          89,
          91,
          117,
          121,
          141,
          114,
          120,
          147,
          107,
          180,
          149,
          133,
          145,
          113,
          130,
          186,
          105,
          106,
          145,
          90,
          81,
          128,
          132,
          158,
          148,
          164,
          91,
          174,
          75,
          103,
          126,
          166,
          155,
          124,
          92,
          113,
          115,
          93,
          126,
          81,
          135,
          140,
          143,
          114,
          124,
          171,
          156,
          140,
          82,
          176,
          143,
          149,
          124,
          150,
          146,
          158,
          118,
          88
         ],
         "xaxis": "x",
         "y": [
          724,
          835,
          605,
          682,
          824,
          448,
          481,
          703,
          340,
          462,
          790,
          640,
          927,
          908,
          676,
          706,
          765,
          691,
          805,
          728,
          463,
          913,
          529,
          449,
          631,
          901,
          927,
          711,
          476,
          439,
          939,
          789,
          598,
          603,
          584,
          855,
          649,
          864,
          726,
          532,
          471,
          410,
          823,
          591,
          452,
          691,
          974,
          677,
          701,
          574,
          568,
          639,
          727,
          606,
          710,
          836,
          726,
          639,
          552,
          791,
          920,
          648,
          597,
          852,
          768,
          795,
          476,
          961,
          783,
          893,
          875,
          722,
          878,
          872,
          800,
          818,
          726,
          586,
          902,
          322,
          787,
          441,
          758,
          205,
          551,
          335,
          601,
          459,
          480,
          974,
          107,
          549,
          799,
          924,
          937,
          423,
          159,
          881,
          831,
          833
         ],
         "yaxis": "y"
        }
       ],
       "layout": {
        "legend": {
         "title": {
          "text": "genre"
         },
         "tracegroupgap": 0
        },
        "margin": {
         "t": 60
        },
        "template": {
         "data": {
          "bar": [
           {
            "error_x": {
             "color": "#2a3f5f"
            },
            "error_y": {
             "color": "#2a3f5f"
            },
            "marker": {
             "line": {
              "color": "#E5ECF6",
              "width": 0.5
             }
            },
            "type": "bar"
           }
          ],
          "barpolar": [
           {
            "marker": {
             "line": {
              "color": "#E5ECF6",
              "width": 0.5
             }
            },
            "type": "barpolar"
           }
          ],
          "carpet": [
           {
            "aaxis": {
             "endlinecolor": "#2a3f5f",
             "gridcolor": "white",
             "linecolor": "white",
             "minorgridcolor": "white",
             "startlinecolor": "#2a3f5f"
            },
            "baxis": {
             "endlinecolor": "#2a3f5f",
             "gridcolor": "white",
             "linecolor": "white",
             "minorgridcolor": "white",
             "startlinecolor": "#2a3f5f"
            },
            "type": "carpet"
           }
          ],
          "choropleth": [
           {
            "colorbar": {
             "outlinewidth": 0,
             "ticks": ""
            },
            "type": "choropleth"
           }
          ],
          "contour": [
           {
            "colorbar": {
             "outlinewidth": 0,
             "ticks": ""
            },
            "colorscale": [
             [
              0,
              "#0d0887"
             ],
             [
              0.1111111111111111,
              "#46039f"
             ],
             [
              0.2222222222222222,
              "#7201a8"
             ],
             [
              0.3333333333333333,
              "#9c179e"
             ],
             [
              0.4444444444444444,
              "#bd3786"
             ],
             [
              0.5555555555555556,
              "#d8576b"
             ],
             [
              0.6666666666666666,
              "#ed7953"
             ],
             [
              0.7777777777777778,
              "#fb9f3a"
             ],
             [
              0.8888888888888888,
              "#fdca26"
             ],
             [
              1,
              "#f0f921"
             ]
            ],
            "type": "contour"
           }
          ],
          "contourcarpet": [
           {
            "colorbar": {
             "outlinewidth": 0,
             "ticks": ""
            },
            "type": "contourcarpet"
           }
          ],
          "heatmap": [
           {
            "colorbar": {
             "outlinewidth": 0,
             "ticks": ""
            },
            "colorscale": [
             [
              0,
              "#0d0887"
             ],
             [
              0.1111111111111111,
              "#46039f"
             ],
             [
              0.2222222222222222,
              "#7201a8"
             ],
             [
              0.3333333333333333,
              "#9c179e"
             ],
             [
              0.4444444444444444,
              "#bd3786"
             ],
             [
              0.5555555555555556,
              "#d8576b"
             ],
             [
              0.6666666666666666,
              "#ed7953"
             ],
             [
              0.7777777777777778,
              "#fb9f3a"
             ],
             [
              0.8888888888888888,
              "#fdca26"
             ],
             [
              1,
              "#f0f921"
             ]
            ],
            "type": "heatmap"
           }
          ],
          "heatmapgl": [
           {
            "colorbar": {
             "outlinewidth": 0,
             "ticks": ""
            },
            "colorscale": [
             [
              0,
              "#0d0887"
             ],
             [
              0.1111111111111111,
              "#46039f"
             ],
             [
              0.2222222222222222,
              "#7201a8"
             ],
             [
              0.3333333333333333,
              "#9c179e"
             ],
             [
              0.4444444444444444,
              "#bd3786"
             ],
             [
              0.5555555555555556,
              "#d8576b"
             ],
             [
              0.6666666666666666,
              "#ed7953"
             ],
             [
              0.7777777777777778,
              "#fb9f3a"
             ],
             [
              0.8888888888888888,
              "#fdca26"
             ],
             [
              1,
              "#f0f921"
             ]
            ],
            "type": "heatmapgl"
           }
          ],
          "histogram": [
           {
            "marker": {
             "colorbar": {
              "outlinewidth": 0,
              "ticks": ""
             }
            },
            "type": "histogram"
           }
          ],
          "histogram2d": [
           {
            "colorbar": {
             "outlinewidth": 0,
             "ticks": ""
            },
            "colorscale": [
             [
              0,
              "#0d0887"
             ],
             [
              0.1111111111111111,
              "#46039f"
             ],
             [
              0.2222222222222222,
              "#7201a8"
             ],
             [
              0.3333333333333333,
              "#9c179e"
             ],
             [
              0.4444444444444444,
              "#bd3786"
             ],
             [
              0.5555555555555556,
              "#d8576b"
             ],
             [
              0.6666666666666666,
              "#ed7953"
             ],
             [
              0.7777777777777778,
              "#fb9f3a"
             ],
             [
              0.8888888888888888,
              "#fdca26"
             ],
             [
              1,
              "#f0f921"
             ]
            ],
            "type": "histogram2d"
           }
          ],
          "histogram2dcontour": [
           {
            "colorbar": {
             "outlinewidth": 0,
             "ticks": ""
            },
            "colorscale": [
             [
              0,
              "#0d0887"
             ],
             [
              0.1111111111111111,
              "#46039f"
             ],
             [
              0.2222222222222222,
              "#7201a8"
             ],
             [
              0.3333333333333333,
              "#9c179e"
             ],
             [
              0.4444444444444444,
              "#bd3786"
             ],
             [
              0.5555555555555556,
              "#d8576b"
             ],
             [
              0.6666666666666666,
              "#ed7953"
             ],
             [
              0.7777777777777778,
              "#fb9f3a"
             ],
             [
              0.8888888888888888,
              "#fdca26"
             ],
             [
              1,
              "#f0f921"
             ]
            ],
            "type": "histogram2dcontour"
           }
          ],
          "mesh3d": [
           {
            "colorbar": {
             "outlinewidth": 0,
             "ticks": ""
            },
            "type": "mesh3d"
           }
          ],
          "parcoords": [
           {
            "line": {
             "colorbar": {
              "outlinewidth": 0,
              "ticks": ""
             }
            },
            "type": "parcoords"
           }
          ],
          "pie": [
           {
            "automargin": true,
            "type": "pie"
           }
          ],
          "scatter": [
           {
            "marker": {
             "colorbar": {
              "outlinewidth": 0,
              "ticks": ""
             }
            },
            "type": "scatter"
           }
          ],
          "scatter3d": [
           {
            "line": {
             "colorbar": {
              "outlinewidth": 0,
              "ticks": ""
             }
            },
            "marker": {
             "colorbar": {
              "outlinewidth": 0,
              "ticks": ""
             }
            },
            "type": "scatter3d"
           }
          ],
          "scattercarpet": [
           {
            "marker": {
             "colorbar": {
              "outlinewidth": 0,
              "ticks": ""
             }
            },
            "type": "scattercarpet"
           }
          ],
          "scattergeo": [
           {
            "marker": {
             "colorbar": {
              "outlinewidth": 0,
              "ticks": ""
             }
            },
            "type": "scattergeo"
           }
          ],
          "scattergl": [
           {
            "marker": {
             "colorbar": {
              "outlinewidth": 0,
              "ticks": ""
             }
            },
            "type": "scattergl"
           }
          ],
          "scattermapbox": [
           {
            "marker": {
             "colorbar": {
              "outlinewidth": 0,
              "ticks": ""
             }
            },
            "type": "scattermapbox"
           }
          ],
          "scatterpolar": [
           {
            "marker": {
             "colorbar": {
              "outlinewidth": 0,
              "ticks": ""
             }
            },
            "type": "scatterpolar"
           }
          ],
          "scatterpolargl": [
           {
            "marker": {
             "colorbar": {
              "outlinewidth": 0,
              "ticks": ""
             }
            },
            "type": "scatterpolargl"
           }
          ],
          "scatterternary": [
           {
            "marker": {
             "colorbar": {
              "outlinewidth": 0,
              "ticks": ""
             }
            },
            "type": "scatterternary"
           }
          ],
          "surface": [
           {
            "colorbar": {
             "outlinewidth": 0,
             "ticks": ""
            },
            "colorscale": [
             [
              0,
              "#0d0887"
             ],
             [
              0.1111111111111111,
              "#46039f"
             ],
             [
              0.2222222222222222,
              "#7201a8"
             ],
             [
              0.3333333333333333,
              "#9c179e"
             ],
             [
              0.4444444444444444,
              "#bd3786"
             ],
             [
              0.5555555555555556,
              "#d8576b"
             ],
             [
              0.6666666666666666,
              "#ed7953"
             ],
             [
              0.7777777777777778,
              "#fb9f3a"
             ],
             [
              0.8888888888888888,
              "#fdca26"
             ],
             [
              1,
              "#f0f921"
             ]
            ],
            "type": "surface"
           }
          ],
          "table": [
           {
            "cells": {
             "fill": {
              "color": "#EBF0F8"
             },
             "line": {
              "color": "white"
             }
            },
            "header": {
             "fill": {
              "color": "#C8D4E3"
             },
             "line": {
              "color": "white"
             }
            },
            "type": "table"
           }
          ]
         },
         "layout": {
          "annotationdefaults": {
           "arrowcolor": "#2a3f5f",
           "arrowhead": 0,
           "arrowwidth": 1
          },
          "autotypenumbers": "strict",
          "coloraxis": {
           "colorbar": {
            "outlinewidth": 0,
            "ticks": ""
           }
          },
          "colorscale": {
           "diverging": [
            [
             0,
             "#8e0152"
            ],
            [
             0.1,
             "#c51b7d"
            ],
            [
             0.2,
             "#de77ae"
            ],
            [
             0.3,
             "#f1b6da"
            ],
            [
             0.4,
             "#fde0ef"
            ],
            [
             0.5,
             "#f7f7f7"
            ],
            [
             0.6,
             "#e6f5d0"
            ],
            [
             0.7,
             "#b8e186"
            ],
            [
             0.8,
             "#7fbc41"
            ],
            [
             0.9,
             "#4d9221"
            ],
            [
             1,
             "#276419"
            ]
           ],
           "sequential": [
            [
             0,
             "#0d0887"
            ],
            [
             0.1111111111111111,
             "#46039f"
            ],
            [
             0.2222222222222222,
             "#7201a8"
            ],
            [
             0.3333333333333333,
             "#9c179e"
            ],
            [
             0.4444444444444444,
             "#bd3786"
            ],
            [
             0.5555555555555556,
             "#d8576b"
            ],
            [
             0.6666666666666666,
             "#ed7953"
            ],
            [
             0.7777777777777778,
             "#fb9f3a"
            ],
            [
             0.8888888888888888,
             "#fdca26"
            ],
            [
             1,
             "#f0f921"
            ]
           ],
           "sequentialminus": [
            [
             0,
             "#0d0887"
            ],
            [
             0.1111111111111111,
             "#46039f"
            ],
            [
             0.2222222222222222,
             "#7201a8"
            ],
            [
             0.3333333333333333,
             "#9c179e"
            ],
            [
             0.4444444444444444,
             "#bd3786"
            ],
            [
             0.5555555555555556,
             "#d8576b"
            ],
            [
             0.6666666666666666,
             "#ed7953"
            ],
            [
             0.7777777777777778,
             "#fb9f3a"
            ],
            [
             0.8888888888888888,
             "#fdca26"
            ],
            [
             1,
             "#f0f921"
            ]
           ]
          },
          "colorway": [
           "#636efa",
           "#EF553B",
           "#00cc96",
           "#ab63fa",
           "#FFA15A",
           "#19d3f3",
           "#FF6692",
           "#B6E880",
           "#FF97FF",
           "#FECB52"
          ],
          "font": {
           "color": "#2a3f5f"
          },
          "geo": {
           "bgcolor": "white",
           "lakecolor": "white",
           "landcolor": "#E5ECF6",
           "showlakes": true,
           "showland": true,
           "subunitcolor": "white"
          },
          "hoverlabel": {
           "align": "left"
          },
          "hovermode": "closest",
          "mapbox": {
           "style": "light"
          },
          "paper_bgcolor": "white",
          "plot_bgcolor": "#E5ECF6",
          "polar": {
           "angularaxis": {
            "gridcolor": "white",
            "linecolor": "white",
            "ticks": ""
           },
           "bgcolor": "#E5ECF6",
           "radialaxis": {
            "gridcolor": "white",
            "linecolor": "white",
            "ticks": ""
           }
          },
          "scene": {
           "xaxis": {
            "backgroundcolor": "#E5ECF6",
            "gridcolor": "white",
            "gridwidth": 2,
            "linecolor": "white",
            "showbackground": true,
            "ticks": "",
            "zerolinecolor": "white"
           },
           "yaxis": {
            "backgroundcolor": "#E5ECF6",
            "gridcolor": "white",
            "gridwidth": 2,
            "linecolor": "white",
            "showbackground": true,
            "ticks": "",
            "zerolinecolor": "white"
           },
           "zaxis": {
            "backgroundcolor": "#E5ECF6",
            "gridcolor": "white",
            "gridwidth": 2,
            "linecolor": "white",
            "showbackground": true,
            "ticks": "",
            "zerolinecolor": "white"
           }
          },
          "shapedefaults": {
           "line": {
            "color": "#2a3f5f"
           }
          },
          "ternary": {
           "aaxis": {
            "gridcolor": "white",
            "linecolor": "white",
            "ticks": ""
           },
           "baxis": {
            "gridcolor": "white",
            "linecolor": "white",
            "ticks": ""
           },
           "bgcolor": "#E5ECF6",
           "caxis": {
            "gridcolor": "white",
            "linecolor": "white",
            "ticks": ""
           }
          },
          "title": {
           "x": 0.05
          },
          "xaxis": {
           "automargin": true,
           "gridcolor": "white",
           "linecolor": "white",
           "ticks": "",
           "title": {
            "standoff": 15
           },
           "zerolinecolor": "white",
           "zerolinewidth": 2
          },
          "yaxis": {
           "automargin": true,
           "gridcolor": "white",
           "linecolor": "white",
           "ticks": "",
           "title": {
            "standoff": 15
           },
           "zerolinecolor": "white",
           "zerolinewidth": 2
          }
         }
        },
        "xaxis": {
         "anchor": "y",
         "domain": [
          0,
          1
         ],
         "title": {
          "text": "tempo"
         }
        },
        "yaxis": {
         "anchor": "x",
         "domain": [
          0,
          1
         ],
         "title": {
          "text": "energy"
         }
        }
       }
      },
      "text/html": [
       "<div>                            <div id=\"c05356d9-baae-45c6-be05-419bb1208f7f\" class=\"plotly-graph-div\" style=\"height:525px; width:100%;\"></div>            <script type=\"text/javascript\">                require([\"plotly\"], function(Plotly) {                    window.PLOTLYENV=window.PLOTLYENV || {};                                    if (document.getElementById(\"c05356d9-baae-45c6-be05-419bb1208f7f\")) {                    Plotly.newPlot(                        \"c05356d9-baae-45c6-be05-419bb1208f7f\",                        [{\"customdata\": [[\"George Frideric Handel\"], [\"Johann Sebastian Bach\"], [\"Claude Debussy\"], [\"Ludwig van Beethoven\"], [\"Maurice Ravel\"], [\"Fr\\u00e9d\\u00e9ric Chopin\"], [\"Franz Joseph Haydn\"], [\"Edvard Grieg\"], [\"Wolfgang Amadeus Mozart\"], [\"Anton\\u00edn Dvo\\u0159\\u00e1k\"], [\"Johannes Brahms\"], [\"Antonio Vivaldi\"], [\"Giuseppe Verdi\"], [\"Richard Wagner\"], [\"Jean Sibelius\"], [\"Ottorino Respighi\"], [\"C\\u00e9sar Franck\"], [\"Franz Schubert\"], [\"Giacomo Puccini\"], [\"Johann Strauss II\"], [\"Anton Bruckner\"], [\"Richard Strauss\"], [\"Felix Mendelssohn\"], [\"Gustav Holst\"], [\"Max Bruch\"], [\"Ralph Vaughan Williams\"], [\"Edward Elgar\"], [\"Hector Berlioz\"], [\"Frederick Delius\"], [\"Franz Liszt\"], [\"Camille Saint-Sa\\u00ebns\"], [\"Aram Khachaturian\"], [\"Erik Satie\"], [\"Gabriel Faur\\u00e9\"], [\"Tomaso Albinoni\"], [\"Bed\\u0159ich Smetana\"], [\"Jacques Offenbach\"], [\"Samuel Barber\"], [\"Gustav Mahler\"], [\"Luigi Boccherini\"], [\"Robert Schumann\"], [\"Leonard Bernstein\"], [\"Dmitri Shostakovich\"], [\"Henry Purcell\"], [\"Carl Maria von Weber\"], [\"Georges Bizet\"], [\"Pietro Mascagni\"], [\"L\\u00e9o Delibes\"], [\"Joaqu\\u00edn Rodrigo\"], [\"George Gershwin\"], [\"Johann Bach\"], [\"Hugo Wolf\"], [\"Igor Stravinsky\"], [\"Niccol\\u00f2 Paganini\"], [\"Charles Gounod\"], [\"Jules Massenet\"], [\"Claudio Monteverdi\"], [\"Giovanni Battista Pergolesi\"], [\"Carl Orff\"], [\"Alexander Borodin\"], [\"Johann Strauss I\"], [\"Manuel de Falla\"], [\"Pyotr Ilyich Tchaikovsky\"], [\"Amilcare Ponchielli\"], [\"Sergei Rachmaninoff\"], [\"Christoph Willibald Gluck\"], [\"Gioachino Rossini\"], [\"Ernest Chausson\"], [\"Carl Davis\"], [\"Sergei Rachmaninoff\"], [\"Aaron Copland\"], [\"Nikolai Rimsky-Korsakov\"], [\"Domenico Scarlatti\"], [\"Arnold Schoenberg\"], [\"Benjamin Britten\"], [\"Pierre Boulez\"], [\"Arcangelo Corelli\"], [\"Conrado del Campo\"], [\"Heinrich Sch\\u00fctz\"], [\"Fritz Kreisler\"], [\"Johann Pachelbel\"], [\"B\\u00e9la Bart\\u00f3k\"], [\"Carl Philipp Emanuel Bach\"], [\"Sergei Prokofiev\"], [\"Guillaume de Machaut\"], [\"Lugwig van Beethoven\"], [\"Gy\\u00f6rgy Ligeti\"], [\"Zolt\\u00e1n Kod\\u00e1ly\"], [\"Orlande de Lassus\"], [\"Vincenzo Bellini\"], [\"Giovanni Gabrieli\"], [\"Giovanni Pierluigi da Palestrina\"], [\"Gioachino Rossini\"], [\"Guillaume Dufay\"], [\"Darius Milhaud\"], [\"Heitor Villa-Lobos\"], [\"Gaspar Cassad\\u00f3\"], [\"Leopold Mozart\"], [\"Carl Nielsen\"], [\"Thomas Tallis\"]], \"hovertemplate\": \"<b>%{hovertext}</b><br><br>genre=classical<br>tempo=%{x}<br>energy=%{y}<br>artist=%{customdata[0]}<extra></extra>\", \"hovertext\": [\"Handel / Orch. Hale: Keyboard Suite in D Minor, HWV 437: III. Sarabande\", \"Goldberg Variations, BWV 988: Aria\", \"Clair de Lune, L. 32\", \"Sonata No. 14 \\\"Moonlight\\\" in C-Sharp Minor\\\", Op. 27 No. 2: I. Adagio sostenuto\", \"Miroirs: III. Une barque sur l'oc\\u00e9an\", \"Nocturne No.2 In E Flat, Op.9 No.2\", \"Cello Concerto No. 1 in C Major, Hob. VIIb:1: II. Adagio\", \"Lyric Pieces, Book 5, Op. 54: Nocturne\", \"Piano Concerto No. 21 in C Major, K. 467 \\\"Elvira Madigan\\\": II. Andante\", \"8 Humoresques, Op. 101, B. 187: No. 7, Poco lento e grazioso (Transcribed by Oscar Morawetz for Violin, Cello & Orchestra)\", \"Sechs Klavierst\\u00fccke, Op. 118: II. Intermezzo in A Major\", \"The Four Seasons - Violin Concerto in F Minor, Op. 8 No. 4, RV 297 \\\"Winter\\\": I. Allegro non molto\", \"Nabucco / Act 3: Va, pensiero, sull'ali dorate\", \"Die Walkure, Act III: Ride of the Valkyries\", \"6 Impromptus, Op. 5: Impromptu VI\", \"Pini di Roma (The Pines of Rome): III. I pini del Gianiclo\", \"Violin Sonata in A major, FWV 8: IV. Allegretto poco mosso\", \"Minuet in A Major, D. 334\", \"Gianni Schicchi: \\\"O mio Babbino caro\\\"\", \"An der sch\\u00f6nen blauen Donau, Op.314\", \"Symphony No. 4 in E-Flat Major, WAB 104, \\\"Romantic\\\": I. Bewegt, nicht zu schnell - Live\", \"4 Lieder, Op. 27, TrV 170: IV. Morgen! (Arr. for Cello and Piano by Julian Riem)\", \"Lieder ohne Worte (Songs without Words), Book 2, Op. 30: No. 7 in E-Flat Major, Op. 30, No. 1\", \"The Planets, Op. 32: IV. Jupiter, the Bringer of Jollity\", \"Violin Concerto No.1 in G minor, Op.26: 1. Vorspiel (Allegro moderato)\", \"The Lark Ascending\", \"Cello Concerto in E Minor, Op.85 (1997 - Remaster): I. Adagio - Moderato\", \"Symphonie fantastique, Op. 14: Symphonie fantastique, Op. 14: IV. Marche au supplice\", \"3 Small Tone Poems: No. 1. Summer Evening\", \"Liebestraume, S541/R211 : No. 3: Nocturne in A-Flat Major\", \"Carnival of the Animals, R. 125: The Swan\", \"Khachaturian: Spartacus (Highlights from the Ballet): Adagio of Spartacus and Phrygia\", \"Gymnop\\u00e9die No. 1\", \"Faur\\u00e9: Pavane in F-Sharp Minor, Op. 50\", \"Adagio in G Minor\", \"Die Moldau\", \"Barcarolle\", \"Barber: Adagio for Strings\", \"Mahler: Symphony No. 5 in C-Sharp Minor: IV. Adagietto\", \"Cello Concerto in C Major, G. 477: II. Largo\", \"Kinderszenen, Op. 15: No. 7 in F Major, Tr\\u00e4umerei\", \"Overture Candide\", \"Jazz Suite No. 2: VI. Waltz 2\", \"Dido and Aeneas, Z. 626 / Act 3: \\\"When I Am Laid In Earth\\\" Dido's Lamento (Arr. For Cello And Strings By Mathieu Herzog)\", \"6 Violin Sonatas, Op. 10b No. 2 in G Major, J. 100: II. Adagio\", \"Carmen, Act I: No.5 Habanera : L'amour est un oiseau rebelle (Carmen/Cigari\\u00e8res/Jeunes gens/Dragons)\", \"Mascagni: Cavalleria rusticana: Intermezzo\", \"Delibes: Lakm\\u00e9, Act 1: \\\"D\\u00f4me \\u00e9pais, le jasmin\\\" (Lakm\\u00e9, Mallika)\", \"Rodrigo: Concierto de Aranjuez: II. Adagio\", \"Rhapsody In Blue\", \"Weint nicht um meinen Tod\", \"Das Verlassene M\\u00e4gdlein\", \"The Rite of Spring: Part One: Adoration of the Earth: Introduction\", \"Paganini: 24 Caprices, Op. 1: No. 24 in A Minor (Tema con variazioni. Quasi presto)\", \"Ave Maria\", \"Meditation: M\\u00e9ditation from Tha\\u00efs\", \"Monteverdi: L'incoronazione di Poppea, SV 308, Act 3: \\\"Pur ti miro\\\" (Neron, Popea)\", \"Pergolesi: Stabat Mater: I. Stabat Mater dolorosa\", \"Carmina Burana / 1. Primo vere: \\\"Veris leta facies\\\"\", \"Nocturne\", \"Radetzky March, Op. 228\", \"El amor brujo: Danza ritual del fuego, para ahuyentar los malos esp\\u00edritus\", \"Serenade for Strings in C major, Op. 48: II. Walzer: Moderato, tempo di valse\", \"Dance of the Hours\", \"Piano Concerto No. 2 in C Minor, Op. 18: 2. Adagio sostenuto\", \"Orfeo ed Euridice, Wq. 30 - Arranged Sgambati / Act 2: Melodie dell'Orfeo\", \"Il barbiere di Siviglia: Overture (Sinfonia)\", \"Po\\u00e8me for Violin and Orchestra, Op. 25\", \"Pride and Prejudice Suite: III. Elizabeth and Mr. Darcy\", \"Liturgie des Cat\\u00e9chum\\u00e8nes (B\\u00e9nis le Seigneur, \\u00f4 mon \\u00e2me)\", \"Copland: Appalachian Spring: VII. Doppio movimento (Variations on a Shaker Hymn - Simple Gifts)\", \"Scheherazade: The Tale of the Kalendar Prince\", \"Sonata in A Minor, K.109: Adagio\", \"Notturno for Strings and Harp\", \"War Requiem, Op. 66 / Libera me: 6c. Let Us Sleep Now...In Paradisum\", \"Incises\", \"Concerto grosso in G minor, Op.6, No.8 \\\"fatto per la notte di Natale\\\": 3. Adagio - Allegro - Adagio\", \"Romanza in F Major\", \"Erbarm dich mein, o Herre Gott, SWV 148\", \"Liebesleid (Love's Sorrow)\", \"Kanon und Gigue\", \"Music for Strings, Percussion and Celesta, Sz. 106: 3. Adagio\", \"Keyboard Concerto in G Major, Wq. 44: II. Andantino\", \"Prokofiev: Romeo and Juliet, Op. 64, Act 1: No. 13, Dance of the Knights (Complete Ballet)\", \"Messe de Nostre Dame: Sanctus\", \"Piano Sonata No.17 in D minor, Op.31 No.2 \\u2018Tempest'\", \"Lontano\", \"Hary Janos Suite: V. Kozjatek (Intermezzo)\", \"Al dolce soun\", \"Bellini: Norma, Act 1: \\\"Casta diva\\\" (Norma, Chorus)\", \"In ecclesiis (a 14), C78\", \"Missa Papae Marcelli: Kyrie\", \"Il barbiere di Siviglia: Overture (Sinfonia)\", \"Ave maris stella\", \"Suite for Violin, Clarinet and Piano, Op. 157b: II. Divertissement. Anim\\u00e9\", \"5 Preludes, W419: No. 5 in D Major\", \"Cassad\\u00f3: Toccata (in the Style of Frescobaldi)\", \"Mozart, Leopold: Toy Symphony: I. Allegro\", \"T\\u00e5gen Letter\", \"Spem in alium (The Forty-Part Motet)\"], \"legendgroup\": \"classical\", \"marker\": {\"color\": \"#636efa\", \"symbol\": \"circle\"}, \"mode\": \"markers\", \"name\": \"classical\", \"orientation\": \"v\", \"showlegend\": true, \"type\": \"scatter\", \"x\": [67, 130, 65, 170, 75, 79, 61, 72, 144, 98, 69, 158, 73, 89, 62, 81, 94, 91, 89, 94, 70, 174, 67, 132, 170, 74, 96, 146, 90, 60, 118, 88, 72, 70, 89, 76, 128, 73, 82, 70, 130, 159, 107, 76, 81, 123, 84, 125, 84, 74, 74, 69, 87, 111, 73, 89, 76, 138, 54, 81, 104, 141, 66, 76, 140, 69, 97, 91, 84, 70, 82, 61, 97, 75, 100, 172, 120, 71, 74, 97, 152, 84, 86, 85, 132, 75, 79, 110, 81, 93, 71, 136, 92, 70, 83, 85, 91, 116, 110, 124], \"xaxis\": \"x\", \"y\": [33, 13, 5, 5, 47, 9, 65, 43, 32, 60, 6, 163, 21, 219, 5, 10, 135, 5, 196, 25, 65, 12, 16, 130, 97, 12, 97, 207, 44, 34, 7, 106, 12, 57, 279, 224, 81, 73, 52, 7, 12, 428, 184, 60, 3, 59, 115, 119, 98, 247, 36, 4, 24, 128, 2, 70, 62, 36, 2, 104, 536, 118, 122, 31, 54, 4, 264, 124, 125, 24, 102, 63, 38, 80, 63, 282, 91, 160, 54, 169, 230, 47, 27, 101, 98, 112, 36, 99, 113, 167, 106, 156, 140, 44, 22, 104, 121, 194, 81, 228], \"yaxis\": \"y\"}, {\"customdata\": [[\"Diamond Rio\"], [\"Lonestar\"], [\"Clay Walker\"], [\"Trisha Yearwood\"], [\"Brooks & Dunn\"], [\"Jo Dee Messina\"], [\"Randy Travis\"], [\"John Michael Montgomery\"], [\"Mark Chesnutt\"], [\"Travis Tritt\"], [\"Joe Diffie\"], [\"Tracy Byrd\"], [\"Tracy Lawrence\"], [\"Trace Adkins\"], [\"Collin Raye\"], [\"Sammy Kershaw\"], [\"Reba McEntire\"], [\"Clint Black\"], [\"Craig Morgan\"], [\"Josh Turner\"], [\"Martina McBride\"], [\"Gretchen Wilson\"], [\"Rodney Atkins\"], [\"Sara Evans\"], [\"Terri Clark\"], [\"Big & Rich\"], [\"Joe Nichols\"], [\"Chris Cagle\"], [\"Alabama\"], [\"Tim McGraw\"], [\"George Strait\"], [\"Sawyer Brown\"], [\"Billy Currington\"], [\"Gary Allan\"], [\"Shenandoah\"], [\"Faith Hill\"], [\"Phil Vassar\"], [\"Mark Wills\"], [\"Rascal Flatts\"], [\"Montgomery Gentry\"], [\"Brad Paisley\"], [\"Lee Ann Womack\"], [\"Vince Gill\"], [\"Neal McCoy\"], [\"Keith Urban\"], [\"Aaron Tippin\"], [\"John Anderson\"], [\"The Judds\"], [\"Little Big Town\"], [\"Toby Keith\"], [\"Pam Tillis\"], [\"Dierks Bentley\"], [\"Kenny Chesney\"], [\"Little Texas\"], [\"Jason Michael Carroll\"], [\"Alan Jackson\"], [\"Blake Shelton\"], [\"Miranda Lambert\"], [\"Tanya Tucker\"], [\"Darryl Worley\"], [\"David Lee Murphy\"], [\"Sugarland\"], [\"Deana Carter\"], [\"Lorrie Morgan\"], [\"BlackHawk\"], [\"Randy Houser\"], [\"Keith Whitley\"], [\"Darius Rucker\"], [\"Daryle Singletary\"], [\"Chris LeDoux\"], [\"Jake Owen\"], [\"Chris Young\"], [\"Lady A\"], [\"Patty Loveless\"], [\"Confederate Railroad\"], [\"Keith Anderson\"], [\"Eric Church\"], [\"Doug Stone\"], [\"Emerson Drive\"], [\"Ricky Van Shelton\"], [\"Mel McDaniel\"], [\"Easton Corbin\"], [\"Steve Wariner\"], [\"Kellie Pickler\"], [\"Craig Campbell\"], [\"Josh Gracin\"], [\"Dan Seals\"], [\"Restless Heart\"], [\"Justin Moore\"], [\"The Band Perry\"], [\"Andy Griggs\"], [\"Ronnie Milsap\"], [\"Ty Herndon\"], [\"Jamey Johnson\"], [\"Earl Thomas Conley\"], [\"Wynonna\"], [\"Jason Aldean\"], [\"Jerrod Niemann\"], [\"Trick Pony\"], [\"Trent Tomlinson\"]], \"hovertemplate\": \"<b>%{hovertext}</b><br><br>genre=country<br>tempo=%{x}<br>energy=%{y}<br>artist=%{customdata[0]}<extra></extra>\", \"hovertext\": [\"Meet In the Middle\", \"Amazed\", \"She Won't Be Lonely Long\", \"She's In Love With The Boy - Single Version\", \"Neon Moon\", \"Bye-Bye\", \"Forever and Ever, Amen\", \"Sold (The Grundy County Auction Incident)\", \"Bubba Shot The Jukebox\", \"It's A Great Day To Be Alive\", \"John Deere Green\", \"Watermelon Crawl\", \"Time Marches On\", \"You're Gonna Miss This\", \"Love, Me\", \"She Don't Know She's Beautiful\", \"Fancy\", \"Killin' Time\", \"Redneck Yacht Club\", \"Your Man\", \"Independence Day\", \"Redneck Woman\", \"Caught Up In The Country\", \"A Little Bit Stronger\", \"Better Things To Do\", \"Save a Horse (Ride a Cowboy)\", \"Tequila Makes Her Clothes Fall Off\", \"What Kinda Gone\", \"Song of the South\", \"Undivided\", \"Check Yes Or No\", \"Some Girls Do\", \"Good Directions\", \"Every Storm (Runs Out Of Rain)\", \"Two Dozen Roses\", \"This Kiss\", \"Just Another Day In Paradise\", \"19 Somethin' - Greatest Hits Version\", \"Life is a Highway\", \"Where I Come From\", \"Whiskey Lullaby (feat. Alison Krauss)\", \"I Hope You Dance\", \"Don't Let Our Love Start Slippin' Away\", \"Billy's Got His Beer Goggles On - Remastered Version\", \"One Too Many\", \"You've Got to Stand for Something\", \"Straight Tequila Night\", \"Grandpa (Tell Me 'Bout The Good Old Days)\", \"Wine, Beer, Whiskey\", \"Should've Been A Cowboy\", \"Maybe It Was Memphis\", \"Gone\", \"American Kids\", \"God Blessed Texas\", \"Livin' Our Love Song\", \"It's Five O'Clock Somewhere\", \"God's Country\", \"Settling Down\", \"Delta Dawn\", \"Have You Forgotten?\", \"Dust On The Bottle\", \"Stuck Like Glue\", \"Strawberry Wine\", \"Except for Monday\", \"Goodbye Says It All\", \"How Country Feels\", \"Don't Close Your Eyes\", \"Wagon Wheel\", \"Too Much Fun\", \"This Cowboy's Hat\", \"Made For You\", \"Famous Friends\", \"Need You Now\", \"I Try to Think About Elvis\", \"Trashy Women - Remastered Version\", \"Pickin' Wildflowers\", \"Hell Of A View\", \"Why Didn't I Think Of That\", \"Just Got Paid\", \"Keep It Between The Lines\", \"Louisiana Saturday Night\", \"All Over The Road\", \"Holes In The Floor Of Heaven\", \"Best Days of Your Life\", \"Outskirts of Heaven\", \"Nothin' To Lose\", \"Meet Me In Montana\", \"When She Cries\", \"Why We Drink\", \"If I Die Young\", \"You Won't Ever Be Lonely\", \"Smoky Mountain Rain\", \"What Mattered Most\", \"In Color\", \"Holding Her and Loving You\", \"No One Else On Earth\", \"You Make It Easy\", \"Drink to That All Night\", \"Pour Me\", \"One Wing In The Fire\"], \"legendgroup\": \"country\", \"marker\": {\"color\": \"#EF553B\", \"symbol\": \"circle\"}, \"mode\": \"markers\", \"name\": \"country\", \"orientation\": \"v\", \"showlegend\": true, \"type\": \"scatter\", \"x\": [91, 139, 113, 124, 102, 134, 90, 115, 165, 128, 130, 136, 118, 154, 106, 116, 94, 121, 168, 100, 118, 185, 124, 147, 150, 102, 93, 172, 162, 90, 111, 139, 122, 107, 121, 186, 146, 89, 103, 90, 74, 151, 113, 106, 82, 83, 109, 201, 106, 133, 73, 149, 170, 128, 148, 125, 139, 90, 77, 160, 99, 83, 122, 170, 137, 104, 78, 148, 151, 90, 82, 102, 107, 160, 142, 152, 99, 121, 172, 89, 163, 199, 108, 127, 115, 121, 124, 105, 116, 130, 182, 140, 142, 129, 125, 98, 132, 115, 182, 142], \"xaxis\": \"x\", \"y\": [443, 543, 758, 698, 632, 868, 724, 848, 648, 653, 834, 723, 517, 665, 242, 646, 517, 491, 817, 637, 630, 825, 852, 650, 782, 896, 706, 861, 633, 814, 524, 852, 720, 693, 648, 804, 706, 816, 952, 852, 333, 443, 719, 775, 535, 585, 639, 239, 914, 793, 695, 746, 589, 766, 855, 768, 754, 756, 507, 625, 614, 795, 449, 600, 479, 839, 228, 660, 888, 297, 441, 855, 717, 697, 795, 716, 582, 596, 798, 282, 622, 841, 340, 862, 434, 876, 389, 521, 903, 497, 617, 577, 509, 404, 317, 861, 574, 846, 905, 526], \"yaxis\": \"y\"}, {\"customdata\": [[\"Alesso\"], [\"NERVO\"], [\"Afrojack\"], [\"Nicky Romero\"], [\"Don Diablo\"], [\"DVBBS\"], [\"Dillon Francis\"], [\"3LAU\"], [\"DubVision\"], [\"Syn Cole\"], [\"Borgeous\"], [\"Cash Cash\"], [\"Dada Life\"], [\"CAZZETTE\"], [\"Kaskade\"], [\"KSHMR\"], [\"Tritonal\"], [\"Sick Individuals\"], [\"ARTY\"], [\"Sebastian Ingrosso\"], [\"Audien\"], [\"Laidback Luke\"], [\"Quintino\"], [\"Hardwell\"], [\"Sander van Doorn\"], [\"Vicetone\"], [\"Krewella\"], [\"Madison Mars\"], [\"Bassjackers\"], [\"Bingo Players\"], [\"Deorro\"], [\"Steve Angello\"], [\"Yves V\"], [\"Morgan Page\"], [\"MOTi\"], [\"EDX\"], [\"Axwell /\\\\ Ingrosso\"], [\"Oliver Heldens\"], [\"Otto Knows\"], [\"Mike Williams\"], [\"Firebeatz\"], [\"Swedish House Mafia\"], [\"Michael Calfan\"], [\"Brooks\"], [\"Steve Aoki\"], [\"Jay Hardway\"], [\"R3HAB\"], [\"KREAM\"], [\"Adventure Club\"], [\"Thomas Gold\"], [\"Blasterjaxx\"], [\"Dirty South\"], [\"W&W\"], [\"Lucas & Steve\"], [\"Zedd\"], [\"Axwell\"], [\"Flux Pavilion\"], [\"VINAI\"], [\"Fedde Le Grand\"], [\"CID\"], [\"Showtek\"], [\"Dimitri Vangelis & Wyman\"], [\"Galantis\"], [\"Cheat Codes\"], [\"Loud Luxury\"], [\"Porter Robinson\"], [\"Julian Jordan\"], [\"Ummet Ozcan\"], [\"Felix Cartal\"], [\"Third Party\"], [\"Moguai\"], [\"Seven Lions\"], [\"Martin Solveig\"], [\"Dimitri Vegas & Like Mike\"], [\"Martin Jensen\"], [\"KAAZE\"], [\"Dannic\"], [\"Matisse & Sadko\"], [\"Eric Prydz\"], [\"John Dahlb\\u00e4ck\"], [\"deadmau5\"], [\"Jauz\"], [\"Chocolate Puma\"], [\"Stadiumx\"], [\"Matoma\"], [\"Tujamo\"], [\"Zeds Dead\"], [\"Wolfgang Gartner\"], [\"Madeon\"], [\"Yellow Claw\"], [\"Tchami\"], [\"Sam Feldt\"], [\"The Him\"], [\"Feed Me\"], [\"Seeb\"], [\"Mike Perry\"], [\"Chris Lake\"], [\"Martin Garrix\"], [\"Mako\"], [\"Ti\\u00ebsto\"]], \"hovertemplate\": \"<b>%{hovertext}</b><br><br>genre=edm<br>tempo=%{x}<br>energy=%{y}<br>artist=%{customdata[0]}<extra></extra>\", \"hovertext\": [\"Midnight (feat. Liam Payne)\", \"Gotta Be You\", \"Ten Feet Tall\", \"Nights With You\", \"Bad\", \"Tinted Eyes (feat. blackbear & 24kGoldn)\", \"Get Low\", \"Everything\", \"Back To Life\", \"Breathe (feat. kaspara)\", \"Leave\", \"I Found You\", \"This Time (Never Be Alone Again)\", \"She Wants Me Dead\", \"Flip Reset\", \"Kids (feat. MKLA)\", \"Getaway - Koven Remix\", \"Flame\", \"Save Me Tonight\", \"Reload - Radio Edit\", \"Never Letting Go - Edit\", \"Whistle (feat. Bertie Scott)\", \"Switch Back\", \"Bella Ciao - Mix Cut\", \"Spotlight\", \"Astronomia\", \"Alive\", \"New Vibe Who Dis (feat. Little League)\", \"Run Away\", \"Get Up (Rattle) [feat. Far East Movement] - Vocal Edit\", \"Five More Hours - Deorro x Chris Brown\", \"Show Me Love (feat. Robin S.)\", \"Not So Bad (feat. Emie)\", \"The Longest Road - deadmau5 Remix Edit\", \"Push It Right\", \"I Found You (Neptune)\", \"More Than You Know\", \"Gecko (Overdrive) - Radio Edit\", \"Million Voices - Radio Edit\", \"Wait Another Day\", \"Bad Habit\", \"Don't You Worry Child - Radio Edit\", \"No Lie\", \"Voices (feat. TZAR)\", \"Just Hold On\", \"Electric Elephants\", \"All Around The World (La La La)\", \"Water (feat. ZOHARA)\", \"High Like This\", \"Wildest Dream\", \"Narco\", \"City Of Dreams - Radio Edit\", \"Rave Love\", \"No Diggity\", \"The Middle\", \"Nobody Else - A-Trak Remix\", \"I Can't Stop\", \"Rise Up (feat. Vamero)\", \"Put Your Hands Up For Detroit - Dub Mix\", \"Jumpin'\", \"Pum Pum\", \"Coming Home\", \"Dandelion\", \"No Promises (feat. Demi Lovato)\", \"Body\", \"Goodbye To A World\", \"Let Me Be The One\", \"Wonderful Days\", \"Mine\", \"Take Me Away\", \"Hold On (feat. Cheat Codes) - 2020 Edit\", \"First Time (feat. Dylan Matthew)\", \"Intoxicated - Radio Edit\", \"Say My Name\", \"Solo Dance\", \"I Should Have Walked Away\", \"Let You Down\", \"Don\\u2019t Tell Me\", \"Call on Me - Radio Mix\", \"Raven\", \"Ghosts 'n' Stuff\", \"Oceans & Galaxies\", \"Scrub The Ground (feat. DJ Funk)\", \"Know You Better\", \"Old Thing Back (feat. Ja Rule and Ralph Tresvant)\", \"Lonely\", \"Neck And Neck - DNMO Remix\", \"Battlestations\", \"All My Friends\", \"DJ Turn It Up\", \"Praise (feat. Gunna)\", \"Post Malone (feat. RANI)\", \"Tragic (feat. Amber Van Day)\", \"Love Is All I Got\", \"Unfamiliar\", \"The Ocean (feat. Shy Martin)\", \"Turn off the Lights\", \"Pressure (feat. Tove Lo)\", \"Breathe\", \"The Business\"], \"legendgroup\": \"edm\", \"marker\": {\"color\": \"#00cc96\", \"symbol\": \"circle\"}, \"mode\": \"markers\", \"name\": \"edm\", \"orientation\": \"v\", \"showlegend\": true, \"type\": \"scatter\", \"x\": [144, 123, 127, 150, 123, 121, 101, 120, 126, 121, 115, 129, 128, 106, 126, 128, 172, 128, 125, 128, 127, 127, 128, 129, 101, 126, 127, 123, 129, 127, 127, 129, 126, 124, 124, 124, 123, 124, 125, 126, 124, 129, 122, 127, 114, 127, 124, 121, 150, 127, 129, 127, 160, 121, 107, 123, 139, 126, 128, 125, 130, 127, 117, 112, 121, 95, 123, 106, 106, 127, 124, 150, 125, 118, 114, 129, 122, 126, 126, 128, 127, 145, 126, 122, 97, 127, 150, 129, 106, 102, 124, 107, 123, 130, 184, 90, 125, 114, 152, 120], \"xaxis\": \"x\", \"y\": [648, 869, 861, 745, 738, 801, 932, 955, 864, 749, 665, 761, 871, 837, 916, 866, 914, 920, 899, 724, 765, 922, 925, 900, 934, 945, 827, 933, 908, 985, 883, 882, 674, 737, 834, 916, 741, 885, 894, 912, 888, 832, 701, 726, 932, 927, 859, 738, 862, 839, 943, 818, 895, 709, 657, 687, 601, 927, 961, 690, 791, 921, 660, 667, 774, 350, 876, 824, 839, 911, 802, 677, 607, 788, 846, 668, 882, 785, 837, 896, 617, 625, 887, 830, 858, 823, 591, 665, 764, 696, 681, 642, 715, 771, 677, 575, 745, 558, 571, 620], \"yaxis\": \"y\"}, {\"customdata\": [[\"McCoy Tyner\"], [\"Wayne Shorter\"], [\"Joe Henderson\"], [\"Freddie Hubbard\"], [\"Dexter Gordon\"], [\"Sonny Rollins\"], [\"Bill Evans Trio\"], [\"Clifford Brown\"], [\"Ahmad Jamal\"], [\"Bud Powell\"], [\"Joshua Redman\"], [\"Cannonball Adderley\"], [\"Horace Silver\"], [\"Art Blakey & The Jazz Messengers\"], [\"Oliver Nelson\"], [\"Miles Davis Quintet\"], [\"Lee Morgan\"], [\"Thelonious Monk\"], [\"Dizzy Gillespie\"], [\"Hank Mobley\"], [\"Charlie Parker\"], [\"The Modern Jazz Quartet\"], [\"Art Tatum\"], [\"Kenny Dorham\"], [\"Lee Konitz\"], [\"Ron Carter\"], [\"Roy Hargrove\"], [\"Lester Young\"], [\"Oscar Peterson Trio\"], [\"Ahmad Jamal Trio\"], [\"Charles Mingus\"], [\"John Coltrane Quartet\"], [\"Red Garland\"], [\"Wynton Marsalis\"], [\"Wes Montgomery\"], [\"Bill Evans\"], [\"Art Farmer\"], [\"Sonny Stitt\"], [\"Art Blakey\"], [\"Erroll Garner\"], [\"Chris Potter\"], [\"Coleman Hawkins\"], [\"Tommy Flanagan\"], [\"Sonny Clark\"], [\"Ben Webster\"], [\"Joe Lovano\"], [\"Art Pepper\"], [\"The Dave Brubeck Quartet\"], [\"Grant Green\"], [\"Kenny Burrell\"], [\"Oscar Peterson\"], [\"Milt Jackson\"], [\"Brad Mehldau\"], [\"The Cannonball Adderley Quintet\"], [\"Paul Desmond\"], [\"John Coltrane\"], [\"Gerry Mulligan\"], [\"Kenny Garrett\"], [\"Thelonious Monk Quartet\"], [\"Bobby Hutcherson\"], [\"Gene Ammons\"], [\"Ornette Coleman\"], [\"Count Basie\"], [\"Jimmy Smith\"], [\"Kurt Rosenwinkel\"], [\"Jackie McLean\"], [\"Christian McBride\"], [\"Jim Hall\"], [\"Blue Mitchell\"], [\"Charlie Haden\"], [\"Charles Lloyd\"], [\"Wynton Kelly\"], [\"Yusef Lateef\"], [\"Benny Golson\"], [\"Hank Jones\"], [\"Stanley Turrentine\"], [\"Max Roach\"], [\"Chick Corea\"], [\"Brad Mehldau Trio\"], [\"Herbie Hancock\"], [\"Eric Dolphy\"], [\"Elvin Jones\"], [\"Duke Ellington\"], [\"Kenny Barron\"], [\"Gary Burton\"], [\"Keith Jarrett Trio\"], [\"Miles Davis Quartet\"], [\"Miles Davis\"], [\"Horace Silver Quintet\"], [\"Chet Baker\"], [\"Michael Brecker\"], [\"Dave Brubeck\"], [\"Benny Carter\"], [\"Miles Davis Sextet\"], [\"McCoy Tyner Trio\"], [\"Donald Byrd\"], [\"Lou Donaldson\"], [\"Zoot Sims\"], [\"Archie Shepp\"], [\"J.J. Johnson\"]], \"hovertemplate\": \"<b>%{hovertext}</b><br><br>genre=jazz<br>tempo=%{x}<br>energy=%{y}<br>artist=%{customdata[0]}<extra></extra>\", \"hovertext\": [\"When Sunny Gets Blue\", \"Infant Eyes - Remastered1998/Rudy Van Gelder Edition\", \"Blue Bossa - Remastered\", \"Mirrors - Remastered 2004\", \"The Shadow of Your Smile\", \"St. Thomas\", \"My Foolish Heart\", \"Sandu\", \"Poinciana\", \"Polka Dots And Moonbeams - Remastered\", \"Right Back Round Again (feat. Brad Mehldau, Christian McBride & Brian Blade)\", \"Mercy, Mercy, Mercy\", \"Song For My Father\", \"Moanin' - Remastered\", \"Stolen Moments\", \"It Never Entered My Mind\", \"I Remember Clifford - Rudy Van Gelder Edition; 2007 Digital Remaster\", \"'Round Midnight\", \"On The Sunny Side Of The Street\", \"Remember - Remastered\", \"Summertime\", \"Softly As In A Morning Sunrise\", \"Blue Skies - 2000 Remastered Version\", \"Alone Together - Rudy Van Gelder Remaster\", \"I Remember You\", \"Bye Bye Blackbird\", \"Strasbourg / St. Denis\", \"There Will Never Be Another You\", \"I Got It Bad And That Ain't Good\", \"Dolphin Dance\", \"Goodbye Pork Pie Hat\", \"Say It (Over And Over Again)\", \"Almost Like Being In Love\", \"Where or When\", \"A Day In The Life\", \"Skating In Central Park\", \"When Your Lover Has Gone - Instrumental\", \"Au Privave\", \"No Problem - Pt. 1 / BOF \\\"Les liaisons dangereuses\\\"\", \"Misty - Remastered 2020\", \"Southbound\", \"Cocktails For Two\", \"Angel Eyes - Studio\", \"Cool Struttin'\", \"Sunday\", \"Stella By Starlight\", \"You Go to My Head - 2007 Remastered Version\", \"Take Five\", \"Maybe Tomorrow\", \"Chitlins Con Carne\", \"Stormy Weather\", \"Bags' Groove\", \"Blame It on My Youth\", \"Work Song - Remastered\", \"A Taste of Honey - Live\", \"My One And Only Love\", \"Stardust\", \"Before It's Time to Say Goodbye\", \"Monk's Mood - Live At Carnegie Hall, New York/1957\", \"Stardust\", \"My Romance - Rudy Van Gelder Remaster\", \"Lonely Woman\", \"Splanky\", \"Midnight Special - Rudy Van Gelder Digital Remaster/2007\", \"You've Changed\", \"Yams\", \"Sister Rosa\", \"Young One for Debra\", \"The People In Nassau\", \"Going Home\", \"How Can I Tell You - Live\", \"Someday My Prince Will Come\", \"Love Theme From Spartacus - Remastered\", \"From Dream to Dream\", \"Eleanor\", \"Journey Into The Melody\", \"Lonesome Lover\", \"Crystal Silence\", \"Seymour Reads the Constitution\", \"Cantaloupe Island - Remastered\", \"Hat And Beard\", \"Oriental Flower\", \"In A Sentimental Mood\", \"Passion Flower - Instrumental\", \"Senor Mouse\", \"You've Changed\", \"Blue Haze\", \"Blue in Green (feat. John Coltrane & Bill Evans)\", \"Senor Blues - Alternate 45 Take/Rudy Van Gelder Edition/2000 Digital Remaster/24-Bit Mastering\", \"I Fall In Love Too Easily - Vocal Version\", \"The Nearness Of You\", \"Besame Mucho\", \"Crazy Rhythm\", \"Donna\", \"Sunset\", \"Cristo Redentor - Remastered\", \"Over The Rainbow\", \"Evening In Paris\", \"Goin' home\", \"What Is This Thing Called Love\"], \"legendgroup\": \"jazz\", \"marker\": {\"color\": \"#ab63fa\", \"symbol\": \"circle\"}, \"mode\": \"markers\", \"name\": \"jazz\", \"orientation\": \"v\", \"showlegend\": true, \"type\": \"scatter\", \"x\": [60, 138, 81, 102, 110, 104, 114, 68, 89, 100, 124, 84, 127, 130, 107, 116, 62, 116, 120, 165, 132, 80, 87, 60, 115, 139, 103, 83, 49, 148, 86, 66, 93, 124, 98, 124, 106, 134, 186, 178, 82, 83, 110, 108, 104, 88, 67, 174, 113, 132, 120, 174, 102, 169, 124, 121, 84, 117, 68, 64, 95, 81, 120, 90, 112, 82, 126, 79, 110, 90, 90, 114, 133, 169, 63, 98, 113, 76, 93, 116, 81, 127, 108, 103, 111, 107, 71, 110, 145, 128, 98, 126, 118, 81, 131, 173, 106, 62, 114, 119], \"xaxis\": \"x\", \"y\": [114, 83, 366, 208, 35, 607, 121, 447, 90, 89, 542, 261, 671, 283, 187, 217, 278, 320, 352, 403, 342, 327, 151, 61, 305, 236, 445, 38, 52, 232, 93, 124, 346, 49, 364, 29, 87, 476, 660, 145, 430, 125, 145, 480, 309, 163, 149, 260, 165, 335, 177, 251, 98, 312, 151, 71, 67, 114, 162, 33, 5, 376, 376, 277, 125, 293, 468, 13, 552, 22, 300, 327, 379, 97, 43, 29, 429, 18, 284, 583, 644, 272, 305, 231, 205, 129, 230, 16, 374, 65, 152, 257, 647, 440, 84, 203, 82, 162, 36, 458], \"yaxis\": \"y\"}, {\"customdata\": [[\"Axian\"], [\"Arbour\"], [\"Knowmadic\"], [\"Harris Cole\"], [\"leaf beach\"], [\"Smoke Trees\"], [\"Fujitsu\"], [\"Plusma\"], [\"Masked Man\"], [\"aimless\"], [\"mommy\"], [\".ihaveaface\"], [\"Kendall Miles\"], [\"Oatmello\"], [\"fantompower\"], [\"Dweeb\"], [\".Sinh\"], [\"Flughand\"], [\"invention_\"], [\"Misc.Inc\"], [\"Smuv\"], [\"Toonorth\"], [\"Smeyeul.\"], [\"Sleepdealer\"], [\"SPEECHLESS\"], [\"H E R B\"], [\"Delayde\"], [\"Kuranes\"], [\"jrd.\"], [\"Barnes Blvd.\"], [\"Sebastian Kamae\"], [\"SwuM\"], [\"\\u00d8DYSSEE\"], [\"Blvk\"], [\"A L E X\"], [\"Lost Son\"], [\"santpoort\"], [\"jhfly\"], [\"Hazy Year\"], [\"steezy prime\"], [\"Sugi.wa\"], [\"halberd\"], [\"Bertholet\"], [\"Kavv\"], [\"ocha\"], [\"Nohidea\"], [\"Ameba\"], [\"mt. fujitive\"], [\"Nokiaa\"], [\"Made in M\"], [\"Juan Rios\"], [\"Flavors\"], [\"eevee\"], [\"Chill Children\"], [\"Joe Nora\"], [\"emune\"], [\"Caleb Belkin\"], [\"[ocean jams]\"], [\"j'san\"], [\"DRWN.\"], [\"Ajmw\"], [\"Idealism\"], [\"charlie to\\u00d8 human\"], [\"Rook1e\"], [\"Psalm Trees\"], [\"twuan\"], [\"Elijah Who\"], [\"H.1\"], [\"The Deli\"], [\"Keem the Cipher\"], [\"Leavv\"], [\"B-Side\"], [\"BROCKBEATS\"], [\"Aso\"], [\"Ibrahim\"], [\"Tesk\"], [\"quickly, quickly\"], [\"Kudasaibeats\"], [\"Brenky\"], [\"Philanthrope\"], [\"Limes\"], [\"oofoe\"], [\"Joe Corfield\"], [\"[bsd.u]\"], [\"Stan Forebee\"], [\"Jinsang\"], [\"Kazam\"], [\"furino\"], [\"Omaure\"], [\"soho\"], [\"stream_error\"], [\"Bassti\"], [\"Konteks\"], [\"eery\"], [\"Flitz&Suppe\"], [\"weird inside\"], [\"Sarcastic Sounds\"], [\"potsu\"], [\"chief.\"], [\"Tomppabeats\"]], \"hovertemplate\": \"<b>%{hovertext}</b><br><br>genre=lo-fi<br>tempo=%{x}<br>energy=%{y}<br>artist=%{customdata[0]}<extra></extra>\", \"hovertext\": [\"Flight\", \"Sundown\", \"Cascade\", \"Blue and Green\", \"Mirage\", \"Redux\", \"sand castles\", \"Troubadix\", \"It's Raining\", \"Every Second\", \"thinking of you\", \"Sweet Moments\", \"Dream Sequence\", \"Good Night\", \"Endless Ether\", \"Got Ur Money\", \"Jakarta\", \"fyrsta\", \"Levitating\", \"All I Ever Wanted\", \"Floating\", \"Effervescent\", \"send me a song\", \"Law\", \"Shangri-La\", \"Purpose\", \"sekao\", \"Hands Free\", \"Stay With Me\", \"Joan of Arc.\", \"Up\", \"With U\", \"Blue Lounge\", \"Divine\", \"Proud of You\", \"Homecoming\", \"feather light melodies\", \"sheets\", \"Magnolia\", \"Compassion\", \"Almost Home\", \"coffee on the beach.\", \"Calcium\", \"Violet\", \"quilted hills\", \"sincerely, yours\", \"just you\", \"please do\", \"More Life\", \"Flightmode On\", \"Cascada\", \"by my side\", \"Serenity\", \"Squid x jhfly\", \"felt\", \"Hittin' Switches - Instrumental\", \"Lost Samurai\", \"NoMo\", \"Ghost in My Mind\", \"Go!\", \"Clouds\", \"ikigai\", \"Monday Morning 5/1/2017\", \"we'll stay inside when it rains\", \"You Don't Know\", \"Poems\", \"this girl\", \"Timeless\", \"5:32pm\", \"Escapism.\", \"Driftwood\", \"Pen Anubis\", \"in my love\", \"Sunsets\", \"A World at Peace\", \"Green Stamps\", \"Lie\", \"The Girl I Haven't Met\", \"Sweev\", \"Maple Leaf\", \"Jovial\", \"yellowish\", \"Wildflower\", \"hoodie weather\", \"Along the Yarra\", \"Egyptian Pools\", \"Chromatic\", \"i promise that i care much more than i show\", \"Midnight Snacks\", \"At Peace\", \"In Passing\", \"nothing but love\", \"Withy Nights\", \"woodwork\", \"Well Known Place\", \"doing laundry\", \"Wish You Were Mine\", \"lovesick\", \"neff\", \"Dreammybeat\"], \"legendgroup\": \"lo-fi\", \"marker\": {\"color\": \"#FFA15A\", \"symbol\": \"circle\"}, \"mode\": \"markers\", \"name\": \"lo-fi\", \"orientation\": \"v\", \"showlegend\": true, \"type\": \"scatter\", \"x\": [84, 156, 50, 79, 172, 78, 129, 77, 81, 74, 160, 156, 121, 122, 126, 118, 76, 83, 65, 158, 85, 167, 139, 79, 160, 75, 159, 148, 70, 90, 79, 90, 80, 91, 104, 77, 147, 77, 79, 144, 85, 137, 80, 71, 148, 80, 172, 80, 90, 115, 140, 81, 77, 80, 85, 143, 89, 170, 134, 82, 62, 67, 89, 160, 88, 159, 69, 85, 86, 80, 88, 77, 172, 82, 80, 86, 129, 139, 107, 170, 69, 164, 91, 166, 87, 78, 79, 164, 83, 79, 151, 163, 75, 89, 82, 85, 158, 79, 157, 75], \"xaxis\": \"x\", \"y\": [411, 534, 444, 38, 329, 190, 312, 342, 371, 164, 84, 277, 439, 165, 377, 270, 176, 281, 294, 342, 266, 143, 161, 554, 650, 264, 375, 75, 86, 272, 288, 309, 307, 555, 281, 369, 456, 540, 350, 190, 68, 403, 236, 265, 241, 396, 185, 185, 258, 405, 391, 48, 363, 59, 354, 345, 430, 631, 357, 115, 169, 392, 347, 134, 289, 332, 133, 214, 186, 621, 130, 355, 545, 265, 131, 230, 375, 222, 238, 83, 185, 483, 132, 313, 339, 597, 331, 451, 477, 304, 257, 341, 181, 549, 173, 375, 468, 577, 61, 194], \"yaxis\": \"y\"}, {\"customdata\": [[\"King Diamond\"], [\"Overkill\"], [\"Mercyful Fate\"], [\"Iced Earth\"], [\"Annihilator\"], [\"Venom\"], [\"Kreator\"], [\"Judas Priest\"], [\"Testament\"], [\"Exodus\"], [\"Metal Church\"], [\"Accept\"], [\"Dio\"], [\"Candlemass\"], [\"Saxon\"], [\"Sodom\"], [\"Running Wild\"], [\"Savatage\"], [\"Helloween\"], [\"Anthrax\"], [\"Halford\"], [\"Diamond Head\"], [\"Bruce Dickinson\"], [\"Death Angel\"], [\"Nevermore\"], [\"Megadeth\"], [\"Heaven & Hell\"], [\"Manowar\"], [\"Destruction\"], [\"Mot\\u00f6rhead\"], [\"Celtic Frost\"], [\"Entombed\"], [\"W.A.S.P.\"], [\"Armored Saint\"], [\"Carcass\"], [\"Obituary\"], [\"Death\"], [\"Queensr\\u00ffche\"], [\"Iron Maiden\"], [\"Morbid Angel\"], [\"Voivod\"], [\"Anvil\"], [\"Grave Digger\"], [\"Slayer\"], [\"Bathory\"], [\"Black Sabbath\"], [\"Danzig\"], [\"Rainbow\"], [\"Flotsam & Jetsam\"], [\"Blind Guardian\"], [\"Sanctuary\"], [\"U.D.O.\"], [\"Yngwie Malmsteen\"], [\"Gamma Ray\"], [\"Deicide\"], [\"Dark Angel\"], [\"Children Of Bodom\"], [\"Sacred Reich\"], [\"Primal Fear\"], [\"Nuclear Assault\"], [\"Coroner\"], [\"Black Label Society\"], [\"Onslaught\"], [\"Angel Witch\"], [\"Dimmu Borgir\"], [\"Crimson Glory\"], [\"Possessed\"], [\"Vader\"], [\"HammerFall\"], [\"Enslaved\"], [\"Warlock\"], [\"Raven\"], [\"Cannibal Corpse\"], [\"Tankard\"], [\"Twisted Sister\"], [\"Demons & Wizards\"], [\"At The Gates\"], [\"Amon Amarth\"], [\"Dissection\"], [\"Bolt Thrower\"], [\"Immortal\"], [\"Sepultura\"], [\"Paradise Lost\"], [\"Grim Reaper\"], [\"Rob Halford\"], [\"Hypocrisy\"], [\"Exciter\"], [\"Fates Warning\"], [\"Emperor\"], [\"Razor\"], [\"Rage\"], [\"Alice Cooper\"], [\"Agent Steel\"], [\"Darkthrone\"], [\"Arch Enemy\"], [\"Satyricon\"], [\"Krokus\"], [\"Pantera\"], [\"Heathen\"], [\"Blaze Bayley\"]], \"hovertemplate\": \"<b>%{hovertext}</b><br><br>genre=metal<br>tempo=%{x}<br>energy=%{y}<br>artist=%{customdata[0]}<extra></extra>\", \"hovertext\": [\"Abigail - Reissue\", \"Elimination\", \"Evil\", \"Watching over Me - Remixed & Remastered\", \"Alison Hell\", \"Black Metal\", \"666 - World Divided\", \"Breaking the Law\", \"Return to Serenity\", \"Blacklist\", \"Metal Church\", \"Balls to the Wall\", \"Holy Diver\", \"Solitude\", \"Princess of the Night - 2009 Remastered Version\", \"Agent Orange\", \"Under Jolly Roger\", \"Hall of the Mountain King\", \"I Want Out\", \"Madhouse\", \"Till the Day I Die\", \"Am I Evil?\", \"Tears of the Dragon - 2001 Remastered Version\", \"The Moth\", \"Believe in Nothing\", \"Symphony Of Destruction\", \"Bible Black\", \"Kings of Metal\", \"Thrash Till Death\", \"Ace of Spades\", \"Mexican Radio\", \"Left Hand Path\", \"I Wanna Be Somebody\", \"End of the Attention Span\", \"Heartwork\", \"Redneck Stomp\", \"Voice of the Soul\", \"Silent Lucidity - Remastered 2003\", \"The Trooper - 2015 Remaster\", \"Immortal Rites\", \"Astronomy Domine\", \"Metal On Metal\", \"Rebellion (The Clans Are Marching) - Remastered Version\", \"Raining Blood\", \"A Fine Day to Die\", \"Paranoid\", \"Mother\", \"The Temple Of The King\", \"Hammerhead\", \"Mirror Mirror - Remastered 2007\", \"Future Tense\", \"Man and Machine\", \"Rising Force\", \"Master Of Confusion\", \"In the Minds of Evil\", \"Darkness Descends\", \"Are You Dead Yet\", \"The American Way\", \"I Will Be Gone\", \"Critical Mass\", \"Semtex Revolution\", \"Stillborn\", \"A Perfect Day to Die\", \"Angel Witch\", \"Interdimensional Summit\", \"Queen of the Masquerade\", \"The Exorcist\", \"Triumph of Death\", \"Hearts on Fire\", \"What Else Is There - Bonus Version\", \"All We Are\", \"Mind Over Metal\", \"Inhumane Harvest\", \"(Empty) Tankard\", \"We're Not Gonna Take It\", \"Fiddler on the Green - Remaster 2019\", \"Slaughter Of The Soul\", \"Twilight Of The Thunder God\", \"Maha-Kali\", \"The Killchain\", \"Withstand The Fall Of Time\", \"Roots Bloody Roots\", \"Small Town Boy\", \"See You In Hell\", \"Man On The Silver Mountain - feat. Doug Aldrich, Vinny Appice, Jeff Pilson, Scott Warren\", \"Eraser\", \"Heavy Metal Maniac\", \"One\", \"I Am The Black Wizards\", \"Hypertension\", \"Straight To Hell\", \"Poison\", \"Agents of Steel\", \"Transilvanian Hunger - Studio\", \"War Eternal\", \"K.I.N.G.\", \"Screaming in the Night\", \"Walk\", \"Empire of the Blind\", \"War Within Me\"], \"legendgroup\": \"metal\", \"marker\": {\"color\": \"#19d3f3\", \"symbol\": \"circle\"}, \"mode\": \"markers\", \"name\": \"metal\", \"orientation\": \"v\", \"showlegend\": true, \"type\": \"scatter\", \"x\": [146, 112, 133, 129, 101, 80, 97, 164, 112, 75, 102, 118, 91, 74, 107, 113, 161, 126, 91, 163, 90, 148, 140, 192, 133, 139, 81, 132, 187, 140, 178, 131, 164, 191, 91, 91, 79, 140, 159, 98, 126, 119, 131, 88, 122, 162, 148, 81, 155, 177, 105, 88, 117, 98, 97, 122, 96, 148, 134, 100, 111, 107, 146, 193, 140, 174, 96, 102, 90, 114, 131, 94, 60, 120, 149, 180, 79, 191, 109, 108, 133, 119, 126, 185, 110, 100, 119, 90, 104, 113, 104, 118, 191, 138, 155, 129, 96, 118, 105, 99], \"xaxis\": \"x\", \"y\": [937, 805, 905, 852, 978, 758, 959, 961, 613, 969, 947, 739, 783, 704, 797, 988, 958, 922, 859, 885, 724, 973, 620, 969, 891, 891, 783, 881, 988, 974, 933, 927, 825, 990, 995, 861, 572, 628, 908, 934, 888, 923, 893, 995, 931, 631, 763, 487, 950, 964, 728, 905, 958, 989, 889, 997, 961, 978, 411, 996, 790, 881, 971, 759, 969, 943, 982, 959, 901, 889, 835, 965, 947, 996, 924, 556, 975, 920, 844, 860, 964, 874, 905, 947, 915, 951, 919, 879, 947, 996, 858, 908, 991, 1000, 980, 957, 576, 704, 974, 957], \"yaxis\": \"y\"}, {\"customdata\": [[\"Selena Gomez\"], [\"Demi Lovato\"], [\"Alessia Cara\"], [\"ZAYN\"], [\"Camila Cabello\"], [\"Hailee Steinfeld\"], [\"Fifth Harmony\"], [\"Julia Michaels\"], [\"Ellie Goulding\"], [\"Halsey\"], [\"Zara Larsson\"], [\"Rita Ora\"], [\"Jonas Brothers\"], [\"Bebe Rexha\"], [\"Troye Sivan\"], [\"Nick Jonas\"], [\"Madison Beer\"], [\"Olivia O'Brien\"], [\"Bea Miller\"], [\"Jessie J\"], [\"The Vamps\"], [\"DNCE\"], [\"Tove Lo\"], [\"Anne-Marie\"], [\"Little Mix\"], [\"5 Seconds of Summer\"], [\"Niall Horan\"], [\"Zedd\"], [\"Selena Gomez & The Scene\"], [\"Noah Cyrus\"], [\"Meghan Trainor\"], [\"Bazzi\"], [\"Kesha\"], [\"Miley Cyrus\"], [\"Sabrina Carpenter\"], [\"Lauv\"], [\"Liam Payne\"], [\"Tate McRae\"], [\"Clean Bandit\"], [\"Shawn Mendes\"], [\"FLETCHER\"], [\"Charlie Puth\"], [\"Astrid S\"], [\"Ruel\"], [\"Why Don't We\"], [\"Sasha Sloan\"], [\"Mabel\"], [\"Kelly Clarkson\"], [\"Lennon Stella\"], [\"Katy Perry\"], [\"JP Saxe\"], [\"Carly Rae Jepsen\"], [\"Iggy Azalea\"], [\"PRETTYMUCH\"], [\"Cheat Codes\"], [\"Lorde\"], [\"Charlotte Lawrence\"], [\"Daya\"], [\"Fergie\"], [\"AJ Mitchell\"], [\"Sam Smith\"], [\"MAX\"], [\"Christina Perri\"], [\"James Arthur\"], [\"Jonas Blue\"], [\"MKTO\"], [\"Jess Glynne\"], [\"Dua Lipa\"], [\"NOTD\"], [\"OneRepublic\"], [\"Dean Lewis\"], [\"Jeremy Zucker\"], [\"Alexander 23\"], [\"Ruth B.\"], [\"Charli XCX\"], [\"Years & Years\"], [\"Pia Mia\"], [\"Hannah Montana\"], [\"Bridgit Mendler\"], [\"Tinashe\"], [\"Harry Styles\"], [\"Olly Murs\"], [\"Tori Kelly\"], [\"One Direction\"], [\"The Chainsmokers\"], [\"Olivia Rodrigo\"], [\"Nicki Minaj\"], [\"Kehlani\"], [\"James TW\"], [\"The Pussycat Dolls\"], [\"MARINA\"], [\"benny blanco\"], [\"JoJo\"], [\"FINNEAS\"], [\"James Bay\"], [\"Jason Derulo\"], [\"Jordin Sparks\"], [\"Christina Aguilera\"], [\"Rihanna\"], [\"Chelsea Cutler\"]], \"hovertemplate\": \"<b>%{hovertext}</b><br><br>genre=pop<br>tempo=%{x}<br>energy=%{y}<br>artist=%{customdata[0]}<extra></extra>\", \"hovertext\": [\"Baila Conmigo (with Rauw Alejandro)\", \"Met Him Last Night (feat. Ariana Grande)\", \"Scars To Your Beautiful\", \"Dusk Till Dawn (feat. Sia) - Radio Edit\", \"Havana (feat. Young Thug)\", \"Let Me Go (with Alesso, Florida Georgia Line & watt)\", \"Work from Home (feat. Ty Dolla $ign)\", \"Issues\", \"Love Me Like You Do - From \\\"Fifty Shades Of Grey\\\"\", \"Without Me\", \"Lush Life\", \"Big (feat. Gunna)\", \"Sucker\", \"Meant to Be (feat. Florida Georgia Line)\", \"Strawberries & Cigarettes\", \"Spaceman\", \"Selfish\", \"hate u love u\", \"feel something\", \"Bang Bang\", \"Somebody To You\", \"Cake By The Ocean\", \"Habits (Stay High)\", \"2002\", \"Sweet Melody\", \"Teeth\", \"Black And White\", \"The Middle\", \"Love You Like A Love Song\", \"July\", \"Like I'm Gonna Lose You (feat. John Legend)\", \"I.F.L.Y.\", \"TiK ToK\", \"Prisoner (feat. Dua Lipa)\", \"Skin\", \"I Like Me Better\", \"Strip That Down (feat. Quavo)\", \"you broke me first\", \"Tick Tock (feat. 24kGoldn)\", \"Se\\u00f1orita\", \"Bitter\", \"We Don't Talk Anymore (feat. Selena Gomez)\", \"Hurts So Good\", \"Painkiller\", \"Fallin\\u2019 (Adrenaline)\", \"Dancing With Your Ghost\", \"Don't Call Me Up\", \"Because of You\", \"Summer Feelings (feat. Charlie Puth) - From 'SCOOB!' The Album\", \"Last Friday Night (T.G.I.F.)\", \"If the World Was Ending - feat. Julia Michaels\", \"Call Me Maybe\", \"Fancy\", \"Phases\", \"No Promises (feat. Demi Lovato)\", \"Royals\", \"Joke's On You\", \"Sit Still, Look Pretty\", \"Big Girls Don't Cry (Personal)\", \"Slow Dance\", \"Diamonds\", \"Blueberry Eyes (feat. SUGA of BTS)\", \"A Thousand Years\", \"Say You Won't Let Go\", \"Perfect Strangers\", \"Classic\", \"I'll Be There\", \"Levitating (feat. DaBaby)\", \"I Don't Know Why\", \"Counting Stars\", \"Be Alright\", \"you were good to me\", \"IDK You Yet\", \"Dandelions\", \"Unlock it (feat. Kim Petras and Jay Park)\", \"King\", \"Do It Again\", \"I'll Always Remember You\", \"Ready or Not\", \"2 On (feat. ScHoolboy Q)\", \"Watermelon Sugar\", \"Troublemaker (feat. Flo Rida)\", \"I Was Made For Loving You\", \"What Makes You Beautiful\", \"Closer\", \"drivers license\", \"Starships\", \"Nights Like This (feat. Ty Dolla $ign)\", \"When You Love Someone\", \"Don't Cha\", \"Bubblegum Bitch\", \"Eastside (with Halsey & Khalid)\", \"Too Little Too Late - 2018\", \"Let's Fall in Love for the Night\", \"Let It Go\", \"Take You Dancing\", \"No Air (feat. Chris Brown)\", \"Lady Marmalade - From \\\"Moulin Rouge\\\" Soundtrack\", \"Umbrella\", \"Your Shirt\"], \"legendgroup\": \"pop\", \"marker\": {\"color\": \"#FF6692\", \"symbol\": \"circle\"}, \"mode\": \"markers\", \"name\": \"pop\", \"orientation\": \"v\", \"showlegend\": true, \"type\": \"scatter\", \"x\": [149, 144, 97, 180, 104, 103, 105, 114, 189, 136, 98, 111, 137, 153, 83, 155, 75, 176, 136, 150, 171, 119, 110, 96, 119, 139, 147, 107, 117, 72, 108, 104, 120, 127, 105, 91, 106, 124, 101, 116, 136, 100, 120, 128, 133, 74, 98, 139, 115, 126, 75, 120, 94, 105, 112, 84, 190, 181, 113, 127, 104, 149, 139, 85, 117, 102, 100, 102, 120, 122, 126, 102, 76, 116, 134, 119, 95, 144, 93, 101, 95, 106, 106, 124, 95, 143, 125, 146, 125, 119, 158, 89, 82, 127, 147, 112, 160, 109, 174, 179], \"xaxis\": \"x\", \"y\": [544, 512, 739, 437, 523, 708, 585, 415, 606, 488, 712, 843, 734, 772, 537, 601, 461, 416, 415, 783, 818, 753, 650, 683, 824, 461, 582, 657, 678, 186, 530, 519, 837, 670, 457, 505, 495, 373, 705, 548, 594, 563, 625, 420, 900, 327, 881, 583, 686, 812, 473, 580, 716, 636, 667, 428, 652, 787, 641, 443, 666, 611, 407, 557, 861, 791, 858, 825, 898, 705, 537, 84, 308, 692, 711, 857, 564, 721, 872, 595, 816, 863, 344, 787, 524, 436, 716, 725, 453, 637, 856, 686, 821, 408, 311, 711, 759, 809, 829, 476], \"yaxis\": \"y\"}, {\"customdata\": [[\"Keyshia Cole\"], [\"Fantasia\"], [\"Monica\"], [\"Brandy\"], [\"Tamia\"], [\"SWV\"], [\"Donell Jones\"], [\"Jazmine Sullivan\"], [\"Faith Evans\"], [\"Ginuwine\"], [\"Jon B.\"], [\"Tyrese\"], [\"M\\u00fda\"], [\"Dru Hill\"], [\"Xscape\"], [\"Case\"], [\"Tamar Braxton\"], [\"Jagged Edge\"], [\"Amerie\"], [\"Jaheim\"], [\"Kelly Price\"], [\"Jodeci\"], [\"Avant\"], [\"Sevyn Streeter\"], [\"702\"], [\"Maxwell\"], [\"Raheem DeVaughn\"], [\"K. Michelle\"], [\"Lyfe Jennings\"], [\"Toni Braxton\"], [\"Aaliyah\"], [\"Carl Thomas\"], [\"Marsha Ambrosius\"], [\"Joe\"], [\"Silk\"], [\"Tony! Toni! Ton\\u00e9!\"], [\"Chrisette Michele\"], [\"Anthony Hamilton\"], [\"Tweet\"], [\"Kelly Rowland\"], [\"Musiq Soulchild\"], [\"Robin Thicke\"], [\"Mint Condition\"], [\"Total\"], [\"Teyana Taylor\"], [\"Mary J. Blige\"], [\"KeKe Wyatt\"], [\"H-Town\"], [\"Vivian Green\"], [\"Floetry\"], [\"Changing Faces\"], [\"Next\"], [\"Sammie\"], [\"Charlie Wilson\"], [\"Adina Howard\"], [\"J. Holiday\"], [\"Lloyd\"], [\"Nivea\"], [\"Melanie Fiona\"], [\"Mario\"], [\"Blackstreet\"], [\"Tevin Campbell\"], [\"Keri Hilson\"], [\"112\"], [\"Keith Sweat\"], [\"Eric Ben\\u00e9t\"], [\"Chant\\u00e9 Moore\"], [\"Ledisi\"], [\"Bobby V.\"], [\"DAY26\"], [\"K-Ci & JoJo\"], [\"Montell Jordan\"], [\"Dave Hollister\"], [\"Deborah Cox\"], [\"Jill Scott\"], [\"Marques Houston\"], [\"Kem\"], [\"Ashanti\"], [\"Pretty Ricky\"], [\"Johnny Gill\"], [\"Jamie Foxx\"], [\"Babyface\"], [\"Trina\"], [\"Kenny Lattimore\"], [\"Zhan\\u00e9\"], [\"Teedra Moses\"], [\"Shai\"], [\"Pleasure P\"], [\"New Edition\"], [\"Soul For Real\"], [\"Brian McKnight\"], [\"Sisqo\"], [\"Boyz II Men\"], [\"Hi-Five\"], [\"Omarion\"], [\"After 7\"], [\"Trey Songz\"], [\"Guy\"], [\"Syleena Johnson\"], [\"Kiana Led\\u00e9\"]], \"hovertemplate\": \"<b>%{hovertext}</b><br><br>genre=r&b<br>tempo=%{x}<br>energy=%{y}<br>artist=%{customdata[0]}<extra></extra>\", \"hovertext\": [\"Love\", \"When I See U\", \"So Gone\", \"The Boy Is Mine\", \"Officially Missing You\", \"Weak\", \"U Know What's Up (feat. Lisa \\\"Left Eye\\\" Lopes)\", \"Pick Up Your Feelings\", \"Love Like This\", \"Pony\", \"They Don't Know\", \"How You Gonna Act Like That\", \"Case Of The Ex (Whatcha Gonna Do)\", \"In My Bed - So So Def Mix\", \"Just Kickin' It\", \"Faded Pictures\", \"Love and War\", \"Where the Party At (feat. Nelly)\", \"1 Thing\", \"Put That Woman First\", \"Tired\", \"Come and Talk to Me - Remix\", \"Read Your Mind\", \"It Won't Stop (feat. Chris Brown) - EP Version\", \"Where My Girls At\", \"Ascension (Don't Ever Wonder) - Remastered 2021\", \"Don't Come Easy\", \"Can't Raise a Man\", \"Must Be Nice\", \"Un-Break My Heart - Classic Radio Mix\", \"Are You That Somebody?\", \"I Wish\", \"Far Away\", \"I Wanna Know\", \"Freak Me\", \"Let's Get Down\", \"A Couple Of Forevers\", \"Best of Me\", \"Oops (Oh My) [feat. Missy Elliott]\", \"Motivation\", \"Just Friends (Sunny)\", \"Blurred Lines\", \"Breakin' My Heart (Pretty Brown Eyes)\", \"Can't You See (feat. The Notorious B.I.G.)\", \"Gonna Love Me\", \"Family Affair\", \"Nothing In This World\", \"Knockin' da Boots\", \"Get Right Back To My Baby\", \"Say Yes\", \"Come Over\", \"Too Close\", \"I Like It\", \"There Goes My Baby\", \"Freak Like Me\", \"Bed\", \"Lay It Down\", \"Don't Mess With My Man (feat. Brian Casey & Brandon Casey)\", \"Monday Morning\", \"Let Me Love You\", \"No Diggity\", \"Can We Talk\", \"Knock You Down\", \"Peaches & Cream\", \"Twisted\", \"Georgy Porgy (feat. Faith Evans)\", \"Straight Up\", \"Anything For You\", \"Slow Down - 12\\\" Version\", \"Since You've Been Gone\", \"All My Life\", \"This Is How We Do It\", \"One Woman Man\", \"Nobody's Supposed to Be Here\", \"Golden\", \"Naked\", \"Love Calls\", \"Foolish\", \"Grind With Me\", \"My, My, My\", \"Blame It\", \"Every Time I Close My Eyes (with Kenny G)\", \"Here We Go (feat. Kelly Rowland)\", \"Never Too Busy\", \"Hey Mr. D.J.\", \"Be Your Girl (Kaytranada Edition)\", \"If I Ever Fall In Love\", \"Boyfriend #2\", \"Can You Stand The Rain\", \"Candy Rain\", \"Back At One\", \"Thong Song\", \"End Of The Road\", \"She's Playing Hard To Get\", \"Post to Be (feat. Chris Brown & Jhene Aiko)\", \"Ready Or Not\", \"Bottoms Up (feat. Nicki Minaj)\", \"Let's Chill\", \"Tonight I'm Gonna Let Go\", \"EX\"], \"legendgroup\": \"r&b\", \"marker\": {\"color\": \"#B6E880\", \"symbol\": \"circle\"}, \"mode\": \"markers\", \"name\": \"r&b\", \"orientation\": \"v\", \"showlegend\": true, \"type\": \"scatter\", \"x\": [116, 93, 81, 93, 178, 127, 103, 85, 100, 142, 125, 112, 98, 95, 80, 82, 179, 129, 129, 78, 121, 172, 73, 119, 92, 96, 71, 151, 82, 122, 137, 89, 70, 136, 133, 103, 116, 96, 159, 140, 95, 119, 137, 86, 88, 92, 131, 128, 103, 117, 109, 99, 129, 81, 91, 127, 155, 99, 90, 94, 88, 172, 155, 203, 175, 96, 100, 133, 186, 129, 128, 103, 91, 119, 100, 60, 143, 90, 136, 74, 176, 143, 128, 167, 101, 115, 143, 141, 143, 188, 129, 121, 149, 199, 97, 141, 73, 74, 99, 73], \"xaxis\": \"x\", \"y\": [519, 596, 552, 707, 407, 533, 543, 413, 551, 537, 388, 521, 688, 590, 353, 511, 580, 661, 961, 536, 600, 657, 381, 574, 725, 459, 381, 677, 401, 966, 658, 666, 668, 487, 608, 645, 452, 728, 536, 672, 376, 599, 520, 574, 506, 551, 630, 501, 742, 398, 473, 402, 656, 827, 837, 606, 796, 730, 680, 588, 646, 646, 877, 520, 514, 636, 869, 407, 732, 690, 511, 623, 647, 531, 558, 511, 526, 695, 538, 596, 614, 417, 494, 413, 560, 682, 205, 767, 369, 699, 346, 888, 427, 807, 676, 566, 601, 417, 520, 537], \"yaxis\": \"y\"}, {\"customdata\": [[\"French Montana\"], [\"Meek Mill\"], [\"Gucci Mane\"], [\"2 Chainz\"], [\"DJ Khaled\"], [\"Big Sean\"], [\"A$AP Ferg\"], [\"Wiz Khalifa\"], [\"YG\"], [\"Rick Ross\"], [\"Waka Flocka Flame\"], [\"Young Money\"], [\"Jay Rock\"], [\"Wale\"], [\"Juicy J\"], [\"Fabolous\"], [\"ScHoolboy Q\"], [\"Mustard\"], [\"A$AP Rocky\"], [\"Yo Gotti\"], [\"Lil Wayne\"], [\"T.I.\"], [\"Mike WiLL Made-It\"], [\"The Game\"], [\"Young Thug\"], [\"Curren$y\"], [\"Jeezy\"], [\"Quality Control\"], [\"Pusha T\"], [\"Metro Boomin\"], [\"Offset\"], [\"A$AP Mob\"], [\"Migos\"], [\"Rae Sremmurd\"], [\"J. Cole\"], [\"Quavo\"], [\"Chief Keef\"], [\"Fat Joe\"], [\"Nipsey Hussle\"], [\"Tyga\"], [\"Future\"], [\"Joey Bada$$\"], [\"Tory Lanez\"], [\"Birdman\"], [\"Ace Hood\"], [\"MadeinTYO\"], [\"Kid Ink\"], [\"Huncho Jack\"], [\"Rich The Kid\"], [\"Kendrick Lamar\"], [\"K CAMP\"], [\"Kodak Black\"], [\"Rich Homie Quan\"], [\"Lil Yachty\"], [\"Big K.R.I.T.\"], [\"Tee Grizzley\"], [\"Famous Dex\"], [\"Plies\"], [\"DJ Drama\"], [\"Lupe Fiasco\"], [\"NAV\"], [\"Ludacris\"], [\"Lloyd Banks\"], [\"Young Stoner Life\"], [\"O.T. Genasis\"], [\"Cordae\"], [\"Young Dolph\"], [\"Cam\\u2019ron\"], [\"Chance the Rapper\"], [\"JUVENILE\"], [\"Dreamville\"], [\"Trick Daddy\"], [\"Freddie Gibbs\"], [\"T-Pain\"], [\"Takeoff\"], [\"Twista\"], [\"PnB Rock\"], [\"Bas\"], [\"Baby Keem\"], [\"PARTYNEXTDOOR\"], [\"KIDS SEE GHOSTS\"], [\"Jadakiss\"], [\"VIC MENSA\"], [\"Desiigner\"], [\"Jim Jones\"], [\"Diddy\"], [\"Soulja Boy\"], [\"Gunna\"], [\"Young Buck\"], [\"B.o.B\"], [\"Kid Cudi\"], [\"G-Unit\"], [\"JAY-Z\"], [\"LL Cool J\"], [\"6LACK\"], [\"Dave East\"], [\"Travis Porter\"], [\"Fetty Wap\"], [\"Naughty By Nature\"], [\"Dom Kennedy\"]], \"hovertemplate\": \"<b>%{hovertext}</b><br><br>genre=rap<br>tempo=%{x}<br>energy=%{y}<br>artist=%{customdata[0]}<extra></extra>\", \"hovertext\": [\"Unforgettable\", \"Going Bad (feat. Drake)\", \"Wake Up in the Sky\", \"It's A Vibe\", \"POPSTAR (feat. Drake)\", \"Wolves (feat. Post Malone)\", \"Plain Jane\", \"See You Again (feat. Charlie Puth)\", \"Go Loko (feat. Tyga, Jon Z)\", \"Aston Martin Music\", \"No Hands (feat. Roscoe Dash & Wale)\", \"Trophies\", \"King's Dead (with Kendrick Lamar, Future & James Blake)\", \"Lotus Flower Bomb (feat. Miguel)\", \"Shell Shocked (feat. Kill The Noise & Madsonik) - From \\\"Teenage Mutant Ninja Turtles\\\"\", \"Into You (feat. Tamia) - Main Mix\", \"Collard Greens\", \"Ballin' (with Roddy Ricch)\", \"Praise The Lord (Da Shine) (feat. Skepta)\", \"Rake It Up (feat. Nicki Minaj)\", \"Sucker for Pain (with Wiz Khalifa, Imagine Dragons, Logic & Ty Dolla $ign feat. X Ambassadors)\", \"Live Your Life\", \"23\", \"Hate It Or Love It\", \"The London (feat. J. Cole & Travis Scott)\", \"The Count (feat. Wiz Khalifa)\", \"Put On\", \"Baby (Lil Baby feat. DaBaby)\", \"Trouble On My Mind\", \"Space Cadet (feat. Gunna)\", \"Ric Flair Drip (& Metro Boomin)\", \"Yamborghini High (feat. Juicy J)\", \"Bad and Boujee (feat. Lil Uzi Vert)\", \"Come Get Her\", \"No Role Modelz\", \"FLIP THE SWITCH (feat. Drake)\", \"Love Sosa\", \"What's Luv? (feat. Ja-Rule & Ashanti)\", \"Grinding All My Life\", \"Taste (feat. Offset)\", \"Drankin N Smokin\", \"Love Is Only a Feeling\", \"Broke In A Minute\", \"Stuntin' Like My Daddy - Street\", \"We Ball\", \"Chucky Cheese\", \"Show Me (feat. Chris Brown)\", \"Saint\", \"Plug Walk\", \"HUMBLE.\", \"Lottery (Renegade) - Bonus Track\", \"ZEZE (feat. Travis Scott & Offset)\", \"Flex (Ooh, Ooh, Ooh)\", \"Oprah's Bank Account (Lil Yachty & DaBaby feat. Drake)\", \"Country Sh*t (Remix)\", \"From The D To The A (feat. Lil Yachty)\", \"PICK IT UP (feat. A$AP Rocky)\", \"Hypnotized (feat. Akon)\", \"My Moment (feat. 2 Chainz, Meek Mill and Jeremih)\", \"The Show Goes On\", \"Turks (with Gunna & ft. Travis Scott)\", \"My Chick Bad\", \"Beamer, Benz, Or Bentley\", \"Solid (feat. Drake)\", \"CoCo\", \"Gifted (feat. Roddy Ricch)\", \"Case Closed\", \"Hey Ma\", \"Cocoa Butter Kisses\", \"Back That Azz Up\", \"Under The Sun (with J. Cole & Lute feat. DaBaby)\", \"Let's Go (feat. Big D & Twista)\", \"Gang Signs (feat. ScHoolboy Q)\", \"Buy U a Drank (Shawty Snappin') (feat. Yung Joc)\", \"Casper\", \"Overnight Celebrity\", \"Selfish\", \"Tribe (with J. Cole)\", \"ORANGE SODA\", \"BELIEVE IT\", \"Reborn\", \"We Gonna Make It\", \"Reverse (feat. G-Eazy)\", \"Tiimmy Turner\", \"Addicted to the Game\", \"I'll Be Missing You (feat. Faith Evans & 112) - 2014 Remaster\", \"Kiss Me Thru The Phone\", \"DOLLAZ ON MY HEAD (feat. Young Thug)\", \"Shorty Wanna Ride\", \"Airplanes (feat. Hayley Williams of Paramore)\", \"Day 'N' Nite (Nightmare)\", \"Poppin' Them Thangs\", \"Ni**as In Paris\", \"Doin' It\", \"Pretty Little Fears (feat. J. Cole)\", \"Handsome\", \"Ayy Ladies (feat. Tyga)\", \"Trap Queen\", \"Hip Hop Hooray\", \"When I Come Around\"], \"legendgroup\": \"rap\", \"marker\": {\"color\": \"#FF97FF\", \"symbol\": \"circle\"}, \"mode\": \"markers\", \"name\": \"rap\", \"orientation\": \"v\", \"showlegend\": true, \"type\": \"scatter\", \"x\": [97, 86, 143, 73, 163, 160, 170, 80, 101, 171, 131, 143, 137, 70, 165, 91, 153, 97, 80, 149, 169, 159, 140, 99, 97, 82, 137, 108, 172, 109, 100, 137, 127, 185, 100, 86, 131, 93, 180, 98, 151, 90, 120, 160, 154, 78, 98, 150, 94, 150, 148, 98, 81, 138, 128, 99, 135, 116, 148, 143, 119, 84, 159, 125, 119, 151, 144, 89, 125, 95, 138, 133, 52, 80, 140, 134, 101, 178, 85, 158, 100, 87, 144, 122, 148, 109, 149, 145, 179, 93, 138, 88, 140, 94, 192, 133, 96, 148, 99, 97], \"xaxis\": \"x\", \"y\": [769, 496, 578, 502, 560, 675, 844, 481, 670, 580, 595, 687, 705, 598, 815, 529, 575, 545, 569, 444, 786, 862, 599, 785, 517, 757, 770, 463, 785, 464, 428, 765, 665, 564, 521, 637, 413, 707, 716, 613, 658, 676, 700, 881, 525, 542, 508, 648, 519, 621, 547, 603, 607, 625, 572, 625, 467, 571, 760, 889, 618, 723, 671, 485, 628, 603, 722, 669, 645, 714, 640, 767, 615, 549, 607, 792, 600, 594, 564, 700, 597, 961, 703, 725, 656, 619, 712, 458, 621, 867, 443, 818, 858, 550, 458, 613, 782, 873, 642, 568], \"yaxis\": \"y\"}, {\"customdata\": [[\"The Who\"], [\"Van Halen\"], [\"Lynyrd Skynyrd\"], [\"Boston\"], [\"Tom Petty and the Heartbreakers\"], [\"Steve Miller Band\"], [\"Cream\"], [\"The Cars\"], [\"Led Zeppelin\"], [\"Cheap Trick\"], [\"The Black Crowes\"], [\"ZZ Top\"], [\"Blue \\u00d6yster Cult\"], [\"Alice Cooper\"], [\"Deep Purple\"], [\"Thin Lizzy\"], [\"The Cult\"], [\"Heart\"], [\"Jimi Hendrix\"], [\"Soundgarden\"], [\"The White Stripes\"], [\"Ozzy Osbourne\"], [\"Bad Company\"], [\"Tom Petty\"], [\"Black Sabbath\"], [\"Rush\"], [\"Stone Temple Pilots\"], [\"Ted Nugent\"], [\"Joe Walsh\"], [\"Bachman-Turner Overdrive\"], [\"The Kinks\"], [\"Blur\"], [\"The Doobie Brothers\"], [\"The Raconteurs\"], [\"Queens of the Stone Age\"], [\"R.E.M.\"], [\"Aerosmith\"], [\"Billy Idol\"], [\"Rainbow\"], [\"Allman Brothers Band\"], [\"Foreigner\"], [\"John Mellencamp\"], [\"Whitesnake\"], [\"Billy Squier\"], [\"The Police\"], [\"Grand Funk Railroad\"], [\"Velvet Revolver\"], [\"The J. Geils Band\"], [\"George Harrison\"], [\"Faces\"], [\"Audioslave\"], [\"Robert Plant\"], [\"George Thorogood & The Destroyers\"], [\"Pretenders\"], [\"Steppenwolf\"], [\"The Clash\"], [\"Peter Frampton\"], [\"Sammy Hagar\"], [\"Styx\"], [\"Alice In Chains\"], [\"Quiet Riot\"], [\"Skid Row\"], [\"Jane's Addiction\"], [\"KISS\"], [\"Eddie Money\"], [\"The Rolling Stones\"], [\"Blind Melon\"], [\"Judas Priest\"], [\"Dio\"], [\"Faith No More\"], [\"Pearl Jam\"], [\"The Doors\"], [\"T. Rex\"], [\"The Black Keys\"], [\"Wolfmother\"], [\"The Byrds\"], [\"The Guess Who\"], [\"Foghat\"], [\"Derek & The Dominos\"], [\"Kansas\"], [\"The Smashing Pumpkins\"], [\"Pixies\"], [\"Steely Dan\"], [\"Crosby, Stills, Nash & Young\"], [\"The Band\"], [\"Bush\"], [\"Wings\"], [\"Neil Young\"], [\"REO Speedwagon\"], [\"Mot\\u00f6rhead\"], [\"The Velvet Underground\"], [\"Don Henley\"], [\"UFO\"], [\"Twisted Sister\"], [\"Bob Seger\"], [\"Collective Soul\"], [\"Crosby, Stills & Nash\"], [\"Foo Fighters\"], [\"Huey Lewis & The News\"], [\"Rage Against The Machine\"]], \"hovertemplate\": \"<b>%{hovertext}</b><br><br>genre=rock<br>tempo=%{x}<br>energy=%{y}<br>artist=%{customdata[0]}<extra></extra>\", \"hovertext\": [\"Baba O'Riley\", \"Jump - 2015 Remaster\", \"Sweet Home Alabama\", \"More Than a Feeling\", \"American Girl\", \"The Joker\", \"Sunshine Of Your Love\", \"Drive - 2017 Remaster\", \"Stairway to Heaven - Remaster\", \"I Want You to Want Me\", \"Hard To Handle\", \"La Grange - 2005 Remaster\", \"(Don't Fear) The Reaper\", \"Poison\", \"Smoke On The Water - Remastered 2012\", \"The Boys Are Back In Town\", \"She Sells Sanctuary\", \"Barracuda\", \"All Along the Watchtower\", \"Black Hole Sun\", \"Seven Nation Army\", \"Crazy Train\", \"Feel like Makin' Love - 2015 Remaster\", \"Free Fallin'\", \"Paranoid\", \"Tom Sawyer\", \"Interstate Love Song - 2019 Remaster\", \"Stranglehold\", \"Life's Been Good\", \"You Ain't Seen Nothing Yet\", \"You Really Got Me - Mono Mix\", \"Song 2 - 2012 Remaster\", \"Listen to the Music\", \"Steady, as She Goes\", \"No One Knows\", \"Losing My Religion\", \"I Don't Want to Miss a Thing - From \\\"Armageddon\\\" Soundtrack\", \"Rebel Yell\", \"Since You Been Gone\", \"Midnight Rider\", \"I Want to Know What Love Is - 1999 Remaster\", \"Jack & Diane\", \"Here I Go Again - 2018 Remaster\", \"The Stroke - Remastered\", \"Every Breath You Take\", \"Some Kind Of Wonderful - Remastered 1999\", \"Slither\", \"Centerfold\", \"My Sweet Lord - Remastered 2014\", \"Ooh La La\", \"Like a Stone\", \"Big Log - 2006 Remaster\", \"Bad To The Bone\", \"I'll Stand by You\", \"Born To Be Wild\", \"Should I Stay or Should I Go - Remastered\", \"Show Me The Way\", \"Heavy Metal\", \"Renegade\", \"Man in the Box\", \"Cum on Feel the Noize\", \"18 and Life\", \"Jane Says\", \"I Was Made For Lovin' You\", \"Take Me Home Tonight\", \"Paint It, Black\", \"No Rain\", \"Breaking the Law\", \"Holy Diver\", \"Epic\", \"Alive\", \"Riders on the Storm\", \"Get It On\", \"Lonely Boy\", \"Joker And The Thief\", \"Turn! Turn! Turn! (To Everything There Is a Season)\", \"American Woman\", \"Slow Ride\", \"Layla\", \"Dust in the Wind\", \"1979 - Remastered 2012\", \"Where Is My Mind? - Remastered\", \"Reelin' In The Years\", \"Our House\", \"The Weight - Remastered\", \"Glycerine - Remastered\", \"Band On The Run - Remastered 2010\", \"Heart of Gold - 2009 Remaster\", \"Can't Fight This Feeling\", \"Ace of Spades\", \"Pale Blue Eyes\", \"The Boys Of Summer\", \"Doctor Doctor - 2007 Remaster\", \"We're Not Gonna Take It\", \"Old Time Rock & Roll\", \"Shine\", \"Helplessly Hoping - 2005 Remaster\", \"Everlong\", \"The Power Of Love\", \"Killing In The Name\"], \"legendgroup\": \"rock\", \"marker\": {\"color\": \"#FECB52\", \"symbol\": \"circle\"}, \"mode\": \"markers\", \"name\": \"rock\", \"orientation\": \"v\", \"showlegend\": true, \"type\": \"scatter\", \"x\": [117, 129, 97, 108, 114, 83, 115, 83, 82, 92, 103, 80, 141, 118, 114, 80, 139, 137, 113, 105, 123, 137, 85, 84, 162, 87, 170, 148, 99, 118, 137, 129, 105, 123, 170, 125, 121, 166, 120, 94, 81, 103, 89, 91, 117, 121, 141, 114, 120, 147, 107, 180, 149, 133, 145, 113, 130, 186, 105, 106, 145, 90, 81, 128, 132, 158, 148, 164, 91, 174, 75, 103, 126, 166, 155, 124, 92, 113, 115, 93, 126, 81, 135, 140, 143, 114, 124, 171, 156, 140, 82, 176, 143, 149, 124, 150, 146, 158, 118, 88], \"xaxis\": \"x\", \"y\": [724, 835, 605, 682, 824, 448, 481, 703, 340, 462, 790, 640, 927, 908, 676, 706, 765, 691, 805, 728, 463, 913, 529, 449, 631, 901, 927, 711, 476, 439, 939, 789, 598, 603, 584, 855, 649, 864, 726, 532, 471, 410, 823, 591, 452, 691, 974, 677, 701, 574, 568, 639, 727, 606, 710, 836, 726, 639, 552, 791, 920, 648, 597, 852, 768, 795, 476, 961, 783, 893, 875, 722, 878, 872, 800, 818, 726, 586, 902, 322, 787, 441, 758, 205, 551, 335, 601, 459, 480, 974, 107, 549, 799, 924, 937, 423, 159, 881, 831, 833], \"yaxis\": \"y\"}],                        {\"legend\": {\"title\": {\"text\": \"genre\"}, \"tracegroupgap\": 0}, \"margin\": {\"t\": 60}, \"template\": {\"data\": {\"bar\": [{\"error_x\": {\"color\": \"#2a3f5f\"}, \"error_y\": {\"color\": \"#2a3f5f\"}, \"marker\": {\"line\": {\"color\": \"#E5ECF6\", \"width\": 0.5}}, \"type\": \"bar\"}], \"barpolar\": [{\"marker\": {\"line\": {\"color\": \"#E5ECF6\", \"width\": 0.5}}, \"type\": \"barpolar\"}], \"carpet\": [{\"aaxis\": {\"endlinecolor\": \"#2a3f5f\", \"gridcolor\": \"white\", \"linecolor\": \"white\", \"minorgridcolor\": \"white\", \"startlinecolor\": \"#2a3f5f\"}, \"baxis\": {\"endlinecolor\": \"#2a3f5f\", \"gridcolor\": \"white\", \"linecolor\": \"white\", \"minorgridcolor\": \"white\", \"startlinecolor\": \"#2a3f5f\"}, \"type\": \"carpet\"}], \"choropleth\": [{\"colorbar\": {\"outlinewidth\": 0, \"ticks\": \"\"}, \"type\": \"choropleth\"}], \"contour\": [{\"colorbar\": {\"outlinewidth\": 0, \"ticks\": \"\"}, \"colorscale\": [[0.0, \"#0d0887\"], [0.1111111111111111, \"#46039f\"], [0.2222222222222222, \"#7201a8\"], [0.3333333333333333, \"#9c179e\"], [0.4444444444444444, \"#bd3786\"], [0.5555555555555556, \"#d8576b\"], [0.6666666666666666, \"#ed7953\"], [0.7777777777777778, \"#fb9f3a\"], [0.8888888888888888, \"#fdca26\"], [1.0, \"#f0f921\"]], \"type\": \"contour\"}], \"contourcarpet\": [{\"colorbar\": {\"outlinewidth\": 0, \"ticks\": \"\"}, \"type\": \"contourcarpet\"}], \"heatmap\": [{\"colorbar\": {\"outlinewidth\": 0, \"ticks\": \"\"}, \"colorscale\": [[0.0, \"#0d0887\"], [0.1111111111111111, \"#46039f\"], [0.2222222222222222, \"#7201a8\"], [0.3333333333333333, \"#9c179e\"], [0.4444444444444444, \"#bd3786\"], [0.5555555555555556, \"#d8576b\"], [0.6666666666666666, \"#ed7953\"], [0.7777777777777778, \"#fb9f3a\"], [0.8888888888888888, \"#fdca26\"], [1.0, \"#f0f921\"]], \"type\": \"heatmap\"}], \"heatmapgl\": [{\"colorbar\": {\"outlinewidth\": 0, \"ticks\": \"\"}, \"colorscale\": [[0.0, \"#0d0887\"], [0.1111111111111111, \"#46039f\"], [0.2222222222222222, \"#7201a8\"], [0.3333333333333333, \"#9c179e\"], [0.4444444444444444, \"#bd3786\"], [0.5555555555555556, \"#d8576b\"], [0.6666666666666666, \"#ed7953\"], [0.7777777777777778, \"#fb9f3a\"], [0.8888888888888888, \"#fdca26\"], [1.0, \"#f0f921\"]], \"type\": \"heatmapgl\"}], \"histogram\": [{\"marker\": {\"colorbar\": {\"outlinewidth\": 0, \"ticks\": \"\"}}, \"type\": \"histogram\"}], \"histogram2d\": [{\"colorbar\": {\"outlinewidth\": 0, \"ticks\": \"\"}, \"colorscale\": [[0.0, \"#0d0887\"], [0.1111111111111111, \"#46039f\"], [0.2222222222222222, \"#7201a8\"], [0.3333333333333333, \"#9c179e\"], [0.4444444444444444, \"#bd3786\"], [0.5555555555555556, \"#d8576b\"], [0.6666666666666666, \"#ed7953\"], [0.7777777777777778, \"#fb9f3a\"], [0.8888888888888888, \"#fdca26\"], [1.0, \"#f0f921\"]], \"type\": \"histogram2d\"}], \"histogram2dcontour\": [{\"colorbar\": {\"outlinewidth\": 0, \"ticks\": \"\"}, \"colorscale\": [[0.0, \"#0d0887\"], [0.1111111111111111, \"#46039f\"], [0.2222222222222222, \"#7201a8\"], [0.3333333333333333, \"#9c179e\"], [0.4444444444444444, \"#bd3786\"], [0.5555555555555556, \"#d8576b\"], [0.6666666666666666, \"#ed7953\"], [0.7777777777777778, \"#fb9f3a\"], [0.8888888888888888, \"#fdca26\"], [1.0, \"#f0f921\"]], \"type\": \"histogram2dcontour\"}], \"mesh3d\": [{\"colorbar\": {\"outlinewidth\": 0, \"ticks\": \"\"}, \"type\": \"mesh3d\"}], \"parcoords\": [{\"line\": {\"colorbar\": {\"outlinewidth\": 0, \"ticks\": \"\"}}, \"type\": \"parcoords\"}], \"pie\": [{\"automargin\": true, \"type\": \"pie\"}], \"scatter\": [{\"marker\": {\"colorbar\": {\"outlinewidth\": 0, \"ticks\": \"\"}}, \"type\": \"scatter\"}], \"scatter3d\": [{\"line\": {\"colorbar\": {\"outlinewidth\": 0, \"ticks\": \"\"}}, \"marker\": {\"colorbar\": {\"outlinewidth\": 0, \"ticks\": \"\"}}, \"type\": \"scatter3d\"}], \"scattercarpet\": [{\"marker\": {\"colorbar\": {\"outlinewidth\": 0, \"ticks\": \"\"}}, \"type\": \"scattercarpet\"}], \"scattergeo\": [{\"marker\": {\"colorbar\": {\"outlinewidth\": 0, \"ticks\": \"\"}}, \"type\": \"scattergeo\"}], \"scattergl\": [{\"marker\": {\"colorbar\": {\"outlinewidth\": 0, \"ticks\": \"\"}}, \"type\": \"scattergl\"}], \"scattermapbox\": [{\"marker\": {\"colorbar\": {\"outlinewidth\": 0, \"ticks\": \"\"}}, \"type\": \"scattermapbox\"}], \"scatterpolar\": [{\"marker\": {\"colorbar\": {\"outlinewidth\": 0, \"ticks\": \"\"}}, \"type\": \"scatterpolar\"}], \"scatterpolargl\": [{\"marker\": {\"colorbar\": {\"outlinewidth\": 0, \"ticks\": \"\"}}, \"type\": \"scatterpolargl\"}], \"scatterternary\": [{\"marker\": {\"colorbar\": {\"outlinewidth\": 0, \"ticks\": \"\"}}, \"type\": \"scatterternary\"}], \"surface\": [{\"colorbar\": {\"outlinewidth\": 0, \"ticks\": \"\"}, \"colorscale\": [[0.0, \"#0d0887\"], [0.1111111111111111, \"#46039f\"], [0.2222222222222222, \"#7201a8\"], [0.3333333333333333, \"#9c179e\"], [0.4444444444444444, \"#bd3786\"], [0.5555555555555556, \"#d8576b\"], [0.6666666666666666, \"#ed7953\"], [0.7777777777777778, \"#fb9f3a\"], [0.8888888888888888, \"#fdca26\"], [1.0, \"#f0f921\"]], \"type\": \"surface\"}], \"table\": [{\"cells\": {\"fill\": {\"color\": \"#EBF0F8\"}, \"line\": {\"color\": \"white\"}}, \"header\": {\"fill\": {\"color\": \"#C8D4E3\"}, \"line\": {\"color\": \"white\"}}, \"type\": \"table\"}]}, \"layout\": {\"annotationdefaults\": {\"arrowcolor\": \"#2a3f5f\", \"arrowhead\": 0, \"arrowwidth\": 1}, \"autotypenumbers\": \"strict\", \"coloraxis\": {\"colorbar\": {\"outlinewidth\": 0, \"ticks\": \"\"}}, \"colorscale\": {\"diverging\": [[0, \"#8e0152\"], [0.1, \"#c51b7d\"], [0.2, \"#de77ae\"], [0.3, \"#f1b6da\"], [0.4, \"#fde0ef\"], [0.5, \"#f7f7f7\"], [0.6, \"#e6f5d0\"], [0.7, \"#b8e186\"], [0.8, \"#7fbc41\"], [0.9, \"#4d9221\"], [1, \"#276419\"]], \"sequential\": [[0.0, \"#0d0887\"], [0.1111111111111111, \"#46039f\"], [0.2222222222222222, \"#7201a8\"], [0.3333333333333333, \"#9c179e\"], [0.4444444444444444, \"#bd3786\"], [0.5555555555555556, \"#d8576b\"], [0.6666666666666666, \"#ed7953\"], [0.7777777777777778, \"#fb9f3a\"], [0.8888888888888888, \"#fdca26\"], [1.0, \"#f0f921\"]], \"sequentialminus\": [[0.0, \"#0d0887\"], [0.1111111111111111, \"#46039f\"], [0.2222222222222222, \"#7201a8\"], [0.3333333333333333, \"#9c179e\"], [0.4444444444444444, \"#bd3786\"], [0.5555555555555556, \"#d8576b\"], [0.6666666666666666, \"#ed7953\"], [0.7777777777777778, \"#fb9f3a\"], [0.8888888888888888, \"#fdca26\"], [1.0, \"#f0f921\"]]}, \"colorway\": [\"#636efa\", \"#EF553B\", \"#00cc96\", \"#ab63fa\", \"#FFA15A\", \"#19d3f3\", \"#FF6692\", \"#B6E880\", \"#FF97FF\", \"#FECB52\"], \"font\": {\"color\": \"#2a3f5f\"}, \"geo\": {\"bgcolor\": \"white\", \"lakecolor\": \"white\", \"landcolor\": \"#E5ECF6\", \"showlakes\": true, \"showland\": true, \"subunitcolor\": \"white\"}, \"hoverlabel\": {\"align\": \"left\"}, \"hovermode\": \"closest\", \"mapbox\": {\"style\": \"light\"}, \"paper_bgcolor\": \"white\", \"plot_bgcolor\": \"#E5ECF6\", \"polar\": {\"angularaxis\": {\"gridcolor\": \"white\", \"linecolor\": \"white\", \"ticks\": \"\"}, \"bgcolor\": \"#E5ECF6\", \"radialaxis\": {\"gridcolor\": \"white\", \"linecolor\": \"white\", \"ticks\": \"\"}}, \"scene\": {\"xaxis\": {\"backgroundcolor\": \"#E5ECF6\", \"gridcolor\": \"white\", \"gridwidth\": 2, \"linecolor\": \"white\", \"showbackground\": true, \"ticks\": \"\", \"zerolinecolor\": \"white\"}, \"yaxis\": {\"backgroundcolor\": \"#E5ECF6\", \"gridcolor\": \"white\", \"gridwidth\": 2, \"linecolor\": \"white\", \"showbackground\": true, \"ticks\": \"\", \"zerolinecolor\": \"white\"}, \"zaxis\": {\"backgroundcolor\": \"#E5ECF6\", \"gridcolor\": \"white\", \"gridwidth\": 2, \"linecolor\": \"white\", \"showbackground\": true, \"ticks\": \"\", \"zerolinecolor\": \"white\"}}, \"shapedefaults\": {\"line\": {\"color\": \"#2a3f5f\"}}, \"ternary\": {\"aaxis\": {\"gridcolor\": \"white\", \"linecolor\": \"white\", \"ticks\": \"\"}, \"baxis\": {\"gridcolor\": \"white\", \"linecolor\": \"white\", \"ticks\": \"\"}, \"bgcolor\": \"#E5ECF6\", \"caxis\": {\"gridcolor\": \"white\", \"linecolor\": \"white\", \"ticks\": \"\"}}, \"title\": {\"x\": 0.05}, \"xaxis\": {\"automargin\": true, \"gridcolor\": \"white\", \"linecolor\": \"white\", \"ticks\": \"\", \"title\": {\"standoff\": 15}, \"zerolinecolor\": \"white\", \"zerolinewidth\": 2}, \"yaxis\": {\"automargin\": true, \"gridcolor\": \"white\", \"linecolor\": \"white\", \"ticks\": \"\", \"title\": {\"standoff\": 15}, \"zerolinecolor\": \"white\", \"zerolinewidth\": 2}}}, \"xaxis\": {\"anchor\": \"y\", \"domain\": [0.0, 1.0], \"title\": {\"text\": \"tempo\"}}, \"yaxis\": {\"anchor\": \"x\", \"domain\": [0.0, 1.0], \"title\": {\"text\": \"energy\"}}},                        {\"responsive\": true}                    ).then(function(){\n",
       "                            \n",
       "var gd = document.getElementById('c05356d9-baae-45c6-be05-419bb1208f7f');\n",
       "var x = new MutationObserver(function (mutations, observer) {{\n",
       "        var display = window.getComputedStyle(gd).display;\n",
       "        if (!display || display === 'none') {{\n",
       "            console.log([gd, 'removed!']);\n",
       "            Plotly.purge(gd);\n",
       "            observer.disconnect();\n",
       "        }}\n",
       "}});\n",
       "\n",
       "// Listen for the removal of the full notebook cells\n",
       "var notebookContainer = gd.closest('#notebook-container');\n",
       "if (notebookContainer) {{\n",
       "    x.observe(notebookContainer, {childList: true});\n",
       "}}\n",
       "\n",
       "// Listen for the clearing of the current output cell\n",
       "var outputEl = gd.closest('.output');\n",
       "if (outputEl) {{\n",
       "    x.observe(outputEl, {childList: true});\n",
       "}}\n",
       "\n",
       "                        })                };                });            </script>        </div>"
      ]
     },
     "metadata": {},
     "output_type": "display_data"
    }
   ],
   "source": [
    "# fig = px.scatter(df, x='bpm', y='nrgy',color='top genre', hover_name='artist',hover_data=['title'])\n",
    "fig = px.scatter(df, x='tempo', y='energy',color='genre', hover_name='name', hover_data=['artist'])\n",
    "fig.show()"
   ]
  },
  {
   "cell_type": "code",
   "execution_count": 40,
   "id": "junior-lottery",
   "metadata": {},
   "outputs": [
    {
     "name": "stdout",
     "output_type": "stream",
     "text": [
      "     Linear   Poly  RBF\n",
      "0     0.000  0.000  0.0\n",
      "1     0.010  0.010  0.0\n",
      "2     0.030  0.030  0.0\n",
      "3     0.010  0.010  0.0\n",
      "4     0.030  0.030  0.0\n",
      "Avg   0.016  0.016  0.0\n"
     ]
    }
   ],
   "source": [
    "k = 5\n",
    "\n",
    "data = np.array_split(df, k) # split the data into 5 roughly equal groups of samples\n",
    "\n",
    "results = [] # accuracy\n",
    "\n",
    "# create the support vector machines with the linear, poly, and rbf kernels\n",
    "clfs = [svm.SVC(kernel=\"linear\"), svm.SVC(kernel=\"poly\"), svm.SVC(kernel=\"rbf\")]\n",
    "\n",
    "for i in range(k):                                          # run 5 experiments for 5-fold cross-validation\n",
    "    test_data_set = data[i]                                 # uses one group of data as the test data\n",
    "    train_data_set = pd.concat(data[:i] + data[i+1:])       # train data takes the rest\n",
    "\n",
    "    test_labels = np.array(test_data_set.iloc[:, 2])        # use the first column as the label\n",
    "    test_data = np.array(test_data_set.iloc[:, 3:])         # use the rest for the data\n",
    "\n",
    "    train_labels = np.array(train_data_set.iloc[:, 2])      # use the first column as the label\n",
    "    train_data = np.array(train_data_set.iloc[:, 3:])       # use the rest for the data\n",
    "\n",
    "    experiment_result = []      # the results using each svm for this partitioned data set\n",
    "\n",
    "    for j in range(len(clfs)):  # use the data set to train each svm\n",
    "        clfs[j].fit(train_data, train_labels)       # train the svm\n",
    "        predictions = clfs[j].predict(test_data)    # predict\n",
    "        accuracy = sum(predictions == test_labels) / len(test_labels)   # get accuracy\n",
    "        experiment_result.append(accuracy)          # append to the experiment results\n",
    "\n",
    "    results.append(experiment_result)   # append the row of data to the results\n",
    "\n",
    "# put the results into a dataframe\n",
    "results = pd.DataFrame(results)\n",
    "results.columns = [\"Linear\", \"Poly\", \"RBF\"]\n",
    "\n",
    "# calculate the average accuracy for each column\n",
    "avg_accuracy = [sum(results.iloc[:, i]) / len(results) for i in range(3)]\n",
    "results.loc[\"Avg\"] = avg_accuracy\n",
    "\n",
    "# display results\n",
    "print(results)"
   ]
  },
  {
   "cell_type": "code",
   "execution_count": null,
   "id": "forbidden-arlington",
   "metadata": {},
   "outputs": [],
   "source": []
  },
  {
   "cell_type": "code",
   "execution_count": null,
   "id": "drawn-creature",
   "metadata": {},
   "outputs": [],
   "source": []
  }
 ],
 "metadata": {
  "kernelspec": {
   "display_name": "Python 3",
   "language": "python",
   "name": "python3"
  },
  "language_info": {
   "codemirror_mode": {
    "name": "ipython",
    "version": 3
   },
   "file_extension": ".py",
   "mimetype": "text/x-python",
   "name": "python",
   "nbconvert_exporter": "python",
   "pygments_lexer": "ipython3",
   "version": "3.9.1"
  }
 },
 "nbformat": 4,
 "nbformat_minor": 5
}
