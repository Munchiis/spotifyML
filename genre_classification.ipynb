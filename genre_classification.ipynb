{
 "cells": [
  {
   "cell_type": "code",
   "execution_count": 10,
   "id": "republican-nursing",
   "metadata": {},
   "outputs": [],
   "source": [
    "#imports\n",
    "\n",
    "import pandas as pd\n",
    "import numpy as np\n",
    "import matplotlib.pyplot as plt\n",
    "# import seaborn as sns\n",
    "import plotly.express as px\n",
    "\n",
    "%matplotlib inline\n",
    "from sklearn import svm"
   ]
  },
  {
   "cell_type": "code",
   "execution_count": 11,
   "id": "moving-antibody",
   "metadata": {},
   "outputs": [
    {
     "data": {
      "text/html": [
       "<div>\n",
       "<style scoped>\n",
       "    .dataframe tbody tr th:only-of-type {\n",
       "        vertical-align: middle;\n",
       "    }\n",
       "\n",
       "    .dataframe tbody tr th {\n",
       "        vertical-align: top;\n",
       "    }\n",
       "\n",
       "    .dataframe thead th {\n",
       "        text-align: right;\n",
       "    }\n",
       "</style>\n",
       "<table border=\"1\" class=\"dataframe\">\n",
       "  <thead>\n",
       "    <tr style=\"text-align: right;\">\n",
       "      <th></th>\n",
       "      <th>Unnamed: 0</th>\n",
       "      <th>title</th>\n",
       "      <th>artist</th>\n",
       "      <th>top genre</th>\n",
       "      <th>year</th>\n",
       "      <th>bpm</th>\n",
       "      <th>nrgy</th>\n",
       "      <th>dnce</th>\n",
       "      <th>dB</th>\n",
       "      <th>live</th>\n",
       "      <th>val</th>\n",
       "      <th>dur</th>\n",
       "      <th>acous</th>\n",
       "      <th>spch</th>\n",
       "      <th>pop</th>\n",
       "    </tr>\n",
       "  </thead>\n",
       "  <tbody>\n",
       "    <tr>\n",
       "      <th>0</th>\n",
       "      <td>1</td>\n",
       "      <td>Hey, Soul Sister</td>\n",
       "      <td>Train</td>\n",
       "      <td>neo mellow</td>\n",
       "      <td>2010</td>\n",
       "      <td>97</td>\n",
       "      <td>89</td>\n",
       "      <td>67</td>\n",
       "      <td>-4</td>\n",
       "      <td>8</td>\n",
       "      <td>80</td>\n",
       "      <td>217</td>\n",
       "      <td>19</td>\n",
       "      <td>4</td>\n",
       "      <td>83</td>\n",
       "    </tr>\n",
       "    <tr>\n",
       "      <th>1</th>\n",
       "      <td>2</td>\n",
       "      <td>Love The Way You Lie</td>\n",
       "      <td>Eminem</td>\n",
       "      <td>detroit hip hop</td>\n",
       "      <td>2010</td>\n",
       "      <td>87</td>\n",
       "      <td>93</td>\n",
       "      <td>75</td>\n",
       "      <td>-5</td>\n",
       "      <td>52</td>\n",
       "      <td>64</td>\n",
       "      <td>263</td>\n",
       "      <td>24</td>\n",
       "      <td>23</td>\n",
       "      <td>82</td>\n",
       "    </tr>\n",
       "    <tr>\n",
       "      <th>2</th>\n",
       "      <td>3</td>\n",
       "      <td>TiK ToK</td>\n",
       "      <td>Kesha</td>\n",
       "      <td>dance pop</td>\n",
       "      <td>2010</td>\n",
       "      <td>120</td>\n",
       "      <td>84</td>\n",
       "      <td>76</td>\n",
       "      <td>-3</td>\n",
       "      <td>29</td>\n",
       "      <td>71</td>\n",
       "      <td>200</td>\n",
       "      <td>10</td>\n",
       "      <td>14</td>\n",
       "      <td>80</td>\n",
       "    </tr>\n",
       "    <tr>\n",
       "      <th>3</th>\n",
       "      <td>4</td>\n",
       "      <td>Bad Romance</td>\n",
       "      <td>Lady Gaga</td>\n",
       "      <td>dance pop</td>\n",
       "      <td>2010</td>\n",
       "      <td>119</td>\n",
       "      <td>92</td>\n",
       "      <td>70</td>\n",
       "      <td>-4</td>\n",
       "      <td>8</td>\n",
       "      <td>71</td>\n",
       "      <td>295</td>\n",
       "      <td>0</td>\n",
       "      <td>4</td>\n",
       "      <td>79</td>\n",
       "    </tr>\n",
       "    <tr>\n",
       "      <th>4</th>\n",
       "      <td>5</td>\n",
       "      <td>Just the Way You Are</td>\n",
       "      <td>Bruno Mars</td>\n",
       "      <td>pop</td>\n",
       "      <td>2010</td>\n",
       "      <td>109</td>\n",
       "      <td>84</td>\n",
       "      <td>64</td>\n",
       "      <td>-5</td>\n",
       "      <td>9</td>\n",
       "      <td>43</td>\n",
       "      <td>221</td>\n",
       "      <td>2</td>\n",
       "      <td>4</td>\n",
       "      <td>78</td>\n",
       "    </tr>\n",
       "  </tbody>\n",
       "</table>\n",
       "</div>"
      ],
      "text/plain": [
       "   Unnamed: 0                 title      artist        top genre  year  bpm  \\\n",
       "0           1      Hey, Soul Sister       Train       neo mellow  2010   97   \n",
       "1           2  Love The Way You Lie      Eminem  detroit hip hop  2010   87   \n",
       "2           3               TiK ToK       Kesha        dance pop  2010  120   \n",
       "3           4           Bad Romance   Lady Gaga        dance pop  2010  119   \n",
       "4           5  Just the Way You Are  Bruno Mars              pop  2010  109   \n",
       "\n",
       "   nrgy  dnce  dB  live  val  dur  acous  spch  pop  \n",
       "0    89    67  -4     8   80  217     19     4   83  \n",
       "1    93    75  -5    52   64  263     24    23   82  \n",
       "2    84    76  -3    29   71  200     10    14   80  \n",
       "3    92    70  -4     8   71  295      0     4   79  \n",
       "4    84    64  -5     9   43  221      2     4   78  "
      ]
     },
     "execution_count": 11,
     "metadata": {},
     "output_type": "execute_result"
    }
   ],
   "source": [
    "df = pd.read_csv(\"top10s.csv\")\n",
    "df.head()\n",
    "#df.info()"
   ]
  },
  {
   "cell_type": "code",
   "execution_count": 12,
   "id": "honest-designer",
   "metadata": {},
   "outputs": [
    {
     "data": {
      "text/html": [
       "<div>\n",
       "<style scoped>\n",
       "    .dataframe tbody tr th:only-of-type {\n",
       "        vertical-align: middle;\n",
       "    }\n",
       "\n",
       "    .dataframe tbody tr th {\n",
       "        vertical-align: top;\n",
       "    }\n",
       "\n",
       "    .dataframe thead th {\n",
       "        text-align: right;\n",
       "    }\n",
       "</style>\n",
       "<table border=\"1\" class=\"dataframe\">\n",
       "  <thead>\n",
       "    <tr style=\"text-align: right;\">\n",
       "      <th></th>\n",
       "      <th>title</th>\n",
       "      <th>artist</th>\n",
       "      <th>top genre</th>\n",
       "      <th>bpm</th>\n",
       "      <th>nrgy</th>\n",
       "      <th>dnce</th>\n",
       "      <th>dB</th>\n",
       "      <th>live</th>\n",
       "      <th>val</th>\n",
       "      <th>acous</th>\n",
       "      <th>spch</th>\n",
       "    </tr>\n",
       "  </thead>\n",
       "  <tbody>\n",
       "    <tr>\n",
       "      <th>0</th>\n",
       "      <td>Hey, Soul Sister</td>\n",
       "      <td>Train</td>\n",
       "      <td>neo mellow</td>\n",
       "      <td>97</td>\n",
       "      <td>89</td>\n",
       "      <td>67</td>\n",
       "      <td>-4</td>\n",
       "      <td>8</td>\n",
       "      <td>80</td>\n",
       "      <td>19</td>\n",
       "      <td>4</td>\n",
       "    </tr>\n",
       "    <tr>\n",
       "      <th>1</th>\n",
       "      <td>Love The Way You Lie</td>\n",
       "      <td>Eminem</td>\n",
       "      <td>detroit hip hop</td>\n",
       "      <td>87</td>\n",
       "      <td>93</td>\n",
       "      <td>75</td>\n",
       "      <td>-5</td>\n",
       "      <td>52</td>\n",
       "      <td>64</td>\n",
       "      <td>24</td>\n",
       "      <td>23</td>\n",
       "    </tr>\n",
       "    <tr>\n",
       "      <th>2</th>\n",
       "      <td>TiK ToK</td>\n",
       "      <td>Kesha</td>\n",
       "      <td>dance pop</td>\n",
       "      <td>120</td>\n",
       "      <td>84</td>\n",
       "      <td>76</td>\n",
       "      <td>-3</td>\n",
       "      <td>29</td>\n",
       "      <td>71</td>\n",
       "      <td>10</td>\n",
       "      <td>14</td>\n",
       "    </tr>\n",
       "    <tr>\n",
       "      <th>3</th>\n",
       "      <td>Bad Romance</td>\n",
       "      <td>Lady Gaga</td>\n",
       "      <td>dance pop</td>\n",
       "      <td>119</td>\n",
       "      <td>92</td>\n",
       "      <td>70</td>\n",
       "      <td>-4</td>\n",
       "      <td>8</td>\n",
       "      <td>71</td>\n",
       "      <td>0</td>\n",
       "      <td>4</td>\n",
       "    </tr>\n",
       "    <tr>\n",
       "      <th>4</th>\n",
       "      <td>Just the Way You Are</td>\n",
       "      <td>Bruno Mars</td>\n",
       "      <td>pop</td>\n",
       "      <td>109</td>\n",
       "      <td>84</td>\n",
       "      <td>64</td>\n",
       "      <td>-5</td>\n",
       "      <td>9</td>\n",
       "      <td>43</td>\n",
       "      <td>2</td>\n",
       "      <td>4</td>\n",
       "    </tr>\n",
       "    <tr>\n",
       "      <th>...</th>\n",
       "      <td>...</td>\n",
       "      <td>...</td>\n",
       "      <td>...</td>\n",
       "      <td>...</td>\n",
       "      <td>...</td>\n",
       "      <td>...</td>\n",
       "      <td>...</td>\n",
       "      <td>...</td>\n",
       "      <td>...</td>\n",
       "      <td>...</td>\n",
       "      <td>...</td>\n",
       "    </tr>\n",
       "    <tr>\n",
       "      <th>598</th>\n",
       "      <td>Find U Again (feat. Camila Cabello)</td>\n",
       "      <td>Mark Ronson</td>\n",
       "      <td>dance pop</td>\n",
       "      <td>104</td>\n",
       "      <td>66</td>\n",
       "      <td>61</td>\n",
       "      <td>-7</td>\n",
       "      <td>20</td>\n",
       "      <td>16</td>\n",
       "      <td>1</td>\n",
       "      <td>3</td>\n",
       "    </tr>\n",
       "    <tr>\n",
       "      <th>599</th>\n",
       "      <td>Cross Me (feat. Chance the Rapper &amp; PnB Rock)</td>\n",
       "      <td>Ed Sheeran</td>\n",
       "      <td>pop</td>\n",
       "      <td>95</td>\n",
       "      <td>79</td>\n",
       "      <td>75</td>\n",
       "      <td>-6</td>\n",
       "      <td>7</td>\n",
       "      <td>61</td>\n",
       "      <td>21</td>\n",
       "      <td>12</td>\n",
       "    </tr>\n",
       "    <tr>\n",
       "      <th>600</th>\n",
       "      <td>No Brainer (feat. Justin Bieber, Chance the Ra...</td>\n",
       "      <td>DJ Khaled</td>\n",
       "      <td>dance pop</td>\n",
       "      <td>136</td>\n",
       "      <td>76</td>\n",
       "      <td>53</td>\n",
       "      <td>-5</td>\n",
       "      <td>9</td>\n",
       "      <td>65</td>\n",
       "      <td>7</td>\n",
       "      <td>34</td>\n",
       "    </tr>\n",
       "    <tr>\n",
       "      <th>601</th>\n",
       "      <td>Nothing Breaks Like a Heart (feat. Miley Cyrus)</td>\n",
       "      <td>Mark Ronson</td>\n",
       "      <td>dance pop</td>\n",
       "      <td>114</td>\n",
       "      <td>79</td>\n",
       "      <td>60</td>\n",
       "      <td>-6</td>\n",
       "      <td>42</td>\n",
       "      <td>24</td>\n",
       "      <td>1</td>\n",
       "      <td>7</td>\n",
       "    </tr>\n",
       "    <tr>\n",
       "      <th>602</th>\n",
       "      <td>Kills You Slowly</td>\n",
       "      <td>The Chainsmokers</td>\n",
       "      <td>electropop</td>\n",
       "      <td>150</td>\n",
       "      <td>44</td>\n",
       "      <td>70</td>\n",
       "      <td>-9</td>\n",
       "      <td>13</td>\n",
       "      <td>23</td>\n",
       "      <td>6</td>\n",
       "      <td>6</td>\n",
       "    </tr>\n",
       "  </tbody>\n",
       "</table>\n",
       "<p>603 rows × 11 columns</p>\n",
       "</div>"
      ],
      "text/plain": [
       "                                                 title            artist  \\\n",
       "0                                     Hey, Soul Sister             Train   \n",
       "1                                 Love The Way You Lie            Eminem   \n",
       "2                                              TiK ToK             Kesha   \n",
       "3                                          Bad Romance         Lady Gaga   \n",
       "4                                 Just the Way You Are        Bruno Mars   \n",
       "..                                                 ...               ...   \n",
       "598                Find U Again (feat. Camila Cabello)       Mark Ronson   \n",
       "599      Cross Me (feat. Chance the Rapper & PnB Rock)        Ed Sheeran   \n",
       "600  No Brainer (feat. Justin Bieber, Chance the Ra...         DJ Khaled   \n",
       "601    Nothing Breaks Like a Heart (feat. Miley Cyrus)       Mark Ronson   \n",
       "602                                   Kills You Slowly  The Chainsmokers   \n",
       "\n",
       "           top genre  bpm  nrgy  dnce  dB  live  val  acous  spch  \n",
       "0         neo mellow   97    89    67  -4     8   80     19     4  \n",
       "1    detroit hip hop   87    93    75  -5    52   64     24    23  \n",
       "2          dance pop  120    84    76  -3    29   71     10    14  \n",
       "3          dance pop  119    92    70  -4     8   71      0     4  \n",
       "4                pop  109    84    64  -5     9   43      2     4  \n",
       "..               ...  ...   ...   ...  ..   ...  ...    ...   ...  \n",
       "598        dance pop  104    66    61  -7    20   16      1     3  \n",
       "599              pop   95    79    75  -6     7   61     21    12  \n",
       "600        dance pop  136    76    53  -5     9   65      7    34  \n",
       "601        dance pop  114    79    60  -6    42   24      1     7  \n",
       "602       electropop  150    44    70  -9    13   23      6     6  \n",
       "\n",
       "[603 rows x 11 columns]"
      ]
     },
     "execution_count": 12,
     "metadata": {},
     "output_type": "execute_result"
    }
   ],
   "source": [
    "#extracting columns we will use to base classifications\n",
    "#dropping unnecessary columns\n",
    "\n",
    "# UNCOMMENT FOR MEGADATASET\n",
    "# df.drop(columns=['year', 'release_date', 'id', 'duration_ms', 'artists', \n",
    "#                  'name', 'explicit', 'popularity', 'mode', 'key', 'loudness'], inplace=True)\n",
    "\n",
    "df.drop(columns=['Unnamed: 0','year','dur','pop'], inplace= True)\n",
    "df"
   ]
  },
  {
   "cell_type": "code",
   "execution_count": 13,
   "id": "ecological-worry",
   "metadata": {
    "scrolled": false
   },
   "outputs": [
    {
     "data": {
      "application/vnd.plotly.v1+json": {
       "config": {
        "plotlyServerURL": "https://plot.ly"
       },
       "data": [
        {
         "customdata": [
          [
           "Hey, Soul Sister"
          ],
          [
           "All of Me"
          ],
          [
           "Wings"
          ],
          [
           "Say Something"
          ],
          [
           "Not About Angels"
          ],
          [
           "Tee Shirt - Soundtrack Version"
          ],
          [
           "Words as Weapons"
          ],
          [
           "Keeping Your Head Up"
          ],
          [
           "Start"
          ]
         ],
         "hovertemplate": "<b>%{hovertext}</b><br><br>top genre=neo mellow<br>bpm=%{x}<br>nrgy=%{y}<br>title=%{customdata[0]}<extra></extra>",
         "hovertext": [
          "Train",
          "John Legend",
          "Birdy",
          "A Great Big World",
          "Birdy",
          "Birdy",
          "Birdy",
          "Birdy",
          "John Legend"
         ],
         "legendgroup": "neo mellow",
         "marker": {
          "color": "#636efa",
          "symbol": "circle"
         },
         "mode": "markers",
         "name": "neo mellow",
         "orientation": "v",
         "showlegend": true,
         "type": "scatter",
         "x": [
          97,
          120,
          83,
          138,
          116,
          76,
          120,
          122,
          110
         ],
         "xaxis": "x",
         "y": [
          89,
          26,
          71,
          15,
          14,
          34,
          35,
          78,
          4
         ],
         "yaxis": "y"
        },
        {
         "customdata": [
          [
           "Love The Way You Lie"
          ],
          [
           "Walk On Water (feat. Beyonc�)"
          ]
         ],
         "hovertemplate": "<b>%{hovertext}</b><br><br>top genre=detroit hip hop<br>bpm=%{x}<br>nrgy=%{y}<br>title=%{customdata[0]}<extra></extra>",
         "hovertext": [
          "Eminem",
          "Eminem"
         ],
         "legendgroup": "detroit hip hop",
         "marker": {
          "color": "#EF553B",
          "symbol": "circle"
         },
         "mode": "markers",
         "name": "detroit hip hop",
         "orientation": "v",
         "showlegend": true,
         "type": "scatter",
         "x": [
          87,
          82
         ],
         "xaxis": "x",
         "y": [
          93,
          44
         ],
         "yaxis": "y"
        },
        {
         "customdata": [
          [
           "TiK ToK"
          ],
          [
           "Bad Romance"
          ],
          [
           "Dynamite"
          ],
          [
           "Secrets"
          ],
          [
           "Club Can't Handle Me (feat. David Guetta)"
          ],
          [
           "Cooler Than Me - Single Mix"
          ],
          [
           "Telephone"
          ],
          [
           "Like A G6"
          ],
          [
           "Eenie Meenie"
          ],
          [
           "The Time (Dirty Bit)"
          ],
          [
           "Alejandro"
          ],
          [
           "Your Love Is My Drug"
          ],
          [
           "Meet Me Halfway"
          ],
          [
           "Take It Off"
          ],
          [
           "All The Right Moves"
          ],
          [
           "Naturally"
          ],
          [
           "I Like It"
          ],
          [
           "Teenage Dream"
          ],
          [
           "California Gurls"
          ],
          [
           "3"
          ],
          [
           "My First Kiss - feat. Ke$ha"
          ],
          [
           "Blah Blah Blah (feat. 3OH!3)"
          ],
          [
           "Imma Be"
          ],
          [
           "Sexy Bitch (feat. Akon)"
          ],
          [
           "Bound To You - Burlesque Original Motion Picture Soundtrack"
          ],
          [
           "Rock That Body"
          ],
          [
           "Something's Got A Hold On Me - Burlesque Original Motion Picture Soundtrack"
          ],
          [
           "You Lost Me"
          ],
          [
           "Not Myself Tonight"
          ],
          [
           "Written in the Stars (feat. Eric Turner)"
          ],
          [
           "Break Your Heart"
          ],
          [
           "A Thousand Years"
          ],
          [
           "Give Me Everything"
          ],
          [
           "Run the World (Girls)"
          ],
          [
           "Love On Top"
          ],
          [
           "Tonight Tonight"
          ],
          [
           "Born This Way"
          ],
          [
           "Best Thing I Never Had"
          ],
          [
           "Party Rock Anthem"
          ],
          [
           "We R Who We R"
          ],
          [
           "Good Life"
          ],
          [
           "Just Can�t Get Enough"
          ],
          [
           "On The Floor"
          ],
          [
           "Yeah 3x"
          ],
          [
           "Without You (feat. Usher)"
          ],
          [
           "Sexy And I Know It"
          ],
          [
           "The Edge Of Glory"
          ],
          [
           "E.T."
          ],
          [
           "Till the World Ends"
          ],
          [
           "I Wanna Go"
          ],
          [
           "Blow"
          ],
          [
           "You And I"
          ],
          [
           "Judas"
          ],
          [
           "Tonight (I'm Fuckin' You)"
          ],
          [
           "Please Don't Go"
          ],
          [
           "Marry The Night"
          ],
          [
           "1+1"
          ],
          [
           "Hold It Against Me"
          ],
          [
           "I'm Into You"
          ],
          [
           "Papi"
          ],
          [
           "Written in the Stars (feat. Eric Turner)"
          ],
          [
           "Jar of Hearts"
          ],
          [
           "Super Bass"
          ],
          [
           "Raise Your Glass"
          ],
          [
           "Invading My Mind"
          ],
          [
           "Moment 4 Life - Album Version (Edited)"
          ],
          [
           "Last Friday Night (T.G.I.F.)"
          ],
          [
           "Firework"
          ],
          [
           "Muny - Album Version (Edited)"
          ],
          [
           "Titanium (feat. Sia)"
          ],
          [
           "Love You Like A Love Song"
          ],
          [
           "Stronger (What Doesn't Kill You)"
          ],
          [
           "Try"
          ],
          [
           "Starships"
          ],
          [
           "International Love"
          ],
          [
           "Part Of Me"
          ],
          [
           "Wide Awake"
          ],
          [
           "The One That Got Away"
          ],
          [
           "Dance Again"
          ],
          [
           "Turn Up the Music"
          ],
          [
           "Lights - Single Version"
          ],
          [
           "Don't Stop the Party (feat. TJR)"
          ],
          [
           "Stereo Hearts (feat. Adam Levine)"
          ],
          [
           "Blow Me (One Last Kiss)"
          ],
          [
           "Underneath the Tree"
          ],
          [
           "Just Give Me a Reason (feat. Nate Ruess)"
          ],
          [
           "Roar"
          ],
          [
           "We Can't Stop"
          ],
          [
           "Wrecking Ball"
          ],
          [
           "Blurred Lines"
          ],
          [
           "Heart Attack"
          ],
          [
           "Die Young"
          ],
          [
           "Under Control"
          ],
          [
           "Sweet Nothing (feat. Florence Welch)"
          ],
          [
           "Work Bitch"
          ],
          [
           "Can't Hold Us (feat. Ray Dalton)"
          ],
          [
           "Feel This Moment (feat. Christina Aguilera)"
          ],
          [
           "Let Me Love You (Until You Learn To Love Yourself)"
          ],
          [
           "Thrift Shop (feat. Wanz)"
          ],
          [
           "If I Lose Myself - Alesso vs OneRepublic"
          ],
          [
           "The Way"
          ],
          [
           "Suit & Tie"
          ],
          [
           "#thatPOWER"
          ],
          [
           "Play Hard (feat. Ne-Yo & Akon) - New Edit"
          ],
          [
           "A Little Party Never Killed Nobody (All We Got)"
          ],
          [
           "Move"
          ],
          [
           "Mirrors - Radio Edit"
          ],
          [
           "Next To Me"
          ],
          [
           "Made In The USA"
          ],
          [
           "Clown"
          ],
          [
           "TKO"
          ],
          [
           "Come & Get It"
          ],
          [
           "Live It Up"
          ],
          [
           "What About Love"
          ],
          [
           "Take Back the Night"
          ],
          [
           "Applause"
          ],
          [
           "Anything Could Happen"
          ],
          [
           "Finally Found You"
          ],
          [
           "#Beautiful"
          ],
          [
           "How Ya Doin'? (feat. Missy Elliott)"
          ],
          [
           "Crazy Kids (feat. will.i.am)"
          ],
          [
           "Ooh La La (from \"The Smurfs 2\")"
          ],
          [
           "People Like Us"
          ],
          [
           "Overdose"
          ],
          [
           "Give It 2 U"
          ],
          [
           "Outta Nowhere (feat. Danny Mercer)"
          ],
          [
           "Summer"
          ],
          [
           "Happy - From \"Despicable Me 2\""
          ],
          [
           "Dark Horse"
          ],
          [
           "Problem"
          ],
          [
           "Adore You"
          ],
          [
           "Burn"
          ],
          [
           "Talk Dirty (feat. 2 Chainz)"
          ],
          [
           "human"
          ],
          [
           "Wiggle (feat. Snoop Dogg)"
          ],
          [
           "Love Runs Out"
          ],
          [
           "This Is How We Do"
          ],
          [
           "Mmm Yeah (feat. Pitbull)"
          ],
          [
           "A Little Party Never Killed Nobody (All We Got)"
          ],
          [
           "Partition"
          ],
          [
           "Birthday"
          ],
          [
           "G.U.Y."
          ],
          [
           "Let It Go - From \"Frozen / Single Version"
          ],
          [
           "Shot Me Down (feat. Skylar Grey) - Radio Edit"
          ],
          [
           "Come Get It Bae"
          ],
          [
           "XO"
          ],
          [
           "We Are One (Ole Ola) [The Official 2014 FIFA World Cup Song]"
          ],
          [
           "Drunk in Love"
          ],
          [
           "Anaconda"
          ],
          [
           "You're Mine (Eternal)"
          ],
          [
           "Sheezus"
          ],
          [
           "I Luh Ya Papi"
          ],
          [
           "Not a Bad Thing"
          ],
          [
           "Uptown Funk"
          ],
          [
           "Love Me Like You Do - From \"Fifty Shades Of Grey\""
          ],
          [
           "Want to Want Me"
          ],
          [
           "My House"
          ],
          [
           "How Deep Is Your Love"
          ],
          [
           "Never Forget You"
          ],
          [
           "Love Me Harder"
          ],
          [
           "Blame"
          ],
          [
           "Worth It"
          ],
          [
           "Break Free"
          ],
          [
           "Rather Be (feat. Jess Glynne)"
          ],
          [
           "Dear Future Husband"
          ],
          [
           "43776"
          ],
          [
           "The Heart Wants What It Wants"
          ],
          [
           "Hey Mama (feat. Nicki Minaj, Bebe Rexha & Afrojack)"
          ],
          [
           "Genie In a Bottle"
          ],
          [
           "Jealous - Remix"
          ],
          [
           "Really Don't Care"
          ],
          [
           "Downtown (feat. Melle Mel, Grandmaster Caz, Kool Moe Dee & Eric Nally)"
          ],
          [
           "Heartbeat Song"
          ],
          [
           "Up"
          ],
          [
           "Trumpets"
          ],
          [
           "Same Old Love"
          ],
          [
           "Lips Are Movin"
          ],
          [
           "I Lived"
          ],
          [
           "Fireball (feat. John Ryan)"
          ],
          [
           "Easy Love"
          ],
          [
           "BO$$"
          ],
          [
           "Focus"
          ],
          [
           "All About That Bass"
          ],
          [
           "On My Mind"
          ],
          [
           "Love Me Like You"
          ],
          [
           "Booty"
          ],
          [
           "Lay It All on Me"
          ],
          [
           "Sugar (feat. Francesco Yates)"
          ],
          [
           "Feel The Light - From The \"Home\" Soundtrack"
          ],
          [
           "Ghosttown"
          ],
          [
           "Bang My Head (feat. Sia & Fetty Wap)"
          ],
          [
           "Living For Love"
          ],
          [
           "Baby Don't Lie"
          ],
          [
           "Don't Be so Hard on Yourself"
          ],
          [
           "Celebrate (From the Original Motion Picture \"Penguins of Madagascar\")"
          ],
          [
           "Yesterday (feat. Bebe Rexha)"
          ],
          [
           "Time of Our Lives"
          ],
          [
           "Sparks"
          ],
          [
           "Mr. Put It Down"
          ],
          [
           "Legendary Lovers"
          ],
          [
           "Spark The Fire"
          ],
          [
           "Run Run Run"
          ],
          [
           "Let Me Be Your Lover"
          ],
          [
           "Dangerous"
          ],
          [
           "L.A.LOVE (la la)"
          ],
          [
           "Cake By The Ocean"
          ],
          [
           "Into You"
          ],
          [
           "This Is What You Came For"
          ],
          [
           "Million Reasons"
          ],
          [
           "CAN'T STOP THE FEELING! (Original Song from DreamWorks Animation's \"TROLLS\")"
          ],
          [
           "Work from Home (feat. Ty Dolla $ign)"
          ],
          [
           "Like I'm Gonna Lose You (feat. John Legend)"
          ],
          [
           "I Took A Pill In Ibiza - Seeb Remix"
          ],
          [
           "Dangerous Woman"
          ],
          [
           "Starving"
          ],
          [
           "Shout Out to My Ex"
          ],
          [
           "Confident"
          ],
          [
           "Cold Water (feat. Justin Bieber & M�)"
          ],
          [
           "Me Too"
          ],
          [
           "Light It Up (feat. Nyla & Fuse ODG) [Remix]"
          ],
          [
           "Ain't Your Mama"
          ],
          [
           "Close"
          ],
          [
           "Toothbrush"
          ],
          [
           "Final Song"
          ],
          [
           "Hands To Myself"
          ],
          [
           "Just Like Fire (From the Original Motion Picture \"Alice Through The Looking Glass\")"
          ],
          [
           "NO"
          ],
          [
           "Kill Em With Kindness"
          ],
          [
           "Cool Girl"
          ],
          [
           "Perfect Illusion"
          ],
          [
           "PILLOWTALK"
          ],
          [
           "Rise"
          ],
          [
           "Wherever I Go"
          ],
          [
           "Body Say"
          ],
          [
           "LIKE I WOULD"
          ],
          [
           "I Got You"
          ],
          [
           "Cruel (feat. ZAYN)"
          ],
          [
           "WTF (Where They From)"
          ],
          [
           "Desire"
          ],
          [
           "Hurts"
          ],
          [
           "Change"
          ],
          [
           "Make Me... (feat. G-Eazy)"
          ],
          [
           "Make Me Like You"
          ],
          [
           "Champagne Problems"
          ],
          [
           "Blown"
          ],
          [
           "Pep Rally"
          ],
          [
           "Invitation"
          ],
          [
           "One Call Away (feat. Tyga) - Remix"
          ],
          [
           "Little Lies"
          ],
          [
           "Do You Wanna Come Over?"
          ],
          [
           "BURNITUP!"
          ],
          [
           "Side To Side"
          ],
          [
           "Malibu"
          ],
          [
           "Rockabye (feat. Sean Paul & Anne-Marie)"
          ],
          [
           "I Don�t Wanna Live Forever (Fifty Shades Darker)"
          ],
          [
           "My Way"
          ],
          [
           "I'm the One (feat. Justin Bieber, Quavo, Chance the Rapper & Lil Wayne)"
          ],
          [
           "Praying"
          ],
          [
           "Crying in the Club"
          ],
          [
           "Mama"
          ],
          [
           "Slide (feat. Frank Ocean & Migos)"
          ],
          [
           "Swish Swish"
          ],
          [
           "Chained To The Rhythm"
          ],
          [
           "The Cure"
          ],
          [
           "Rich Love (with Seeb)"
          ],
          [
           "Came Here for Love"
          ],
          [
           "Strip That Down (feat. Quavo)"
          ],
          [
           "OK - Spotify Version"
          ],
          [
           "Bon app�tit"
          ],
          [
           "Kissing Strangers"
          ],
          [
           "Slow Hands"
          ],
          [
           "Younger Now"
          ],
          [
           "Body Moves"
          ],
          [
           "Angel"
          ],
          [
           "Touch (feat. Kid Ink)"
          ],
          [
           "We Don't Talk Anymore - DROELOE Remix"
          ],
          [
           "No Vacancy (with Sebasti�n Yatra)"
          ],
          [
           "Greenlight (feat. Flo Rida & LunchMoney Lewis)"
          ],
          [
           "Influence"
          ],
          [
           "Remember I Told You"
          ],
          [
           "Messin' Around"
          ],
          [
           "Kissing Strangers - Remix"
          ],
          [
           "One Kiss (with Dua Lipa)"
          ],
          [
           "Havana (feat. Young Thug)"
          ],
          [
           "New Rules"
          ],
          [
           "no tears left to cry"
          ],
          [
           "IDGAF"
          ],
          [
           "Wolves"
          ],
          [
           "Dusk Till Dawn - Radio Edit"
          ],
          [
           "Attention"
          ],
          [
           "Let Me Go (with Alesso, Florida Georgia Line & watt)"
          ],
          [
           "Sorry Not Sorry"
          ],
          [
           "Shallow - Radio Edit"
          ],
          [
           "These Days"
          ],
          [
           "Bad At Love"
          ],
          [
           "Wild Thoughts (feat. Rihanna & Bryson Tiller)"
          ],
          [
           "My My My!"
          ],
          [
           "Capital Letters"
          ],
          [
           "Bad Liar"
          ],
          [
           "Anywhere"
          ],
          [
           "Say Something"
          ],
          [
           "Chun-Li"
          ],
          [
           "Sign of the Times"
          ],
          [
           "Familiar"
          ],
          [
           "Let Me"
          ],
          [
           "Supernova"
          ],
          [
           "For You (With Rita Ora)"
          ],
          [
           "Want To"
          ],
          [
           "What I Need (feat. Kehlani)"
          ],
          [
           "What About Us"
          ],
          [
           "Kissing Strangers"
          ],
          [
           "2U (feat. Justin Bieber)"
          ],
          [
           "This Town"
          ],
          [
           "Girls (feat. Cardi B, Bebe Rexha & Charli XCX)"
          ],
          [
           "MOVE TO MIAMI"
          ],
          [
           "Filthy"
          ],
          [
           "Never Be the Same - Radio Edit"
          ],
          [
           "Ferrari"
          ],
          [
           "Supplies"
          ],
          [
           "Tell Me You Love Me - NOTD Remix"
          ],
          [
           "Lose You To Love Me"
          ],
          [
           "Don't Call Me Up"
          ],
          [
           "Giant (with Rag'n'Bone Man)"
          ],
          [
           "No Guidance (feat. Drake)"
          ],
          [
           "Find U Again (feat. Camila Cabello)"
          ],
          [
           "No Brainer (feat. Justin Bieber, Chance the Rapper & Quavo)"
          ],
          [
           "Nothing Breaks Like a Heart (feat. Miley Cyrus)"
          ]
         ],
         "hovertemplate": "<b>%{hovertext}</b><br><br>top genre=dance pop<br>bpm=%{x}<br>nrgy=%{y}<br>title=%{customdata[0]}<extra></extra>",
         "hovertext": [
          "Kesha",
          "Lady Gaga",
          "Taio Cruz",
          "OneRepublic",
          "Flo Rida",
          "Mike Posner",
          "Lady Gaga",
          "Far East Movement",
          "Sean Kingston",
          "The Black Eyed Peas",
          "Lady Gaga",
          "Kesha",
          "The Black Eyed Peas",
          "Kesha",
          "OneRepublic",
          "Selena Gomez & The Scene",
          "Enrique Iglesias",
          "Katy Perry",
          "Katy Perry",
          "Britney Spears",
          "3OH!3",
          "Kesha",
          "The Black Eyed Peas",
          "David Guetta",
          "Christina Aguilera",
          "The Black Eyed Peas",
          "Christina Aguilera",
          "Christina Aguilera",
          "Christina Aguilera",
          "Tinie Tempah",
          "Taio Cruz",
          "Christina Perri",
          "Pitbull",
          "Beyonc�",
          "Beyonc�",
          "Hot Chelle Rae",
          "Lady Gaga",
          "Beyonc�",
          "LMFAO",
          "Kesha",
          "OneRepublic",
          "The Black Eyed Peas",
          "Jennifer Lopez",
          "Chris Brown",
          "David Guetta",
          "LMFAO",
          "Lady Gaga",
          "Katy Perry",
          "Britney Spears",
          "Britney Spears",
          "Kesha",
          "Lady Gaga",
          "Lady Gaga",
          "Enrique Iglesias",
          "Mike Posner",
          "Lady Gaga",
          "Beyonc�",
          "Britney Spears",
          "Jennifer Lopez",
          "Jennifer Lopez",
          "Tinie Tempah",
          "Christina Perri",
          "Nicki Minaj",
          "P!nk",
          "Jennifer Lopez",
          "Nicki Minaj",
          "Katy Perry",
          "Katy Perry",
          "Nicki Minaj",
          "David Guetta",
          "Selena Gomez & The Scene",
          "Kelly Clarkson",
          "P!nk",
          "Nicki Minaj",
          "Pitbull",
          "Katy Perry",
          "Katy Perry",
          "Katy Perry",
          "Jennifer Lopez",
          "Chris Brown",
          "Ellie Goulding",
          "Pitbull",
          "Gym Class Heroes",
          "P!nk",
          "Kelly Clarkson",
          "P!nk",
          "Katy Perry",
          "Miley Cyrus",
          "Miley Cyrus",
          "Robin Thicke",
          "Demi Lovato",
          "Kesha",
          "Calvin Harris",
          "Calvin Harris",
          "Britney Spears",
          "Macklemore & Ryan Lewis",
          "Pitbull",
          "Ne-Yo",
          "Macklemore & Ryan Lewis",
          "OneRepublic",
          "Ariana Grande",
          "Justin Timberlake",
          "will.i.am",
          "David Guetta",
          "Fergie",
          "Little Mix",
          "Justin Timberlake",
          "Emeli Sand�",
          "Demi Lovato",
          "Emeli Sand�",
          "Justin Timberlake",
          "Selena Gomez",
          "Jennifer Lopez",
          "Austin Mahone",
          "Justin Timberlake",
          "Lady Gaga",
          "Ellie Goulding",
          "Enrique Iglesias",
          "Mariah Carey",
          "Little Mix",
          "Kesha",
          "Britney Spears",
          "Kelly Clarkson",
          "Ciara",
          "Robin Thicke",
          "Pitbull",
          "Calvin Harris",
          "Pharrell Williams",
          "Katy Perry",
          "Ariana Grande",
          "Miley Cyrus",
          "Ellie Goulding",
          "Jason Derulo",
          "Christina Perri",
          "Jason Derulo",
          "OneRepublic",
          "Katy Perry",
          "Austin Mahone",
          "Fergie",
          "Beyonc�",
          "Katy Perry",
          "Lady Gaga",
          "Demi Lovato",
          "David Guetta",
          "Pharrell Williams",
          "Beyonc�",
          "Pitbull",
          "Beyonc�",
          "Nicki Minaj",
          "Mariah Carey",
          "Lily Allen",
          "Jennifer Lopez",
          "Justin Timberlake",
          "Mark Ronson",
          "Ellie Goulding",
          "Jason Derulo",
          "Flo Rida",
          "Calvin Harris",
          "Zara Larsson",
          "Ariana Grande",
          "Calvin Harris",
          "Fifth Harmony",
          "Ariana Grande",
          "Clean Bandit",
          "Meghan Trainor",
          "Beyonc�",
          "Selena Gomez",
          "David Guetta",
          "Christina Aguilera",
          "Nick Jonas",
          "Demi Lovato",
          "Macklemore & Ryan Lewis",
          "Kelly Clarkson",
          "Olly Murs",
          "Jason Derulo",
          "Selena Gomez",
          "Meghan Trainor",
          "OneRepublic",
          "Pitbull",
          "Sigala",
          "Fifth Harmony",
          "Ariana Grande",
          "Meghan Trainor",
          "Ellie Goulding",
          "Little Mix",
          "Jennifer Lopez",
          "Rudimental",
          "Robin Schulz",
          "Jennifer Lopez",
          "Madonna",
          "David Guetta",
          "Madonna",
          "Gwen Stefani",
          "Jess Glynne",
          "Pitbull",
          "David Guetta",
          "Pitbull",
          "Hilary Duff",
          "Ricky Martin",
          "Katy Perry",
          "Gwen Stefani",
          "Kelly Clarkson",
          "Enrique Iglesias",
          "Jennifer Hudson",
          "Fergie",
          "DNCE",
          "Ariana Grande",
          "Calvin Harris",
          "Lady Gaga",
          "Justin Timberlake",
          "Fifth Harmony",
          "Meghan Trainor",
          "Mike Posner",
          "Ariana Grande",
          "Hailee Steinfeld",
          "Little Mix",
          "Demi Lovato",
          "Major Lazer",
          "Meghan Trainor",
          "Major Lazer",
          "Jennifer Lopez",
          "Nick Jonas",
          "DNCE",
          "M�",
          "Selena Gomez",
          "P!nk",
          "Meghan Trainor",
          "Selena Gomez",
          "Tove Lo",
          "Lady Gaga",
          "ZAYN",
          "Katy Perry",
          "OneRepublic",
          "Demi Lovato",
          "ZAYN",
          "Bebe Rexha",
          "Snakehips",
          "Missy Elliott",
          "Years & Years",
          "Emeli Sand�",
          "Christina Aguilera",
          "Britney Spears",
          "Gwen Stefani",
          "Nick Jonas",
          "DNCE",
          "Missy Elliott",
          "Britney Spears",
          "Charlie Puth",
          "Hilary Duff",
          "Britney Spears",
          "Janet Jackson",
          "Ariana Grande",
          "Miley Cyrus",
          "Clean Bandit",
          "ZAYN",
          "Calvin Harris",
          "DJ Khaled",
          "Kesha",
          "Camila Cabello",
          "Jonas Blue",
          "Calvin Harris",
          "Katy Perry",
          "Katy Perry",
          "Lady Gaga",
          "OneRepublic",
          "Sigala",
          "Liam Payne",
          "Robin Schulz",
          "Katy Perry",
          "DNCE",
          "Niall Horan",
          "Miley Cyrus",
          "DNCE",
          "Fifth Harmony",
          "Little Mix",
          "Charlie Puth",
          "OneRepublic",
          "Pitbull",
          "Tove Lo",
          "Nick Jonas",
          "Pitbull",
          "DNCE",
          "Calvin Harris",
          "Camila Cabello",
          "Dua Lipa",
          "Ariana Grande",
          "Dua Lipa",
          "Selena Gomez",
          "ZAYN",
          "Charlie Puth",
          "Hailee Steinfeld",
          "Demi Lovato",
          "Lady Gaga",
          "Rudimental",
          "Halsey",
          "DJ Khaled",
          "Troye Sivan",
          "Hailee Steinfeld",
          "Selena Gomez",
          "Rita Ora",
          "Justin Timberlake",
          "Nicki Minaj",
          "Harry Styles",
          "Liam Payne",
          "ZAYN",
          "Ansel Elgort",
          "Liam Payne",
          "Dua Lipa",
          "Hayley Kiyoko",
          "P!nk",
          "DNCE",
          "David Guetta",
          "Niall Horan",
          "Rita Ora",
          "Enrique Iglesias",
          "Justin Timberlake",
          "Camila Cabello",
          "Bebe Rexha",
          "Justin Timberlake",
          "Demi Lovato",
          "Selena Gomez",
          "Mabel",
          "Calvin Harris",
          "Chris Brown",
          "Mark Ronson",
          "DJ Khaled",
          "Mark Ronson"
         ],
         "legendgroup": "dance pop",
         "marker": {
          "color": "#00cc96",
          "symbol": "circle"
         },
         "mode": "markers",
         "name": "dance pop",
         "orientation": "v",
         "showlegend": true,
         "type": "scatter",
         "x": [
          120,
          119,
          120,
          148,
          128,
          130,
          122,
          125,
          121,
          128,
          99,
          120,
          130,
          125,
          146,
          133,
          129,
          120,
          125,
          135,
          138,
          120,
          92,
          130,
          164,
          125,
          150,
          43,
          120,
          91,
          122,
          139,
          129,
          127,
          94,
          100,
          124,
          99,
          130,
          120,
          95,
          94,
          130,
          130,
          128,
          130,
          128,
          152,
          132,
          130,
          120,
          127,
          131,
          126,
          120,
          131,
          63,
          133,
          84,
          120,
          91,
          75,
          127,
          122,
          129,
          130,
          126,
          124,
          98,
          126,
          117,
          116,
          104,
          125,
          120,
          130,
          160,
          134,
          128,
          130,
          120,
          127,
          90,
          114,
          160,
          95,
          180,
          80,
          120,
          120,
          174,
          128,
          126,
          128,
          128,
          146,
          136,
          125,
          95,
          126,
          82,
          102,
          128,
          130,
          130,
          121,
          77,
          95,
          87,
          130,
          138,
          80,
          128,
          100,
          107,
          140,
          103,
          128,
          107,
          201,
          128,
          128,
          128,
          107,
          127,
          95,
          128,
          160,
          132,
          103,
          120,
          87,
          100,
          144,
          82,
          120,
          96,
          126,
          130,
          186,
          126,
          110,
          140,
          192,
          120,
          170,
          125,
          140,
          130,
          149,
          130,
          96,
          86,
          115,
          190,
          114,
          94,
          122,
          146,
          99,
          128,
          100,
          130,
          121,
          79,
          136,
          83,
          86,
          176,
          93,
          121,
          110,
          149,
          115,
          82,
          98,
          139,
          120,
          123,
          124,
          103,
          100,
          134,
          155,
          106,
          129,
          123,
          123,
          156,
          79,
          108,
          123,
          100,
          120,
          127,
          128,
          124,
          122,
          128,
          126,
          120,
          112,
          112,
          109,
          202,
          119,
          108,
          124,
          130,
          113,
          105,
          108,
          102,
          134,
          100,
          126,
          130,
          93,
          124,
          108,
          120,
          124,
          105,
          105,
          111,
          163,
          92,
          120,
          102,
          125,
          125,
          101,
          100,
          87,
          113,
          98,
          110,
          120,
          126,
          106,
          82,
          123,
          118,
          108,
          130,
          90,
          112,
          91,
          124,
          121,
          123,
          159,
          140,
          102,
          118,
          120,
          81,
          73,
          85,
          104,
          104,
          120,
          190,
          100,
          105,
          125,
          106,
          122,
          106,
          120,
          86,
          122,
          102,
          124,
          102,
          100,
          100,
          115,
          105,
          113,
          158,
          120,
          124,
          105,
          116,
          122,
          97,
          125,
          180,
          100,
          103,
          144,
          96,
          92,
          118,
          98,
          103,
          100,
          121,
          107,
          97,
          129,
          120,
          93,
          168,
          140,
          113,
          92,
          104,
          114,
          120,
          145,
          112,
          94,
          100,
          97,
          130,
          77,
          120,
          102,
          102,
          99,
          122,
          93,
          104,
          136,
          114
         ],
         "xaxis": "x",
         "y": [
          84,
          92,
          78,
          76,
          87,
          82,
          83,
          84,
          61,
          81,
          80,
          61,
          63,
          68,
          95,
          90,
          94,
          80,
          75,
          71,
          89,
          84,
          52,
          63,
          41,
          91,
          85,
          39,
          81,
          95,
          90,
          41,
          94,
          90,
          75,
          78,
          83,
          65,
          74,
          82,
          69,
          63,
          78,
          88,
          61,
          86,
          77,
          87,
          71,
          55,
          73,
          70,
          93,
          89,
          88,
          88,
          38,
          72,
          75,
          81,
          95,
          35,
          74,
          64,
          88,
          88,
          81,
          83,
          72,
          79,
          68,
          94,
          63,
          72,
          86,
          92,
          68,
          80,
          86,
          84,
          80,
          96,
          80,
          92,
          81,
          55,
          77,
          62,
          42,
          60,
          79,
          70,
          92,
          93,
          82,
          93,
          76,
          68,
          53,
          75,
          88,
          60,
          61,
          87,
          62,
          74,
          60,
          80,
          86,
          23,
          68,
          79,
          73,
          78,
          66,
          78,
          78,
          88,
          76,
          95,
          75,
          57,
          79,
          70,
          83,
          84,
          86,
          82,
          59,
          81,
          66,
          78,
          65,
          49,
          62,
          93,
          64,
          92,
          62,
          44,
          67,
          92,
          66,
          77,
          80,
          79,
          94,
          62,
          60,
          58,
          50,
          73,
          73,
          61,
          61,
          68,
          70,
          87,
          73,
          71,
          86,
          77,
          70,
          59,
          78,
          71,
          79,
          73,
          80,
          71,
          73,
          61,
          80,
          85,
          70,
          59,
          83,
          85,
          94,
          94,
          87,
          88,
          88,
          71,
          67,
          95,
          75,
          82,
          60,
          55,
          87,
          79,
          55,
          82,
          85,
          78,
          80,
          88,
          78,
          84,
          80,
          37,
          90,
          53,
          39,
          75,
          73,
          93,
          42,
          83,
          59,
          53,
          71,
          60,
          62,
          75,
          75,
          80,
          69,
          88,
          68,
          62,
          79,
          67,
          50,
          70,
          80,
          88,
          69,
          86,
          70,
          64,
          69,
          74,
          83,
          89,
          88,
          82,
          78,
          64,
          54,
          70,
          71,
          78,
          95,
          75,
          65,
          69,
          76,
          70,
          71,
          74,
          78,
          76,
          45,
          91,
          67,
          39,
          62,
          79,
          80,
          71,
          80,
          51,
          87,
          87,
          50,
          81,
          79,
          74,
          42,
          87,
          69,
          53,
          75,
          82,
          76,
          83,
          59,
          53,
          81,
          77,
          86,
          52,
          70,
          71,
          54,
          80,
          44,
          61,
          71,
          64,
          33,
          81,
          75,
          67,
          46,
          81,
          41,
          80,
          63,
          73,
          57,
          81,
          57,
          62,
          80,
          69,
          79,
          59,
          74,
          61,
          41,
          69,
          87,
          58,
          69,
          48,
          55,
          77,
          34,
          88,
          89,
          45,
          66,
          76,
          79
         ],
         "yaxis": "y"
        },
        {
         "customdata": [
          [
           "Just the Way You Are"
          ],
          [
           "Marry You"
          ],
          [
           "Misery"
          ],
          [
           "Just the Way You Are"
          ],
          [
           "Moves Like Jagger - Studio Recording From The Voice Performance"
          ],
          [
           "Grenade"
          ],
          [
           "Marry You"
          ],
          [
           "Locked Out of Heaven"
          ],
          [
           "Payphone"
          ],
          [
           "I Knew You Were Trouble."
          ],
          [
           "We Are Never Ever Getting Back Together"
          ],
          [
           "One More Night"
          ],
          [
           "Good Time"
          ],
          [
           "It Will Rain"
          ],
          [
           "Impossible"
          ],
          [
           "We Are Never Ever Getting Back Together"
          ],
          [
           "Beneath Your Beautiful"
          ],
          [
           "Daylight"
          ],
          [
           "Love Somebody"
          ],
          [
           "Stay With Me"
          ],
          [
           "Rude"
          ],
          [
           "Shake It Off"
          ],
          [
           "Maps"
          ],
          [
           "Treasure"
          ],
          [
           "Love Me Again"
          ],
          [
           "Love Never Felt So Good"
          ],
          [
           "Gorilla"
          ],
          [
           "Young Girls"
          ],
          [
           "Thinking out Loud"
          ],
          [
           "I'm Not The Only One"
          ],
          [
           "Sugar"
          ],
          [
           "Animals"
          ],
          [
           "Don't"
          ],
          [
           "Sing"
          ],
          [
           "Sugar"
          ],
          [
           "Bloodstream"
          ],
          [
           "Out Of The Woods"
          ],
          [
           "Shape of You"
          ],
          [
           "That's What I Like"
          ],
          [
           "Cold (feat. Future)"
          ],
          [
           "Bodak Yellow"
          ],
          [
           "24K Magic"
          ],
          [
           "I Like It"
          ],
          [
           "What Lovers Do (feat. SZA)"
          ],
          [
           "Finesse - Remix; feat. Cardi B"
          ],
          [
           "Perfect Duet (Ed Sheeran & Beyonc�)"
          ],
          [
           "Look What You Made Me Do"
          ],
          [
           "End Game"
          ],
          [
           "Wait"
          ],
          [
           "...Ready For It? - BloodPop� Remix"
          ],
          [
           "Drip (feat. Migos)"
          ],
          [
           "Memories"
          ],
          [
           "Someone You Loved"
          ],
          [
           "How Do You Sleep?"
          ],
          [
           "South of the Border (feat. Camila Cabello & Cardi B)"
          ],
          [
           "Beautiful People (feat. Khalid)"
          ],
          [
           "I Don't Care (with Justin Bieber)"
          ],
          [
           "Girls Like You (feat. Cardi B)"
          ],
          [
           "Antisocial (with Travis Scott)"
          ],
          [
           "Cross Me (feat. Chance the Rapper & PnB Rock)"
          ]
         ],
         "hovertemplate": "<b>%{hovertext}</b><br><br>top genre=pop<br>bpm=%{x}<br>nrgy=%{y}<br>title=%{customdata[0]}<extra></extra>",
         "hovertext": [
          "Bruno Mars",
          "Bruno Mars",
          "Maroon 5",
          "Bruno Mars",
          "Maroon 5",
          "Bruno Mars",
          "Bruno Mars",
          "Bruno Mars",
          "Maroon 5",
          "Taylor Swift",
          "Taylor Swift",
          "Maroon 5",
          "Owl City",
          "Bruno Mars",
          "James Arthur",
          "Taylor Swift",
          "Labrinth",
          "Maroon 5",
          "Maroon 5",
          "Sam Smith",
          "MAGIC!",
          "Taylor Swift",
          "Maroon 5",
          "Bruno Mars",
          "John Newman",
          "Michael Jackson",
          "Bruno Mars",
          "Bruno Mars",
          "Ed Sheeran",
          "Sam Smith",
          "Maroon 5",
          "Maroon 5",
          "Ed Sheeran",
          "Ed Sheeran",
          "Maroon 5",
          "Ed Sheeran",
          "Taylor Swift",
          "Ed Sheeran",
          "Bruno Mars",
          "Maroon 5",
          "Cardi B",
          "Bruno Mars",
          "Cardi B",
          "Maroon 5",
          "Bruno Mars",
          "Ed Sheeran",
          "Taylor Swift",
          "Taylor Swift",
          "Maroon 5",
          "Taylor Swift",
          "Cardi B",
          "Maroon 5",
          "Lewis Capaldi",
          "Sam Smith",
          "Ed Sheeran",
          "Ed Sheeran",
          "Ed Sheeran",
          "Maroon 5",
          "Ed Sheeran",
          "Ed Sheeran"
         ],
         "legendgroup": "pop",
         "marker": {
          "color": "#ab63fa",
          "symbol": "circle"
         },
         "mode": "markers",
         "name": "pop",
         "orientation": "v",
         "showlegend": true,
         "type": "scatter",
         "x": [
          109,
          145,
          103,
          109,
          128,
          110,
          145,
          144,
          110,
          77,
          86,
          93,
          126,
          150,
          170,
          86,
          84,
          120,
          120,
          84,
          144,
          160,
          120,
          116,
          126,
          118,
          140,
          126,
          79,
          82,
          120,
          190,
          95,
          120,
          120,
          89,
          92,
          96,
          134,
          100,
          125,
          107,
          136,
          110,
          105,
          95,
          128,
          159,
          126,
          160,
          130,
          91,
          110,
          111,
          98,
          93,
          102,
          125,
          152,
          95
         ],
         "xaxis": "x",
         "y": [
          84,
          83,
          81,
          84,
          76,
          56,
          83,
          70,
          75,
          47,
          68,
          82,
          87,
          84,
          70,
          68,
          52,
          67,
          78,
          42,
          76,
          80,
          71,
          69,
          89,
          72,
          54,
          75,
          45,
          49,
          79,
          74,
          61,
          67,
          79,
          59,
          84,
          65,
          56,
          72,
          72,
          80,
          73,
          60,
          86,
          30,
          71,
          59,
          60,
          84,
          59,
          32,
          41,
          68,
          62,
          65,
          68,
          54,
          82,
          79
         ],
         "yaxis": "y"
        },
        {
         "customdata": [
          [
           "Baby"
          ],
          [
           "What the Hell"
          ],
          [
           "Call Me Maybe"
          ],
          [
           "Beauty And A Beat"
          ],
          [
           "Boyfriend"
          ],
          [
           "Rock N Roll"
          ],
          [
           "Heartbreaker"
          ],
          [
           "Love Yourself"
          ],
          [
           "Sorry"
          ],
          [
           "What Do You Mean?"
          ],
          [
           "Stitches"
          ],
          [
           "Company"
          ],
          [
           "I'll Show You"
          ],
          [
           "The Feeling"
          ],
          [
           "I Really Like You"
          ],
          [
           "What Do You Mean? - Acoustic"
          ],
          [
           "Mark My Words"
          ],
          [
           "Been You"
          ],
          [
           "Love Yourself"
          ],
          [
           "Stitches"
          ],
          [
           "Company"
          ],
          [
           "Don't Be A Fool"
          ],
          [
           "Run Away With Me"
          ],
          [
           "I Know What You Did Last Summer"
          ],
          [
           "Higher"
          ],
          [
           "Treat You Better"
          ],
          [
           "Mercy"
          ],
          [
           "Cut To The Feeling"
          ],
          [
           "There's Nothing Holdin' Me Back"
          ],
          [
           "In My Blood"
          ],
          [
           "Friends (with BloodPop�)"
          ],
          [
           "Youth (feat. Khalid)"
          ],
          [
           "Nervous"
          ],
          [
           "Se�orita"
          ]
         ],
         "hovertemplate": "<b>%{hovertext}</b><br><br>top genre=canadian pop<br>bpm=%{x}<br>nrgy=%{y}<br>title=%{customdata[0]}<extra></extra>",
         "hovertext": [
          "Justin Bieber",
          "Avril Lavigne",
          "Carly Rae Jepsen",
          "Justin Bieber",
          "Justin Bieber",
          "Avril Lavigne",
          "Justin Bieber",
          "Justin Bieber",
          "Justin Bieber",
          "Justin Bieber",
          "Shawn Mendes",
          "Justin Bieber",
          "Justin Bieber",
          "Justin Bieber",
          "Carly Rae Jepsen",
          "Justin Bieber",
          "Justin Bieber",
          "Justin Bieber",
          "Justin Bieber",
          "Shawn Mendes",
          "Justin Bieber",
          "Shawn Mendes",
          "Carly Rae Jepsen",
          "Shawn Mendes",
          "Carly Rae Jepsen",
          "Shawn Mendes",
          "Shawn Mendes",
          "Carly Rae Jepsen",
          "Shawn Mendes",
          "Shawn Mendes",
          "Justin Bieber",
          "Shawn Mendes",
          "Shawn Mendes",
          "Shawn Mendes"
         ],
         "legendgroup": "canadian pop",
         "marker": {
          "color": "#FFA15A",
          "symbol": "circle"
         },
         "mode": "markers",
         "name": "canadian pop",
         "orientation": "v",
         "showlegend": true,
         "type": "scatter",
         "x": [
          65,
          150,
          120,
          128,
          97,
          184,
          105,
          100,
          100,
          125,
          150,
          95,
          192,
          127,
          122,
          125,
          114,
          113,
          100,
          150,
          95,
          175,
          119,
          114,
          114,
          83,
          148,
          115,
          122,
          140,
          105,
          100,
          122,
          117
         ],
         "xaxis": "x",
         "y": [
          86,
          93,
          58,
          84,
          55,
          96,
          52,
          38,
          76,
          57,
          75,
          80,
          61,
          81,
          81,
          36,
          26,
          78,
          38,
          75,
          80,
          34,
          72,
          77,
          87,
          82,
          66,
          91,
          81,
          71,
          73,
          60,
          62,
          54
         ],
         "yaxis": "y"
        },
        {
         "customdata": [
          [
           "Empire State of Mind (Part II) Broken Down"
          ],
          [
           "Try Sleeping with a Broken Heart"
          ],
          [
           "Doesn't Mean Anything"
          ],
          [
           "Girl On Fire (feat. Nicki Minaj) - Inferno Version"
          ],
          [
           "It's On Again - Main Soundtrack"
          ],
          [
           "We Are Here"
          ]
         ],
         "hovertemplate": "<b>%{hovertext}</b><br><br>top genre=hip pop<br>bpm=%{x}<br>nrgy=%{y}<br>title=%{customdata[0]}<extra></extra>",
         "hovertext": [
          "Alicia Keys",
          "Alicia Keys",
          "Alicia Keys",
          "Alicia Keys",
          "Alicia Keys",
          "Alicia Keys"
         ],
         "legendgroup": "hip pop",
         "marker": {
          "color": "#19d3f3",
          "symbol": "circle"
         },
         "mode": "markers",
         "name": "hip pop",
         "orientation": "v",
         "showlegend": true,
         "type": "scatter",
         "x": [
          93,
          111,
          104,
          93,
          110,
          93
         ],
         "xaxis": "x",
         "y": [
          37,
          82,
          41,
          81,
          54,
          67
         ],
         "yaxis": "y"
        },
        {
         "customdata": [
          [
           "Only Girl (In The World)"
          ],
          [
           "Hard"
          ],
          [
           "What's My Name?"
          ],
          [
           "We Found Love"
          ],
          [
           "Cheers (Drink To That)"
          ],
          [
           "S&M Remix"
          ],
          [
           "Where Have You Been"
          ],
          [
           "Diamonds"
          ],
          [
           "You Da One"
          ],
          [
           "Right Now - Dyro Radio Edit"
          ],
          [
           "FourFiveSeconds"
          ],
          [
           "American Oxygen"
          ],
          [
           "Needed Me"
          ],
          [
           "Work"
          ],
          [
           "Love On The Brain"
          ]
         ],
         "hovertemplate": "<b>%{hovertext}</b><br><br>top genre=barbadian pop<br>bpm=%{x}<br>nrgy=%{y}<br>title=%{customdata[0]}<extra></extra>",
         "hovertext": [
          "Rihanna",
          "Rihanna",
          "Rihanna",
          "Rihanna",
          "Rihanna",
          "Rihanna",
          "Rihanna",
          "Rihanna",
          "Rihanna",
          "Rihanna",
          "Rihanna",
          "Rihanna",
          "Rihanna",
          "Rihanna",
          "Rihanna"
         ],
         "legendgroup": "barbadian pop",
         "marker": {
          "color": "#FF6692",
          "symbol": "circle"
         },
         "mode": "markers",
         "name": "barbadian pop",
         "orientation": "v",
         "showlegend": true,
         "type": "scatter",
         "x": [
          126,
          182,
          100,
          128,
          80,
          128,
          128,
          92,
          127,
          130,
          206,
          78,
          111,
          92,
          172
         ],
         "xaxis": "x",
         "y": [
          72,
          75,
          79,
          77,
          91,
          81,
          85,
          71,
          72,
          74,
          27,
          75,
          31,
          53,
          64
         ],
         "yaxis": "y"
        },
        {
         "customdata": [
          [
           "OMG (feat. will.i.am)"
          ],
          [
           "DJ Got Us Fallin' In Love (feat. Pitbull)"
          ],
          [
           "Castle Walls (feat. Christina Aguilera)"
          ],
          [
           "Castle Walls (feat. Christina Aguilera)"
          ],
          [
           "Freak"
          ]
         ],
         "hovertemplate": "<b>%{hovertext}</b><br><br>top genre=atl hip hop<br>bpm=%{x}<br>nrgy=%{y}<br>title=%{customdata[0]}<extra></extra>",
         "hovertext": [
          "Usher",
          "Usher",
          "T.I.",
          "T.I.",
          "Kelly Rowland"
         ],
         "legendgroup": "atl hip hop",
         "marker": {
          "color": "#B6E880",
          "symbol": "circle"
         },
         "mode": "markers",
         "name": "atl hip hop",
         "orientation": "v",
         "showlegend": true,
         "type": "scatter",
         "x": [
          130,
          120,
          80,
          80,
          104
         ],
         "xaxis": "x",
         "y": [
          75,
          86,
          86,
          86,
          78
         ],
         "yaxis": "y"
        },
        {
         "customdata": [
          [
           "Whataya Want from Me"
          ],
          [
           "If I Had You"
          ],
          [
           "Price Tag"
          ],
          [
           "Domino"
          ],
          [
           "Bang Bang"
          ]
         ],
         "hovertemplate": "<b>%{hovertext}</b><br><br>top genre=australian pop<br>bpm=%{x}<br>nrgy=%{y}<br>title=%{customdata[0]}<extra></extra>",
         "hovertext": [
          "Adam Lambert",
          "Adam Lambert",
          "Jessie J",
          "Jessie J",
          "Jessie J"
         ],
         "legendgroup": "australian pop",
         "marker": {
          "color": "#FF97FF",
          "symbol": "circle"
         },
         "mode": "markers",
         "name": "australian pop",
         "orientation": "v",
         "showlegend": true,
         "type": "scatter",
         "x": [
          186,
          131,
          175,
          127,
          150
         ],
         "xaxis": "x",
         "y": [
          68,
          91,
          83,
          55,
          75
         ],
         "yaxis": "y"
        },
        {
         "customdata": [
          [
           "Animal"
          ],
          [
           "Everybody Talks"
          ]
         ],
         "hovertemplate": "<b>%{hovertext}</b><br><br>top genre=indie pop<br>bpm=%{x}<br>nrgy=%{y}<br>title=%{customdata[0]}<extra></extra>",
         "hovertext": [
          "Neon Trees",
          "Neon Trees"
         ],
         "legendgroup": "indie pop",
         "marker": {
          "color": "#FECB52",
          "symbol": "circle"
         },
         "mode": "markers",
         "name": "indie pop",
         "orientation": "v",
         "showlegend": true,
         "type": "scatter",
         "x": [
          148,
          155
         ],
         "xaxis": "x",
         "y": [
          83,
          92
         ],
         "yaxis": "y"
        },
        {
         "customdata": [
          [
           "Dog Days Are Over"
          ],
          [
           "Summertime Sadness (Lana Del Rey Vs. Cedric Gervais) - Cedric Gervais Remix"
          ],
          [
           "Team"
          ],
          [
           "St Jude"
          ],
          [
           "Wish That You Were Here - From �Miss Peregrine�s Home for Peculiar Children� Original Motion Picture"
          ],
          [
           "Love"
          ],
          [
           "Summer Bummer (feat. A$AP Rocky & Playboi Carti)"
          ],
          [
           "Lust for Life (with The Weeknd)"
          ]
         ],
         "hovertemplate": "<b>%{hovertext}</b><br><br>top genre=art pop<br>bpm=%{x}<br>nrgy=%{y}<br>title=%{customdata[0]}<extra></extra>",
         "hovertext": [
          "Florence + The Machine",
          "Lana Del Rey",
          "Lorde",
          "Florence + The Machine",
          "Florence + The Machine",
          "Lana Del Rey",
          "Lana Del Rey",
          "Lana Del Rey"
         ],
         "legendgroup": "art pop",
         "marker": {
          "color": "#636efa",
          "symbol": "circle"
         },
         "mode": "markers",
         "name": "art pop",
         "orientation": "v",
         "showlegend": true,
         "type": "scatter",
         "x": [
          150,
          126,
          100,
          117,
          94,
          99,
          135,
          100
         ],
         "xaxis": "x",
         "y": [
          81,
          81,
          58,
          43,
          57,
          37,
          57,
          67
         ],
         "yaxis": "y"
        },
        {
         "customdata": [
          [
           "Loca"
          ],
          [
           "Can't Remember to Forget You (feat. Rihanna)"
          ],
          [
           "La La La (Brasil 2014) (feat. Carlinhos Brown)"
          ]
         ],
         "hovertemplate": "<b>%{hovertext}</b><br><br>top genre=colombian pop<br>bpm=%{x}<br>nrgy=%{y}<br>title=%{customdata[0]}<extra></extra>",
         "hovertext": [
          "Shakira",
          "Shakira",
          "Shakira"
         ],
         "legendgroup": "colombian pop",
         "marker": {
          "color": "#EF553B",
          "symbol": "circle"
         },
         "mode": "markers",
         "name": "colombian pop",
         "orientation": "v",
         "showlegend": true,
         "type": "scatter",
         "x": [
          112,
          138,
          128
         ],
         "xaxis": "x",
         "y": [
          87,
          81,
          82
         ],
         "yaxis": "y"
        },
        {
         "customdata": [
          [
           "Hello"
          ],
          [
           "Wake Me Up"
          ],
          [
           "Don't You Worry Child - Radio Edit"
          ],
          [
           "Hey Brother"
          ],
          [
           "Broken Arrows"
          ],
          [
           "Heroes (we could be)"
          ],
          [
           "In the Name of Love"
          ],
          [
           "There for You"
          ],
          [
           "Rich Boy"
          ],
          [
           "All Around The World (La La La)"
          ]
         ],
         "hovertemplate": "<b>%{hovertext}</b><br><br>top genre=big room<br>bpm=%{x}<br>nrgy=%{y}<br>title=%{customdata[0]}<extra></extra>",
         "hovertext": [
          "Martin Solveig",
          "Avicii",
          "Swedish House Mafia",
          "Avicii",
          "Avicii",
          "Alesso",
          "Martin Garrix",
          "Martin Garrix",
          "Galantis",
          "R3HAB"
         ],
         "legendgroup": "big room",
         "marker": {
          "color": "#00cc96",
          "symbol": "circle"
         },
         "mode": "markers",
         "name": "big room",
         "orientation": "v",
         "showlegend": true,
         "type": "scatter",
         "x": [
          128,
          124,
          129,
          125,
          116,
          126,
          134,
          106,
          110,
          125
         ],
         "xaxis": "x",
         "y": [
          98,
          78,
          84,
          78,
          67,
          75,
          52,
          64,
          90,
          86
         ],
         "yaxis": "y"
        },
        {
         "customdata": [
          [
           "Someone Like You"
          ],
          [
           "Rolling in the Deep"
          ],
          [
           "Set Fire to the Rain"
          ],
          [
           "Hello"
          ],
          [
           "Only Love Can Hurt Like This"
          ],
          [
           "All I Ask"
          ],
          [
           "Send My Love (To Your New Lover)"
          ],
          [
           "When We Were Young"
          ],
          [
           "Million Years Ago"
          ],
          [
           "All I Ask"
          ],
          [
           "Water Under the Bridge"
          ]
         ],
         "hovertemplate": "<b>%{hovertext}</b><br><br>top genre=british soul<br>bpm=%{x}<br>nrgy=%{y}<br>title=%{customdata[0]}<extra></extra>",
         "hovertext": [
          "Adele",
          "Adele",
          "Adele",
          "Adele",
          "Paloma Faith",
          "Adele",
          "Adele",
          "Adele",
          "Adele",
          "Adele",
          "Adele"
         ],
         "legendgroup": "british soul",
         "marker": {
          "color": "#ab63fa",
          "symbol": "circle"
         },
         "mode": "markers",
         "name": "british soul",
         "orientation": "v",
         "showlegend": true,
         "type": "scatter",
         "x": [
          135,
          105,
          108,
          158,
          91,
          142,
          164,
          144,
          0,
          142,
          95
         ],
         "xaxis": "x",
         "y": [
          33,
          76,
          68,
          45,
          89,
          28,
          52,
          59,
          0,
          28,
          84
         ],
         "yaxis": "y"
        },
        {
         "customdata": [
          [
           "Monster"
          ]
         ],
         "hovertemplate": "<b>%{hovertext}</b><br><br>top genre=chicago rap<br>bpm=%{x}<br>nrgy=%{y}<br>title=%{customdata[0]}<extra></extra>",
         "hovertext": [
          "Kanye West"
         ],
         "legendgroup": "chicago rap",
         "marker": {
          "color": "#FFA15A",
          "symbol": "circle"
         },
         "mode": "markers",
         "name": "chicago rap",
         "orientation": "v",
         "showlegend": true,
         "type": "scatter",
         "x": [
          125
         ],
         "xaxis": "x",
         "y": [
          69
         ],
         "yaxis": "y"
        },
        {
         "customdata": [
          [
           "Turning Page"
          ],
          [
           "Brave"
          ]
         ],
         "hovertemplate": "<b>%{hovertext}</b><br><br>top genre=acoustic pop<br>bpm=%{x}<br>nrgy=%{y}<br>title=%{customdata[0]}<extra></extra>",
         "hovertext": [
          "Sleeping At Last",
          "Sara Bareilles"
         ],
         "legendgroup": "acoustic pop",
         "marker": {
          "color": "#19d3f3",
          "symbol": "circle"
         },
         "mode": "markers",
         "name": "acoustic pop",
         "orientation": "v",
         "showlegend": true,
         "type": "scatter",
         "x": [
          125,
          185
         ],
         "xaxis": "x",
         "y": [
          38,
          84
         ],
         "yaxis": "y"
        },
        {
         "customdata": [
          [
           "Paradise"
          ],
          [
           "Atlas - From �The Hunger Games: Catching Fire� Soundtrack"
          ],
          [
           "A Sky Full of Stars"
          ],
          [
           "A L I E N S"
          ]
         ],
         "hovertemplate": "<b>%{hovertext}</b><br><br>top genre=permanent wave<br>bpm=%{x}<br>nrgy=%{y}<br>title=%{customdata[0]}<extra></extra>",
         "hovertext": [
          "Coldplay",
          "Coldplay",
          "Coldplay",
          "Coldplay"
         ],
         "legendgroup": "permanent wave",
         "marker": {
          "color": "#FF6692",
          "symbol": "circle"
         },
         "mode": "markers",
         "name": "permanent wave",
         "orientation": "v",
         "showlegend": true,
         "type": "scatter",
         "x": [
          140,
          136,
          125,
          148
         ],
         "xaxis": "x",
         "y": [
          59,
          45,
          68,
          88
         ],
         "yaxis": "y"
        },
        {
         "customdata": [
          [
           "What Makes You Beautiful"
          ],
          [
           "Glad You Came"
          ],
          [
           "Story of My Life"
          ],
          [
           "Best Song Ever"
          ],
          [
           "Kiss You"
          ],
          [
           "Walks Like Rihanna"
          ],
          [
           "We Own The Night"
          ],
          [
           "Pom Poms"
          ],
          [
           "She Looks So Perfect"
          ],
          [
           "Night Changes"
          ],
          [
           "Perfect"
          ],
          [
           "Steal My Girl"
          ],
          [
           "Reggaet�n Lento (Remix)"
          ],
          [
           "Only Human"
          ],
          [
           "Sucker"
          ]
         ],
         "hovertemplate": "<b>%{hovertext}</b><br><br>top genre=boy band<br>bpm=%{x}<br>nrgy=%{y}<br>title=%{customdata[0]}<extra></extra>",
         "hovertext": [
          "One Direction",
          "The Wanted",
          "One Direction",
          "One Direction",
          "One Direction",
          "The Wanted",
          "The Wanted",
          "Jonas Brothers",
          "5 Seconds of Summer",
          "One Direction",
          "One Direction",
          "One Direction",
          "CNCO",
          "Jonas Brothers",
          "Jonas Brothers"
         ],
         "legendgroup": "boy band",
         "marker": {
          "color": "#B6E880",
          "symbol": "circle"
         },
         "mode": "markers",
         "name": "boy band",
         "orientation": "v",
         "showlegend": true,
         "type": "scatter",
         "x": [
          125,
          127,
          121,
          118,
          90,
          126,
          104,
          148,
          160,
          120,
          100,
          77,
          94,
          94,
          138
         ],
         "xaxis": "x",
         "y": [
          79,
          85,
          66,
          88,
          93,
          82,
          94,
          98,
          95,
          52,
          82,
          76,
          91,
          50,
          73
         ],
         "yaxis": "y"
        },
        {
         "customdata": [
          [
           "Some Nights"
          ],
          [
           "We Are Young (feat. Janelle Mon�e)"
          ]
         ],
         "hovertemplate": "<b>%{hovertext}</b><br><br>top genre=baroque pop<br>bpm=%{x}<br>nrgy=%{y}<br>title=%{customdata[0]}<extra></extra>",
         "hovertext": [
          "fun.",
          "fun."
         ],
         "legendgroup": "baroque pop",
         "marker": {
          "color": "#FF97FF",
          "symbol": "circle"
         },
         "mode": "markers",
         "name": "baroque pop",
         "orientation": "v",
         "showlegend": true,
         "type": "scatter",
         "x": [
          108,
          184
         ],
         "xaxis": "x",
         "y": [
          74,
          64
         ],
         "yaxis": "y"
        },
        {
         "customdata": [
          [
           "Hall of Fame"
          ]
         ],
         "hovertemplate": "<b>%{hovertext}</b><br><br>top genre=celtic rock<br>bpm=%{x}<br>nrgy=%{y}<br>title=%{customdata[0]}<extra></extra>",
         "hovertext": [
          "The Script"
         ],
         "legendgroup": "celtic rock",
         "marker": {
          "color": "#FECB52",
          "symbol": "circle"
         },
         "mode": "markers",
         "name": "celtic rock",
         "orientation": "v",
         "showlegend": true,
         "type": "scatter",
         "x": [
          85
         ],
         "xaxis": "x",
         "y": [
          87
         ],
         "yaxis": "y"
        },
        {
         "customdata": [
          [
           "Get Lucky (feat. Pharrell Williams & Nile Rodgers) - Radio Edit"
          ],
          [
           "Lose Yourself to Dance"
          ]
         ],
         "hovertemplate": "<b>%{hovertext}</b><br><br>top genre=electro<br>bpm=%{x}<br>nrgy=%{y}<br>title=%{customdata[0]}<extra></extra>",
         "hovertext": [
          "Daft Punk",
          "Daft Punk"
         ],
         "legendgroup": "electro",
         "marker": {
          "color": "#636efa",
          "symbol": "circle"
         },
         "mode": "markers",
         "name": "electro",
         "orientation": "v",
         "showlegend": true,
         "type": "scatter",
         "x": [
          116,
          100
         ],
         "xaxis": "x",
         "y": [
          81,
          66
         ],
         "yaxis": "y"
        },
        {
         "customdata": [
          [
           "Clarity"
          ],
          [
           "Stay The Night - Featuring Hayley Williams Of Paramore"
          ],
          [
           "I Want You To Know"
          ],
          [
           "True Colors"
          ],
          [
           "Stay"
          ],
          [
           "Get Low (with Liam Payne)"
          ]
         ],
         "hovertemplate": "<b>%{hovertext}</b><br><br>top genre=complextro<br>bpm=%{x}<br>nrgy=%{y}<br>title=%{customdata[0]}<extra></extra>",
         "hovertext": [
          "Zedd",
          "Zedd",
          "Zedd",
          "Zedd",
          "Zedd",
          "Zedd"
         ],
         "legendgroup": "complextro",
         "marker": {
          "color": "#EF553B",
          "symbol": "circle"
         },
         "mode": "markers",
         "name": "complextro",
         "orientation": "v",
         "showlegend": true,
         "type": "scatter",
         "x": [
          128,
          128,
          130,
          126,
          102,
          108
         ],
         "xaxis": "x",
         "y": [
          78,
          74,
          85,
          79,
          62,
          93
         ],
         "yaxis": "y"
        },
        {
         "customdata": [
          [
           "Hold On, We're Going Home"
          ],
          [
           "Too Good"
          ]
         ],
         "hovertemplate": "<b>%{hovertext}</b><br><br>top genre=canadian hip hop<br>bpm=%{x}<br>nrgy=%{y}<br>title=%{customdata[0]}<extra></extra>",
         "hovertext": [
          "Drake",
          "Drake"
         ],
         "legendgroup": "canadian hip hop",
         "marker": {
          "color": "#00cc96",
          "symbol": "circle"
         },
         "mode": "markers",
         "name": "canadian hip hop",
         "orientation": "v",
         "showlegend": true,
         "type": "scatter",
         "x": [
          100,
          118
         ],
         "xaxis": "x",
         "y": [
          41,
          65
         ],
         "yaxis": "y"
        },
        {
         "customdata": [
          [
           "I Love It (feat. Charli XCX)"
          ],
          [
           "Boom Clap - From the Motion Picture Das Schicksal ist ein mieser Verr�ter"
          ]
         ],
         "hovertemplate": "<b>%{hovertext}</b><br><br>top genre=candy pop<br>bpm=%{x}<br>nrgy=%{y}<br>title=%{customdata[0]}<extra></extra>",
         "hovertext": [
          "Icona Pop",
          "Charli XCX"
         ],
         "legendgroup": "candy pop",
         "marker": {
          "color": "#ab63fa",
          "symbol": "circle"
         },
         "mode": "markers",
         "name": "candy pop",
         "orientation": "v",
         "showlegend": true,
         "type": "scatter",
         "x": [
          126,
          92
         ],
         "xaxis": "x",
         "y": [
          91,
          81
         ],
         "yaxis": "y"
        },
        {
         "customdata": [
          [
           "Foolish Games"
          ]
         ],
         "hovertemplate": "<b>%{hovertext}</b><br><br>top genre=alaska indie<br>bpm=%{x}<br>nrgy=%{y}<br>title=%{customdata[0]}<extra></extra>",
         "hovertext": [
          "Jewel"
         ],
         "legendgroup": "alaska indie",
         "marker": {
          "color": "#FFA15A",
          "symbol": "circle"
         },
         "mode": "markers",
         "name": "alaska indie",
         "orientation": "v",
         "showlegend": true,
         "type": "scatter",
         "x": [
          132
         ],
         "xaxis": "x",
         "y": [
          34
         ],
         "yaxis": "y"
        },
        {
         "customdata": [
          [
           "Let Her Go"
          ],
          [
           "Beautiful Birds (feat. Birdy)"
          ]
         ],
         "hovertemplate": "<b>%{hovertext}</b><br><br>top genre=folk-pop<br>bpm=%{x}<br>nrgy=%{y}<br>title=%{customdata[0]}<extra></extra>",
         "hovertext": [
          "Passenger",
          "Passenger"
         ],
         "legendgroup": "folk-pop",
         "marker": {
          "color": "#19d3f3",
          "symbol": "circle"
         },
         "mode": "markers",
         "name": "folk-pop",
         "orientation": "v",
         "showlegend": true,
         "type": "scatter",
         "x": [
          75,
          86
         ],
         "xaxis": "x",
         "y": [
          54,
          17
         ],
         "yaxis": "y"
        },
        {
         "customdata": [
          [
           "Pompeii"
          ]
         ],
         "hovertemplate": "<b>%{hovertext}</b><br><br>top genre=metropopolis<br>bpm=%{x}<br>nrgy=%{y}<br>title=%{customdata[0]}<extra></extra>",
         "hovertext": [
          "Bastille"
         ],
         "legendgroup": "metropopolis",
         "marker": {
          "color": "#FF6692",
          "symbol": "circle"
         },
         "mode": "markers",
         "name": "metropopolis",
         "orientation": "v",
         "showlegend": true,
         "type": "scatter",
         "x": [
          127
         ],
         "xaxis": "x",
         "y": [
          72
         ],
         "yaxis": "y"
        },
        {
         "customdata": [
          [
           "Latch"
          ]
         ],
         "hovertemplate": "<b>%{hovertext}</b><br><br>top genre=house<br>bpm=%{x}<br>nrgy=%{y}<br>title=%{customdata[0]}<extra></extra>",
         "hovertext": [
          "Disclosure"
         ],
         "legendgroup": "house",
         "marker": {
          "color": "#B6E880",
          "symbol": "circle"
         },
         "mode": "markers",
         "name": "house",
         "orientation": "v",
         "showlegend": true,
         "type": "scatter",
         "x": [
          122
         ],
         "xaxis": "x",
         "y": [
          73
         ],
         "yaxis": "y"
        },
        {
         "customdata": [
          [
           "Fancy"
          ]
         ],
         "hovertemplate": "<b>%{hovertext}</b><br><br>top genre=australian hip hop<br>bpm=%{x}<br>nrgy=%{y}<br>title=%{customdata[0]}<extra></extra>",
         "hovertext": [
          "Iggy Azalea"
         ],
         "legendgroup": "australian hip hop",
         "marker": {
          "color": "#FF97FF",
          "symbol": "circle"
         },
         "mode": "markers",
         "name": "australian hip hop",
         "orientation": "v",
         "showlegend": true,
         "type": "scatter",
         "x": [
          95
         ],
         "xaxis": "x",
         "y": [
          72
         ],
         "yaxis": "y"
        },
        {
         "customdata": [
          [
           "#SELFIE"
          ],
          [
           "Don't Let Me Down"
          ],
          [
           "Electric Love"
          ],
          [
           "Roses"
          ],
          [
           "All We Know"
          ],
          [
           "Closer"
          ],
          [
           "Something Just Like This"
          ],
          [
           "Paris"
          ],
          [
           "Sick Boy"
          ],
          [
           "Trampoline (with ZAYN)"
          ],
          [
           "Takeaway"
          ],
          [
           "Call You Mine"
          ],
          [
           "Kills You Slowly"
          ]
         ],
         "hovertemplate": "<b>%{hovertext}</b><br><br>top genre=electropop<br>bpm=%{x}<br>nrgy=%{y}<br>title=%{customdata[0]}<extra></extra>",
         "hovertext": [
          "The Chainsmokers",
          "The Chainsmokers",
          "B�RNS",
          "The Chainsmokers",
          "The Chainsmokers",
          "The Chainsmokers",
          "The Chainsmokers",
          "The Chainsmokers",
          "The Chainsmokers",
          "SHAED",
          "The Chainsmokers",
          "The Chainsmokers",
          "The Chainsmokers"
         ],
         "legendgroup": "electropop",
         "marker": {
          "color": "#FECB52",
          "symbol": "circle"
         },
         "mode": "markers",
         "name": "electropop",
         "orientation": "v",
         "showlegend": true,
         "type": "scatter",
         "x": [
          128,
          160,
          120,
          100,
          90,
          95,
          103,
          100,
          90,
          127,
          100,
          104,
          150
         ],
         "xaxis": "x",
         "y": [
          92,
          87,
          80,
          80,
          59,
          52,
          65,
          64,
          58,
          46,
          51,
          70,
          44
         ],
         "yaxis": "y"
        },
        {
         "customdata": [
          [
           "Chandelier"
          ],
          [
           "Elastic Heart"
          ],
          [
           "Alive"
          ],
          [
           "Cheap Thrills"
          ],
          [
           "The Greatest"
          ],
          [
           "Free Me"
          ]
         ],
         "hovertemplate": "<b>%{hovertext}</b><br><br>top genre=australian dance<br>bpm=%{x}<br>nrgy=%{y}<br>title=%{customdata[0]}<extra></extra>",
         "hovertext": [
          "Sia",
          "Sia",
          "Sia",
          "Sia",
          "Sia",
          "Sia"
         ],
         "legendgroup": "australian dance",
         "marker": {
          "color": "#636efa",
          "symbol": "circle"
         },
         "mode": "markers",
         "name": "australian dance",
         "orientation": "v",
         "showlegend": true,
         "type": "scatter",
         "x": [
          174,
          130,
          100,
          90,
          192,
          87
         ],
         "xaxis": "x",
         "y": [
          78,
          79,
          76,
          80,
          73,
          46
         ],
         "yaxis": "y"
        },
        {
         "customdata": [
          [
           "Cannonball"
          ]
         ],
         "hovertemplate": "<b>%{hovertext}</b><br><br>top genre=hollywood<br>bpm=%{x}<br>nrgy=%{y}<br>title=%{customdata[0]}<extra></extra>",
         "hovertext": [
          "Lea Michele"
         ],
         "legendgroup": "hollywood",
         "marker": {
          "color": "#EF553B",
          "symbol": "circle"
         },
         "mode": "markers",
         "name": "hollywood",
         "orientation": "v",
         "showlegend": true,
         "type": "scatter",
         "x": [
          92
         ],
         "xaxis": "x",
         "y": [
          82
         ],
         "yaxis": "y"
        },
        {
         "customdata": [
          [
           "The Hills"
          ],
          [
           "Earned It (Fifty Shades Of Grey) - From The \"Fifty Shades Of Grey\" Soundtrack"
          ],
          [
           "Here"
          ],
          [
           "The Hills"
          ],
          [
           "Scars To Your Beautiful"
          ],
          [
           "Here"
          ],
          [
           "Starboy"
          ],
          [
           "I Feel It Coming"
          ],
          [
           "How Far I'll Go - From \"Moana\""
          ]
         ],
         "hovertemplate": "<b>%{hovertext}</b><br><br>top genre=canadian contemporary r&b<br>bpm=%{x}<br>nrgy=%{y}<br>title=%{customdata[0]}<extra></extra>",
         "hovertext": [
          "The Weeknd",
          "The Weeknd",
          "Alessia Cara",
          "The Weeknd",
          "Alessia Cara",
          "Alessia Cara",
          "The Weeknd",
          "The Weeknd",
          "Alessia Cara"
         ],
         "legendgroup": "canadian contemporary r&b",
         "marker": {
          "color": "#00cc96",
          "symbol": "circle"
         },
         "mode": "markers",
         "name": "canadian contemporary r&b",
         "orientation": "v",
         "showlegend": true,
         "type": "scatter",
         "x": [
          113,
          120,
          120,
          113,
          97,
          120,
          186,
          93,
          181
         ],
         "xaxis": "x",
         "y": [
          56,
          38,
          82,
          56,
          74,
          82,
          59,
          82,
          54
         ],
         "yaxis": "y"
        },
        {
         "customdata": [
          [
           "Take Me To Church"
          ]
         ],
         "hovertemplate": "<b>%{hovertext}</b><br><br>top genre=irish singer-songwriter<br>bpm=%{x}<br>nrgy=%{y}<br>title=%{customdata[0]}<extra></extra>",
         "hovertext": [
          "Hozier"
         ],
         "legendgroup": "irish singer-songwriter",
         "marker": {
          "color": "#ab63fa",
          "symbol": "circle"
         },
         "mode": "markers",
         "name": "irish singer-songwriter",
         "orientation": "v",
         "showlegend": true,
         "type": "scatter",
         "x": [
          129
         ],
         "xaxis": "x",
         "y": [
          66
         ],
         "yaxis": "y"
        },
        {
         "customdata": [
          [
           "Waves - Robin Schulz Radio Edit"
          ],
          [
           "Runnin' (Lose It All)"
          ],
          [
           "Runnin' (Lose It All)"
          ]
         ],
         "hovertemplate": "<b>%{hovertext}</b><br><br>top genre=tropical house<br>bpm=%{x}<br>nrgy=%{y}<br>title=%{customdata[0]}<extra></extra>",
         "hovertext": [
          "Mr. Probz",
          "Naughty Boy",
          "Naughty Boy"
         ],
         "legendgroup": "tropical house",
         "marker": {
          "color": "#FFA15A",
          "symbol": "circle"
         },
         "mode": "markers",
         "name": "tropical house",
         "orientation": "v",
         "showlegend": true,
         "type": "scatter",
         "x": [
          120,
          139,
          139
         ],
         "xaxis": "x",
         "y": [
          51,
          85,
          85
         ],
         "yaxis": "y"
        },
        {
         "customdata": [
          [
           "Reality - Radio Edit"
          ],
          [
           "Reality (feat. Janieck Devy) - Radio Edit"
          ]
         ],
         "hovertemplate": "<b>%{hovertext}</b><br><br>top genre=belgian edm<br>bpm=%{x}<br>nrgy=%{y}<br>title=%{customdata[0]}<extra></extra>",
         "hovertext": [
          "Lost Frequencies",
          "Lost Frequencies"
         ],
         "legendgroup": "belgian edm",
         "marker": {
          "color": "#19d3f3",
          "symbol": "circle"
         },
         "mode": "markers",
         "name": "belgian edm",
         "orientation": "v",
         "showlegend": true,
         "type": "scatter",
         "x": [
          122,
          122
         ],
         "xaxis": "x",
         "y": [
          70,
          64
         ],
         "yaxis": "y"
        },
        {
         "customdata": [
          [
           "Prayer in C - Robin Schulz Radio Edit"
          ]
         ],
         "hovertemplate": "<b>%{hovertext}</b><br><br>top genre=french indie pop<br>bpm=%{x}<br>nrgy=%{y}<br>title=%{customdata[0]}<extra></extra>",
         "hovertext": [
          "Lilly Wood and The Prick"
         ],
         "legendgroup": "french indie pop",
         "marker": {
          "color": "#FF6692",
          "symbol": "circle"
         },
         "mode": "markers",
         "name": "french indie pop",
         "orientation": "v",
         "showlegend": true,
         "type": "scatter",
         "x": [
          123
         ],
         "xaxis": "x",
         "y": [
          89
         ],
         "yaxis": "y"
        },
        {
         "customdata": [
          [
           "See You Again (feat. Charlie Puth)"
          ],
          [
           "Me, Myself & I"
          ],
          [
           "Him & I (with Halsey)"
          ],
          [
           "Lemon"
          ]
         ],
         "hovertemplate": "<b>%{hovertext}</b><br><br>top genre=hip hop<br>bpm=%{x}<br>nrgy=%{y}<br>title=%{customdata[0]}<extra></extra>",
         "hovertext": [
          "Wiz Khalifa",
          "G-Eazy",
          "G-Eazy",
          "N.E.R.D"
         ],
         "legendgroup": "hip hop",
         "marker": {
          "color": "#B6E880",
          "symbol": "circle"
         },
         "mode": "markers",
         "name": "hip hop",
         "orientation": "v",
         "showlegend": true,
         "type": "scatter",
         "x": [
          80,
          112,
          88,
          95
         ],
         "xaxis": "x",
         "y": [
          48,
          67,
          73,
          73
         ],
         "yaxis": "y"
        },
        {
         "customdata": [
          [
           "7 Years"
          ]
         ],
         "hovertemplate": "<b>%{hovertext}</b><br><br>top genre=danish pop<br>bpm=%{x}<br>nrgy=%{y}<br>title=%{customdata[0]}<extra></extra>",
         "hovertext": [
          "Lukas Graham"
         ],
         "legendgroup": "danish pop",
         "marker": {
          "color": "#FF97FF",
          "symbol": "circle"
         },
         "mode": "markers",
         "name": "danish pop",
         "orientation": "v",
         "showlegend": true,
         "type": "scatter",
         "x": [
          120
         ],
         "xaxis": "x",
         "y": [
          47
         ],
         "yaxis": "y"
        },
        {
         "customdata": [
          [
           "Picky - Remix"
          ],
          [
           "Despacito - Remix"
          ],
          [
           "Mi Gente (feat. Beyonc�)"
          ],
          [
           "Con Calma - Remix"
          ]
         ],
         "hovertemplate": "<b>%{hovertext}</b><br><br>top genre=latin<br>bpm=%{x}<br>nrgy=%{y}<br>title=%{customdata[0]}<extra></extra>",
         "hovertext": [
          "Joey Montana",
          "Luis Fonsi",
          "J Balvin",
          "Daddy Yankee"
         ],
         "legendgroup": "latin",
         "marker": {
          "color": "#FECB52",
          "symbol": "circle"
         },
         "mode": "markers",
         "name": "latin",
         "orientation": "v",
         "showlegend": true,
         "type": "scatter",
         "x": [
          186,
          178,
          105,
          94
         ],
         "xaxis": "x",
         "y": [
          81,
          82,
          72,
          87
         ],
         "yaxis": "y"
        },
        {
         "customdata": [
          [
           "Behind Your Back"
          ]
         ],
         "hovertemplate": "<b>%{hovertext}</b><br><br>top genre=canadian latin<br>bpm=%{x}<br>nrgy=%{y}<br>title=%{customdata[0]}<extra></extra>",
         "hovertext": [
          "Nelly Furtado"
         ],
         "legendgroup": "canadian latin",
         "marker": {
          "color": "#636efa",
          "symbol": "circle"
         },
         "mode": "markers",
         "name": "canadian latin",
         "orientation": "v",
         "showlegend": true,
         "type": "scatter",
         "x": [
          98
         ],
         "xaxis": "x",
         "y": [
          47
         ],
         "yaxis": "y"
        },
        {
         "customdata": [
          [
           "Let Me Love You"
          ],
          [
           "Taki Taki (feat. Selena Gomez, Ozuna & Cardi B)"
          ]
         ],
         "hovertemplate": "<b>%{hovertext}</b><br><br>top genre=electronic trap<br>bpm=%{x}<br>nrgy=%{y}<br>title=%{customdata[0]}<extra></extra>",
         "hovertext": [
          "DJ Snake",
          "DJ Snake"
         ],
         "legendgroup": "electronic trap",
         "marker": {
          "color": "#EF553B",
          "symbol": "circle"
         },
         "mode": "markers",
         "name": "electronic trap",
         "orientation": "v",
         "showlegend": true,
         "type": "scatter",
         "x": [
          100,
          96
         ],
         "xaxis": "x",
         "y": [
          72,
          80
         ],
         "yaxis": "y"
        },
        {
         "customdata": [
          [
           "It Ain't Me (with Selena Gomez)"
          ],
          [
           "First Time"
          ],
          [
           "Electricity (with Dua Lipa)"
          ],
          [
           "First Time"
          ],
          [
           "Higher Love"
          ]
         ],
         "hovertemplate": "<b>%{hovertext}</b><br><br>top genre=edm<br>bpm=%{x}<br>nrgy=%{y}<br>title=%{customdata[0]}<extra></extra>",
         "hovertext": [
          "Kygo",
          "Kygo",
          "Silk City",
          "Kygo",
          "Kygo"
         ],
         "legendgroup": "edm",
         "marker": {
          "color": "#00cc96",
          "symbol": "circle"
         },
         "mode": "markers",
         "name": "edm",
         "orientation": "v",
         "showlegend": true,
         "type": "scatter",
         "x": [
          100,
          90,
          118,
          90,
          104
         ],
         "xaxis": "x",
         "y": [
          53,
          59,
          67,
          59,
          68
         ],
         "yaxis": "y"
        },
        {
         "customdata": [
          [
           "Tired"
          ]
         ],
         "hovertemplate": "<b>%{hovertext}</b><br><br>top genre=electro house<br>bpm=%{x}<br>nrgy=%{y}<br>title=%{customdata[0]}<extra></extra>",
         "hovertext": [
          "Alan Walker"
         ],
         "legendgroup": "electro house",
         "marker": {
          "color": "#ab63fa",
          "symbol": "circle"
         },
         "mode": "markers",
         "name": "electro house",
         "orientation": "v",
         "showlegend": true,
         "type": "scatter",
         "x": [
          124
         ],
         "xaxis": "x",
         "y": [
          88
         ],
         "yaxis": "y"
        },
        {
         "customdata": [
          [
           "Love Incredible (feat. Camila Cabello)"
          ],
          [
           "Miss You (with Major Lazer & Tory Lanez)"
          ]
         ],
         "hovertemplate": "<b>%{hovertext}</b><br><br>top genre=downtempo<br>bpm=%{x}<br>nrgy=%{y}<br>title=%{customdata[0]}<extra></extra>",
         "hovertext": [
          "Cashmere Cat",
          "Cashmere Cat"
         ],
         "legendgroup": "downtempo",
         "marker": {
          "color": "#FFA15A",
          "symbol": "circle"
         },
         "mode": "markers",
         "name": "downtempo",
         "orientation": "v",
         "showlegend": true,
         "type": "scatter",
         "x": [
          167,
          100
         ],
         "xaxis": "x",
         "y": [
          50,
          64
         ],
         "yaxis": "y"
        },
        {
         "customdata": [
          [
           "Silence"
          ],
          [
           "Happier"
          ]
         ],
         "hovertemplate": "<b>%{hovertext}</b><br><br>top genre=brostep<br>bpm=%{x}<br>nrgy=%{y}<br>title=%{customdata[0]}<extra></extra>",
         "hovertext": [
          "Marshmello",
          "Marshmello"
         ],
         "legendgroup": "brostep",
         "marker": {
          "color": "#19d3f3",
          "symbol": "circle"
         },
         "mode": "markers",
         "name": "brostep",
         "orientation": "v",
         "showlegend": true,
         "type": "scatter",
         "x": [
          142,
          100
         ],
         "xaxis": "x",
         "y": [
          76,
          79
         ],
         "yaxis": "y"
        },
        {
         "customdata": [
          [
           "Tequila"
          ]
         ],
         "hovertemplate": "<b>%{hovertext}</b><br><br>top genre=contemporary country<br>bpm=%{x}<br>nrgy=%{y}<br>title=%{customdata[0]}<extra></extra>",
         "hovertext": [
          "Dan + Shay"
         ],
         "legendgroup": "contemporary country",
         "marker": {
          "color": "#FF6692",
          "symbol": "circle"
         },
         "mode": "markers",
         "name": "contemporary country",
         "orientation": "v",
         "showlegend": true,
         "type": "scatter",
         "x": [
          86
         ],
         "xaxis": "x",
         "y": [
          59
         ],
         "yaxis": "y"
        },
        {
         "customdata": [
          [
           "Boom Boom"
          ]
         ],
         "hovertemplate": "<b>%{hovertext}</b><br><br>top genre=moroccan pop<br>bpm=%{x}<br>nrgy=%{y}<br>title=%{customdata[0]}<extra></extra>",
         "hovertext": [
          "RedOne"
         ],
         "legendgroup": "moroccan pop",
         "marker": {
          "color": "#B6E880",
          "symbol": "circle"
         },
         "mode": "markers",
         "name": "moroccan pop",
         "orientation": "v",
         "showlegend": true,
         "type": "scatter",
         "x": [
          110
         ],
         "xaxis": "x",
         "y": [
          76
         ],
         "yaxis": "y"
        },
        {
         "customdata": [
          [
           "Truth Hurts"
          ],
          [
           "Good as Hell (feat. Ariana Grande) - Remix"
          ]
         ],
         "hovertemplate": "<b>%{hovertext}</b><br><br>top genre=escape room<br>bpm=%{x}<br>nrgy=%{y}<br>title=%{customdata[0]}<extra></extra>",
         "hovertext": [
          "Lizzo",
          "Lizzo"
         ],
         "legendgroup": "escape room",
         "marker": {
          "color": "#FF97FF",
          "symbol": "circle"
         },
         "mode": "markers",
         "name": "escape room",
         "orientation": "v",
         "showlegend": true,
         "type": "scatter",
         "x": [
          158,
          96
         ],
         "xaxis": "x",
         "y": [
          62,
          89
         ],
         "yaxis": "y"
        },
        {
         "customdata": [
          [
           "Talk (feat. Disclosure)"
          ]
         ],
         "hovertemplate": "<b>%{hovertext}</b><br><br>top genre=alternative r&b<br>bpm=%{x}<br>nrgy=%{y}<br>title=%{customdata[0]}<extra></extra>",
         "hovertext": [
          "Khalid"
         ],
         "legendgroup": "alternative r&b",
         "marker": {
          "color": "#FECB52",
          "symbol": "circle"
         },
         "mode": "markers",
         "name": "alternative r&b",
         "orientation": "v",
         "showlegend": true,
         "type": "scatter",
         "x": [
          136
         ],
         "xaxis": "x",
         "y": [
          40
         ],
         "yaxis": "y"
        }
       ],
       "layout": {
        "legend": {
         "title": {
          "text": "top genre"
         },
         "tracegroupgap": 0
        },
        "margin": {
         "t": 60
        },
        "template": {
         "data": {
          "bar": [
           {
            "error_x": {
             "color": "#2a3f5f"
            },
            "error_y": {
             "color": "#2a3f5f"
            },
            "marker": {
             "line": {
              "color": "#E5ECF6",
              "width": 0.5
             }
            },
            "type": "bar"
           }
          ],
          "barpolar": [
           {
            "marker": {
             "line": {
              "color": "#E5ECF6",
              "width": 0.5
             }
            },
            "type": "barpolar"
           }
          ],
          "carpet": [
           {
            "aaxis": {
             "endlinecolor": "#2a3f5f",
             "gridcolor": "white",
             "linecolor": "white",
             "minorgridcolor": "white",
             "startlinecolor": "#2a3f5f"
            },
            "baxis": {
             "endlinecolor": "#2a3f5f",
             "gridcolor": "white",
             "linecolor": "white",
             "minorgridcolor": "white",
             "startlinecolor": "#2a3f5f"
            },
            "type": "carpet"
           }
          ],
          "choropleth": [
           {
            "colorbar": {
             "outlinewidth": 0,
             "ticks": ""
            },
            "type": "choropleth"
           }
          ],
          "contour": [
           {
            "colorbar": {
             "outlinewidth": 0,
             "ticks": ""
            },
            "colorscale": [
             [
              0,
              "#0d0887"
             ],
             [
              0.1111111111111111,
              "#46039f"
             ],
             [
              0.2222222222222222,
              "#7201a8"
             ],
             [
              0.3333333333333333,
              "#9c179e"
             ],
             [
              0.4444444444444444,
              "#bd3786"
             ],
             [
              0.5555555555555556,
              "#d8576b"
             ],
             [
              0.6666666666666666,
              "#ed7953"
             ],
             [
              0.7777777777777778,
              "#fb9f3a"
             ],
             [
              0.8888888888888888,
              "#fdca26"
             ],
             [
              1,
              "#f0f921"
             ]
            ],
            "type": "contour"
           }
          ],
          "contourcarpet": [
           {
            "colorbar": {
             "outlinewidth": 0,
             "ticks": ""
            },
            "type": "contourcarpet"
           }
          ],
          "heatmap": [
           {
            "colorbar": {
             "outlinewidth": 0,
             "ticks": ""
            },
            "colorscale": [
             [
              0,
              "#0d0887"
             ],
             [
              0.1111111111111111,
              "#46039f"
             ],
             [
              0.2222222222222222,
              "#7201a8"
             ],
             [
              0.3333333333333333,
              "#9c179e"
             ],
             [
              0.4444444444444444,
              "#bd3786"
             ],
             [
              0.5555555555555556,
              "#d8576b"
             ],
             [
              0.6666666666666666,
              "#ed7953"
             ],
             [
              0.7777777777777778,
              "#fb9f3a"
             ],
             [
              0.8888888888888888,
              "#fdca26"
             ],
             [
              1,
              "#f0f921"
             ]
            ],
            "type": "heatmap"
           }
          ],
          "heatmapgl": [
           {
            "colorbar": {
             "outlinewidth": 0,
             "ticks": ""
            },
            "colorscale": [
             [
              0,
              "#0d0887"
             ],
             [
              0.1111111111111111,
              "#46039f"
             ],
             [
              0.2222222222222222,
              "#7201a8"
             ],
             [
              0.3333333333333333,
              "#9c179e"
             ],
             [
              0.4444444444444444,
              "#bd3786"
             ],
             [
              0.5555555555555556,
              "#d8576b"
             ],
             [
              0.6666666666666666,
              "#ed7953"
             ],
             [
              0.7777777777777778,
              "#fb9f3a"
             ],
             [
              0.8888888888888888,
              "#fdca26"
             ],
             [
              1,
              "#f0f921"
             ]
            ],
            "type": "heatmapgl"
           }
          ],
          "histogram": [
           {
            "marker": {
             "colorbar": {
              "outlinewidth": 0,
              "ticks": ""
             }
            },
            "type": "histogram"
           }
          ],
          "histogram2d": [
           {
            "colorbar": {
             "outlinewidth": 0,
             "ticks": ""
            },
            "colorscale": [
             [
              0,
              "#0d0887"
             ],
             [
              0.1111111111111111,
              "#46039f"
             ],
             [
              0.2222222222222222,
              "#7201a8"
             ],
             [
              0.3333333333333333,
              "#9c179e"
             ],
             [
              0.4444444444444444,
              "#bd3786"
             ],
             [
              0.5555555555555556,
              "#d8576b"
             ],
             [
              0.6666666666666666,
              "#ed7953"
             ],
             [
              0.7777777777777778,
              "#fb9f3a"
             ],
             [
              0.8888888888888888,
              "#fdca26"
             ],
             [
              1,
              "#f0f921"
             ]
            ],
            "type": "histogram2d"
           }
          ],
          "histogram2dcontour": [
           {
            "colorbar": {
             "outlinewidth": 0,
             "ticks": ""
            },
            "colorscale": [
             [
              0,
              "#0d0887"
             ],
             [
              0.1111111111111111,
              "#46039f"
             ],
             [
              0.2222222222222222,
              "#7201a8"
             ],
             [
              0.3333333333333333,
              "#9c179e"
             ],
             [
              0.4444444444444444,
              "#bd3786"
             ],
             [
              0.5555555555555556,
              "#d8576b"
             ],
             [
              0.6666666666666666,
              "#ed7953"
             ],
             [
              0.7777777777777778,
              "#fb9f3a"
             ],
             [
              0.8888888888888888,
              "#fdca26"
             ],
             [
              1,
              "#f0f921"
             ]
            ],
            "type": "histogram2dcontour"
           }
          ],
          "mesh3d": [
           {
            "colorbar": {
             "outlinewidth": 0,
             "ticks": ""
            },
            "type": "mesh3d"
           }
          ],
          "parcoords": [
           {
            "line": {
             "colorbar": {
              "outlinewidth": 0,
              "ticks": ""
             }
            },
            "type": "parcoords"
           }
          ],
          "pie": [
           {
            "automargin": true,
            "type": "pie"
           }
          ],
          "scatter": [
           {
            "marker": {
             "colorbar": {
              "outlinewidth": 0,
              "ticks": ""
             }
            },
            "type": "scatter"
           }
          ],
          "scatter3d": [
           {
            "line": {
             "colorbar": {
              "outlinewidth": 0,
              "ticks": ""
             }
            },
            "marker": {
             "colorbar": {
              "outlinewidth": 0,
              "ticks": ""
             }
            },
            "type": "scatter3d"
           }
          ],
          "scattercarpet": [
           {
            "marker": {
             "colorbar": {
              "outlinewidth": 0,
              "ticks": ""
             }
            },
            "type": "scattercarpet"
           }
          ],
          "scattergeo": [
           {
            "marker": {
             "colorbar": {
              "outlinewidth": 0,
              "ticks": ""
             }
            },
            "type": "scattergeo"
           }
          ],
          "scattergl": [
           {
            "marker": {
             "colorbar": {
              "outlinewidth": 0,
              "ticks": ""
             }
            },
            "type": "scattergl"
           }
          ],
          "scattermapbox": [
           {
            "marker": {
             "colorbar": {
              "outlinewidth": 0,
              "ticks": ""
             }
            },
            "type": "scattermapbox"
           }
          ],
          "scatterpolar": [
           {
            "marker": {
             "colorbar": {
              "outlinewidth": 0,
              "ticks": ""
             }
            },
            "type": "scatterpolar"
           }
          ],
          "scatterpolargl": [
           {
            "marker": {
             "colorbar": {
              "outlinewidth": 0,
              "ticks": ""
             }
            },
            "type": "scatterpolargl"
           }
          ],
          "scatterternary": [
           {
            "marker": {
             "colorbar": {
              "outlinewidth": 0,
              "ticks": ""
             }
            },
            "type": "scatterternary"
           }
          ],
          "surface": [
           {
            "colorbar": {
             "outlinewidth": 0,
             "ticks": ""
            },
            "colorscale": [
             [
              0,
              "#0d0887"
             ],
             [
              0.1111111111111111,
              "#46039f"
             ],
             [
              0.2222222222222222,
              "#7201a8"
             ],
             [
              0.3333333333333333,
              "#9c179e"
             ],
             [
              0.4444444444444444,
              "#bd3786"
             ],
             [
              0.5555555555555556,
              "#d8576b"
             ],
             [
              0.6666666666666666,
              "#ed7953"
             ],
             [
              0.7777777777777778,
              "#fb9f3a"
             ],
             [
              0.8888888888888888,
              "#fdca26"
             ],
             [
              1,
              "#f0f921"
             ]
            ],
            "type": "surface"
           }
          ],
          "table": [
           {
            "cells": {
             "fill": {
              "color": "#EBF0F8"
             },
             "line": {
              "color": "white"
             }
            },
            "header": {
             "fill": {
              "color": "#C8D4E3"
             },
             "line": {
              "color": "white"
             }
            },
            "type": "table"
           }
          ]
         },
         "layout": {
          "annotationdefaults": {
           "arrowcolor": "#2a3f5f",
           "arrowhead": 0,
           "arrowwidth": 1
          },
          "autotypenumbers": "strict",
          "coloraxis": {
           "colorbar": {
            "outlinewidth": 0,
            "ticks": ""
           }
          },
          "colorscale": {
           "diverging": [
            [
             0,
             "#8e0152"
            ],
            [
             0.1,
             "#c51b7d"
            ],
            [
             0.2,
             "#de77ae"
            ],
            [
             0.3,
             "#f1b6da"
            ],
            [
             0.4,
             "#fde0ef"
            ],
            [
             0.5,
             "#f7f7f7"
            ],
            [
             0.6,
             "#e6f5d0"
            ],
            [
             0.7,
             "#b8e186"
            ],
            [
             0.8,
             "#7fbc41"
            ],
            [
             0.9,
             "#4d9221"
            ],
            [
             1,
             "#276419"
            ]
           ],
           "sequential": [
            [
             0,
             "#0d0887"
            ],
            [
             0.1111111111111111,
             "#46039f"
            ],
            [
             0.2222222222222222,
             "#7201a8"
            ],
            [
             0.3333333333333333,
             "#9c179e"
            ],
            [
             0.4444444444444444,
             "#bd3786"
            ],
            [
             0.5555555555555556,
             "#d8576b"
            ],
            [
             0.6666666666666666,
             "#ed7953"
            ],
            [
             0.7777777777777778,
             "#fb9f3a"
            ],
            [
             0.8888888888888888,
             "#fdca26"
            ],
            [
             1,
             "#f0f921"
            ]
           ],
           "sequentialminus": [
            [
             0,
             "#0d0887"
            ],
            [
             0.1111111111111111,
             "#46039f"
            ],
            [
             0.2222222222222222,
             "#7201a8"
            ],
            [
             0.3333333333333333,
             "#9c179e"
            ],
            [
             0.4444444444444444,
             "#bd3786"
            ],
            [
             0.5555555555555556,
             "#d8576b"
            ],
            [
             0.6666666666666666,
             "#ed7953"
            ],
            [
             0.7777777777777778,
             "#fb9f3a"
            ],
            [
             0.8888888888888888,
             "#fdca26"
            ],
            [
             1,
             "#f0f921"
            ]
           ]
          },
          "colorway": [
           "#636efa",
           "#EF553B",
           "#00cc96",
           "#ab63fa",
           "#FFA15A",
           "#19d3f3",
           "#FF6692",
           "#B6E880",
           "#FF97FF",
           "#FECB52"
          ],
          "font": {
           "color": "#2a3f5f"
          },
          "geo": {
           "bgcolor": "white",
           "lakecolor": "white",
           "landcolor": "#E5ECF6",
           "showlakes": true,
           "showland": true,
           "subunitcolor": "white"
          },
          "hoverlabel": {
           "align": "left"
          },
          "hovermode": "closest",
          "mapbox": {
           "style": "light"
          },
          "paper_bgcolor": "white",
          "plot_bgcolor": "#E5ECF6",
          "polar": {
           "angularaxis": {
            "gridcolor": "white",
            "linecolor": "white",
            "ticks": ""
           },
           "bgcolor": "#E5ECF6",
           "radialaxis": {
            "gridcolor": "white",
            "linecolor": "white",
            "ticks": ""
           }
          },
          "scene": {
           "xaxis": {
            "backgroundcolor": "#E5ECF6",
            "gridcolor": "white",
            "gridwidth": 2,
            "linecolor": "white",
            "showbackground": true,
            "ticks": "",
            "zerolinecolor": "white"
           },
           "yaxis": {
            "backgroundcolor": "#E5ECF6",
            "gridcolor": "white",
            "gridwidth": 2,
            "linecolor": "white",
            "showbackground": true,
            "ticks": "",
            "zerolinecolor": "white"
           },
           "zaxis": {
            "backgroundcolor": "#E5ECF6",
            "gridcolor": "white",
            "gridwidth": 2,
            "linecolor": "white",
            "showbackground": true,
            "ticks": "",
            "zerolinecolor": "white"
           }
          },
          "shapedefaults": {
           "line": {
            "color": "#2a3f5f"
           }
          },
          "ternary": {
           "aaxis": {
            "gridcolor": "white",
            "linecolor": "white",
            "ticks": ""
           },
           "baxis": {
            "gridcolor": "white",
            "linecolor": "white",
            "ticks": ""
           },
           "bgcolor": "#E5ECF6",
           "caxis": {
            "gridcolor": "white",
            "linecolor": "white",
            "ticks": ""
           }
          },
          "title": {
           "x": 0.05
          },
          "xaxis": {
           "automargin": true,
           "gridcolor": "white",
           "linecolor": "white",
           "ticks": "",
           "title": {
            "standoff": 15
           },
           "zerolinecolor": "white",
           "zerolinewidth": 2
          },
          "yaxis": {
           "automargin": true,
           "gridcolor": "white",
           "linecolor": "white",
           "ticks": "",
           "title": {
            "standoff": 15
           },
           "zerolinecolor": "white",
           "zerolinewidth": 2
          }
         }
        },
        "xaxis": {
         "anchor": "y",
         "domain": [
          0,
          1
         ],
         "title": {
          "text": "bpm"
         }
        },
        "yaxis": {
         "anchor": "x",
         "domain": [
          0,
          1
         ],
         "title": {
          "text": "nrgy"
         }
        }
       }
      },
      "text/html": [
       "<div>                            <div id=\"2750eb8d-f641-42d9-b3c2-df40ecf82014\" class=\"plotly-graph-div\" style=\"height:525px; width:100%;\"></div>            <script type=\"text/javascript\">                require([\"plotly\"], function(Plotly) {                    window.PLOTLYENV=window.PLOTLYENV || {};                                    if (document.getElementById(\"2750eb8d-f641-42d9-b3c2-df40ecf82014\")) {                    Plotly.newPlot(                        \"2750eb8d-f641-42d9-b3c2-df40ecf82014\",                        [{\"customdata\": [[\"Hey, Soul Sister\"], [\"All of Me\"], [\"Wings\"], [\"Say Something\"], [\"Not About Angels\"], [\"Tee Shirt - Soundtrack Version\"], [\"Words as Weapons\"], [\"Keeping Your Head Up\"], [\"Start\"]], \"hovertemplate\": \"<b>%{hovertext}</b><br><br>top genre=neo mellow<br>bpm=%{x}<br>nrgy=%{y}<br>title=%{customdata[0]}<extra></extra>\", \"hovertext\": [\"Train\", \"John Legend\", \"Birdy\", \"A Great Big World\", \"Birdy\", \"Birdy\", \"Birdy\", \"Birdy\", \"John Legend\"], \"legendgroup\": \"neo mellow\", \"marker\": {\"color\": \"#636efa\", \"symbol\": \"circle\"}, \"mode\": \"markers\", \"name\": \"neo mellow\", \"orientation\": \"v\", \"showlegend\": true, \"type\": \"scatter\", \"x\": [97, 120, 83, 138, 116, 76, 120, 122, 110], \"xaxis\": \"x\", \"y\": [89, 26, 71, 15, 14, 34, 35, 78, 4], \"yaxis\": \"y\"}, {\"customdata\": [[\"Love The Way You Lie\"], [\"Walk On Water (feat. Beyonc\\ufffd)\"]], \"hovertemplate\": \"<b>%{hovertext}</b><br><br>top genre=detroit hip hop<br>bpm=%{x}<br>nrgy=%{y}<br>title=%{customdata[0]}<extra></extra>\", \"hovertext\": [\"Eminem\", \"Eminem\"], \"legendgroup\": \"detroit hip hop\", \"marker\": {\"color\": \"#EF553B\", \"symbol\": \"circle\"}, \"mode\": \"markers\", \"name\": \"detroit hip hop\", \"orientation\": \"v\", \"showlegend\": true, \"type\": \"scatter\", \"x\": [87, 82], \"xaxis\": \"x\", \"y\": [93, 44], \"yaxis\": \"y\"}, {\"customdata\": [[\"TiK ToK\"], [\"Bad Romance\"], [\"Dynamite\"], [\"Secrets\"], [\"Club Can't Handle Me (feat. David Guetta)\"], [\"Cooler Than Me - Single Mix\"], [\"Telephone\"], [\"Like A G6\"], [\"Eenie Meenie\"], [\"The Time (Dirty Bit)\"], [\"Alejandro\"], [\"Your Love Is My Drug\"], [\"Meet Me Halfway\"], [\"Take It Off\"], [\"All The Right Moves\"], [\"Naturally\"], [\"I Like It\"], [\"Teenage Dream\"], [\"California Gurls\"], [\"3\"], [\"My First Kiss - feat. Ke$ha\"], [\"Blah Blah Blah (feat. 3OH!3)\"], [\"Imma Be\"], [\"Sexy Bitch (feat. Akon)\"], [\"Bound To You - Burlesque Original Motion Picture Soundtrack\"], [\"Rock That Body\"], [\"Something's Got A Hold On Me - Burlesque Original Motion Picture Soundtrack\"], [\"You Lost Me\"], [\"Not Myself Tonight\"], [\"Written in the Stars (feat. Eric Turner)\"], [\"Break Your Heart\"], [\"A Thousand Years\"], [\"Give Me Everything\"], [\"Run the World (Girls)\"], [\"Love On Top\"], [\"Tonight Tonight\"], [\"Born This Way\"], [\"Best Thing I Never Had\"], [\"Party Rock Anthem\"], [\"We R Who We R\"], [\"Good Life\"], [\"Just Can\\ufffdt Get Enough\"], [\"On The Floor\"], [\"Yeah 3x\"], [\"Without You (feat. Usher)\"], [\"Sexy And I Know It\"], [\"The Edge Of Glory\"], [\"E.T.\"], [\"Till the World Ends\"], [\"I Wanna Go\"], [\"Blow\"], [\"You And I\"], [\"Judas\"], [\"Tonight (I'm Fuckin' You)\"], [\"Please Don't Go\"], [\"Marry The Night\"], [\"1+1\"], [\"Hold It Against Me\"], [\"I'm Into You\"], [\"Papi\"], [\"Written in the Stars (feat. Eric Turner)\"], [\"Jar of Hearts\"], [\"Super Bass\"], [\"Raise Your Glass\"], [\"Invading My Mind\"], [\"Moment 4 Life - Album Version (Edited)\"], [\"Last Friday Night (T.G.I.F.)\"], [\"Firework\"], [\"Muny - Album Version (Edited)\"], [\"Titanium (feat. Sia)\"], [\"Love You Like A Love Song\"], [\"Stronger (What Doesn't Kill You)\"], [\"Try\"], [\"Starships\"], [\"International Love\"], [\"Part Of Me\"], [\"Wide Awake\"], [\"The One That Got Away\"], [\"Dance Again\"], [\"Turn Up the Music\"], [\"Lights - Single Version\"], [\"Don't Stop the Party (feat. TJR)\"], [\"Stereo Hearts (feat. Adam Levine)\"], [\"Blow Me (One Last Kiss)\"], [\"Underneath the Tree\"], [\"Just Give Me a Reason (feat. Nate Ruess)\"], [\"Roar\"], [\"We Can't Stop\"], [\"Wrecking Ball\"], [\"Blurred Lines\"], [\"Heart Attack\"], [\"Die Young\"], [\"Under Control\"], [\"Sweet Nothing (feat. Florence Welch)\"], [\"Work Bitch\"], [\"Can't Hold Us (feat. Ray Dalton)\"], [\"Feel This Moment (feat. Christina Aguilera)\"], [\"Let Me Love You (Until You Learn To Love Yourself)\"], [\"Thrift Shop (feat. Wanz)\"], [\"If I Lose Myself - Alesso vs OneRepublic\"], [\"The Way\"], [\"Suit & Tie\"], [\"#thatPOWER\"], [\"Play Hard (feat. Ne-Yo & Akon) - New Edit\"], [\"A Little Party Never Killed Nobody (All We Got)\"], [\"Move\"], [\"Mirrors - Radio Edit\"], [\"Next To Me\"], [\"Made In The USA\"], [\"Clown\"], [\"TKO\"], [\"Come & Get It\"], [\"Live It Up\"], [\"What About Love\"], [\"Take Back the Night\"], [\"Applause\"], [\"Anything Could Happen\"], [\"Finally Found You\"], [\"#Beautiful\"], [\"How Ya Doin'? (feat. Missy Elliott)\"], [\"Crazy Kids (feat. will.i.am)\"], [\"Ooh La La (from \\\"The Smurfs 2\\\")\"], [\"People Like Us\"], [\"Overdose\"], [\"Give It 2 U\"], [\"Outta Nowhere (feat. Danny Mercer)\"], [\"Summer\"], [\"Happy - From \\\"Despicable Me 2\\\"\"], [\"Dark Horse\"], [\"Problem\"], [\"Adore You\"], [\"Burn\"], [\"Talk Dirty (feat. 2 Chainz)\"], [\"human\"], [\"Wiggle (feat. Snoop Dogg)\"], [\"Love Runs Out\"], [\"This Is How We Do\"], [\"Mmm Yeah (feat. Pitbull)\"], [\"A Little Party Never Killed Nobody (All We Got)\"], [\"Partition\"], [\"Birthday\"], [\"G.U.Y.\"], [\"Let It Go - From \\\"Frozen / Single Version\"], [\"Shot Me Down (feat. Skylar Grey) - Radio Edit\"], [\"Come Get It Bae\"], [\"XO\"], [\"We Are One (Ole Ola) [The Official 2014 FIFA World Cup Song]\"], [\"Drunk in Love\"], [\"Anaconda\"], [\"You're Mine (Eternal)\"], [\"Sheezus\"], [\"I Luh Ya Papi\"], [\"Not a Bad Thing\"], [\"Uptown Funk\"], [\"Love Me Like You Do - From \\\"Fifty Shades Of Grey\\\"\"], [\"Want to Want Me\"], [\"My House\"], [\"How Deep Is Your Love\"], [\"Never Forget You\"], [\"Love Me Harder\"], [\"Blame\"], [\"Worth It\"], [\"Break Free\"], [\"Rather Be (feat. Jess Glynne)\"], [\"Dear Future Husband\"], [\"43776\"], [\"The Heart Wants What It Wants\"], [\"Hey Mama (feat. Nicki Minaj, Bebe Rexha & Afrojack)\"], [\"Genie In a Bottle\"], [\"Jealous - Remix\"], [\"Really Don't Care\"], [\"Downtown (feat. Melle Mel, Grandmaster Caz, Kool Moe Dee & Eric Nally)\"], [\"Heartbeat Song\"], [\"Up\"], [\"Trumpets\"], [\"Same Old Love\"], [\"Lips Are Movin\"], [\"I Lived\"], [\"Fireball (feat. John Ryan)\"], [\"Easy Love\"], [\"BO$$\"], [\"Focus\"], [\"All About That Bass\"], [\"On My Mind\"], [\"Love Me Like You\"], [\"Booty\"], [\"Lay It All on Me\"], [\"Sugar (feat. Francesco Yates)\"], [\"Feel The Light - From The \\\"Home\\\" Soundtrack\"], [\"Ghosttown\"], [\"Bang My Head (feat. Sia & Fetty Wap)\"], [\"Living For Love\"], [\"Baby Don't Lie\"], [\"Don't Be so Hard on Yourself\"], [\"Celebrate (From the Original Motion Picture \\\"Penguins of Madagascar\\\")\"], [\"Yesterday (feat. Bebe Rexha)\"], [\"Time of Our Lives\"], [\"Sparks\"], [\"Mr. Put It Down\"], [\"Legendary Lovers\"], [\"Spark The Fire\"], [\"Run Run Run\"], [\"Let Me Be Your Lover\"], [\"Dangerous\"], [\"L.A.LOVE (la la)\"], [\"Cake By The Ocean\"], [\"Into You\"], [\"This Is What You Came For\"], [\"Million Reasons\"], [\"CAN'T STOP THE FEELING! (Original Song from DreamWorks Animation's \\\"TROLLS\\\")\"], [\"Work from Home (feat. Ty Dolla $ign)\"], [\"Like I'm Gonna Lose You (feat. John Legend)\"], [\"I Took A Pill In Ibiza - Seeb Remix\"], [\"Dangerous Woman\"], [\"Starving\"], [\"Shout Out to My Ex\"], [\"Confident\"], [\"Cold Water (feat. Justin Bieber & M\\ufffd)\"], [\"Me Too\"], [\"Light It Up (feat. Nyla & Fuse ODG) [Remix]\"], [\"Ain't Your Mama\"], [\"Close\"], [\"Toothbrush\"], [\"Final Song\"], [\"Hands To Myself\"], [\"Just Like Fire (From the Original Motion Picture \\\"Alice Through The Looking Glass\\\")\"], [\"NO\"], [\"Kill Em With Kindness\"], [\"Cool Girl\"], [\"Perfect Illusion\"], [\"PILLOWTALK\"], [\"Rise\"], [\"Wherever I Go\"], [\"Body Say\"], [\"LIKE I WOULD\"], [\"I Got You\"], [\"Cruel (feat. ZAYN)\"], [\"WTF (Where They From)\"], [\"Desire\"], [\"Hurts\"], [\"Change\"], [\"Make Me... (feat. G-Eazy)\"], [\"Make Me Like You\"], [\"Champagne Problems\"], [\"Blown\"], [\"Pep Rally\"], [\"Invitation\"], [\"One Call Away (feat. Tyga) - Remix\"], [\"Little Lies\"], [\"Do You Wanna Come Over?\"], [\"BURNITUP!\"], [\"Side To Side\"], [\"Malibu\"], [\"Rockabye (feat. Sean Paul & Anne-Marie)\"], [\"I Don\\ufffdt Wanna Live Forever (Fifty Shades Darker)\"], [\"My Way\"], [\"I'm the One (feat. Justin Bieber, Quavo, Chance the Rapper & Lil Wayne)\"], [\"Praying\"], [\"Crying in the Club\"], [\"Mama\"], [\"Slide (feat. Frank Ocean & Migos)\"], [\"Swish Swish\"], [\"Chained To The Rhythm\"], [\"The Cure\"], [\"Rich Love (with Seeb)\"], [\"Came Here for Love\"], [\"Strip That Down (feat. Quavo)\"], [\"OK - Spotify Version\"], [\"Bon app\\ufffdtit\"], [\"Kissing Strangers\"], [\"Slow Hands\"], [\"Younger Now\"], [\"Body Moves\"], [\"Angel\"], [\"Touch (feat. Kid Ink)\"], [\"We Don't Talk Anymore - DROELOE Remix\"], [\"No Vacancy (with Sebasti\\ufffdn Yatra)\"], [\"Greenlight (feat. Flo Rida & LunchMoney Lewis)\"], [\"Influence\"], [\"Remember I Told You\"], [\"Messin' Around\"], [\"Kissing Strangers - Remix\"], [\"One Kiss (with Dua Lipa)\"], [\"Havana (feat. Young Thug)\"], [\"New Rules\"], [\"no tears left to cry\"], [\"IDGAF\"], [\"Wolves\"], [\"Dusk Till Dawn - Radio Edit\"], [\"Attention\"], [\"Let Me Go (with Alesso, Florida Georgia Line & watt)\"], [\"Sorry Not Sorry\"], [\"Shallow - Radio Edit\"], [\"These Days\"], [\"Bad At Love\"], [\"Wild Thoughts (feat. Rihanna & Bryson Tiller)\"], [\"My My My!\"], [\"Capital Letters\"], [\"Bad Liar\"], [\"Anywhere\"], [\"Say Something\"], [\"Chun-Li\"], [\"Sign of the Times\"], [\"Familiar\"], [\"Let Me\"], [\"Supernova\"], [\"For You (With Rita Ora)\"], [\"Want To\"], [\"What I Need (feat. Kehlani)\"], [\"What About Us\"], [\"Kissing Strangers\"], [\"2U (feat. Justin Bieber)\"], [\"This Town\"], [\"Girls (feat. Cardi B, Bebe Rexha & Charli XCX)\"], [\"MOVE TO MIAMI\"], [\"Filthy\"], [\"Never Be the Same - Radio Edit\"], [\"Ferrari\"], [\"Supplies\"], [\"Tell Me You Love Me - NOTD Remix\"], [\"Lose You To Love Me\"], [\"Don't Call Me Up\"], [\"Giant (with Rag'n'Bone Man)\"], [\"No Guidance (feat. Drake)\"], [\"Find U Again (feat. Camila Cabello)\"], [\"No Brainer (feat. Justin Bieber, Chance the Rapper & Quavo)\"], [\"Nothing Breaks Like a Heart (feat. Miley Cyrus)\"]], \"hovertemplate\": \"<b>%{hovertext}</b><br><br>top genre=dance pop<br>bpm=%{x}<br>nrgy=%{y}<br>title=%{customdata[0]}<extra></extra>\", \"hovertext\": [\"Kesha\", \"Lady Gaga\", \"Taio Cruz\", \"OneRepublic\", \"Flo Rida\", \"Mike Posner\", \"Lady Gaga\", \"Far East Movement\", \"Sean Kingston\", \"The Black Eyed Peas\", \"Lady Gaga\", \"Kesha\", \"The Black Eyed Peas\", \"Kesha\", \"OneRepublic\", \"Selena Gomez & The Scene\", \"Enrique Iglesias\", \"Katy Perry\", \"Katy Perry\", \"Britney Spears\", \"3OH!3\", \"Kesha\", \"The Black Eyed Peas\", \"David Guetta\", \"Christina Aguilera\", \"The Black Eyed Peas\", \"Christina Aguilera\", \"Christina Aguilera\", \"Christina Aguilera\", \"Tinie Tempah\", \"Taio Cruz\", \"Christina Perri\", \"Pitbull\", \"Beyonc\\ufffd\", \"Beyonc\\ufffd\", \"Hot Chelle Rae\", \"Lady Gaga\", \"Beyonc\\ufffd\", \"LMFAO\", \"Kesha\", \"OneRepublic\", \"The Black Eyed Peas\", \"Jennifer Lopez\", \"Chris Brown\", \"David Guetta\", \"LMFAO\", \"Lady Gaga\", \"Katy Perry\", \"Britney Spears\", \"Britney Spears\", \"Kesha\", \"Lady Gaga\", \"Lady Gaga\", \"Enrique Iglesias\", \"Mike Posner\", \"Lady Gaga\", \"Beyonc\\ufffd\", \"Britney Spears\", \"Jennifer Lopez\", \"Jennifer Lopez\", \"Tinie Tempah\", \"Christina Perri\", \"Nicki Minaj\", \"P!nk\", \"Jennifer Lopez\", \"Nicki Minaj\", \"Katy Perry\", \"Katy Perry\", \"Nicki Minaj\", \"David Guetta\", \"Selena Gomez & The Scene\", \"Kelly Clarkson\", \"P!nk\", \"Nicki Minaj\", \"Pitbull\", \"Katy Perry\", \"Katy Perry\", \"Katy Perry\", \"Jennifer Lopez\", \"Chris Brown\", \"Ellie Goulding\", \"Pitbull\", \"Gym Class Heroes\", \"P!nk\", \"Kelly Clarkson\", \"P!nk\", \"Katy Perry\", \"Miley Cyrus\", \"Miley Cyrus\", \"Robin Thicke\", \"Demi Lovato\", \"Kesha\", \"Calvin Harris\", \"Calvin Harris\", \"Britney Spears\", \"Macklemore & Ryan Lewis\", \"Pitbull\", \"Ne-Yo\", \"Macklemore & Ryan Lewis\", \"OneRepublic\", \"Ariana Grande\", \"Justin Timberlake\", \"will.i.am\", \"David Guetta\", \"Fergie\", \"Little Mix\", \"Justin Timberlake\", \"Emeli Sand\\ufffd\", \"Demi Lovato\", \"Emeli Sand\\ufffd\", \"Justin Timberlake\", \"Selena Gomez\", \"Jennifer Lopez\", \"Austin Mahone\", \"Justin Timberlake\", \"Lady Gaga\", \"Ellie Goulding\", \"Enrique Iglesias\", \"Mariah Carey\", \"Little Mix\", \"Kesha\", \"Britney Spears\", \"Kelly Clarkson\", \"Ciara\", \"Robin Thicke\", \"Pitbull\", \"Calvin Harris\", \"Pharrell Williams\", \"Katy Perry\", \"Ariana Grande\", \"Miley Cyrus\", \"Ellie Goulding\", \"Jason Derulo\", \"Christina Perri\", \"Jason Derulo\", \"OneRepublic\", \"Katy Perry\", \"Austin Mahone\", \"Fergie\", \"Beyonc\\ufffd\", \"Katy Perry\", \"Lady Gaga\", \"Demi Lovato\", \"David Guetta\", \"Pharrell Williams\", \"Beyonc\\ufffd\", \"Pitbull\", \"Beyonc\\ufffd\", \"Nicki Minaj\", \"Mariah Carey\", \"Lily Allen\", \"Jennifer Lopez\", \"Justin Timberlake\", \"Mark Ronson\", \"Ellie Goulding\", \"Jason Derulo\", \"Flo Rida\", \"Calvin Harris\", \"Zara Larsson\", \"Ariana Grande\", \"Calvin Harris\", \"Fifth Harmony\", \"Ariana Grande\", \"Clean Bandit\", \"Meghan Trainor\", \"Beyonc\\ufffd\", \"Selena Gomez\", \"David Guetta\", \"Christina Aguilera\", \"Nick Jonas\", \"Demi Lovato\", \"Macklemore & Ryan Lewis\", \"Kelly Clarkson\", \"Olly Murs\", \"Jason Derulo\", \"Selena Gomez\", \"Meghan Trainor\", \"OneRepublic\", \"Pitbull\", \"Sigala\", \"Fifth Harmony\", \"Ariana Grande\", \"Meghan Trainor\", \"Ellie Goulding\", \"Little Mix\", \"Jennifer Lopez\", \"Rudimental\", \"Robin Schulz\", \"Jennifer Lopez\", \"Madonna\", \"David Guetta\", \"Madonna\", \"Gwen Stefani\", \"Jess Glynne\", \"Pitbull\", \"David Guetta\", \"Pitbull\", \"Hilary Duff\", \"Ricky Martin\", \"Katy Perry\", \"Gwen Stefani\", \"Kelly Clarkson\", \"Enrique Iglesias\", \"Jennifer Hudson\", \"Fergie\", \"DNCE\", \"Ariana Grande\", \"Calvin Harris\", \"Lady Gaga\", \"Justin Timberlake\", \"Fifth Harmony\", \"Meghan Trainor\", \"Mike Posner\", \"Ariana Grande\", \"Hailee Steinfeld\", \"Little Mix\", \"Demi Lovato\", \"Major Lazer\", \"Meghan Trainor\", \"Major Lazer\", \"Jennifer Lopez\", \"Nick Jonas\", \"DNCE\", \"M\\ufffd\", \"Selena Gomez\", \"P!nk\", \"Meghan Trainor\", \"Selena Gomez\", \"Tove Lo\", \"Lady Gaga\", \"ZAYN\", \"Katy Perry\", \"OneRepublic\", \"Demi Lovato\", \"ZAYN\", \"Bebe Rexha\", \"Snakehips\", \"Missy Elliott\", \"Years & Years\", \"Emeli Sand\\ufffd\", \"Christina Aguilera\", \"Britney Spears\", \"Gwen Stefani\", \"Nick Jonas\", \"DNCE\", \"Missy Elliott\", \"Britney Spears\", \"Charlie Puth\", \"Hilary Duff\", \"Britney Spears\", \"Janet Jackson\", \"Ariana Grande\", \"Miley Cyrus\", \"Clean Bandit\", \"ZAYN\", \"Calvin Harris\", \"DJ Khaled\", \"Kesha\", \"Camila Cabello\", \"Jonas Blue\", \"Calvin Harris\", \"Katy Perry\", \"Katy Perry\", \"Lady Gaga\", \"OneRepublic\", \"Sigala\", \"Liam Payne\", \"Robin Schulz\", \"Katy Perry\", \"DNCE\", \"Niall Horan\", \"Miley Cyrus\", \"DNCE\", \"Fifth Harmony\", \"Little Mix\", \"Charlie Puth\", \"OneRepublic\", \"Pitbull\", \"Tove Lo\", \"Nick Jonas\", \"Pitbull\", \"DNCE\", \"Calvin Harris\", \"Camila Cabello\", \"Dua Lipa\", \"Ariana Grande\", \"Dua Lipa\", \"Selena Gomez\", \"ZAYN\", \"Charlie Puth\", \"Hailee Steinfeld\", \"Demi Lovato\", \"Lady Gaga\", \"Rudimental\", \"Halsey\", \"DJ Khaled\", \"Troye Sivan\", \"Hailee Steinfeld\", \"Selena Gomez\", \"Rita Ora\", \"Justin Timberlake\", \"Nicki Minaj\", \"Harry Styles\", \"Liam Payne\", \"ZAYN\", \"Ansel Elgort\", \"Liam Payne\", \"Dua Lipa\", \"Hayley Kiyoko\", \"P!nk\", \"DNCE\", \"David Guetta\", \"Niall Horan\", \"Rita Ora\", \"Enrique Iglesias\", \"Justin Timberlake\", \"Camila Cabello\", \"Bebe Rexha\", \"Justin Timberlake\", \"Demi Lovato\", \"Selena Gomez\", \"Mabel\", \"Calvin Harris\", \"Chris Brown\", \"Mark Ronson\", \"DJ Khaled\", \"Mark Ronson\"], \"legendgroup\": \"dance pop\", \"marker\": {\"color\": \"#00cc96\", \"symbol\": \"circle\"}, \"mode\": \"markers\", \"name\": \"dance pop\", \"orientation\": \"v\", \"showlegend\": true, \"type\": \"scatter\", \"x\": [120, 119, 120, 148, 128, 130, 122, 125, 121, 128, 99, 120, 130, 125, 146, 133, 129, 120, 125, 135, 138, 120, 92, 130, 164, 125, 150, 43, 120, 91, 122, 139, 129, 127, 94, 100, 124, 99, 130, 120, 95, 94, 130, 130, 128, 130, 128, 152, 132, 130, 120, 127, 131, 126, 120, 131, 63, 133, 84, 120, 91, 75, 127, 122, 129, 130, 126, 124, 98, 126, 117, 116, 104, 125, 120, 130, 160, 134, 128, 130, 120, 127, 90, 114, 160, 95, 180, 80, 120, 120, 174, 128, 126, 128, 128, 146, 136, 125, 95, 126, 82, 102, 128, 130, 130, 121, 77, 95, 87, 130, 138, 80, 128, 100, 107, 140, 103, 128, 107, 201, 128, 128, 128, 107, 127, 95, 128, 160, 132, 103, 120, 87, 100, 144, 82, 120, 96, 126, 130, 186, 126, 110, 140, 192, 120, 170, 125, 140, 130, 149, 130, 96, 86, 115, 190, 114, 94, 122, 146, 99, 128, 100, 130, 121, 79, 136, 83, 86, 176, 93, 121, 110, 149, 115, 82, 98, 139, 120, 123, 124, 103, 100, 134, 155, 106, 129, 123, 123, 156, 79, 108, 123, 100, 120, 127, 128, 124, 122, 128, 126, 120, 112, 112, 109, 202, 119, 108, 124, 130, 113, 105, 108, 102, 134, 100, 126, 130, 93, 124, 108, 120, 124, 105, 105, 111, 163, 92, 120, 102, 125, 125, 101, 100, 87, 113, 98, 110, 120, 126, 106, 82, 123, 118, 108, 130, 90, 112, 91, 124, 121, 123, 159, 140, 102, 118, 120, 81, 73, 85, 104, 104, 120, 190, 100, 105, 125, 106, 122, 106, 120, 86, 122, 102, 124, 102, 100, 100, 115, 105, 113, 158, 120, 124, 105, 116, 122, 97, 125, 180, 100, 103, 144, 96, 92, 118, 98, 103, 100, 121, 107, 97, 129, 120, 93, 168, 140, 113, 92, 104, 114, 120, 145, 112, 94, 100, 97, 130, 77, 120, 102, 102, 99, 122, 93, 104, 136, 114], \"xaxis\": \"x\", \"y\": [84, 92, 78, 76, 87, 82, 83, 84, 61, 81, 80, 61, 63, 68, 95, 90, 94, 80, 75, 71, 89, 84, 52, 63, 41, 91, 85, 39, 81, 95, 90, 41, 94, 90, 75, 78, 83, 65, 74, 82, 69, 63, 78, 88, 61, 86, 77, 87, 71, 55, 73, 70, 93, 89, 88, 88, 38, 72, 75, 81, 95, 35, 74, 64, 88, 88, 81, 83, 72, 79, 68, 94, 63, 72, 86, 92, 68, 80, 86, 84, 80, 96, 80, 92, 81, 55, 77, 62, 42, 60, 79, 70, 92, 93, 82, 93, 76, 68, 53, 75, 88, 60, 61, 87, 62, 74, 60, 80, 86, 23, 68, 79, 73, 78, 66, 78, 78, 88, 76, 95, 75, 57, 79, 70, 83, 84, 86, 82, 59, 81, 66, 78, 65, 49, 62, 93, 64, 92, 62, 44, 67, 92, 66, 77, 80, 79, 94, 62, 60, 58, 50, 73, 73, 61, 61, 68, 70, 87, 73, 71, 86, 77, 70, 59, 78, 71, 79, 73, 80, 71, 73, 61, 80, 85, 70, 59, 83, 85, 94, 94, 87, 88, 88, 71, 67, 95, 75, 82, 60, 55, 87, 79, 55, 82, 85, 78, 80, 88, 78, 84, 80, 37, 90, 53, 39, 75, 73, 93, 42, 83, 59, 53, 71, 60, 62, 75, 75, 80, 69, 88, 68, 62, 79, 67, 50, 70, 80, 88, 69, 86, 70, 64, 69, 74, 83, 89, 88, 82, 78, 64, 54, 70, 71, 78, 95, 75, 65, 69, 76, 70, 71, 74, 78, 76, 45, 91, 67, 39, 62, 79, 80, 71, 80, 51, 87, 87, 50, 81, 79, 74, 42, 87, 69, 53, 75, 82, 76, 83, 59, 53, 81, 77, 86, 52, 70, 71, 54, 80, 44, 61, 71, 64, 33, 81, 75, 67, 46, 81, 41, 80, 63, 73, 57, 81, 57, 62, 80, 69, 79, 59, 74, 61, 41, 69, 87, 58, 69, 48, 55, 77, 34, 88, 89, 45, 66, 76, 79], \"yaxis\": \"y\"}, {\"customdata\": [[\"Just the Way You Are\"], [\"Marry You\"], [\"Misery\"], [\"Just the Way You Are\"], [\"Moves Like Jagger - Studio Recording From The Voice Performance\"], [\"Grenade\"], [\"Marry You\"], [\"Locked Out of Heaven\"], [\"Payphone\"], [\"I Knew You Were Trouble.\"], [\"We Are Never Ever Getting Back Together\"], [\"One More Night\"], [\"Good Time\"], [\"It Will Rain\"], [\"Impossible\"], [\"We Are Never Ever Getting Back Together\"], [\"Beneath Your Beautiful\"], [\"Daylight\"], [\"Love Somebody\"], [\"Stay With Me\"], [\"Rude\"], [\"Shake It Off\"], [\"Maps\"], [\"Treasure\"], [\"Love Me Again\"], [\"Love Never Felt So Good\"], [\"Gorilla\"], [\"Young Girls\"], [\"Thinking out Loud\"], [\"I'm Not The Only One\"], [\"Sugar\"], [\"Animals\"], [\"Don't\"], [\"Sing\"], [\"Sugar\"], [\"Bloodstream\"], [\"Out Of The Woods\"], [\"Shape of You\"], [\"That's What I Like\"], [\"Cold (feat. Future)\"], [\"Bodak Yellow\"], [\"24K Magic\"], [\"I Like It\"], [\"What Lovers Do (feat. SZA)\"], [\"Finesse - Remix; feat. Cardi B\"], [\"Perfect Duet (Ed Sheeran & Beyonc\\ufffd)\"], [\"Look What You Made Me Do\"], [\"End Game\"], [\"Wait\"], [\"...Ready For It? - BloodPop\\ufffd Remix\"], [\"Drip (feat. Migos)\"], [\"Memories\"], [\"Someone You Loved\"], [\"How Do You Sleep?\"], [\"South of the Border (feat. Camila Cabello & Cardi B)\"], [\"Beautiful People (feat. Khalid)\"], [\"I Don't Care (with Justin Bieber)\"], [\"Girls Like You (feat. Cardi B)\"], [\"Antisocial (with Travis Scott)\"], [\"Cross Me (feat. Chance the Rapper & PnB Rock)\"]], \"hovertemplate\": \"<b>%{hovertext}</b><br><br>top genre=pop<br>bpm=%{x}<br>nrgy=%{y}<br>title=%{customdata[0]}<extra></extra>\", \"hovertext\": [\"Bruno Mars\", \"Bruno Mars\", \"Maroon 5\", \"Bruno Mars\", \"Maroon 5\", \"Bruno Mars\", \"Bruno Mars\", \"Bruno Mars\", \"Maroon 5\", \"Taylor Swift\", \"Taylor Swift\", \"Maroon 5\", \"Owl City\", \"Bruno Mars\", \"James Arthur\", \"Taylor Swift\", \"Labrinth\", \"Maroon 5\", \"Maroon 5\", \"Sam Smith\", \"MAGIC!\", \"Taylor Swift\", \"Maroon 5\", \"Bruno Mars\", \"John Newman\", \"Michael Jackson\", \"Bruno Mars\", \"Bruno Mars\", \"Ed Sheeran\", \"Sam Smith\", \"Maroon 5\", \"Maroon 5\", \"Ed Sheeran\", \"Ed Sheeran\", \"Maroon 5\", \"Ed Sheeran\", \"Taylor Swift\", \"Ed Sheeran\", \"Bruno Mars\", \"Maroon 5\", \"Cardi B\", \"Bruno Mars\", \"Cardi B\", \"Maroon 5\", \"Bruno Mars\", \"Ed Sheeran\", \"Taylor Swift\", \"Taylor Swift\", \"Maroon 5\", \"Taylor Swift\", \"Cardi B\", \"Maroon 5\", \"Lewis Capaldi\", \"Sam Smith\", \"Ed Sheeran\", \"Ed Sheeran\", \"Ed Sheeran\", \"Maroon 5\", \"Ed Sheeran\", \"Ed Sheeran\"], \"legendgroup\": \"pop\", \"marker\": {\"color\": \"#ab63fa\", \"symbol\": \"circle\"}, \"mode\": \"markers\", \"name\": \"pop\", \"orientation\": \"v\", \"showlegend\": true, \"type\": \"scatter\", \"x\": [109, 145, 103, 109, 128, 110, 145, 144, 110, 77, 86, 93, 126, 150, 170, 86, 84, 120, 120, 84, 144, 160, 120, 116, 126, 118, 140, 126, 79, 82, 120, 190, 95, 120, 120, 89, 92, 96, 134, 100, 125, 107, 136, 110, 105, 95, 128, 159, 126, 160, 130, 91, 110, 111, 98, 93, 102, 125, 152, 95], \"xaxis\": \"x\", \"y\": [84, 83, 81, 84, 76, 56, 83, 70, 75, 47, 68, 82, 87, 84, 70, 68, 52, 67, 78, 42, 76, 80, 71, 69, 89, 72, 54, 75, 45, 49, 79, 74, 61, 67, 79, 59, 84, 65, 56, 72, 72, 80, 73, 60, 86, 30, 71, 59, 60, 84, 59, 32, 41, 68, 62, 65, 68, 54, 82, 79], \"yaxis\": \"y\"}, {\"customdata\": [[\"Baby\"], [\"What the Hell\"], [\"Call Me Maybe\"], [\"Beauty And A Beat\"], [\"Boyfriend\"], [\"Rock N Roll\"], [\"Heartbreaker\"], [\"Love Yourself\"], [\"Sorry\"], [\"What Do You Mean?\"], [\"Stitches\"], [\"Company\"], [\"I'll Show You\"], [\"The Feeling\"], [\"I Really Like You\"], [\"What Do You Mean? - Acoustic\"], [\"Mark My Words\"], [\"Been You\"], [\"Love Yourself\"], [\"Stitches\"], [\"Company\"], [\"Don't Be A Fool\"], [\"Run Away With Me\"], [\"I Know What You Did Last Summer\"], [\"Higher\"], [\"Treat You Better\"], [\"Mercy\"], [\"Cut To The Feeling\"], [\"There's Nothing Holdin' Me Back\"], [\"In My Blood\"], [\"Friends (with BloodPop\\ufffd)\"], [\"Youth (feat. Khalid)\"], [\"Nervous\"], [\"Se\\ufffdorita\"]], \"hovertemplate\": \"<b>%{hovertext}</b><br><br>top genre=canadian pop<br>bpm=%{x}<br>nrgy=%{y}<br>title=%{customdata[0]}<extra></extra>\", \"hovertext\": [\"Justin Bieber\", \"Avril Lavigne\", \"Carly Rae Jepsen\", \"Justin Bieber\", \"Justin Bieber\", \"Avril Lavigne\", \"Justin Bieber\", \"Justin Bieber\", \"Justin Bieber\", \"Justin Bieber\", \"Shawn Mendes\", \"Justin Bieber\", \"Justin Bieber\", \"Justin Bieber\", \"Carly Rae Jepsen\", \"Justin Bieber\", \"Justin Bieber\", \"Justin Bieber\", \"Justin Bieber\", \"Shawn Mendes\", \"Justin Bieber\", \"Shawn Mendes\", \"Carly Rae Jepsen\", \"Shawn Mendes\", \"Carly Rae Jepsen\", \"Shawn Mendes\", \"Shawn Mendes\", \"Carly Rae Jepsen\", \"Shawn Mendes\", \"Shawn Mendes\", \"Justin Bieber\", \"Shawn Mendes\", \"Shawn Mendes\", \"Shawn Mendes\"], \"legendgroup\": \"canadian pop\", \"marker\": {\"color\": \"#FFA15A\", \"symbol\": \"circle\"}, \"mode\": \"markers\", \"name\": \"canadian pop\", \"orientation\": \"v\", \"showlegend\": true, \"type\": \"scatter\", \"x\": [65, 150, 120, 128, 97, 184, 105, 100, 100, 125, 150, 95, 192, 127, 122, 125, 114, 113, 100, 150, 95, 175, 119, 114, 114, 83, 148, 115, 122, 140, 105, 100, 122, 117], \"xaxis\": \"x\", \"y\": [86, 93, 58, 84, 55, 96, 52, 38, 76, 57, 75, 80, 61, 81, 81, 36, 26, 78, 38, 75, 80, 34, 72, 77, 87, 82, 66, 91, 81, 71, 73, 60, 62, 54], \"yaxis\": \"y\"}, {\"customdata\": [[\"Empire State of Mind (Part II) Broken Down\"], [\"Try Sleeping with a Broken Heart\"], [\"Doesn't Mean Anything\"], [\"Girl On Fire (feat. Nicki Minaj) - Inferno Version\"], [\"It's On Again - Main Soundtrack\"], [\"We Are Here\"]], \"hovertemplate\": \"<b>%{hovertext}</b><br><br>top genre=hip pop<br>bpm=%{x}<br>nrgy=%{y}<br>title=%{customdata[0]}<extra></extra>\", \"hovertext\": [\"Alicia Keys\", \"Alicia Keys\", \"Alicia Keys\", \"Alicia Keys\", \"Alicia Keys\", \"Alicia Keys\"], \"legendgroup\": \"hip pop\", \"marker\": {\"color\": \"#19d3f3\", \"symbol\": \"circle\"}, \"mode\": \"markers\", \"name\": \"hip pop\", \"orientation\": \"v\", \"showlegend\": true, \"type\": \"scatter\", \"x\": [93, 111, 104, 93, 110, 93], \"xaxis\": \"x\", \"y\": [37, 82, 41, 81, 54, 67], \"yaxis\": \"y\"}, {\"customdata\": [[\"Only Girl (In The World)\"], [\"Hard\"], [\"What's My Name?\"], [\"We Found Love\"], [\"Cheers (Drink To That)\"], [\"S&M Remix\"], [\"Where Have You Been\"], [\"Diamonds\"], [\"You Da One\"], [\"Right Now - Dyro Radio Edit\"], [\"FourFiveSeconds\"], [\"American Oxygen\"], [\"Needed Me\"], [\"Work\"], [\"Love On The Brain\"]], \"hovertemplate\": \"<b>%{hovertext}</b><br><br>top genre=barbadian pop<br>bpm=%{x}<br>nrgy=%{y}<br>title=%{customdata[0]}<extra></extra>\", \"hovertext\": [\"Rihanna\", \"Rihanna\", \"Rihanna\", \"Rihanna\", \"Rihanna\", \"Rihanna\", \"Rihanna\", \"Rihanna\", \"Rihanna\", \"Rihanna\", \"Rihanna\", \"Rihanna\", \"Rihanna\", \"Rihanna\", \"Rihanna\"], \"legendgroup\": \"barbadian pop\", \"marker\": {\"color\": \"#FF6692\", \"symbol\": \"circle\"}, \"mode\": \"markers\", \"name\": \"barbadian pop\", \"orientation\": \"v\", \"showlegend\": true, \"type\": \"scatter\", \"x\": [126, 182, 100, 128, 80, 128, 128, 92, 127, 130, 206, 78, 111, 92, 172], \"xaxis\": \"x\", \"y\": [72, 75, 79, 77, 91, 81, 85, 71, 72, 74, 27, 75, 31, 53, 64], \"yaxis\": \"y\"}, {\"customdata\": [[\"OMG (feat. will.i.am)\"], [\"DJ Got Us Fallin' In Love (feat. Pitbull)\"], [\"Castle Walls (feat. Christina Aguilera)\"], [\"Castle Walls (feat. Christina Aguilera)\"], [\"Freak\"]], \"hovertemplate\": \"<b>%{hovertext}</b><br><br>top genre=atl hip hop<br>bpm=%{x}<br>nrgy=%{y}<br>title=%{customdata[0]}<extra></extra>\", \"hovertext\": [\"Usher\", \"Usher\", \"T.I.\", \"T.I.\", \"Kelly Rowland\"], \"legendgroup\": \"atl hip hop\", \"marker\": {\"color\": \"#B6E880\", \"symbol\": \"circle\"}, \"mode\": \"markers\", \"name\": \"atl hip hop\", \"orientation\": \"v\", \"showlegend\": true, \"type\": \"scatter\", \"x\": [130, 120, 80, 80, 104], \"xaxis\": \"x\", \"y\": [75, 86, 86, 86, 78], \"yaxis\": \"y\"}, {\"customdata\": [[\"Whataya Want from Me\"], [\"If I Had You\"], [\"Price Tag\"], [\"Domino\"], [\"Bang Bang\"]], \"hovertemplate\": \"<b>%{hovertext}</b><br><br>top genre=australian pop<br>bpm=%{x}<br>nrgy=%{y}<br>title=%{customdata[0]}<extra></extra>\", \"hovertext\": [\"Adam Lambert\", \"Adam Lambert\", \"Jessie J\", \"Jessie J\", \"Jessie J\"], \"legendgroup\": \"australian pop\", \"marker\": {\"color\": \"#FF97FF\", \"symbol\": \"circle\"}, \"mode\": \"markers\", \"name\": \"australian pop\", \"orientation\": \"v\", \"showlegend\": true, \"type\": \"scatter\", \"x\": [186, 131, 175, 127, 150], \"xaxis\": \"x\", \"y\": [68, 91, 83, 55, 75], \"yaxis\": \"y\"}, {\"customdata\": [[\"Animal\"], [\"Everybody Talks\"]], \"hovertemplate\": \"<b>%{hovertext}</b><br><br>top genre=indie pop<br>bpm=%{x}<br>nrgy=%{y}<br>title=%{customdata[0]}<extra></extra>\", \"hovertext\": [\"Neon Trees\", \"Neon Trees\"], \"legendgroup\": \"indie pop\", \"marker\": {\"color\": \"#FECB52\", \"symbol\": \"circle\"}, \"mode\": \"markers\", \"name\": \"indie pop\", \"orientation\": \"v\", \"showlegend\": true, \"type\": \"scatter\", \"x\": [148, 155], \"xaxis\": \"x\", \"y\": [83, 92], \"yaxis\": \"y\"}, {\"customdata\": [[\"Dog Days Are Over\"], [\"Summertime Sadness (Lana Del Rey Vs. Cedric Gervais) - Cedric Gervais Remix\"], [\"Team\"], [\"St Jude\"], [\"Wish That You Were Here - From \\ufffdMiss Peregrine\\ufffds Home for Peculiar Children\\ufffd Original Motion Picture\"], [\"Love\"], [\"Summer Bummer (feat. A$AP Rocky & Playboi Carti)\"], [\"Lust for Life (with The Weeknd)\"]], \"hovertemplate\": \"<b>%{hovertext}</b><br><br>top genre=art pop<br>bpm=%{x}<br>nrgy=%{y}<br>title=%{customdata[0]}<extra></extra>\", \"hovertext\": [\"Florence + The Machine\", \"Lana Del Rey\", \"Lorde\", \"Florence + The Machine\", \"Florence + The Machine\", \"Lana Del Rey\", \"Lana Del Rey\", \"Lana Del Rey\"], \"legendgroup\": \"art pop\", \"marker\": {\"color\": \"#636efa\", \"symbol\": \"circle\"}, \"mode\": \"markers\", \"name\": \"art pop\", \"orientation\": \"v\", \"showlegend\": true, \"type\": \"scatter\", \"x\": [150, 126, 100, 117, 94, 99, 135, 100], \"xaxis\": \"x\", \"y\": [81, 81, 58, 43, 57, 37, 57, 67], \"yaxis\": \"y\"}, {\"customdata\": [[\"Loca\"], [\"Can't Remember to Forget You (feat. Rihanna)\"], [\"La La La (Brasil 2014) (feat. Carlinhos Brown)\"]], \"hovertemplate\": \"<b>%{hovertext}</b><br><br>top genre=colombian pop<br>bpm=%{x}<br>nrgy=%{y}<br>title=%{customdata[0]}<extra></extra>\", \"hovertext\": [\"Shakira\", \"Shakira\", \"Shakira\"], \"legendgroup\": \"colombian pop\", \"marker\": {\"color\": \"#EF553B\", \"symbol\": \"circle\"}, \"mode\": \"markers\", \"name\": \"colombian pop\", \"orientation\": \"v\", \"showlegend\": true, \"type\": \"scatter\", \"x\": [112, 138, 128], \"xaxis\": \"x\", \"y\": [87, 81, 82], \"yaxis\": \"y\"}, {\"customdata\": [[\"Hello\"], [\"Wake Me Up\"], [\"Don't You Worry Child - Radio Edit\"], [\"Hey Brother\"], [\"Broken Arrows\"], [\"Heroes (we could be)\"], [\"In the Name of Love\"], [\"There for You\"], [\"Rich Boy\"], [\"All Around The World (La La La)\"]], \"hovertemplate\": \"<b>%{hovertext}</b><br><br>top genre=big room<br>bpm=%{x}<br>nrgy=%{y}<br>title=%{customdata[0]}<extra></extra>\", \"hovertext\": [\"Martin Solveig\", \"Avicii\", \"Swedish House Mafia\", \"Avicii\", \"Avicii\", \"Alesso\", \"Martin Garrix\", \"Martin Garrix\", \"Galantis\", \"R3HAB\"], \"legendgroup\": \"big room\", \"marker\": {\"color\": \"#00cc96\", \"symbol\": \"circle\"}, \"mode\": \"markers\", \"name\": \"big room\", \"orientation\": \"v\", \"showlegend\": true, \"type\": \"scatter\", \"x\": [128, 124, 129, 125, 116, 126, 134, 106, 110, 125], \"xaxis\": \"x\", \"y\": [98, 78, 84, 78, 67, 75, 52, 64, 90, 86], \"yaxis\": \"y\"}, {\"customdata\": [[\"Someone Like You\"], [\"Rolling in the Deep\"], [\"Set Fire to the Rain\"], [\"Hello\"], [\"Only Love Can Hurt Like This\"], [\"All I Ask\"], [\"Send My Love (To Your New Lover)\"], [\"When We Were Young\"], [\"Million Years Ago\"], [\"All I Ask\"], [\"Water Under the Bridge\"]], \"hovertemplate\": \"<b>%{hovertext}</b><br><br>top genre=british soul<br>bpm=%{x}<br>nrgy=%{y}<br>title=%{customdata[0]}<extra></extra>\", \"hovertext\": [\"Adele\", \"Adele\", \"Adele\", \"Adele\", \"Paloma Faith\", \"Adele\", \"Adele\", \"Adele\", \"Adele\", \"Adele\", \"Adele\"], \"legendgroup\": \"british soul\", \"marker\": {\"color\": \"#ab63fa\", \"symbol\": \"circle\"}, \"mode\": \"markers\", \"name\": \"british soul\", \"orientation\": \"v\", \"showlegend\": true, \"type\": \"scatter\", \"x\": [135, 105, 108, 158, 91, 142, 164, 144, 0, 142, 95], \"xaxis\": \"x\", \"y\": [33, 76, 68, 45, 89, 28, 52, 59, 0, 28, 84], \"yaxis\": \"y\"}, {\"customdata\": [[\"Monster\"]], \"hovertemplate\": \"<b>%{hovertext}</b><br><br>top genre=chicago rap<br>bpm=%{x}<br>nrgy=%{y}<br>title=%{customdata[0]}<extra></extra>\", \"hovertext\": [\"Kanye West\"], \"legendgroup\": \"chicago rap\", \"marker\": {\"color\": \"#FFA15A\", \"symbol\": \"circle\"}, \"mode\": \"markers\", \"name\": \"chicago rap\", \"orientation\": \"v\", \"showlegend\": true, \"type\": \"scatter\", \"x\": [125], \"xaxis\": \"x\", \"y\": [69], \"yaxis\": \"y\"}, {\"customdata\": [[\"Turning Page\"], [\"Brave\"]], \"hovertemplate\": \"<b>%{hovertext}</b><br><br>top genre=acoustic pop<br>bpm=%{x}<br>nrgy=%{y}<br>title=%{customdata[0]}<extra></extra>\", \"hovertext\": [\"Sleeping At Last\", \"Sara Bareilles\"], \"legendgroup\": \"acoustic pop\", \"marker\": {\"color\": \"#19d3f3\", \"symbol\": \"circle\"}, \"mode\": \"markers\", \"name\": \"acoustic pop\", \"orientation\": \"v\", \"showlegend\": true, \"type\": \"scatter\", \"x\": [125, 185], \"xaxis\": \"x\", \"y\": [38, 84], \"yaxis\": \"y\"}, {\"customdata\": [[\"Paradise\"], [\"Atlas - From \\ufffdThe Hunger Games: Catching Fire\\ufffd Soundtrack\"], [\"A Sky Full of Stars\"], [\"A L I E N S\"]], \"hovertemplate\": \"<b>%{hovertext}</b><br><br>top genre=permanent wave<br>bpm=%{x}<br>nrgy=%{y}<br>title=%{customdata[0]}<extra></extra>\", \"hovertext\": [\"Coldplay\", \"Coldplay\", \"Coldplay\", \"Coldplay\"], \"legendgroup\": \"permanent wave\", \"marker\": {\"color\": \"#FF6692\", \"symbol\": \"circle\"}, \"mode\": \"markers\", \"name\": \"permanent wave\", \"orientation\": \"v\", \"showlegend\": true, \"type\": \"scatter\", \"x\": [140, 136, 125, 148], \"xaxis\": \"x\", \"y\": [59, 45, 68, 88], \"yaxis\": \"y\"}, {\"customdata\": [[\"What Makes You Beautiful\"], [\"Glad You Came\"], [\"Story of My Life\"], [\"Best Song Ever\"], [\"Kiss You\"], [\"Walks Like Rihanna\"], [\"We Own The Night\"], [\"Pom Poms\"], [\"She Looks So Perfect\"], [\"Night Changes\"], [\"Perfect\"], [\"Steal My Girl\"], [\"Reggaet\\ufffdn Lento (Remix)\"], [\"Only Human\"], [\"Sucker\"]], \"hovertemplate\": \"<b>%{hovertext}</b><br><br>top genre=boy band<br>bpm=%{x}<br>nrgy=%{y}<br>title=%{customdata[0]}<extra></extra>\", \"hovertext\": [\"One Direction\", \"The Wanted\", \"One Direction\", \"One Direction\", \"One Direction\", \"The Wanted\", \"The Wanted\", \"Jonas Brothers\", \"5 Seconds of Summer\", \"One Direction\", \"One Direction\", \"One Direction\", \"CNCO\", \"Jonas Brothers\", \"Jonas Brothers\"], \"legendgroup\": \"boy band\", \"marker\": {\"color\": \"#B6E880\", \"symbol\": \"circle\"}, \"mode\": \"markers\", \"name\": \"boy band\", \"orientation\": \"v\", \"showlegend\": true, \"type\": \"scatter\", \"x\": [125, 127, 121, 118, 90, 126, 104, 148, 160, 120, 100, 77, 94, 94, 138], \"xaxis\": \"x\", \"y\": [79, 85, 66, 88, 93, 82, 94, 98, 95, 52, 82, 76, 91, 50, 73], \"yaxis\": \"y\"}, {\"customdata\": [[\"Some Nights\"], [\"We Are Young (feat. Janelle Mon\\ufffde)\"]], \"hovertemplate\": \"<b>%{hovertext}</b><br><br>top genre=baroque pop<br>bpm=%{x}<br>nrgy=%{y}<br>title=%{customdata[0]}<extra></extra>\", \"hovertext\": [\"fun.\", \"fun.\"], \"legendgroup\": \"baroque pop\", \"marker\": {\"color\": \"#FF97FF\", \"symbol\": \"circle\"}, \"mode\": \"markers\", \"name\": \"baroque pop\", \"orientation\": \"v\", \"showlegend\": true, \"type\": \"scatter\", \"x\": [108, 184], \"xaxis\": \"x\", \"y\": [74, 64], \"yaxis\": \"y\"}, {\"customdata\": [[\"Hall of Fame\"]], \"hovertemplate\": \"<b>%{hovertext}</b><br><br>top genre=celtic rock<br>bpm=%{x}<br>nrgy=%{y}<br>title=%{customdata[0]}<extra></extra>\", \"hovertext\": [\"The Script\"], \"legendgroup\": \"celtic rock\", \"marker\": {\"color\": \"#FECB52\", \"symbol\": \"circle\"}, \"mode\": \"markers\", \"name\": \"celtic rock\", \"orientation\": \"v\", \"showlegend\": true, \"type\": \"scatter\", \"x\": [85], \"xaxis\": \"x\", \"y\": [87], \"yaxis\": \"y\"}, {\"customdata\": [[\"Get Lucky (feat. Pharrell Williams & Nile Rodgers) - Radio Edit\"], [\"Lose Yourself to Dance\"]], \"hovertemplate\": \"<b>%{hovertext}</b><br><br>top genre=electro<br>bpm=%{x}<br>nrgy=%{y}<br>title=%{customdata[0]}<extra></extra>\", \"hovertext\": [\"Daft Punk\", \"Daft Punk\"], \"legendgroup\": \"electro\", \"marker\": {\"color\": \"#636efa\", \"symbol\": \"circle\"}, \"mode\": \"markers\", \"name\": \"electro\", \"orientation\": \"v\", \"showlegend\": true, \"type\": \"scatter\", \"x\": [116, 100], \"xaxis\": \"x\", \"y\": [81, 66], \"yaxis\": \"y\"}, {\"customdata\": [[\"Clarity\"], [\"Stay The Night - Featuring Hayley Williams Of Paramore\"], [\"I Want You To Know\"], [\"True Colors\"], [\"Stay\"], [\"Get Low (with Liam Payne)\"]], \"hovertemplate\": \"<b>%{hovertext}</b><br><br>top genre=complextro<br>bpm=%{x}<br>nrgy=%{y}<br>title=%{customdata[0]}<extra></extra>\", \"hovertext\": [\"Zedd\", \"Zedd\", \"Zedd\", \"Zedd\", \"Zedd\", \"Zedd\"], \"legendgroup\": \"complextro\", \"marker\": {\"color\": \"#EF553B\", \"symbol\": \"circle\"}, \"mode\": \"markers\", \"name\": \"complextro\", \"orientation\": \"v\", \"showlegend\": true, \"type\": \"scatter\", \"x\": [128, 128, 130, 126, 102, 108], \"xaxis\": \"x\", \"y\": [78, 74, 85, 79, 62, 93], \"yaxis\": \"y\"}, {\"customdata\": [[\"Hold On, We're Going Home\"], [\"Too Good\"]], \"hovertemplate\": \"<b>%{hovertext}</b><br><br>top genre=canadian hip hop<br>bpm=%{x}<br>nrgy=%{y}<br>title=%{customdata[0]}<extra></extra>\", \"hovertext\": [\"Drake\", \"Drake\"], \"legendgroup\": \"canadian hip hop\", \"marker\": {\"color\": \"#00cc96\", \"symbol\": \"circle\"}, \"mode\": \"markers\", \"name\": \"canadian hip hop\", \"orientation\": \"v\", \"showlegend\": true, \"type\": \"scatter\", \"x\": [100, 118], \"xaxis\": \"x\", \"y\": [41, 65], \"yaxis\": \"y\"}, {\"customdata\": [[\"I Love It (feat. Charli XCX)\"], [\"Boom Clap - From the Motion Picture Das Schicksal ist ein mieser Verr\\ufffdter\"]], \"hovertemplate\": \"<b>%{hovertext}</b><br><br>top genre=candy pop<br>bpm=%{x}<br>nrgy=%{y}<br>title=%{customdata[0]}<extra></extra>\", \"hovertext\": [\"Icona Pop\", \"Charli XCX\"], \"legendgroup\": \"candy pop\", \"marker\": {\"color\": \"#ab63fa\", \"symbol\": \"circle\"}, \"mode\": \"markers\", \"name\": \"candy pop\", \"orientation\": \"v\", \"showlegend\": true, \"type\": \"scatter\", \"x\": [126, 92], \"xaxis\": \"x\", \"y\": [91, 81], \"yaxis\": \"y\"}, {\"customdata\": [[\"Foolish Games\"]], \"hovertemplate\": \"<b>%{hovertext}</b><br><br>top genre=alaska indie<br>bpm=%{x}<br>nrgy=%{y}<br>title=%{customdata[0]}<extra></extra>\", \"hovertext\": [\"Jewel\"], \"legendgroup\": \"alaska indie\", \"marker\": {\"color\": \"#FFA15A\", \"symbol\": \"circle\"}, \"mode\": \"markers\", \"name\": \"alaska indie\", \"orientation\": \"v\", \"showlegend\": true, \"type\": \"scatter\", \"x\": [132], \"xaxis\": \"x\", \"y\": [34], \"yaxis\": \"y\"}, {\"customdata\": [[\"Let Her Go\"], [\"Beautiful Birds (feat. Birdy)\"]], \"hovertemplate\": \"<b>%{hovertext}</b><br><br>top genre=folk-pop<br>bpm=%{x}<br>nrgy=%{y}<br>title=%{customdata[0]}<extra></extra>\", \"hovertext\": [\"Passenger\", \"Passenger\"], \"legendgroup\": \"folk-pop\", \"marker\": {\"color\": \"#19d3f3\", \"symbol\": \"circle\"}, \"mode\": \"markers\", \"name\": \"folk-pop\", \"orientation\": \"v\", \"showlegend\": true, \"type\": \"scatter\", \"x\": [75, 86], \"xaxis\": \"x\", \"y\": [54, 17], \"yaxis\": \"y\"}, {\"customdata\": [[\"Pompeii\"]], \"hovertemplate\": \"<b>%{hovertext}</b><br><br>top genre=metropopolis<br>bpm=%{x}<br>nrgy=%{y}<br>title=%{customdata[0]}<extra></extra>\", \"hovertext\": [\"Bastille\"], \"legendgroup\": \"metropopolis\", \"marker\": {\"color\": \"#FF6692\", \"symbol\": \"circle\"}, \"mode\": \"markers\", \"name\": \"metropopolis\", \"orientation\": \"v\", \"showlegend\": true, \"type\": \"scatter\", \"x\": [127], \"xaxis\": \"x\", \"y\": [72], \"yaxis\": \"y\"}, {\"customdata\": [[\"Latch\"]], \"hovertemplate\": \"<b>%{hovertext}</b><br><br>top genre=house<br>bpm=%{x}<br>nrgy=%{y}<br>title=%{customdata[0]}<extra></extra>\", \"hovertext\": [\"Disclosure\"], \"legendgroup\": \"house\", \"marker\": {\"color\": \"#B6E880\", \"symbol\": \"circle\"}, \"mode\": \"markers\", \"name\": \"house\", \"orientation\": \"v\", \"showlegend\": true, \"type\": \"scatter\", \"x\": [122], \"xaxis\": \"x\", \"y\": [73], \"yaxis\": \"y\"}, {\"customdata\": [[\"Fancy\"]], \"hovertemplate\": \"<b>%{hovertext}</b><br><br>top genre=australian hip hop<br>bpm=%{x}<br>nrgy=%{y}<br>title=%{customdata[0]}<extra></extra>\", \"hovertext\": [\"Iggy Azalea\"], \"legendgroup\": \"australian hip hop\", \"marker\": {\"color\": \"#FF97FF\", \"symbol\": \"circle\"}, \"mode\": \"markers\", \"name\": \"australian hip hop\", \"orientation\": \"v\", \"showlegend\": true, \"type\": \"scatter\", \"x\": [95], \"xaxis\": \"x\", \"y\": [72], \"yaxis\": \"y\"}, {\"customdata\": [[\"#SELFIE\"], [\"Don't Let Me Down\"], [\"Electric Love\"], [\"Roses\"], [\"All We Know\"], [\"Closer\"], [\"Something Just Like This\"], [\"Paris\"], [\"Sick Boy\"], [\"Trampoline (with ZAYN)\"], [\"Takeaway\"], [\"Call You Mine\"], [\"Kills You Slowly\"]], \"hovertemplate\": \"<b>%{hovertext}</b><br><br>top genre=electropop<br>bpm=%{x}<br>nrgy=%{y}<br>title=%{customdata[0]}<extra></extra>\", \"hovertext\": [\"The Chainsmokers\", \"The Chainsmokers\", \"B\\ufffdRNS\", \"The Chainsmokers\", \"The Chainsmokers\", \"The Chainsmokers\", \"The Chainsmokers\", \"The Chainsmokers\", \"The Chainsmokers\", \"SHAED\", \"The Chainsmokers\", \"The Chainsmokers\", \"The Chainsmokers\"], \"legendgroup\": \"electropop\", \"marker\": {\"color\": \"#FECB52\", \"symbol\": \"circle\"}, \"mode\": \"markers\", \"name\": \"electropop\", \"orientation\": \"v\", \"showlegend\": true, \"type\": \"scatter\", \"x\": [128, 160, 120, 100, 90, 95, 103, 100, 90, 127, 100, 104, 150], \"xaxis\": \"x\", \"y\": [92, 87, 80, 80, 59, 52, 65, 64, 58, 46, 51, 70, 44], \"yaxis\": \"y\"}, {\"customdata\": [[\"Chandelier\"], [\"Elastic Heart\"], [\"Alive\"], [\"Cheap Thrills\"], [\"The Greatest\"], [\"Free Me\"]], \"hovertemplate\": \"<b>%{hovertext}</b><br><br>top genre=australian dance<br>bpm=%{x}<br>nrgy=%{y}<br>title=%{customdata[0]}<extra></extra>\", \"hovertext\": [\"Sia\", \"Sia\", \"Sia\", \"Sia\", \"Sia\", \"Sia\"], \"legendgroup\": \"australian dance\", \"marker\": {\"color\": \"#636efa\", \"symbol\": \"circle\"}, \"mode\": \"markers\", \"name\": \"australian dance\", \"orientation\": \"v\", \"showlegend\": true, \"type\": \"scatter\", \"x\": [174, 130, 100, 90, 192, 87], \"xaxis\": \"x\", \"y\": [78, 79, 76, 80, 73, 46], \"yaxis\": \"y\"}, {\"customdata\": [[\"Cannonball\"]], \"hovertemplate\": \"<b>%{hovertext}</b><br><br>top genre=hollywood<br>bpm=%{x}<br>nrgy=%{y}<br>title=%{customdata[0]}<extra></extra>\", \"hovertext\": [\"Lea Michele\"], \"legendgroup\": \"hollywood\", \"marker\": {\"color\": \"#EF553B\", \"symbol\": \"circle\"}, \"mode\": \"markers\", \"name\": \"hollywood\", \"orientation\": \"v\", \"showlegend\": true, \"type\": \"scatter\", \"x\": [92], \"xaxis\": \"x\", \"y\": [82], \"yaxis\": \"y\"}, {\"customdata\": [[\"The Hills\"], [\"Earned It (Fifty Shades Of Grey) - From The \\\"Fifty Shades Of Grey\\\" Soundtrack\"], [\"Here\"], [\"The Hills\"], [\"Scars To Your Beautiful\"], [\"Here\"], [\"Starboy\"], [\"I Feel It Coming\"], [\"How Far I'll Go - From \\\"Moana\\\"\"]], \"hovertemplate\": \"<b>%{hovertext}</b><br><br>top genre=canadian contemporary r&b<br>bpm=%{x}<br>nrgy=%{y}<br>title=%{customdata[0]}<extra></extra>\", \"hovertext\": [\"The Weeknd\", \"The Weeknd\", \"Alessia Cara\", \"The Weeknd\", \"Alessia Cara\", \"Alessia Cara\", \"The Weeknd\", \"The Weeknd\", \"Alessia Cara\"], \"legendgroup\": \"canadian contemporary r&b\", \"marker\": {\"color\": \"#00cc96\", \"symbol\": \"circle\"}, \"mode\": \"markers\", \"name\": \"canadian contemporary r&b\", \"orientation\": \"v\", \"showlegend\": true, \"type\": \"scatter\", \"x\": [113, 120, 120, 113, 97, 120, 186, 93, 181], \"xaxis\": \"x\", \"y\": [56, 38, 82, 56, 74, 82, 59, 82, 54], \"yaxis\": \"y\"}, {\"customdata\": [[\"Take Me To Church\"]], \"hovertemplate\": \"<b>%{hovertext}</b><br><br>top genre=irish singer-songwriter<br>bpm=%{x}<br>nrgy=%{y}<br>title=%{customdata[0]}<extra></extra>\", \"hovertext\": [\"Hozier\"], \"legendgroup\": \"irish singer-songwriter\", \"marker\": {\"color\": \"#ab63fa\", \"symbol\": \"circle\"}, \"mode\": \"markers\", \"name\": \"irish singer-songwriter\", \"orientation\": \"v\", \"showlegend\": true, \"type\": \"scatter\", \"x\": [129], \"xaxis\": \"x\", \"y\": [66], \"yaxis\": \"y\"}, {\"customdata\": [[\"Waves - Robin Schulz Radio Edit\"], [\"Runnin' (Lose It All)\"], [\"Runnin' (Lose It All)\"]], \"hovertemplate\": \"<b>%{hovertext}</b><br><br>top genre=tropical house<br>bpm=%{x}<br>nrgy=%{y}<br>title=%{customdata[0]}<extra></extra>\", \"hovertext\": [\"Mr. Probz\", \"Naughty Boy\", \"Naughty Boy\"], \"legendgroup\": \"tropical house\", \"marker\": {\"color\": \"#FFA15A\", \"symbol\": \"circle\"}, \"mode\": \"markers\", \"name\": \"tropical house\", \"orientation\": \"v\", \"showlegend\": true, \"type\": \"scatter\", \"x\": [120, 139, 139], \"xaxis\": \"x\", \"y\": [51, 85, 85], \"yaxis\": \"y\"}, {\"customdata\": [[\"Reality - Radio Edit\"], [\"Reality (feat. Janieck Devy) - Radio Edit\"]], \"hovertemplate\": \"<b>%{hovertext}</b><br><br>top genre=belgian edm<br>bpm=%{x}<br>nrgy=%{y}<br>title=%{customdata[0]}<extra></extra>\", \"hovertext\": [\"Lost Frequencies\", \"Lost Frequencies\"], \"legendgroup\": \"belgian edm\", \"marker\": {\"color\": \"#19d3f3\", \"symbol\": \"circle\"}, \"mode\": \"markers\", \"name\": \"belgian edm\", \"orientation\": \"v\", \"showlegend\": true, \"type\": \"scatter\", \"x\": [122, 122], \"xaxis\": \"x\", \"y\": [70, 64], \"yaxis\": \"y\"}, {\"customdata\": [[\"Prayer in C - Robin Schulz Radio Edit\"]], \"hovertemplate\": \"<b>%{hovertext}</b><br><br>top genre=french indie pop<br>bpm=%{x}<br>nrgy=%{y}<br>title=%{customdata[0]}<extra></extra>\", \"hovertext\": [\"Lilly Wood and The Prick\"], \"legendgroup\": \"french indie pop\", \"marker\": {\"color\": \"#FF6692\", \"symbol\": \"circle\"}, \"mode\": \"markers\", \"name\": \"french indie pop\", \"orientation\": \"v\", \"showlegend\": true, \"type\": \"scatter\", \"x\": [123], \"xaxis\": \"x\", \"y\": [89], \"yaxis\": \"y\"}, {\"customdata\": [[\"See You Again (feat. Charlie Puth)\"], [\"Me, Myself & I\"], [\"Him & I (with Halsey)\"], [\"Lemon\"]], \"hovertemplate\": \"<b>%{hovertext}</b><br><br>top genre=hip hop<br>bpm=%{x}<br>nrgy=%{y}<br>title=%{customdata[0]}<extra></extra>\", \"hovertext\": [\"Wiz Khalifa\", \"G-Eazy\", \"G-Eazy\", \"N.E.R.D\"], \"legendgroup\": \"hip hop\", \"marker\": {\"color\": \"#B6E880\", \"symbol\": \"circle\"}, \"mode\": \"markers\", \"name\": \"hip hop\", \"orientation\": \"v\", \"showlegend\": true, \"type\": \"scatter\", \"x\": [80, 112, 88, 95], \"xaxis\": \"x\", \"y\": [48, 67, 73, 73], \"yaxis\": \"y\"}, {\"customdata\": [[\"7 Years\"]], \"hovertemplate\": \"<b>%{hovertext}</b><br><br>top genre=danish pop<br>bpm=%{x}<br>nrgy=%{y}<br>title=%{customdata[0]}<extra></extra>\", \"hovertext\": [\"Lukas Graham\"], \"legendgroup\": \"danish pop\", \"marker\": {\"color\": \"#FF97FF\", \"symbol\": \"circle\"}, \"mode\": \"markers\", \"name\": \"danish pop\", \"orientation\": \"v\", \"showlegend\": true, \"type\": \"scatter\", \"x\": [120], \"xaxis\": \"x\", \"y\": [47], \"yaxis\": \"y\"}, {\"customdata\": [[\"Picky - Remix\"], [\"Despacito - Remix\"], [\"Mi Gente (feat. Beyonc\\ufffd)\"], [\"Con Calma - Remix\"]], \"hovertemplate\": \"<b>%{hovertext}</b><br><br>top genre=latin<br>bpm=%{x}<br>nrgy=%{y}<br>title=%{customdata[0]}<extra></extra>\", \"hovertext\": [\"Joey Montana\", \"Luis Fonsi\", \"J Balvin\", \"Daddy Yankee\"], \"legendgroup\": \"latin\", \"marker\": {\"color\": \"#FECB52\", \"symbol\": \"circle\"}, \"mode\": \"markers\", \"name\": \"latin\", \"orientation\": \"v\", \"showlegend\": true, \"type\": \"scatter\", \"x\": [186, 178, 105, 94], \"xaxis\": \"x\", \"y\": [81, 82, 72, 87], \"yaxis\": \"y\"}, {\"customdata\": [[\"Behind Your Back\"]], \"hovertemplate\": \"<b>%{hovertext}</b><br><br>top genre=canadian latin<br>bpm=%{x}<br>nrgy=%{y}<br>title=%{customdata[0]}<extra></extra>\", \"hovertext\": [\"Nelly Furtado\"], \"legendgroup\": \"canadian latin\", \"marker\": {\"color\": \"#636efa\", \"symbol\": \"circle\"}, \"mode\": \"markers\", \"name\": \"canadian latin\", \"orientation\": \"v\", \"showlegend\": true, \"type\": \"scatter\", \"x\": [98], \"xaxis\": \"x\", \"y\": [47], \"yaxis\": \"y\"}, {\"customdata\": [[\"Let Me Love You\"], [\"Taki Taki (feat. Selena Gomez, Ozuna & Cardi B)\"]], \"hovertemplate\": \"<b>%{hovertext}</b><br><br>top genre=electronic trap<br>bpm=%{x}<br>nrgy=%{y}<br>title=%{customdata[0]}<extra></extra>\", \"hovertext\": [\"DJ Snake\", \"DJ Snake\"], \"legendgroup\": \"electronic trap\", \"marker\": {\"color\": \"#EF553B\", \"symbol\": \"circle\"}, \"mode\": \"markers\", \"name\": \"electronic trap\", \"orientation\": \"v\", \"showlegend\": true, \"type\": \"scatter\", \"x\": [100, 96], \"xaxis\": \"x\", \"y\": [72, 80], \"yaxis\": \"y\"}, {\"customdata\": [[\"It Ain't Me (with Selena Gomez)\"], [\"First Time\"], [\"Electricity (with Dua Lipa)\"], [\"First Time\"], [\"Higher Love\"]], \"hovertemplate\": \"<b>%{hovertext}</b><br><br>top genre=edm<br>bpm=%{x}<br>nrgy=%{y}<br>title=%{customdata[0]}<extra></extra>\", \"hovertext\": [\"Kygo\", \"Kygo\", \"Silk City\", \"Kygo\", \"Kygo\"], \"legendgroup\": \"edm\", \"marker\": {\"color\": \"#00cc96\", \"symbol\": \"circle\"}, \"mode\": \"markers\", \"name\": \"edm\", \"orientation\": \"v\", \"showlegend\": true, \"type\": \"scatter\", \"x\": [100, 90, 118, 90, 104], \"xaxis\": \"x\", \"y\": [53, 59, 67, 59, 68], \"yaxis\": \"y\"}, {\"customdata\": [[\"Tired\"]], \"hovertemplate\": \"<b>%{hovertext}</b><br><br>top genre=electro house<br>bpm=%{x}<br>nrgy=%{y}<br>title=%{customdata[0]}<extra></extra>\", \"hovertext\": [\"Alan Walker\"], \"legendgroup\": \"electro house\", \"marker\": {\"color\": \"#ab63fa\", \"symbol\": \"circle\"}, \"mode\": \"markers\", \"name\": \"electro house\", \"orientation\": \"v\", \"showlegend\": true, \"type\": \"scatter\", \"x\": [124], \"xaxis\": \"x\", \"y\": [88], \"yaxis\": \"y\"}, {\"customdata\": [[\"Love Incredible (feat. Camila Cabello)\"], [\"Miss You (with Major Lazer & Tory Lanez)\"]], \"hovertemplate\": \"<b>%{hovertext}</b><br><br>top genre=downtempo<br>bpm=%{x}<br>nrgy=%{y}<br>title=%{customdata[0]}<extra></extra>\", \"hovertext\": [\"Cashmere Cat\", \"Cashmere Cat\"], \"legendgroup\": \"downtempo\", \"marker\": {\"color\": \"#FFA15A\", \"symbol\": \"circle\"}, \"mode\": \"markers\", \"name\": \"downtempo\", \"orientation\": \"v\", \"showlegend\": true, \"type\": \"scatter\", \"x\": [167, 100], \"xaxis\": \"x\", \"y\": [50, 64], \"yaxis\": \"y\"}, {\"customdata\": [[\"Silence\"], [\"Happier\"]], \"hovertemplate\": \"<b>%{hovertext}</b><br><br>top genre=brostep<br>bpm=%{x}<br>nrgy=%{y}<br>title=%{customdata[0]}<extra></extra>\", \"hovertext\": [\"Marshmello\", \"Marshmello\"], \"legendgroup\": \"brostep\", \"marker\": {\"color\": \"#19d3f3\", \"symbol\": \"circle\"}, \"mode\": \"markers\", \"name\": \"brostep\", \"orientation\": \"v\", \"showlegend\": true, \"type\": \"scatter\", \"x\": [142, 100], \"xaxis\": \"x\", \"y\": [76, 79], \"yaxis\": \"y\"}, {\"customdata\": [[\"Tequila\"]], \"hovertemplate\": \"<b>%{hovertext}</b><br><br>top genre=contemporary country<br>bpm=%{x}<br>nrgy=%{y}<br>title=%{customdata[0]}<extra></extra>\", \"hovertext\": [\"Dan + Shay\"], \"legendgroup\": \"contemporary country\", \"marker\": {\"color\": \"#FF6692\", \"symbol\": \"circle\"}, \"mode\": \"markers\", \"name\": \"contemporary country\", \"orientation\": \"v\", \"showlegend\": true, \"type\": \"scatter\", \"x\": [86], \"xaxis\": \"x\", \"y\": [59], \"yaxis\": \"y\"}, {\"customdata\": [[\"Boom Boom\"]], \"hovertemplate\": \"<b>%{hovertext}</b><br><br>top genre=moroccan pop<br>bpm=%{x}<br>nrgy=%{y}<br>title=%{customdata[0]}<extra></extra>\", \"hovertext\": [\"RedOne\"], \"legendgroup\": \"moroccan pop\", \"marker\": {\"color\": \"#B6E880\", \"symbol\": \"circle\"}, \"mode\": \"markers\", \"name\": \"moroccan pop\", \"orientation\": \"v\", \"showlegend\": true, \"type\": \"scatter\", \"x\": [110], \"xaxis\": \"x\", \"y\": [76], \"yaxis\": \"y\"}, {\"customdata\": [[\"Truth Hurts\"], [\"Good as Hell (feat. Ariana Grande) - Remix\"]], \"hovertemplate\": \"<b>%{hovertext}</b><br><br>top genre=escape room<br>bpm=%{x}<br>nrgy=%{y}<br>title=%{customdata[0]}<extra></extra>\", \"hovertext\": [\"Lizzo\", \"Lizzo\"], \"legendgroup\": \"escape room\", \"marker\": {\"color\": \"#FF97FF\", \"symbol\": \"circle\"}, \"mode\": \"markers\", \"name\": \"escape room\", \"orientation\": \"v\", \"showlegend\": true, \"type\": \"scatter\", \"x\": [158, 96], \"xaxis\": \"x\", \"y\": [62, 89], \"yaxis\": \"y\"}, {\"customdata\": [[\"Talk (feat. Disclosure)\"]], \"hovertemplate\": \"<b>%{hovertext}</b><br><br>top genre=alternative r&b<br>bpm=%{x}<br>nrgy=%{y}<br>title=%{customdata[0]}<extra></extra>\", \"hovertext\": [\"Khalid\"], \"legendgroup\": \"alternative r&b\", \"marker\": {\"color\": \"#FECB52\", \"symbol\": \"circle\"}, \"mode\": \"markers\", \"name\": \"alternative r&b\", \"orientation\": \"v\", \"showlegend\": true, \"type\": \"scatter\", \"x\": [136], \"xaxis\": \"x\", \"y\": [40], \"yaxis\": \"y\"}],                        {\"legend\": {\"title\": {\"text\": \"top genre\"}, \"tracegroupgap\": 0}, \"margin\": {\"t\": 60}, \"template\": {\"data\": {\"bar\": [{\"error_x\": {\"color\": \"#2a3f5f\"}, \"error_y\": {\"color\": \"#2a3f5f\"}, \"marker\": {\"line\": {\"color\": \"#E5ECF6\", \"width\": 0.5}}, \"type\": \"bar\"}], \"barpolar\": [{\"marker\": {\"line\": {\"color\": \"#E5ECF6\", \"width\": 0.5}}, \"type\": \"barpolar\"}], \"carpet\": [{\"aaxis\": {\"endlinecolor\": \"#2a3f5f\", \"gridcolor\": \"white\", \"linecolor\": \"white\", \"minorgridcolor\": \"white\", \"startlinecolor\": \"#2a3f5f\"}, \"baxis\": {\"endlinecolor\": \"#2a3f5f\", \"gridcolor\": \"white\", \"linecolor\": \"white\", \"minorgridcolor\": \"white\", \"startlinecolor\": \"#2a3f5f\"}, \"type\": \"carpet\"}], \"choropleth\": [{\"colorbar\": {\"outlinewidth\": 0, \"ticks\": \"\"}, \"type\": \"choropleth\"}], \"contour\": [{\"colorbar\": {\"outlinewidth\": 0, \"ticks\": \"\"}, \"colorscale\": [[0.0, \"#0d0887\"], [0.1111111111111111, \"#46039f\"], [0.2222222222222222, \"#7201a8\"], [0.3333333333333333, \"#9c179e\"], [0.4444444444444444, \"#bd3786\"], [0.5555555555555556, \"#d8576b\"], [0.6666666666666666, \"#ed7953\"], [0.7777777777777778, \"#fb9f3a\"], [0.8888888888888888, \"#fdca26\"], [1.0, \"#f0f921\"]], \"type\": \"contour\"}], \"contourcarpet\": [{\"colorbar\": {\"outlinewidth\": 0, \"ticks\": \"\"}, \"type\": \"contourcarpet\"}], \"heatmap\": [{\"colorbar\": {\"outlinewidth\": 0, \"ticks\": \"\"}, \"colorscale\": [[0.0, \"#0d0887\"], [0.1111111111111111, \"#46039f\"], [0.2222222222222222, \"#7201a8\"], [0.3333333333333333, \"#9c179e\"], [0.4444444444444444, \"#bd3786\"], [0.5555555555555556, \"#d8576b\"], [0.6666666666666666, \"#ed7953\"], [0.7777777777777778, \"#fb9f3a\"], [0.8888888888888888, \"#fdca26\"], [1.0, \"#f0f921\"]], \"type\": \"heatmap\"}], \"heatmapgl\": [{\"colorbar\": {\"outlinewidth\": 0, \"ticks\": \"\"}, \"colorscale\": [[0.0, \"#0d0887\"], [0.1111111111111111, \"#46039f\"], [0.2222222222222222, \"#7201a8\"], [0.3333333333333333, \"#9c179e\"], [0.4444444444444444, \"#bd3786\"], [0.5555555555555556, \"#d8576b\"], [0.6666666666666666, \"#ed7953\"], [0.7777777777777778, \"#fb9f3a\"], [0.8888888888888888, \"#fdca26\"], [1.0, \"#f0f921\"]], \"type\": \"heatmapgl\"}], \"histogram\": [{\"marker\": {\"colorbar\": {\"outlinewidth\": 0, \"ticks\": \"\"}}, \"type\": \"histogram\"}], \"histogram2d\": [{\"colorbar\": {\"outlinewidth\": 0, \"ticks\": \"\"}, \"colorscale\": [[0.0, \"#0d0887\"], [0.1111111111111111, \"#46039f\"], [0.2222222222222222, \"#7201a8\"], [0.3333333333333333, \"#9c179e\"], [0.4444444444444444, \"#bd3786\"], [0.5555555555555556, \"#d8576b\"], [0.6666666666666666, \"#ed7953\"], [0.7777777777777778, \"#fb9f3a\"], [0.8888888888888888, \"#fdca26\"], [1.0, \"#f0f921\"]], \"type\": \"histogram2d\"}], \"histogram2dcontour\": [{\"colorbar\": {\"outlinewidth\": 0, \"ticks\": \"\"}, \"colorscale\": [[0.0, \"#0d0887\"], [0.1111111111111111, \"#46039f\"], [0.2222222222222222, \"#7201a8\"], [0.3333333333333333, \"#9c179e\"], [0.4444444444444444, \"#bd3786\"], [0.5555555555555556, \"#d8576b\"], [0.6666666666666666, \"#ed7953\"], [0.7777777777777778, \"#fb9f3a\"], [0.8888888888888888, \"#fdca26\"], [1.0, \"#f0f921\"]], \"type\": \"histogram2dcontour\"}], \"mesh3d\": [{\"colorbar\": {\"outlinewidth\": 0, \"ticks\": \"\"}, \"type\": \"mesh3d\"}], \"parcoords\": [{\"line\": {\"colorbar\": {\"outlinewidth\": 0, \"ticks\": \"\"}}, \"type\": \"parcoords\"}], \"pie\": [{\"automargin\": true, \"type\": \"pie\"}], \"scatter\": [{\"marker\": {\"colorbar\": {\"outlinewidth\": 0, \"ticks\": \"\"}}, \"type\": \"scatter\"}], \"scatter3d\": [{\"line\": {\"colorbar\": {\"outlinewidth\": 0, \"ticks\": \"\"}}, \"marker\": {\"colorbar\": {\"outlinewidth\": 0, \"ticks\": \"\"}}, \"type\": \"scatter3d\"}], \"scattercarpet\": [{\"marker\": {\"colorbar\": {\"outlinewidth\": 0, \"ticks\": \"\"}}, \"type\": \"scattercarpet\"}], \"scattergeo\": [{\"marker\": {\"colorbar\": {\"outlinewidth\": 0, \"ticks\": \"\"}}, \"type\": \"scattergeo\"}], \"scattergl\": [{\"marker\": {\"colorbar\": {\"outlinewidth\": 0, \"ticks\": \"\"}}, \"type\": \"scattergl\"}], \"scattermapbox\": [{\"marker\": {\"colorbar\": {\"outlinewidth\": 0, \"ticks\": \"\"}}, \"type\": \"scattermapbox\"}], \"scatterpolar\": [{\"marker\": {\"colorbar\": {\"outlinewidth\": 0, \"ticks\": \"\"}}, \"type\": \"scatterpolar\"}], \"scatterpolargl\": [{\"marker\": {\"colorbar\": {\"outlinewidth\": 0, \"ticks\": \"\"}}, \"type\": \"scatterpolargl\"}], \"scatterternary\": [{\"marker\": {\"colorbar\": {\"outlinewidth\": 0, \"ticks\": \"\"}}, \"type\": \"scatterternary\"}], \"surface\": [{\"colorbar\": {\"outlinewidth\": 0, \"ticks\": \"\"}, \"colorscale\": [[0.0, \"#0d0887\"], [0.1111111111111111, \"#46039f\"], [0.2222222222222222, \"#7201a8\"], [0.3333333333333333, \"#9c179e\"], [0.4444444444444444, \"#bd3786\"], [0.5555555555555556, \"#d8576b\"], [0.6666666666666666, \"#ed7953\"], [0.7777777777777778, \"#fb9f3a\"], [0.8888888888888888, \"#fdca26\"], [1.0, \"#f0f921\"]], \"type\": \"surface\"}], \"table\": [{\"cells\": {\"fill\": {\"color\": \"#EBF0F8\"}, \"line\": {\"color\": \"white\"}}, \"header\": {\"fill\": {\"color\": \"#C8D4E3\"}, \"line\": {\"color\": \"white\"}}, \"type\": \"table\"}]}, \"layout\": {\"annotationdefaults\": {\"arrowcolor\": \"#2a3f5f\", \"arrowhead\": 0, \"arrowwidth\": 1}, \"autotypenumbers\": \"strict\", \"coloraxis\": {\"colorbar\": {\"outlinewidth\": 0, \"ticks\": \"\"}}, \"colorscale\": {\"diverging\": [[0, \"#8e0152\"], [0.1, \"#c51b7d\"], [0.2, \"#de77ae\"], [0.3, \"#f1b6da\"], [0.4, \"#fde0ef\"], [0.5, \"#f7f7f7\"], [0.6, \"#e6f5d0\"], [0.7, \"#b8e186\"], [0.8, \"#7fbc41\"], [0.9, \"#4d9221\"], [1, \"#276419\"]], \"sequential\": [[0.0, \"#0d0887\"], [0.1111111111111111, \"#46039f\"], [0.2222222222222222, \"#7201a8\"], [0.3333333333333333, \"#9c179e\"], [0.4444444444444444, \"#bd3786\"], [0.5555555555555556, \"#d8576b\"], [0.6666666666666666, \"#ed7953\"], [0.7777777777777778, \"#fb9f3a\"], [0.8888888888888888, \"#fdca26\"], [1.0, \"#f0f921\"]], \"sequentialminus\": [[0.0, \"#0d0887\"], [0.1111111111111111, \"#46039f\"], [0.2222222222222222, \"#7201a8\"], [0.3333333333333333, \"#9c179e\"], [0.4444444444444444, \"#bd3786\"], [0.5555555555555556, \"#d8576b\"], [0.6666666666666666, \"#ed7953\"], [0.7777777777777778, \"#fb9f3a\"], [0.8888888888888888, \"#fdca26\"], [1.0, \"#f0f921\"]]}, \"colorway\": [\"#636efa\", \"#EF553B\", \"#00cc96\", \"#ab63fa\", \"#FFA15A\", \"#19d3f3\", \"#FF6692\", \"#B6E880\", \"#FF97FF\", \"#FECB52\"], \"font\": {\"color\": \"#2a3f5f\"}, \"geo\": {\"bgcolor\": \"white\", \"lakecolor\": \"white\", \"landcolor\": \"#E5ECF6\", \"showlakes\": true, \"showland\": true, \"subunitcolor\": \"white\"}, \"hoverlabel\": {\"align\": \"left\"}, \"hovermode\": \"closest\", \"mapbox\": {\"style\": \"light\"}, \"paper_bgcolor\": \"white\", \"plot_bgcolor\": \"#E5ECF6\", \"polar\": {\"angularaxis\": {\"gridcolor\": \"white\", \"linecolor\": \"white\", \"ticks\": \"\"}, \"bgcolor\": \"#E5ECF6\", \"radialaxis\": {\"gridcolor\": \"white\", \"linecolor\": \"white\", \"ticks\": \"\"}}, \"scene\": {\"xaxis\": {\"backgroundcolor\": \"#E5ECF6\", \"gridcolor\": \"white\", \"gridwidth\": 2, \"linecolor\": \"white\", \"showbackground\": true, \"ticks\": \"\", \"zerolinecolor\": \"white\"}, \"yaxis\": {\"backgroundcolor\": \"#E5ECF6\", \"gridcolor\": \"white\", \"gridwidth\": 2, \"linecolor\": \"white\", \"showbackground\": true, \"ticks\": \"\", \"zerolinecolor\": \"white\"}, \"zaxis\": {\"backgroundcolor\": \"#E5ECF6\", \"gridcolor\": \"white\", \"gridwidth\": 2, \"linecolor\": \"white\", \"showbackground\": true, \"ticks\": \"\", \"zerolinecolor\": \"white\"}}, \"shapedefaults\": {\"line\": {\"color\": \"#2a3f5f\"}}, \"ternary\": {\"aaxis\": {\"gridcolor\": \"white\", \"linecolor\": \"white\", \"ticks\": \"\"}, \"baxis\": {\"gridcolor\": \"white\", \"linecolor\": \"white\", \"ticks\": \"\"}, \"bgcolor\": \"#E5ECF6\", \"caxis\": {\"gridcolor\": \"white\", \"linecolor\": \"white\", \"ticks\": \"\"}}, \"title\": {\"x\": 0.05}, \"xaxis\": {\"automargin\": true, \"gridcolor\": \"white\", \"linecolor\": \"white\", \"ticks\": \"\", \"title\": {\"standoff\": 15}, \"zerolinecolor\": \"white\", \"zerolinewidth\": 2}, \"yaxis\": {\"automargin\": true, \"gridcolor\": \"white\", \"linecolor\": \"white\", \"ticks\": \"\", \"title\": {\"standoff\": 15}, \"zerolinecolor\": \"white\", \"zerolinewidth\": 2}}}, \"xaxis\": {\"anchor\": \"y\", \"domain\": [0.0, 1.0], \"title\": {\"text\": \"bpm\"}}, \"yaxis\": {\"anchor\": \"x\", \"domain\": [0.0, 1.0], \"title\": {\"text\": \"nrgy\"}}},                        {\"responsive\": true}                    ).then(function(){\n",
       "                            \n",
       "var gd = document.getElementById('2750eb8d-f641-42d9-b3c2-df40ecf82014');\n",
       "var x = new MutationObserver(function (mutations, observer) {{\n",
       "        var display = window.getComputedStyle(gd).display;\n",
       "        if (!display || display === 'none') {{\n",
       "            console.log([gd, 'removed!']);\n",
       "            Plotly.purge(gd);\n",
       "            observer.disconnect();\n",
       "        }}\n",
       "}});\n",
       "\n",
       "// Listen for the removal of the full notebook cells\n",
       "var notebookContainer = gd.closest('#notebook-container');\n",
       "if (notebookContainer) {{\n",
       "    x.observe(notebookContainer, {childList: true});\n",
       "}}\n",
       "\n",
       "// Listen for the clearing of the current output cell\n",
       "var outputEl = gd.closest('.output');\n",
       "if (outputEl) {{\n",
       "    x.observe(outputEl, {childList: true});\n",
       "}}\n",
       "\n",
       "                        })                };                });            </script>        </div>"
      ]
     },
     "metadata": {},
     "output_type": "display_data"
    }
   ],
   "source": [
    "fig = px.scatter(df, x='bpm', y='nrgy',color='top genre', hover_name='artist',hover_data=['title'])\n",
    "fig.show()"
   ]
  },
  {
   "cell_type": "code",
   "execution_count": 23,
   "id": "junior-lottery",
   "metadata": {},
   "outputs": [
    {
     "name": "stdout",
     "output_type": "stream",
     "text": [
      "       Linear      Poly       RBF\n",
      "0    0.570248  0.603306  0.611570\n",
      "1    0.537190  0.545455  0.545455\n",
      "2    0.528926  0.537190  0.537190\n",
      "3    0.508333  0.525000  0.516667\n",
      "4    0.458333  0.500000  0.500000\n",
      "Avg  0.520606  0.542190  0.542176\n"
     ]
    }
   ],
   "source": [
    "k = 5\n",
    "\n",
    "data = np.array_split(df, k) # split the data into 5 roughly equal groups of samples\n",
    "\n",
    "results = [] # accuracy\n",
    "\n",
    "# create the support vector machines with the linear, poly, and rbf kernels\n",
    "clfs = [svm.SVC(kernel=\"linear\"), svm.SVC(kernel=\"poly\"), svm.SVC(kernel=\"rbf\")]\n",
    "\n",
    "for i in range(k):                                          # run 5 experiments for 5-fold cross-validation\n",
    "    test_data_set = data[i]                                 # uses one group of data as the test data\n",
    "    train_data_set = pd.concat(data[:i] + data[i+1:])       # train data takes the rest\n",
    "\n",
    "    test_labels = np.array(test_data_set.iloc[:, 2])        # use the first column as the label\n",
    "    test_data = np.array(test_data_set.iloc[:, 3:])         # use the rest for the data\n",
    "\n",
    "    train_labels = np.array(train_data_set.iloc[:, 2])      # use the first column as the label\n",
    "    train_data = np.array(train_data_set.iloc[:, 3:])       # use the rest for the data\n",
    "\n",
    "    experiment_result = []      # the results using each svm for this partitioned data set\n",
    "\n",
    "    for j in range(len(clfs)):  # use the data set to train each svm\n",
    "        clfs[j].fit(train_data, train_labels)       # train the svm\n",
    "        predictions = clfs[j].predict(test_data)    # predict\n",
    "        accuracy = sum(predictions == test_labels) / len(test_labels)   # get accuracy\n",
    "        experiment_result.append(accuracy)          # append to the experiment results\n",
    "\n",
    "    results.append(experiment_result)   # append the row of data to the results\n",
    "\n",
    "# put the results into a dataframe\n",
    "results = pd.DataFrame(results)\n",
    "results.columns = [\"Linear\", \"Poly\", \"RBF\"]\n",
    "\n",
    "# calculate the average accuracy for each column\n",
    "avg_accuracy = [sum(results.iloc[:, i]) / len(results) for i in range(3)]\n",
    "results.loc[\"Avg\"] = avg_accuracy\n",
    "\n",
    "# display results\n",
    "print(results)"
   ]
  },
  {
   "cell_type": "code",
   "execution_count": null,
   "id": "forbidden-arlington",
   "metadata": {},
   "outputs": [],
   "source": []
  },
  {
   "cell_type": "code",
   "execution_count": null,
   "id": "drawn-creature",
   "metadata": {},
   "outputs": [],
   "source": []
  }
 ],
 "metadata": {
  "kernelspec": {
   "display_name": "Python 3",
   "language": "python",
   "name": "python3"
  },
  "language_info": {
   "codemirror_mode": {
    "name": "ipython",
    "version": 3
   },
   "file_extension": ".py",
   "mimetype": "text/x-python",
   "name": "python",
   "nbconvert_exporter": "python",
   "pygments_lexer": "ipython3",
   "version": "3.8.3"
  }
 },
 "nbformat": 4,
 "nbformat_minor": 5
}
