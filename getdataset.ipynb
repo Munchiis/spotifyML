{
 "cells": [
  {
   "cell_type": "code",
   "execution_count": null,
   "id": "preliminary-spirit",
   "metadata": {},
   "outputs": [],
   "source": [
    "import spotipy\n",
    "from spotipy.oauth2 import SpotifyClientCredentials\n",
    "import csv\n",
    "import io\n",
    "from sklearn.preprocessing import MinMaxScaler\n",
    "import pandas as pd\n",
    "\n",
    "CLIENT_ID = \"9354a4c040c74126ac9f437a0d266c9c\"\n",
    "CLIENT_SECRET = \"ab4449ee4c7e4e5899fbab2cd9e20e9e\"\n",
    "\n",
    "client_credentials_manager = SpotifyClientCredentials(client_id=CLIENT_ID, client_secret=CLIENT_SECRET)\n",
    "sp= spotipy.Spotify(client_credentials_manager=client_credentials_manager)"
   ]
  },
  {
   "cell_type": "code",
   "execution_count": null,
   "id": "marked-houston",
   "metadata": {},
   "outputs": [],
   "source": [
    "###\n",
    "# CHANGE THIS VARIABLE TO GENRE of playlist - string\n",
    "###\n",
    "genre = 'country'\n",
    "\n",
    "playlist = sp.playlist('4mijVkpSXJziPiOrK7YX4M')\n",
    "#6gS3HhOiI17QNojjPuPzqc - pop\n",
    "#3pDxuMpz94eDs7WFqudTbZ - edm\n",
    "#7dowgSWOmvdpwNkGFMUs6e - rock\n",
    "#1rLnwJimWCmjp3f0mEbnkY - r&b\n",
    "#6s5MoZzR70Qef7x4bVxDO1 - rap\n",
    "#3pBfUFu8MkyiCYyZe849Ks - metal\n",
    "#5OzAgYmdiqJKWjGvX7cP4Q - lo-fi\n",
    "#5EyFMotmvSfDAZ4hSdKrbx - jazz\n",
    "#3HYK6ri0GkvRcM6GkKh0hJ - classical\n",
    "#4mijVkpSXJziPiOrK7YX4M - country"
   ]
  },
  {
   "cell_type": "code",
   "execution_count": null,
   "id": "broadband-working",
   "metadata": {},
   "outputs": [],
   "source": [
    "music_id_list = []\n",
    "track_details = []\n",
    "\n",
    "for item in playlist['tracks']['items']:\n",
    "    music_id_list.append(item['track']['id'])\n",
    "music_id_list\n",
    "\n",
    "def get_features(meta):\n",
    "    meta_t = sp.track(meta) #track information\n",
    "    meta_af = sp.audio_features(meta) # audio features\n",
    "    metadata= {'genre': genre, \n",
    "            'name': meta_t['name'], 'artist': meta_t['artists'][0]['name'],\n",
    "            'danceability': meta_af[0]['danceability'],\n",
    "           'energy': meta_af[0]['energy'], 'loudness': meta_af[0]['loudness'],\n",
    "           'speechiness': meta_af[0]['speechiness'],'acousticness': meta_af[0]['acousticness'],\n",
    "           'instrumentalness': meta_af[0]['instrumentalness'],'liveness': meta_af[0]['liveness'],\n",
    "           'valence': meta_af[0]['valence'], 'key': meta_af[0]['key'],\n",
    "           'tempo': meta_af[0]['tempo']}\n",
    "    return metadata\n",
    "\n",
    "for i in range(100):\n",
    "    track_details.append(get_features(music_id_list[i]))"
   ]
  },
  {
   "cell_type": "code",
   "execution_count": null,
   "id": "entertaining-sheriff",
   "metadata": {},
   "outputs": [],
   "source": [
    "keys = track_details[0].keys()\n",
    "\n",
    "with io.open(genre+'.csv', 'w',encoding=\"utf-8\", newline='') as output:\n",
    "    dict_writer = csv.DictWriter(output, keys)\n",
    "    dict_writer.writeheader()\n",
    "    dict_writer.writerows(track_details)"
   ]
  },
  {
   "cell_type": "code",
   "execution_count": null,
   "id": "polar-missouri",
   "metadata": {},
   "outputs": [],
   "source": [
    "artist = 'The Weekend'\n",
    "track = 'After Hours'"
   ]
  },
  {
   "cell_type": "code",
   "execution_count": null,
   "id": "joint-pixel",
   "metadata": {},
   "outputs": [],
   "source": [
    "song = sp.search(q=\"artist:\" + artist + \" track:\" + track, type=\"track\")\n",
    "# meta_af = sp.audio_features(meta) # audio features\n",
    "# metadata= {\n",
    "#             'danceability': int(meta_af[0]['danceability']*1000),\n",
    "#             'energy': int(meta_af[0]['energy']*1000), 'loudness': int(meta_af[0]['loudness']),\n",
    "#             'speechiness': int(1000*meta_af[0]['speechiness']),'acousticness': int(1000*meta_af[0]['acousticness']),\n",
    "#             'instrumentalness': int(1000*meta_af[0]['instrumentalness']),'liveness': int(1000*meta_af[0]['liveness']),\n",
    "#             'valence': int(1000*meta_af[0]['valence']), 'key': meta_af[0]['key'],\n",
    "#             'tempo': int(meta_af[0]['tempo'])}audio_features\n",
    "\n",
    "\n",
    "meta_af = sp.audio_features(song['tracks']['items'][0]['id'])\n"
   ]
  },
  {
   "cell_type": "code",
   "execution_count": null,
   "id": "current-earth",
   "metadata": {},
   "outputs": [],
   "source": [
    "# meta_af = sp.audio_features(meta) # audio features\n",
    "metadata= {'danceability': meta_af[0]['danceability'],\n",
    "           'energy': meta_af[0]['energy'], 'loudness': meta_af[0]['loudness'],\n",
    "           'speechiness': meta_af[0]['speechiness'],'acousticness': meta_af[0]['acousticness'],\n",
    "           'instrumentalness': meta_af[0]['instrumentalness'],'liveness': meta_af[0]['liveness'],\n",
    "           'valence': meta_af[0]['valence'], 'key': meta_af[0]['key'],\n",
    "           'tempo': meta_af[0]['tempo']}\n",
    "\n",
    "metadata"
   ]
  },
  {
   "cell_type": "code",
   "execution_count": null,
   "id": "australian-baptist",
   "metadata": {},
   "outputs": [],
   "source": [
    "df = pd.DataFrame(metadata, index=[0])\n",
    "display(df)\n"
   ]
  },
  {
   "cell_type": "code",
   "execution_count": null,
   "id": "scientific-stockholm",
   "metadata": {},
   "outputs": [],
   "source": []
  }
 ],
 "metadata": {
  "kernelspec": {
   "display_name": "Python 3",
   "language": "python",
   "name": "python3"
  },
  "language_info": {
   "codemirror_mode": {
    "name": "ipython",
    "version": 3
   },
   "file_extension": ".py",
   "mimetype": "text/x-python",
   "name": "python",
   "nbconvert_exporter": "python",
   "pygments_lexer": "ipython3",
   "version": "3.9.1"
  }
 },
 "nbformat": 4,
 "nbformat_minor": 5
}
